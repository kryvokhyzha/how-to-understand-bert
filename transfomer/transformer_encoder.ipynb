{
 "cells": [
  {
   "cell_type": "markdown",
   "metadata": {},
   "source": [
    "# The Transformer encoder - _visualized_\n",
    "This notebook accompanies the steps shown in the slides"
   ]
  },
  {
   "cell_type": "code",
   "execution_count": 24,
   "metadata": {},
   "outputs": [],
   "source": [
    "from __future__ import print_function\n",
    "import numpy as np\n",
    "import matplotlib.pyplot as plt\n",
    "import torch\n",
    "import tsensor\n",
    "from ipywidgets import interact, interactive, fixed, interact_manual\n",
    "import ipywidgets as widgets\n",
    "from einops import rearrange, repeat\n",
    "\n",
    "%matplotlib inline"
   ]
  },
  {
   "cell_type": "code",
   "execution_count": 25,
   "metadata": {},
   "outputs": [
    {
     "data": {
      "text/plain": [
       "<torch._C.Generator at 0x119b40c70>"
      ]
     },
     "execution_count": 25,
     "metadata": {},
     "output_type": "execute_result"
    }
   ],
   "source": [
    "np.random.seed(123)\n",
    "torch.manual_seed(123)"
   ]
  },
  {
   "cell_type": "code",
   "execution_count": 26,
   "metadata": {},
   "outputs": [],
   "source": [
    "embedding_dim = 6"
   ]
  },
  {
   "cell_type": "markdown",
   "metadata": {},
   "source": [
    "## Input representation"
   ]
  },
  {
   "cell_type": "markdown",
   "metadata": {},
   "source": [
    "The sentences we use:"
   ]
  },
  {
   "cell_type": "code",
   "execution_count": 27,
   "metadata": {},
   "outputs": [],
   "source": [
    "sentences = [['She','likes','the','summer','better'], \n",
    "             ['He','loves','to','cook','healthy'],\n",
    "             ['They','go','hiking','quite','often']]"
   ]
  },
  {
   "cell_type": "markdown",
   "metadata": {},
   "source": [
    "The words we mask (0 stands for a masked word)"
   ]
  },
  {
   "cell_type": "code",
   "execution_count": 28,
   "metadata": {},
   "outputs": [],
   "source": [
    "masked_words = [[1,0,0,1,1], # likes, the\n",
    "                [1,1,1,0,1], # cook\n",
    "                [1,1,1,1,0]] # often"
   ]
  },
  {
   "cell_type": "code",
   "execution_count": 29,
   "metadata": {},
   "outputs": [],
   "source": [
    "n_sentences = len(sentences)\n",
    "n_words_per_sentence = len(sentences[0])"
   ]
  },
  {
   "cell_type": "code",
   "execution_count": 30,
   "metadata": {},
   "outputs": [
    {
     "data": {
      "text/plain": [
       "{'He': 0,\n",
       " 'She': 1,\n",
       " 'They': 2,\n",
       " 'better': 3,\n",
       " 'cook': 4,\n",
       " 'go': 5,\n",
       " 'healthy': 6,\n",
       " 'hiking': 7,\n",
       " 'likes': 8,\n",
       " 'loves': 9,\n",
       " 'often': 10,\n",
       " 'quite': 11,\n",
       " 'summer': 12,\n",
       " 'the': 13,\n",
       " 'to': 14,\n",
       " 'MASK': 15}"
      ]
     },
     "execution_count": 30,
     "metadata": {},
     "output_type": "execute_result"
    }
   ],
   "source": [
    "list_of_words = [item for sublist in sentences for item in sublist]\n",
    "sorted_words = np.sort(list_of_words)\n",
    "vocab = {word:i for i,word in enumerate(sorted_words)}\n",
    "vocab['MASK'] = 15;vocab"
   ]
  },
  {
   "cell_type": "markdown",
   "metadata": {},
   "source": [
    "We construct a as many embedding vectors of dimensionality `embedding_dim` as there are words in the vocabulary..."
   ]
  },
  {
   "cell_type": "code",
   "execution_count": 31,
   "metadata": {},
   "outputs": [
    {
     "data": {
      "text/plain": [
       "tensor([ 0.3374, -0.1778, -0.3035, -0.5880,  0.3486,  0.6603],\n",
       "       grad_fn=<EmbeddingBackward>)"
      ]
     },
     "execution_count": 31,
     "metadata": {},
     "output_type": "execute_result"
    }
   ],
   "source": [
    "lookup_table = torch.nn.Embedding(len(vocab),embedding_dim=6);lookup_table(torch.tensor(0))"
   ]
  },
  {
   "cell_type": "markdown",
   "metadata": {},
   "source": [
    "Next step is to convert each word into the value it has in the `vocab` dict. The `lookup_table` needs to know which embeddings to look up for each word:"
   ]
  },
  {
   "cell_type": "code",
   "execution_count": 32,
   "metadata": {},
   "outputs": [],
   "source": [
    "sentences = [['She','MASK','MASK','summer','better'], \n",
    "             ['He','loves','to','MASK','healthy'],\n",
    "             ['They','go','hiking','quite','MASK']]"
   ]
  },
  {
   "cell_type": "code",
   "execution_count": 33,
   "metadata": {},
   "outputs": [],
   "source": [
    "word_ids = torch.empty(size=(n_sentences,n_words_per_sentence),dtype=torch.long)\n",
    "for i, sentence in enumerate(sentences):\n",
    "    word_ids[i] = torch.tensor([vocab[word] for word in sentence])"
   ]
  },
  {
   "cell_type": "code",
   "execution_count": 34,
   "metadata": {
    "scrolled": true
   },
   "outputs": [
    {
     "data": {
      "text/plain": [
       "tensor([[ 1, 15, 15, 12,  3],\n",
       "        [ 0,  9, 14, 15,  6],\n",
       "        [ 2,  5,  7, 11, 15]])"
      ]
     },
     "execution_count": 34,
     "metadata": {},
     "output_type": "execute_result"
    }
   ],
   "source": [
    "word_ids"
   ]
  },
  {
   "cell_type": "markdown",
   "metadata": {},
   "source": [
    "Lookup the corresponding word representations (embeddings) and construct a tensor..."
   ]
  },
  {
   "cell_type": "code",
   "execution_count": 35,
   "metadata": {},
   "outputs": [
    {
     "data": {
      "text/plain": [
       "torch.Size([3, 5, 6])"
      ]
     },
     "execution_count": 35,
     "metadata": {},
     "output_type": "execute_result"
    }
   ],
   "source": [
    "embedding_tensor = lookup_table(word_ids);embedding_tensor.shape"
   ]
  },
  {
   "cell_type": "markdown",
   "metadata": {},
   "source": [
    "Let's transform the `masked_words` list to a boolean tensor since we need it later:"
   ]
  },
  {
   "cell_type": "code",
   "execution_count": 36,
   "metadata": {},
   "outputs": [
    {
     "name": "stdout",
     "output_type": "stream",
     "text": [
      "[[1, 0, 0, 1, 1], [1, 1, 1, 0, 1], [1, 1, 1, 1, 0]]\n"
     ]
    }
   ],
   "source": [
    "print(masked_words)"
   ]
  },
  {
   "cell_type": "code",
   "execution_count": 37,
   "metadata": {},
   "outputs": [
    {
     "data": {
      "text/plain": [
       "torch.Size([3, 5])"
      ]
     },
     "execution_count": 37,
     "metadata": {},
     "output_type": "execute_result"
    }
   ],
   "source": [
    "masked_words= torch.tensor(masked_words,dtype=torch.bool);masked_words.shape"
   ]
  },
  {
   "cell_type": "code",
   "execution_count": 38,
   "metadata": {
    "jupyter": {
     "source_hidden": true
    }
   },
   "outputs": [],
   "source": [
    "def vis_tensor(tnsr,dim=3):\n",
    "    if dim == 3:\n",
    "        tnsr = rearrange(tnsr,'b x y -> x y b')\n",
    "    else:\n",
    "        tnsr = rearrange(tnsr,'h b i j -> i j b h')\n",
    "    with tsensor.explain():\n",
    "        tnsr"
   ]
  },
  {
   "cell_type": "code",
   "execution_count": 39,
   "metadata": {},
   "outputs": [
    {
     "data": {
      "image/svg+xml": [
       "<svg height=\"45.514309pt\" version=\"1.1\" viewBox=\"0 0 36.13675 45.514309\" width=\"36.13675pt\" xmlns=\"http://www.w3.org/2000/svg\" xmlns:xlink=\"http://www.w3.org/1999/xlink\">\n",
       " <metadata>\n",
       "  <rdf:RDF xmlns:cc=\"http://creativecommons.org/ns#\" xmlns:dc=\"http://purl.org/dc/elements/1.1/\" xmlns:rdf=\"http://www.w3.org/1999/02/22-rdf-syntax-ns#\">\n",
       "   <cc:Work>\n",
       "    <dc:type rdf:resource=\"http://purl.org/dc/dcmitype/StillImage\"/>\n",
       "    <dc:date>2020-10-14T12:57:01.658486</dc:date>\n",
       "    <dc:format>image/svg+xml</dc:format>\n",
       "    <dc:creator>\n",
       "     <cc:Agent>\n",
       "      <dc:title>Matplotlib v3.3.0, https://matplotlib.org/</dc:title>\n",
       "     </cc:Agent>\n",
       "    </dc:creator>\n",
       "   </cc:Work>\n",
       "  </rdf:RDF>\n",
       " </metadata>\n",
       " <defs>\n",
       "  <style type=\"text/css\">*{stroke-linecap:butt;stroke-linejoin:round;}</style>\n",
       " </defs>\n",
       " <g id=\"figure_1\">\n",
       "  <g id=\"patch_1\">\n",
       "   <path d=\"M 0 45.514309  L 36.13675 45.514309  L 36.13675 0  L 0 0  z \" style=\"fill:none;\"/>\n",
       "  </g>\n",
       "  <g id=\"axes_1\">\n",
       "   <g id=\"patch_2\">\n",
       "    <path clip-path=\"url(#p53db6a4c6a)\" d=\"M 10.28115 43.068109  L 33.13125 43.068109  L 33.13125 20.807689  L 10.28115 20.807689  z \" style=\"fill:#cfe2d4;stroke:#808080;stroke-linejoin:miter;stroke-width:0.7;\"/>\n",
       "   </g>\n",
       "   <g id=\"patch_3\">\n",
       "    <path clip-path=\"url(#p53db6a4c6a)\" d=\"M 8.60715 44.698909  L 31.45725 44.698909  L 31.45725 22.438489  L 8.60715 22.438489  z \" style=\"fill:#cfe2d4;stroke:#808080;stroke-linejoin:miter;stroke-width:0.7;\"/>\n",
       "   </g>\n",
       "   <g id=\"line2d_1\">\n",
       "    <path clip-path=\"url(#p53db6a4c6a)\" d=\"M 6.32214 12.711247  L 33.74226 12.711247  \" style=\"fill:none;stroke:#c2c2c2;stroke-linecap:square;stroke-width:0.5;\"/>\n",
       "   </g>\n",
       "   <g id=\"text_1\">\n",
       "    <!-- t -->\n",
       "    <g style=\"fill:#444443;\" transform=\"translate(6.975 8.97)scale(0.13 -0.13)\">\n",
       "     <defs>\n",
       "      <path d=\"M 47.3125 0.6875  Q 44.4375 -0.046875 41.359375 -0.359375  Q 38.28125 -0.6875 35.109375 -0.6875  Q 25.875 -0.6875 21.328125 3.484375  Q 16.796875 7.671875 16.796875 16.3125  L 16.796875 41.890625  L 3.078125 41.890625  L 3.078125 49.03125  L 16.796875 49.03125  L 16.796875 62.5  L 25.296875 64.703125  L 25.296875 49.03125  L 47.3125 49.03125  L 47.3125 41.890625  L 25.296875 41.890625  L 25.296875 17  Q 25.296875 11.71875 28.09375 9.109375  Q 30.90625 6.5 36.375 6.5  Q 38.71875 6.5 41.5 6.859375  Q 44.28125 7.234375 47.3125 8.015625  z \" id=\"Consolas-116\"/>\n",
       "     </defs>\n",
       "     <use xlink:href=\"#Consolas-116\"/>\n",
       "    </g>\n",
       "   </g>\n",
       "   <g id=\"text_2\">\n",
       "    <!-- n -->\n",
       "    <g style=\"fill:#444443;\" transform=\"translate(13.5036 8.97)scale(0.13 -0.13)\">\n",
       "     <defs>\n",
       "      <path d=\"M 7.8125 49.03125  L 15.375 49.03125  L 15.71875 41.109375  Q 17.875 43.65625 19.875 45.328125  Q 21.875 47.015625 23.796875 48.046875  Q 25.734375 49.078125 27.734375 49.484375  Q 29.734375 49.90625 31.890625 49.90625  Q 39.453125 49.90625 43.328125 45.4375  Q 47.21875 40.96875 47.21875 31.984375  L 47.21875 0  L 38.71875 0  L 38.71875 31.296875  Q 38.71875 37.0625 36.5625 39.8125  Q 34.421875 42.578125 30.171875 42.578125  Q 28.609375 42.578125 27.125 42.109375  Q 25.640625 41.65625 24.015625 40.5  Q 22.40625 39.359375 20.53125 37.40625  Q 18.65625 35.453125 16.3125 32.515625  L 16.3125 0  L 7.8125 0  z \" id=\"Consolas-110\"/>\n",
       "     </defs>\n",
       "     <use xlink:href=\"#Consolas-110\"/>\n",
       "    </g>\n",
       "   </g>\n",
       "   <g id=\"text_3\">\n",
       "    <!-- s -->\n",
       "    <g style=\"fill:#444443;\" transform=\"translate(20.0322 8.97)scale(0.13 -0.13)\">\n",
       "     <defs>\n",
       "      <path d=\"M 46.625 13.375  Q 46.625 10.796875 45.75 8.734375  Q 44.875 6.6875 43.359375 5.09375  Q 41.84375 3.515625 39.84375 2.390625  Q 37.84375 1.265625 35.5625 0.53125  Q 33.296875 -0.203125 30.90625 -0.53125  Q 28.515625 -0.875 26.21875 -0.875  Q 21.234375 -0.875 17.0625 -0.4375  Q 12.890625 0 8.890625 0.984375  L 8.890625 8.796875  Q 13.1875 7.5625 17.4375 6.921875  Q 21.6875 6.296875 25.875 6.296875  Q 31.984375 6.296875 34.90625 7.953125  Q 37.84375 9.625 37.84375 12.703125  Q 37.84375 14.015625 37.375 15.0625  Q 36.921875 16.109375 35.6875 17.0625  Q 34.46875 18.015625 31.90625 19.03125  Q 29.34375 20.0625 24.90625 21.390625  Q 21.578125 22.359375 18.765625 23.609375  Q 15.96875 24.859375 13.90625 26.5625  Q 11.859375 28.265625 10.6875 30.5625  Q 9.515625 32.859375 9.515625 35.984375  Q 9.515625 38.03125 10.46875 40.46875  Q 11.421875 42.921875 13.71875 45.015625  Q 16.015625 47.125 19.921875 48.515625  Q 23.828125 49.90625 29.6875 49.90625  Q 32.5625 49.90625 36.078125 49.578125  Q 39.59375 49.265625 43.40625 48.484375  L 43.40625 40.921875  Q 39.40625 41.890625 35.8125 42.359375  Q 32.234375 42.828125 29.59375 42.828125  Q 26.421875 42.828125 24.25 42.328125  Q 22.078125 41.84375 20.734375 40.984375  Q 19.390625 40.140625 18.796875 38.984375  Q 18.21875 37.84375 18.21875 36.53125  Q 18.21875 35.203125 18.71875 34.125  Q 19.234375 33.0625 20.625 32.0625  Q 22.015625 31.0625 24.5 30.046875  Q 27 29.046875 31 27.875  Q 35.359375 26.609375 38.328125 25.21875  Q 41.3125 23.828125 43.15625 22.109375  Q 45.015625 20.40625 45.8125 18.25  Q 46.625 16.109375 46.625 13.375  z \" id=\"Consolas-115\"/>\n",
       "     </defs>\n",
       "     <use xlink:href=\"#Consolas-115\"/>\n",
       "    </g>\n",
       "   </g>\n",
       "   <g id=\"text_4\">\n",
       "    <!-- r -->\n",
       "    <g style=\"fill:#444443;\" transform=\"translate(26.5608 8.97)scale(0.13 -0.13)\">\n",
       "     <defs>\n",
       "      <path d=\"M 9.8125 49.03125  L 17.578125 49.03125  L 17.828125 39.984375  Q 22.171875 45.21875 26.390625 47.5625  Q 30.609375 49.90625 34.90625 49.90625  Q 42.53125 49.90625 46.453125 44.96875  Q 50.390625 40.046875 50.09375 30.328125  L 41.5 30.328125  Q 41.65625 36.765625 39.625 39.671875  Q 37.59375 42.578125 33.6875 42.578125  Q 31.984375 42.578125 30.25 41.96875  Q 28.515625 41.359375 26.6875 40.015625  Q 24.859375 38.671875 22.796875 36.5625  Q 20.75 34.46875 18.40625 31.5  L 18.40625 0  L 9.8125 0  z \" id=\"Consolas-114\"/>\n",
       "     </defs>\n",
       "     <use xlink:href=\"#Consolas-114\"/>\n",
       "    </g>\n",
       "   </g>\n",
       "   <g id=\"text_5\">\n",
       "    <!-- 5 -->\n",
       "    <g transform=\"translate(6.8184 36.071121)rotate(-90)scale(0.09 -0.09)\">\n",
       "     <defs>\n",
       "      <path d=\"M 4.15625 18.75  L 13.375 19.53125  Q 14.40625 12.796875 18.140625 9.390625  Q 21.875 6 27.15625 6  Q 33.5 6 37.890625 10.78125  Q 42.28125 15.578125 42.28125 23.484375  Q 42.28125 31 38.0625 35.34375  Q 33.84375 39.703125 27 39.703125  Q 22.75 39.703125 19.328125 37.765625  Q 15.921875 35.84375 13.96875 32.765625  L 5.71875 33.84375  L 12.640625 70.609375  L 48.25 70.609375  L 48.25 62.203125  L 19.671875 62.203125  L 15.828125 42.96875  Q 22.265625 47.46875 29.34375 47.46875  Q 38.71875 47.46875 45.15625 40.96875  Q 51.609375 34.46875 51.609375 24.265625  Q 51.609375 14.546875 45.953125 7.46875  Q 39.0625 -1.21875 27.15625 -1.21875  Q 17.390625 -1.21875 11.203125 4.25  Q 5.03125 9.71875 4.15625 18.75  z \" id=\"ArialMT-53\"/>\n",
       "     </defs>\n",
       "     <use xlink:href=\"#ArialMT-53\"/>\n",
       "    </g>\n",
       "   </g>\n",
       "   <g id=\"text_6\">\n",
       "    <!-- 6 -->\n",
       "    <g transform=\"translate(19.203778 19.720489)scale(0.09 -0.09)\">\n",
       "     <defs>\n",
       "      <path d=\"M 49.75 54.046875  L 41.015625 53.375  Q 39.84375 58.546875 37.703125 60.890625  Q 34.125 64.65625 28.90625 64.65625  Q 24.703125 64.65625 21.53125 62.3125  Q 17.390625 59.28125 14.984375 53.46875  Q 12.59375 47.65625 12.5 36.921875  Q 15.671875 41.75 20.265625 44.09375  Q 24.859375 46.4375 29.890625 46.4375  Q 38.671875 46.4375 44.84375 39.96875  Q 51.03125 33.5 51.03125 23.25  Q 51.03125 16.5 48.125 10.71875  Q 45.21875 4.9375 40.140625 1.859375  Q 35.0625 -1.21875 28.609375 -1.21875  Q 17.625 -1.21875 10.6875 6.859375  Q 3.765625 14.9375 3.765625 33.5  Q 3.765625 54.25 11.421875 63.671875  Q 18.109375 71.875 29.4375 71.875  Q 37.890625 71.875 43.28125 67.140625  Q 48.6875 62.40625 49.75 54.046875  z M 13.875 23.1875  Q 13.875 18.65625 15.796875 14.5  Q 17.71875 10.359375 21.1875 8.171875  Q 24.65625 6 28.46875 6  Q 34.03125 6 38.03125 10.484375  Q 42.046875 14.984375 42.046875 22.703125  Q 42.046875 30.125 38.078125 34.390625  Q 34.125 38.671875 28.125 38.671875  Q 22.171875 38.671875 18.015625 34.390625  Q 13.875 30.125 13.875 23.1875  z \" id=\"ArialMT-54\"/>\n",
       "     </defs>\n",
       "     <use xlink:href=\"#ArialMT-54\"/>\n",
       "    </g>\n",
       "   </g>\n",
       "   <g id=\"text_7\">\n",
       "    <!-- 3 -->\n",
       "    <g transform=\"translate(31.332954 36.983362)rotate(-45)scale(0.09 -0.09)\">\n",
       "     <defs>\n",
       "      <path d=\"M 4.203125 18.890625  L 12.984375 20.0625  Q 14.5 12.59375 18.140625 9.296875  Q 21.78125 6 27 6  Q 33.203125 6 37.46875 10.296875  Q 41.75 14.59375 41.75 20.953125  Q 41.75 27 37.796875 30.921875  Q 33.84375 34.859375 27.734375 34.859375  Q 25.25 34.859375 21.53125 33.890625  L 22.515625 41.609375  Q 23.390625 41.5 23.921875 41.5  Q 29.546875 41.5 34.03125 44.421875  Q 38.53125 47.359375 38.53125 53.46875  Q 38.53125 58.296875 35.25 61.46875  Q 31.984375 64.65625 26.8125 64.65625  Q 21.6875 64.65625 18.265625 61.421875  Q 14.84375 58.203125 13.875 51.765625  L 5.078125 53.328125  Q 6.6875 62.15625 12.390625 67.015625  Q 18.109375 71.875 26.609375 71.875  Q 32.46875 71.875 37.390625 69.359375  Q 42.328125 66.84375 44.9375 62.5  Q 47.5625 58.15625 47.5625 53.265625  Q 47.5625 48.640625 45.0625 44.828125  Q 42.578125 41.015625 37.703125 38.765625  Q 44.046875 37.3125 47.5625 32.6875  Q 51.078125 28.078125 51.078125 21.140625  Q 51.078125 11.765625 44.234375 5.25  Q 37.40625 -1.265625 26.953125 -1.265625  Q 17.53125 -1.265625 11.296875 4.34375  Q 5.078125 9.96875 4.203125 18.890625  z \" id=\"ArialMT-51\"/>\n",
       "     </defs>\n",
       "     <use xlink:href=\"#ArialMT-51\"/>\n",
       "    </g>\n",
       "   </g>\n",
       "  </g>\n",
       " </g>\n",
       " <defs>\n",
       "  <clipPath id=\"p53db6a4c6a\">\n",
       "   <rect height=\"41.491069\" width=\"33.0894\" x=\"0\" y=\"4.02324\"/>\n",
       "  </clipPath>\n",
       " </defs>\n",
       "</svg>"
      ],
      "text/plain": [
       "<IPython.core.display.SVG object>"
      ]
     },
     "metadata": {},
     "output_type": "display_data"
    }
   ],
   "source": [
    "vis_tensor(embedding_tensor)"
   ]
  },
  {
   "cell_type": "markdown",
   "metadata": {},
   "source": [
    "The word representation of the first word in the first sentence..."
   ]
  },
  {
   "cell_type": "code",
   "execution_count": 40,
   "metadata": {},
   "outputs": [
    {
     "data": {
      "text/plain": [
       "tensor([-0.2196, -0.3792,  0.7671, -1.1925,  0.6984, -1.4097],\n",
       "       grad_fn=<SelectBackward>)"
      ]
     },
     "execution_count": 40,
     "metadata": {},
     "output_type": "execute_result"
    }
   ],
   "source": [
    "embedding_tensor[0,0]"
   ]
  },
  {
   "cell_type": "markdown",
   "metadata": {},
   "source": [
    "The word representations of the first sentence..."
   ]
  },
  {
   "cell_type": "code",
   "execution_count": 41,
   "metadata": {},
   "outputs": [
    {
     "data": {
      "text/plain": [
       "tensor([[-0.2196, -0.3792,  0.7671, -1.1925,  0.6984, -1.4097],\n",
       "        [ 0.9031, -0.7218, -0.5951, -0.7112,  0.6230, -1.3729],\n",
       "        [ 0.9031, -0.7218, -0.5951, -0.7112,  0.6230, -1.3729],\n",
       "        [ 0.6716,  0.6933, -0.9487, -0.0765, -0.1526,  0.1167],\n",
       "        [-0.1690,  0.9178,  1.5810,  1.3010,  1.2753, -0.2010]],\n",
       "       grad_fn=<SelectBackward>)"
      ]
     },
     "execution_count": 41,
     "metadata": {},
     "output_type": "execute_result"
    }
   ],
   "source": [
    "embedding_tensor[0]"
   ]
  },
  {
   "cell_type": "markdown",
   "metadata": {},
   "source": [
    "## Positional encoding"
   ]
  },
  {
   "cell_type": "markdown",
   "metadata": {},
   "source": [
    "The sequence of words within a sentence is important for any NLP task. However, the Transformer architecture by itself does not care about the actual order of words, i.e. you could switch words as you like and the final result would stay the same. To circumvent this _permutation invariance_, a tensor representing the position of each word and also the position of each scalar within the embedding is added to the actual embedding!"
   ]
  },
  {
   "cell_type": "markdown",
   "metadata": {},
   "source": [
    "The idea is to imagine for each value of the embedding vector a sin/cos wave with a specific frequency. In order to compute the embedding vector say for 5th word, you just read for each value of the embedding vector the value of its sin/cos wave at position 5. I hope the visualisation below makes it more clear"
   ]
  },
  {
   "cell_type": "code",
   "execution_count": 42,
   "metadata": {
    "jupyter": {
     "source_hidden": true
    }
   },
   "outputs": [],
   "source": [
    "# Code from https://www.tensorflow.org/tutorials/text/transformer\n",
    "def get_angles(pos, i, d_model):\n",
    "    angle_rates = 1 / np.power(10000, (2 * (i//2)) / np.float32(d_model))\n",
    "    return pos * angle_rates, angle_rates\n",
    "\n",
    "def positional_encoding(position, d_model):\n",
    "    angle_rads, angle_rates = get_angles(np.arange(position)[:, np.newaxis],\n",
    "                          np.arange(d_model)[np.newaxis, :],\n",
    "                          d_model)\n",
    "    # apply sin to even indices in the array; 2i\n",
    "    angle_rads[:, 0::2] = np.sin(angle_rads[:, 0::2])\n",
    "    # apply cos to odd indices in the array; 2i+1\n",
    "    angle_rads[:, 1::2] = np.cos(angle_rads[:, 1::2])\n",
    "    pos_encoding = angle_rads[np.newaxis, ...]\n",
    "    \n",
    "    return pos_encoding, angle_rates"
   ]
  },
  {
   "cell_type": "code",
   "execution_count": 43,
   "metadata": {
    "jupyter": {
     "source_hidden": true
    }
   },
   "outputs": [],
   "source": [
    "def vis_pos_enc(dim_positions, word_pos, emb_dim):\n",
    "    fig, axs = plt.subplots(len(dim_positions), 1, sharex=True, figsize=(5,7))\n",
    "    pos_encs, rates = positional_encoding(position=100, d_model=64)\n",
    "    pos_encs = pos_encs[0]\n",
    "        \n",
    "    pos_enc_vec = []\n",
    "    for i, ax in enumerate(axs.flat):\n",
    "        rate = rates[0,dim_positions[i]]\n",
    "        xs = np.arange(0, 100, 0.2)\n",
    "        enc = pos_encs[word_pos,dim_positions[i]]\n",
    "        is_sin = dim_positions[i]%2==0\n",
    "        ax.plot(xs,np.sin(xs * rate) if is_sin else np.cos(xs * rate),color='grey', \n",
    "                label=f\"{'sin' if is_sin else 'cos'}:{dim_positions[i]}\",linestyle='-.' if is_sin else '-')\n",
    "        ax.set_yticks([])\n",
    "        ax.legend(loc='upper right')\n",
    "        ax.axvline(x=word_pos,color='red')\n",
    "        ax.plot([word_pos], [enc], marker='o', markersize=3, color=\"black\")"
   ]
  },
  {
   "cell_type": "code",
   "execution_count": 44,
   "metadata": {
    "jupyter": {
     "source_hidden": true
    }
   },
   "outputs": [
    {
     "data": {
      "image/png": "[encoded data removed]",
      "text/plain": [
       "<Figure size 360x504 with 11 Axes>"
      ]
     },
     "metadata": {
      "needs_background": "light"
     },
     "output_type": "display_data"
    }
   ],
   "source": [
    "interact(vis_pos_enc, dim_positions=fixed(np.arange(13)[2:]), \n",
    "         word_pos=widgets.IntSlider(min=2, max=50, step=1, value=5), \n",
    "         emb_dim=fixed(64));"
   ]
  },
  {
   "cell_type": "markdown",
   "metadata": {},
   "source": [
    "Note that due to the repeating patterns of both sin and cos waves, we are not restricted to sentences of specific lengths. "
   ]
  },
  {
   "cell_type": "markdown",
   "metadata": {},
   "source": [
    "We add the positional information to the `embedding_tensor`:"
   ]
  },
  {
   "cell_type": "code",
   "execution_count": 45,
   "metadata": {},
   "outputs": [
    {
     "name": "stdout",
     "output_type": "stream",
     "text": [
      "(1, 5, 6)\n"
     ]
    }
   ],
   "source": [
    "pos_enc_array = positional_encoding(position=n_words_per_sentence,d_model=embedding_dim)[0]\n",
    "print(pos_enc_array.shape)"
   ]
  },
  {
   "cell_type": "code",
   "execution_count": 46,
   "metadata": {},
   "outputs": [],
   "source": [
    "embedding_tensor = embedding_tensor + torch.tensor(pos_enc_array, dtype=torch.float32)"
   ]
  },
  {
   "cell_type": "markdown",
   "metadata": {},
   "source": [
    "## Step 1: Generating attention weights\n",
    "\n",
    "Instead of comparing the embedding vectors directly, the embeddings are first transformed using two linear layers. One such transformation generates the `query` tensor, the other transformation (with different weights) leads to the so-called `key` tensor. It helps in understanding if you think of both `query` and `key` as if it were the original `embedding_tensor`. In fact, you could also just skip these intermediate computations and I think they are mainly there to make the Transformer model more expressive (please correct me if I am wrong)."
   ]
  },
  {
   "cell_type": "code",
   "execution_count": 47,
   "metadata": {},
   "outputs": [],
   "source": [
    "qkv_dim = 4\n",
    "n_heads = 2"
   ]
  },
  {
   "cell_type": "code",
   "execution_count": 48,
   "metadata": {},
   "outputs": [],
   "source": [
    "query_layer = torch.nn.Linear(embedding_dim, qkv_dim * n_heads)\n",
    "key_layer = torch.nn.Linear(embedding_dim, qkv_dim * n_heads)"
   ]
  },
  {
   "cell_type": "code",
   "execution_count": 49,
   "metadata": {},
   "outputs": [],
   "source": [
    "query = query_layer(embedding_tensor)\n",
    "key = key_layer(embedding_tensor)"
   ]
  },
  {
   "cell_type": "markdown",
   "metadata": {},
   "source": [
    "We rearrange this query tensor by splitting `qkv_dim * n_heads` into its subparts and then choosing `n_heads` as the first dimension, such that the resulting tensor has shape (`n_heads`, `batch_size`,`n_words`, `qkv_dim`)"
   ]
  },
  {
   "cell_type": "code",
   "execution_count": 50,
   "metadata": {},
   "outputs": [
    {
     "name": "stdout",
     "output_type": "stream",
     "text": [
      "torch.Size([2, 3, 5, 4])\n"
     ]
    }
   ],
   "source": [
    "query = rearrange(query,'b n_words (qkv_dim n_heads) -> n_heads b n_words qkv_dim', qkv_dim = qkv_dim)\n",
    "key = rearrange(key,'b n_words (qkv_dim n_heads) -> n_heads b n_words qkv_dim', qkv_dim = qkv_dim)\n",
    "print(query.shape)"
   ]
  },
  {
   "cell_type": "code",
   "execution_count": 51,
   "metadata": {},
   "outputs": [
    {
     "data": {
      "image/svg+xml": [
       "<svg height=\"54.288691pt\" version=\"1.1\" viewBox=\"0 0 36.13675 54.288691\" width=\"36.13675pt\" xmlns=\"http://www.w3.org/2000/svg\" xmlns:xlink=\"http://www.w3.org/1999/xlink\">\n",
       " <metadata>\n",
       "  <rdf:RDF xmlns:cc=\"http://creativecommons.org/ns#\" xmlns:dc=\"http://purl.org/dc/elements/1.1/\" xmlns:rdf=\"http://www.w3.org/1999/02/22-rdf-syntax-ns#\">\n",
       "   <cc:Work>\n",
       "    <dc:type rdf:resource=\"http://purl.org/dc/dcmitype/StillImage\"/>\n",
       "    <dc:date>2020-10-14T12:57:04.095426</dc:date>\n",
       "    <dc:format>image/svg+xml</dc:format>\n",
       "    <dc:creator>\n",
       "     <cc:Agent>\n",
       "      <dc:title>Matplotlib v3.3.0, https://matplotlib.org/</dc:title>\n",
       "     </cc:Agent>\n",
       "    </dc:creator>\n",
       "   </cc:Work>\n",
       "  </rdf:RDF>\n",
       " </metadata>\n",
       " <defs>\n",
       "  <style type=\"text/css\">*{stroke-linecap:butt;stroke-linejoin:round;}</style>\n",
       " </defs>\n",
       " <g id=\"figure_1\">\n",
       "  <g id=\"patch_1\">\n",
       "   <path d=\"M 0 54.288691  L 36.13675 54.288691  L 36.13675 0  L 0 0  z \" style=\"fill:none;\"/>\n",
       "  </g>\n",
       "  <g id=\"axes_1\">\n",
       "   <g id=\"patch_2\">\n",
       "    <path clip-path=\"url(#p0e5452bb8f)\" d=\"M 10.28115 43.068109  L 33.13125 43.068109  L 33.13125 20.807689  L 10.28115 20.807689  z \" style=\"fill:#cfe2d4;stroke:#808080;stroke-linejoin:miter;stroke-width:0.7;\"/>\n",
       "   </g>\n",
       "   <g id=\"patch_3\">\n",
       "    <path clip-path=\"url(#p0e5452bb8f)\" d=\"M 8.60715 44.698909  L 31.45725 44.698909  L 31.45725 22.438489  L 8.60715 22.438489  z \" style=\"fill:#cfe2d4;stroke:#808080;stroke-linejoin:miter;stroke-width:0.7;\"/>\n",
       "   </g>\n",
       "   <g id=\"line2d_1\">\n",
       "    <path clip-path=\"url(#p0e5452bb8f)\" d=\"M 6.32214 12.711247  L 33.74226 12.711247  \" style=\"fill:none;stroke:#c2c2c2;stroke-linecap:square;stroke-width:0.5;\"/>\n",
       "   </g>\n",
       "   <g id=\"text_1\">\n",
       "    <!-- t -->\n",
       "    <g style=\"fill:#444443;\" transform=\"translate(6.975 8.97)scale(0.13 -0.13)\">\n",
       "     <defs>\n",
       "      <path d=\"M 47.3125 0.6875  Q 44.4375 -0.046875 41.359375 -0.359375  Q 38.28125 -0.6875 35.109375 -0.6875  Q 25.875 -0.6875 21.328125 3.484375  Q 16.796875 7.671875 16.796875 16.3125  L 16.796875 41.890625  L 3.078125 41.890625  L 3.078125 49.03125  L 16.796875 49.03125  L 16.796875 62.5  L 25.296875 64.703125  L 25.296875 49.03125  L 47.3125 49.03125  L 47.3125 41.890625  L 25.296875 41.890625  L 25.296875 17  Q 25.296875 11.71875 28.09375 9.109375  Q 30.90625 6.5 36.375 6.5  Q 38.71875 6.5 41.5 6.859375  Q 44.28125 7.234375 47.3125 8.015625  z \" id=\"Consolas-116\"/>\n",
       "     </defs>\n",
       "     <use xlink:href=\"#Consolas-116\"/>\n",
       "    </g>\n",
       "   </g>\n",
       "   <g id=\"text_2\">\n",
       "    <!-- n -->\n",
       "    <g style=\"fill:#444443;\" transform=\"translate(13.5036 8.97)scale(0.13 -0.13)\">\n",
       "     <defs>\n",
       "      <path d=\"M 7.8125 49.03125  L 15.375 49.03125  L 15.71875 41.109375  Q 17.875 43.65625 19.875 45.328125  Q 21.875 47.015625 23.796875 48.046875  Q 25.734375 49.078125 27.734375 49.484375  Q 29.734375 49.90625 31.890625 49.90625  Q 39.453125 49.90625 43.328125 45.4375  Q 47.21875 40.96875 47.21875 31.984375  L 47.21875 0  L 38.71875 0  L 38.71875 31.296875  Q 38.71875 37.0625 36.5625 39.8125  Q 34.421875 42.578125 30.171875 42.578125  Q 28.609375 42.578125 27.125 42.109375  Q 25.640625 41.65625 24.015625 40.5  Q 22.40625 39.359375 20.53125 37.40625  Q 18.65625 35.453125 16.3125 32.515625  L 16.3125 0  L 7.8125 0  z \" id=\"Consolas-110\"/>\n",
       "     </defs>\n",
       "     <use xlink:href=\"#Consolas-110\"/>\n",
       "    </g>\n",
       "   </g>\n",
       "   <g id=\"text_3\">\n",
       "    <!-- s -->\n",
       "    <g style=\"fill:#444443;\" transform=\"translate(20.0322 8.97)scale(0.13 -0.13)\">\n",
       "     <defs>\n",
       "      <path d=\"M 46.625 13.375  Q 46.625 10.796875 45.75 8.734375  Q 44.875 6.6875 43.359375 5.09375  Q 41.84375 3.515625 39.84375 2.390625  Q 37.84375 1.265625 35.5625 0.53125  Q 33.296875 -0.203125 30.90625 -0.53125  Q 28.515625 -0.875 26.21875 -0.875  Q 21.234375 -0.875 17.0625 -0.4375  Q 12.890625 0 8.890625 0.984375  L 8.890625 8.796875  Q 13.1875 7.5625 17.4375 6.921875  Q 21.6875 6.296875 25.875 6.296875  Q 31.984375 6.296875 34.90625 7.953125  Q 37.84375 9.625 37.84375 12.703125  Q 37.84375 14.015625 37.375 15.0625  Q 36.921875 16.109375 35.6875 17.0625  Q 34.46875 18.015625 31.90625 19.03125  Q 29.34375 20.0625 24.90625 21.390625  Q 21.578125 22.359375 18.765625 23.609375  Q 15.96875 24.859375 13.90625 26.5625  Q 11.859375 28.265625 10.6875 30.5625  Q 9.515625 32.859375 9.515625 35.984375  Q 9.515625 38.03125 10.46875 40.46875  Q 11.421875 42.921875 13.71875 45.015625  Q 16.015625 47.125 19.921875 48.515625  Q 23.828125 49.90625 29.6875 49.90625  Q 32.5625 49.90625 36.078125 49.578125  Q 39.59375 49.265625 43.40625 48.484375  L 43.40625 40.921875  Q 39.40625 41.890625 35.8125 42.359375  Q 32.234375 42.828125 29.59375 42.828125  Q 26.421875 42.828125 24.25 42.328125  Q 22.078125 41.84375 20.734375 40.984375  Q 19.390625 40.140625 18.796875 38.984375  Q 18.21875 37.84375 18.21875 36.53125  Q 18.21875 35.203125 18.71875 34.125  Q 19.234375 33.0625 20.625 32.0625  Q 22.015625 31.0625 24.5 30.046875  Q 27 29.046875 31 27.875  Q 35.359375 26.609375 38.328125 25.21875  Q 41.3125 23.828125 43.15625 22.109375  Q 45.015625 20.40625 45.8125 18.25  Q 46.625 16.109375 46.625 13.375  z \" id=\"Consolas-115\"/>\n",
       "     </defs>\n",
       "     <use xlink:href=\"#Consolas-115\"/>\n",
       "    </g>\n",
       "   </g>\n",
       "   <g id=\"text_4\">\n",
       "    <!-- r -->\n",
       "    <g style=\"fill:#444443;\" transform=\"translate(26.5608 8.97)scale(0.13 -0.13)\">\n",
       "     <defs>\n",
       "      <path d=\"M 9.8125 49.03125  L 17.578125 49.03125  L 17.828125 39.984375  Q 22.171875 45.21875 26.390625 47.5625  Q 30.609375 49.90625 34.90625 49.90625  Q 42.53125 49.90625 46.453125 44.96875  Q 50.390625 40.046875 50.09375 30.328125  L 41.5 30.328125  Q 41.65625 36.765625 39.625 39.671875  Q 37.59375 42.578125 33.6875 42.578125  Q 31.984375 42.578125 30.25 41.96875  Q 28.515625 41.359375 26.6875 40.015625  Q 24.859375 38.671875 22.796875 36.5625  Q 20.75 34.46875 18.40625 31.5  L 18.40625 0  L 9.8125 0  z \" id=\"Consolas-114\"/>\n",
       "     </defs>\n",
       "     <use xlink:href=\"#Consolas-114\"/>\n",
       "    </g>\n",
       "   </g>\n",
       "   <g id=\"text_5\">\n",
       "    <!-- 5 -->\n",
       "    <g transform=\"translate(6.8184 36.071121)rotate(-90)scale(0.09 -0.09)\">\n",
       "     <defs>\n",
       "      <path d=\"M 4.15625 18.75  L 13.375 19.53125  Q 14.40625 12.796875 18.140625 9.390625  Q 21.875 6 27.15625 6  Q 33.5 6 37.890625 10.78125  Q 42.28125 15.578125 42.28125 23.484375  Q 42.28125 31 38.0625 35.34375  Q 33.84375 39.703125 27 39.703125  Q 22.75 39.703125 19.328125 37.765625  Q 15.921875 35.84375 13.96875 32.765625  L 5.71875 33.84375  L 12.640625 70.609375  L 48.25 70.609375  L 48.25 62.203125  L 19.671875 62.203125  L 15.828125 42.96875  Q 22.265625 47.46875 29.34375 47.46875  Q 38.71875 47.46875 45.15625 40.96875  Q 51.609375 34.46875 51.609375 24.265625  Q 51.609375 14.546875 45.953125 7.46875  Q 39.0625 -1.21875 27.15625 -1.21875  Q 17.390625 -1.21875 11.203125 4.25  Q 5.03125 9.71875 4.15625 18.75  z \" id=\"ArialMT-53\"/>\n",
       "     </defs>\n",
       "     <use xlink:href=\"#ArialMT-53\"/>\n",
       "    </g>\n",
       "   </g>\n",
       "   <g id=\"text_6\">\n",
       "    <!-- 4 -->\n",
       "    <g transform=\"translate(19.203778 19.720489)scale(0.09 -0.09)\">\n",
       "     <defs>\n",
       "      <path d=\"M 32.328125 0  L 32.328125 17.140625  L 1.265625 17.140625  L 1.265625 25.203125  L 33.9375 71.578125  L 41.109375 71.578125  L 41.109375 25.203125  L 50.78125 25.203125  L 50.78125 17.140625  L 41.109375 17.140625  L 41.109375 0  z M 32.328125 25.203125  L 32.328125 57.46875  L 9.90625 25.203125  z \" id=\"ArialMT-52\"/>\n",
       "     </defs>\n",
       "     <use xlink:href=\"#ArialMT-52\"/>\n",
       "    </g>\n",
       "   </g>\n",
       "   <g id=\"text_7\">\n",
       "    <!-- 3 -->\n",
       "    <g transform=\"translate(31.332954 36.983362)rotate(-45)scale(0.09 -0.09)\">\n",
       "     <defs>\n",
       "      <path d=\"M 4.203125 18.890625  L 12.984375 20.0625  Q 14.5 12.59375 18.140625 9.296875  Q 21.78125 6 27 6  Q 33.203125 6 37.46875 10.296875  Q 41.75 14.59375 41.75 20.953125  Q 41.75 27 37.796875 30.921875  Q 33.84375 34.859375 27.734375 34.859375  Q 25.25 34.859375 21.53125 33.890625  L 22.515625 41.609375  Q 23.390625 41.5 23.921875 41.5  Q 29.546875 41.5 34.03125 44.421875  Q 38.53125 47.359375 38.53125 53.46875  Q 38.53125 58.296875 35.25 61.46875  Q 31.984375 64.65625 26.8125 64.65625  Q 21.6875 64.65625 18.265625 61.421875  Q 14.84375 58.203125 13.875 51.765625  L 5.078125 53.328125  Q 6.6875 62.15625 12.390625 67.015625  Q 18.109375 71.875 26.609375 71.875  Q 32.46875 71.875 37.390625 69.359375  Q 42.328125 66.84375 44.9375 62.5  Q 47.5625 58.15625 47.5625 53.265625  Q 47.5625 48.640625 45.0625 44.828125  Q 42.578125 41.015625 37.703125 38.765625  Q 44.046875 37.3125 47.5625 32.6875  Q 51.078125 28.078125 51.078125 21.140625  Q 51.078125 11.765625 44.234375 5.25  Q 37.40625 -1.265625 26.953125 -1.265625  Q 17.53125 -1.265625 11.296875 4.34375  Q 5.078125 9.96875 4.203125 18.890625  z \" id=\"ArialMT-51\"/>\n",
       "     </defs>\n",
       "     <use xlink:href=\"#ArialMT-51\"/>\n",
       "    </g>\n",
       "   </g>\n",
       "   <g id=\"text_8\">\n",
       "    <!-- $\\cdots$x2 -->\n",
       "    <g transform=\"translate(10.7622 52.499941)scale(0.09 -0.09)\">\n",
       "     <defs>\n",
       "      <path d=\"M 11.5625 36.921875  L 21.875 36.921875  L 21.875 24.515625  L 11.5625 24.515625  z M 44.8125 36.921875  L 55.125 36.921875  L 55.125 24.515625  L 44.8125 24.515625  z M 78.0625 36.921875  L 88.375 36.921875  L 88.375 24.515625  L 78.0625 24.515625  z \" id=\"DejaVuSans-8943\"/>\n",
       "      <path d=\"M 0.734375 0  L 19.671875 26.953125  L 2.15625 51.859375  L 13.140625 51.859375  L 21.09375 39.703125  Q 23.34375 36.234375 24.703125 33.890625  Q 26.859375 37.109375 28.65625 39.59375  L 37.40625 51.859375  L 47.90625 51.859375  L 29.984375 27.4375  L 49.265625 0  L 38.484375 0  L 27.828125 16.109375  L 25 20.453125  L 11.375 0  z \" id=\"ArialMT-120\"/>\n",
       "      <path d=\"M 50.34375 8.453125  L 50.34375 0  L 3.03125 0  Q 2.9375 3.171875 4.046875 6.109375  Q 5.859375 10.9375 9.828125 15.625  Q 13.8125 20.3125 21.34375 26.46875  Q 33.015625 36.03125 37.109375 41.625  Q 41.21875 47.21875 41.21875 52.203125  Q 41.21875 57.421875 37.46875 61  Q 33.734375 64.59375 27.734375 64.59375  Q 21.390625 64.59375 17.578125 60.78125  Q 13.765625 56.984375 13.71875 50.25  L 4.6875 51.171875  Q 5.609375 61.28125 11.65625 66.578125  Q 17.71875 71.875 27.9375 71.875  Q 38.234375 71.875 44.234375 66.15625  Q 50.25 60.453125 50.25 52  Q 50.25 47.703125 48.484375 43.546875  Q 46.734375 39.40625 42.65625 34.8125  Q 38.578125 30.21875 29.109375 22.21875  Q 21.1875 15.578125 18.9375 13.203125  Q 16.703125 10.84375 15.234375 8.453125  z \" id=\"ArialMT-50\"/>\n",
       "     </defs>\n",
       "     <use transform=\"translate(0 0.125)\" xlink:href=\"#DejaVuSans-8943\"/>\n",
       "     <use transform=\"translate(100 0.125)\" xlink:href=\"#ArialMT-120\"/>\n",
       "     <use transform=\"translate(150 0.125)\" xlink:href=\"#ArialMT-50\"/>\n",
       "    </g>\n",
       "   </g>\n",
       "  </g>\n",
       " </g>\n",
       " <defs>\n",
       "  <clipPath id=\"p0e5452bb8f\">\n",
       "   <rect height=\"41.491069\" width=\"33.0894\" x=\"0\" y=\"4.02324\"/>\n",
       "  </clipPath>\n",
       " </defs>\n",
       "</svg>"
      ],
      "text/plain": [
       "<IPython.core.display.SVG object>"
      ]
     },
     "metadata": {},
     "output_type": "display_data"
    }
   ],
   "source": [
    "vis_tensor(query,dim=4)"
   ]
  },
  {
   "cell_type": "markdown",
   "metadata": {},
   "source": [
    "For further illustration, let's just pick the first head of both `query` and `key`:"
   ]
  },
  {
   "cell_type": "code",
   "execution_count": 52,
   "metadata": {},
   "outputs": [],
   "source": [
    "query_head1 = query[0]\n",
    "key_head1 = key[0]"
   ]
  },
  {
   "cell_type": "code",
   "execution_count": 53,
   "metadata": {},
   "outputs": [
    {
     "data": {
      "image/svg+xml": [
       "<svg height=\"45.514309pt\" version=\"1.1\" viewBox=\"0 0 36.13675 45.514309\" width=\"36.13675pt\" xmlns=\"http://www.w3.org/2000/svg\" xmlns:xlink=\"http://www.w3.org/1999/xlink\">\n",
       " <metadata>\n",
       "  <rdf:RDF xmlns:cc=\"http://creativecommons.org/ns#\" xmlns:dc=\"http://purl.org/dc/elements/1.1/\" xmlns:rdf=\"http://www.w3.org/1999/02/22-rdf-syntax-ns#\">\n",
       "   <cc:Work>\n",
       "    <dc:type rdf:resource=\"http://purl.org/dc/dcmitype/StillImage\"/>\n",
       "    <dc:date>2020-10-14T12:57:04.236409</dc:date>\n",
       "    <dc:format>image/svg+xml</dc:format>\n",
       "    <dc:creator>\n",
       "     <cc:Agent>\n",
       "      <dc:title>Matplotlib v3.3.0, https://matplotlib.org/</dc:title>\n",
       "     </cc:Agent>\n",
       "    </dc:creator>\n",
       "   </cc:Work>\n",
       "  </rdf:RDF>\n",
       " </metadata>\n",
       " <defs>\n",
       "  <style type=\"text/css\">*{stroke-linecap:butt;stroke-linejoin:round;}</style>\n",
       " </defs>\n",
       " <g id=\"figure_1\">\n",
       "  <g id=\"patch_1\">\n",
       "   <path d=\"M 0 45.514309  L 36.13675 45.514309  L 36.13675 0  L 0 0  z \" style=\"fill:none;\"/>\n",
       "  </g>\n",
       "  <g id=\"axes_1\">\n",
       "   <g id=\"patch_2\">\n",
       "    <path clip-path=\"url(#p8be2d4d3ac)\" d=\"M 10.28115 43.068109  L 33.13125 43.068109  L 33.13125 20.807689  L 10.28115 20.807689  z \" style=\"fill:#cfe2d4;stroke:#808080;stroke-linejoin:miter;stroke-width:0.7;\"/>\n",
       "   </g>\n",
       "   <g id=\"patch_3\">\n",
       "    <path clip-path=\"url(#p8be2d4d3ac)\" d=\"M 8.60715 44.698909  L 31.45725 44.698909  L 31.45725 22.438489  L 8.60715 22.438489  z \" style=\"fill:#cfe2d4;stroke:#808080;stroke-linejoin:miter;stroke-width:0.7;\"/>\n",
       "   </g>\n",
       "   <g id=\"line2d_1\">\n",
       "    <path clip-path=\"url(#p8be2d4d3ac)\" d=\"M 6.32214 12.711247  L 33.74226 12.711247  \" style=\"fill:none;stroke:#c2c2c2;stroke-linecap:square;stroke-width:0.5;\"/>\n",
       "   </g>\n",
       "   <g id=\"text_1\">\n",
       "    <!-- t -->\n",
       "    <g style=\"fill:#444443;\" transform=\"translate(6.975 8.97)scale(0.13 -0.13)\">\n",
       "     <defs>\n",
       "      <path d=\"M 47.3125 0.6875  Q 44.4375 -0.046875 41.359375 -0.359375  Q 38.28125 -0.6875 35.109375 -0.6875  Q 25.875 -0.6875 21.328125 3.484375  Q 16.796875 7.671875 16.796875 16.3125  L 16.796875 41.890625  L 3.078125 41.890625  L 3.078125 49.03125  L 16.796875 49.03125  L 16.796875 62.5  L 25.296875 64.703125  L 25.296875 49.03125  L 47.3125 49.03125  L 47.3125 41.890625  L 25.296875 41.890625  L 25.296875 17  Q 25.296875 11.71875 28.09375 9.109375  Q 30.90625 6.5 36.375 6.5  Q 38.71875 6.5 41.5 6.859375  Q 44.28125 7.234375 47.3125 8.015625  z \" id=\"Consolas-116\"/>\n",
       "     </defs>\n",
       "     <use xlink:href=\"#Consolas-116\"/>\n",
       "    </g>\n",
       "   </g>\n",
       "   <g id=\"text_2\">\n",
       "    <!-- n -->\n",
       "    <g style=\"fill:#444443;\" transform=\"translate(13.5036 8.97)scale(0.13 -0.13)\">\n",
       "     <defs>\n",
       "      <path d=\"M 7.8125 49.03125  L 15.375 49.03125  L 15.71875 41.109375  Q 17.875 43.65625 19.875 45.328125  Q 21.875 47.015625 23.796875 48.046875  Q 25.734375 49.078125 27.734375 49.484375  Q 29.734375 49.90625 31.890625 49.90625  Q 39.453125 49.90625 43.328125 45.4375  Q 47.21875 40.96875 47.21875 31.984375  L 47.21875 0  L 38.71875 0  L 38.71875 31.296875  Q 38.71875 37.0625 36.5625 39.8125  Q 34.421875 42.578125 30.171875 42.578125  Q 28.609375 42.578125 27.125 42.109375  Q 25.640625 41.65625 24.015625 40.5  Q 22.40625 39.359375 20.53125 37.40625  Q 18.65625 35.453125 16.3125 32.515625  L 16.3125 0  L 7.8125 0  z \" id=\"Consolas-110\"/>\n",
       "     </defs>\n",
       "     <use xlink:href=\"#Consolas-110\"/>\n",
       "    </g>\n",
       "   </g>\n",
       "   <g id=\"text_3\">\n",
       "    <!-- s -->\n",
       "    <g style=\"fill:#444443;\" transform=\"translate(20.0322 8.97)scale(0.13 -0.13)\">\n",
       "     <defs>\n",
       "      <path d=\"M 46.625 13.375  Q 46.625 10.796875 45.75 8.734375  Q 44.875 6.6875 43.359375 5.09375  Q 41.84375 3.515625 39.84375 2.390625  Q 37.84375 1.265625 35.5625 0.53125  Q 33.296875 -0.203125 30.90625 -0.53125  Q 28.515625 -0.875 26.21875 -0.875  Q 21.234375 -0.875 17.0625 -0.4375  Q 12.890625 0 8.890625 0.984375  L 8.890625 8.796875  Q 13.1875 7.5625 17.4375 6.921875  Q 21.6875 6.296875 25.875 6.296875  Q 31.984375 6.296875 34.90625 7.953125  Q 37.84375 9.625 37.84375 12.703125  Q 37.84375 14.015625 37.375 15.0625  Q 36.921875 16.109375 35.6875 17.0625  Q 34.46875 18.015625 31.90625 19.03125  Q 29.34375 20.0625 24.90625 21.390625  Q 21.578125 22.359375 18.765625 23.609375  Q 15.96875 24.859375 13.90625 26.5625  Q 11.859375 28.265625 10.6875 30.5625  Q 9.515625 32.859375 9.515625 35.984375  Q 9.515625 38.03125 10.46875 40.46875  Q 11.421875 42.921875 13.71875 45.015625  Q 16.015625 47.125 19.921875 48.515625  Q 23.828125 49.90625 29.6875 49.90625  Q 32.5625 49.90625 36.078125 49.578125  Q 39.59375 49.265625 43.40625 48.484375  L 43.40625 40.921875  Q 39.40625 41.890625 35.8125 42.359375  Q 32.234375 42.828125 29.59375 42.828125  Q 26.421875 42.828125 24.25 42.328125  Q 22.078125 41.84375 20.734375 40.984375  Q 19.390625 40.140625 18.796875 38.984375  Q 18.21875 37.84375 18.21875 36.53125  Q 18.21875 35.203125 18.71875 34.125  Q 19.234375 33.0625 20.625 32.0625  Q 22.015625 31.0625 24.5 30.046875  Q 27 29.046875 31 27.875  Q 35.359375 26.609375 38.328125 25.21875  Q 41.3125 23.828125 43.15625 22.109375  Q 45.015625 20.40625 45.8125 18.25  Q 46.625 16.109375 46.625 13.375  z \" id=\"Consolas-115\"/>\n",
       "     </defs>\n",
       "     <use xlink:href=\"#Consolas-115\"/>\n",
       "    </g>\n",
       "   </g>\n",
       "   <g id=\"text_4\">\n",
       "    <!-- r -->\n",
       "    <g style=\"fill:#444443;\" transform=\"translate(26.5608 8.97)scale(0.13 -0.13)\">\n",
       "     <defs>\n",
       "      <path d=\"M 9.8125 49.03125  L 17.578125 49.03125  L 17.828125 39.984375  Q 22.171875 45.21875 26.390625 47.5625  Q 30.609375 49.90625 34.90625 49.90625  Q 42.53125 49.90625 46.453125 44.96875  Q 50.390625 40.046875 50.09375 30.328125  L 41.5 30.328125  Q 41.65625 36.765625 39.625 39.671875  Q 37.59375 42.578125 33.6875 42.578125  Q 31.984375 42.578125 30.25 41.96875  Q 28.515625 41.359375 26.6875 40.015625  Q 24.859375 38.671875 22.796875 36.5625  Q 20.75 34.46875 18.40625 31.5  L 18.40625 0  L 9.8125 0  z \" id=\"Consolas-114\"/>\n",
       "     </defs>\n",
       "     <use xlink:href=\"#Consolas-114\"/>\n",
       "    </g>\n",
       "   </g>\n",
       "   <g id=\"text_5\">\n",
       "    <!-- 5 -->\n",
       "    <g transform=\"translate(6.8184 36.071121)rotate(-90)scale(0.09 -0.09)\">\n",
       "     <defs>\n",
       "      <path d=\"M 4.15625 18.75  L 13.375 19.53125  Q 14.40625 12.796875 18.140625 9.390625  Q 21.875 6 27.15625 6  Q 33.5 6 37.890625 10.78125  Q 42.28125 15.578125 42.28125 23.484375  Q 42.28125 31 38.0625 35.34375  Q 33.84375 39.703125 27 39.703125  Q 22.75 39.703125 19.328125 37.765625  Q 15.921875 35.84375 13.96875 32.765625  L 5.71875 33.84375  L 12.640625 70.609375  L 48.25 70.609375  L 48.25 62.203125  L 19.671875 62.203125  L 15.828125 42.96875  Q 22.265625 47.46875 29.34375 47.46875  Q 38.71875 47.46875 45.15625 40.96875  Q 51.609375 34.46875 51.609375 24.265625  Q 51.609375 14.546875 45.953125 7.46875  Q 39.0625 -1.21875 27.15625 -1.21875  Q 17.390625 -1.21875 11.203125 4.25  Q 5.03125 9.71875 4.15625 18.75  z \" id=\"ArialMT-53\"/>\n",
       "     </defs>\n",
       "     <use xlink:href=\"#ArialMT-53\"/>\n",
       "    </g>\n",
       "   </g>\n",
       "   <g id=\"text_6\">\n",
       "    <!-- 4 -->\n",
       "    <g transform=\"translate(19.203778 19.720489)scale(0.09 -0.09)\">\n",
       "     <defs>\n",
       "      <path d=\"M 32.328125 0  L 32.328125 17.140625  L 1.265625 17.140625  L 1.265625 25.203125  L 33.9375 71.578125  L 41.109375 71.578125  L 41.109375 25.203125  L 50.78125 25.203125  L 50.78125 17.140625  L 41.109375 17.140625  L 41.109375 0  z M 32.328125 25.203125  L 32.328125 57.46875  L 9.90625 25.203125  z \" id=\"ArialMT-52\"/>\n",
       "     </defs>\n",
       "     <use xlink:href=\"#ArialMT-52\"/>\n",
       "    </g>\n",
       "   </g>\n",
       "   <g id=\"text_7\">\n",
       "    <!-- 3 -->\n",
       "    <g transform=\"translate(31.332954 36.983362)rotate(-45)scale(0.09 -0.09)\">\n",
       "     <defs>\n",
       "      <path d=\"M 4.203125 18.890625  L 12.984375 20.0625  Q 14.5 12.59375 18.140625 9.296875  Q 21.78125 6 27 6  Q 33.203125 6 37.46875 10.296875  Q 41.75 14.59375 41.75 20.953125  Q 41.75 27 37.796875 30.921875  Q 33.84375 34.859375 27.734375 34.859375  Q 25.25 34.859375 21.53125 33.890625  L 22.515625 41.609375  Q 23.390625 41.5 23.921875 41.5  Q 29.546875 41.5 34.03125 44.421875  Q 38.53125 47.359375 38.53125 53.46875  Q 38.53125 58.296875 35.25 61.46875  Q 31.984375 64.65625 26.8125 64.65625  Q 21.6875 64.65625 18.265625 61.421875  Q 14.84375 58.203125 13.875 51.765625  L 5.078125 53.328125  Q 6.6875 62.15625 12.390625 67.015625  Q 18.109375 71.875 26.609375 71.875  Q 32.46875 71.875 37.390625 69.359375  Q 42.328125 66.84375 44.9375 62.5  Q 47.5625 58.15625 47.5625 53.265625  Q 47.5625 48.640625 45.0625 44.828125  Q 42.578125 41.015625 37.703125 38.765625  Q 44.046875 37.3125 47.5625 32.6875  Q 51.078125 28.078125 51.078125 21.140625  Q 51.078125 11.765625 44.234375 5.25  Q 37.40625 -1.265625 26.953125 -1.265625  Q 17.53125 -1.265625 11.296875 4.34375  Q 5.078125 9.96875 4.203125 18.890625  z \" id=\"ArialMT-51\"/>\n",
       "     </defs>\n",
       "     <use xlink:href=\"#ArialMT-51\"/>\n",
       "    </g>\n",
       "   </g>\n",
       "  </g>\n",
       " </g>\n",
       " <defs>\n",
       "  <clipPath id=\"p8be2d4d3ac\">\n",
       "   <rect height=\"41.491069\" width=\"33.0894\" x=\"0\" y=\"4.02324\"/>\n",
       "  </clipPath>\n",
       " </defs>\n",
       "</svg>"
      ],
      "text/plain": [
       "<IPython.core.display.SVG object>"
      ]
     },
     "metadata": {},
     "output_type": "display_data"
    }
   ],
   "source": [
    "vis_tensor(query_head1)"
   ]
  },
  {
   "cell_type": "markdown",
   "metadata": {},
   "source": [
    "Similarities among words are computed using _scaled dot-product distance_. But you can also think of cosine-similarity or other popular distance metrics."
   ]
  },
  {
   "cell_type": "code",
   "execution_count": 54,
   "metadata": {},
   "outputs": [],
   "source": [
    "score_tensor = torch.einsum('h b l d, h b k d -> h b l k', [query, key]) / np.sqrt(embedding_dim)"
   ]
  },
  {
   "cell_type": "markdown",
   "metadata": {},
   "source": [
    "Let's just double check if we actually get the same result using `torch.bmm`. First we rearrange both `query` and `key` to be 3d tensors by \"melting\" head and batch dimension:"
   ]
  },
  {
   "cell_type": "code",
   "execution_count": 55,
   "metadata": {},
   "outputs": [],
   "source": [
    "query_tmp = rearrange(query,'n_heads b n_words qkv_dim -> (n_heads b) n_words qkv_dim')\n",
    "key_tmp = rearrange(key,'n_heads b n_words qkv_dim -> (n_heads b) qkv_dim n_words')"
   ]
  },
  {
   "cell_type": "markdown",
   "metadata": {},
   "source": [
    "Compute the batch multiply and undo the changes -> get back the original shape in order to compare to `score_tensor`."
   ]
  },
  {
   "cell_type": "code",
   "execution_count": 56,
   "metadata": {},
   "outputs": [],
   "source": [
    "score_tensor2 = rearrange(torch.bmm(query_tmp, key_tmp),'(n_heads b) k l -> n_heads b k l', n_heads =n_heads)"
   ]
  },
  {
   "cell_type": "code",
   "execution_count": 57,
   "metadata": {},
   "outputs": [
    {
     "data": {
      "text/plain": [
       "tensor(True)"
      ]
     },
     "execution_count": 57,
     "metadata": {},
     "output_type": "execute_result"
    }
   ],
   "source": [
    "torch.all(torch.eq(score_tensor2 / np.sqrt(embedding_dim),score_tensor))"
   ]
  },
  {
   "cell_type": "markdown",
   "metadata": {},
   "source": [
    "Now we take a closer look at the first head tensor which contain a first set of attention scores:"
   ]
  },
  {
   "cell_type": "code",
   "execution_count": 58,
   "metadata": {},
   "outputs": [
    {
     "data": {
      "image/svg+xml": [
       "<svg height=\"45.514309pt\" version=\"1.1\" viewBox=\"0 0 36.13675 45.514309\" width=\"36.13675pt\" xmlns=\"http://www.w3.org/2000/svg\" xmlns:xlink=\"http://www.w3.org/1999/xlink\">\n",
       " <metadata>\n",
       "  <rdf:RDF xmlns:cc=\"http://creativecommons.org/ns#\" xmlns:dc=\"http://purl.org/dc/elements/1.1/\" xmlns:rdf=\"http://www.w3.org/1999/02/22-rdf-syntax-ns#\">\n",
       "   <cc:Work>\n",
       "    <dc:type rdf:resource=\"http://purl.org/dc/dcmitype/StillImage\"/>\n",
       "    <dc:date>2020-10-14T12:57:04.545570</dc:date>\n",
       "    <dc:format>image/svg+xml</dc:format>\n",
       "    <dc:creator>\n",
       "     <cc:Agent>\n",
       "      <dc:title>Matplotlib v3.3.0, https://matplotlib.org/</dc:title>\n",
       "     </cc:Agent>\n",
       "    </dc:creator>\n",
       "   </cc:Work>\n",
       "  </rdf:RDF>\n",
       " </metadata>\n",
       " <defs>\n",
       "  <style type=\"text/css\">*{stroke-linecap:butt;stroke-linejoin:round;}</style>\n",
       " </defs>\n",
       " <g id=\"figure_1\">\n",
       "  <g id=\"patch_1\">\n",
       "   <path d=\"M 0 45.514309  L 36.13675 45.514309  L 36.13675 0  L 0 0  z \" style=\"fill:none;\"/>\n",
       "  </g>\n",
       "  <g id=\"axes_1\">\n",
       "   <g id=\"patch_2\">\n",
       "    <path clip-path=\"url(#p6ad5d403ff)\" d=\"M 10.28115 43.068109  L 33.13125 43.068109  L 33.13125 20.807689  L 10.28115 20.807689  z \" style=\"fill:#cfe2d4;stroke:#808080;stroke-linejoin:miter;stroke-width:0.7;\"/>\n",
       "   </g>\n",
       "   <g id=\"patch_3\">\n",
       "    <path clip-path=\"url(#p6ad5d403ff)\" d=\"M 8.60715 44.698909  L 31.45725 44.698909  L 31.45725 22.438489  L 8.60715 22.438489  z \" style=\"fill:#cfe2d4;stroke:#808080;stroke-linejoin:miter;stroke-width:0.7;\"/>\n",
       "   </g>\n",
       "   <g id=\"line2d_1\">\n",
       "    <path clip-path=\"url(#p6ad5d403ff)\" d=\"M 6.32214 12.711247  L 33.74226 12.711247  \" style=\"fill:none;stroke:#c2c2c2;stroke-linecap:square;stroke-width:0.5;\"/>\n",
       "   </g>\n",
       "   <g id=\"text_1\">\n",
       "    <!-- t -->\n",
       "    <g style=\"fill:#444443;\" transform=\"translate(6.975 8.97)scale(0.13 -0.13)\">\n",
       "     <defs>\n",
       "      <path d=\"M 47.3125 0.6875  Q 44.4375 -0.046875 41.359375 -0.359375  Q 38.28125 -0.6875 35.109375 -0.6875  Q 25.875 -0.6875 21.328125 3.484375  Q 16.796875 7.671875 16.796875 16.3125  L 16.796875 41.890625  L 3.078125 41.890625  L 3.078125 49.03125  L 16.796875 49.03125  L 16.796875 62.5  L 25.296875 64.703125  L 25.296875 49.03125  L 47.3125 49.03125  L 47.3125 41.890625  L 25.296875 41.890625  L 25.296875 17  Q 25.296875 11.71875 28.09375 9.109375  Q 30.90625 6.5 36.375 6.5  Q 38.71875 6.5 41.5 6.859375  Q 44.28125 7.234375 47.3125 8.015625  z \" id=\"Consolas-116\"/>\n",
       "     </defs>\n",
       "     <use xlink:href=\"#Consolas-116\"/>\n",
       "    </g>\n",
       "   </g>\n",
       "   <g id=\"text_2\">\n",
       "    <!-- n -->\n",
       "    <g style=\"fill:#444443;\" transform=\"translate(13.5036 8.97)scale(0.13 -0.13)\">\n",
       "     <defs>\n",
       "      <path d=\"M 7.8125 49.03125  L 15.375 49.03125  L 15.71875 41.109375  Q 17.875 43.65625 19.875 45.328125  Q 21.875 47.015625 23.796875 48.046875  Q 25.734375 49.078125 27.734375 49.484375  Q 29.734375 49.90625 31.890625 49.90625  Q 39.453125 49.90625 43.328125 45.4375  Q 47.21875 40.96875 47.21875 31.984375  L 47.21875 0  L 38.71875 0  L 38.71875 31.296875  Q 38.71875 37.0625 36.5625 39.8125  Q 34.421875 42.578125 30.171875 42.578125  Q 28.609375 42.578125 27.125 42.109375  Q 25.640625 41.65625 24.015625 40.5  Q 22.40625 39.359375 20.53125 37.40625  Q 18.65625 35.453125 16.3125 32.515625  L 16.3125 0  L 7.8125 0  z \" id=\"Consolas-110\"/>\n",
       "     </defs>\n",
       "     <use xlink:href=\"#Consolas-110\"/>\n",
       "    </g>\n",
       "   </g>\n",
       "   <g id=\"text_3\">\n",
       "    <!-- s -->\n",
       "    <g style=\"fill:#444443;\" transform=\"translate(20.0322 8.97)scale(0.13 -0.13)\">\n",
       "     <defs>\n",
       "      <path d=\"M 46.625 13.375  Q 46.625 10.796875 45.75 8.734375  Q 44.875 6.6875 43.359375 5.09375  Q 41.84375 3.515625 39.84375 2.390625  Q 37.84375 1.265625 35.5625 0.53125  Q 33.296875 -0.203125 30.90625 -0.53125  Q 28.515625 -0.875 26.21875 -0.875  Q 21.234375 -0.875 17.0625 -0.4375  Q 12.890625 0 8.890625 0.984375  L 8.890625 8.796875  Q 13.1875 7.5625 17.4375 6.921875  Q 21.6875 6.296875 25.875 6.296875  Q 31.984375 6.296875 34.90625 7.953125  Q 37.84375 9.625 37.84375 12.703125  Q 37.84375 14.015625 37.375 15.0625  Q 36.921875 16.109375 35.6875 17.0625  Q 34.46875 18.015625 31.90625 19.03125  Q 29.34375 20.0625 24.90625 21.390625  Q 21.578125 22.359375 18.765625 23.609375  Q 15.96875 24.859375 13.90625 26.5625  Q 11.859375 28.265625 10.6875 30.5625  Q 9.515625 32.859375 9.515625 35.984375  Q 9.515625 38.03125 10.46875 40.46875  Q 11.421875 42.921875 13.71875 45.015625  Q 16.015625 47.125 19.921875 48.515625  Q 23.828125 49.90625 29.6875 49.90625  Q 32.5625 49.90625 36.078125 49.578125  Q 39.59375 49.265625 43.40625 48.484375  L 43.40625 40.921875  Q 39.40625 41.890625 35.8125 42.359375  Q 32.234375 42.828125 29.59375 42.828125  Q 26.421875 42.828125 24.25 42.328125  Q 22.078125 41.84375 20.734375 40.984375  Q 19.390625 40.140625 18.796875 38.984375  Q 18.21875 37.84375 18.21875 36.53125  Q 18.21875 35.203125 18.71875 34.125  Q 19.234375 33.0625 20.625 32.0625  Q 22.015625 31.0625 24.5 30.046875  Q 27 29.046875 31 27.875  Q 35.359375 26.609375 38.328125 25.21875  Q 41.3125 23.828125 43.15625 22.109375  Q 45.015625 20.40625 45.8125 18.25  Q 46.625 16.109375 46.625 13.375  z \" id=\"Consolas-115\"/>\n",
       "     </defs>\n",
       "     <use xlink:href=\"#Consolas-115\"/>\n",
       "    </g>\n",
       "   </g>\n",
       "   <g id=\"text_4\">\n",
       "    <!-- r -->\n",
       "    <g style=\"fill:#444443;\" transform=\"translate(26.5608 8.97)scale(0.13 -0.13)\">\n",
       "     <defs>\n",
       "      <path d=\"M 9.8125 49.03125  L 17.578125 49.03125  L 17.828125 39.984375  Q 22.171875 45.21875 26.390625 47.5625  Q 30.609375 49.90625 34.90625 49.90625  Q 42.53125 49.90625 46.453125 44.96875  Q 50.390625 40.046875 50.09375 30.328125  L 41.5 30.328125  Q 41.65625 36.765625 39.625 39.671875  Q 37.59375 42.578125 33.6875 42.578125  Q 31.984375 42.578125 30.25 41.96875  Q 28.515625 41.359375 26.6875 40.015625  Q 24.859375 38.671875 22.796875 36.5625  Q 20.75 34.46875 18.40625 31.5  L 18.40625 0  L 9.8125 0  z \" id=\"Consolas-114\"/>\n",
       "     </defs>\n",
       "     <use xlink:href=\"#Consolas-114\"/>\n",
       "    </g>\n",
       "   </g>\n",
       "   <g id=\"text_5\">\n",
       "    <!-- 5 -->\n",
       "    <g transform=\"translate(6.8184 36.071121)rotate(-90)scale(0.09 -0.09)\">\n",
       "     <defs>\n",
       "      <path d=\"M 4.15625 18.75  L 13.375 19.53125  Q 14.40625 12.796875 18.140625 9.390625  Q 21.875 6 27.15625 6  Q 33.5 6 37.890625 10.78125  Q 42.28125 15.578125 42.28125 23.484375  Q 42.28125 31 38.0625 35.34375  Q 33.84375 39.703125 27 39.703125  Q 22.75 39.703125 19.328125 37.765625  Q 15.921875 35.84375 13.96875 32.765625  L 5.71875 33.84375  L 12.640625 70.609375  L 48.25 70.609375  L 48.25 62.203125  L 19.671875 62.203125  L 15.828125 42.96875  Q 22.265625 47.46875 29.34375 47.46875  Q 38.71875 47.46875 45.15625 40.96875  Q 51.609375 34.46875 51.609375 24.265625  Q 51.609375 14.546875 45.953125 7.46875  Q 39.0625 -1.21875 27.15625 -1.21875  Q 17.390625 -1.21875 11.203125 4.25  Q 5.03125 9.71875 4.15625 18.75  z \" id=\"ArialMT-53\"/>\n",
       "     </defs>\n",
       "     <use xlink:href=\"#ArialMT-53\"/>\n",
       "    </g>\n",
       "   </g>\n",
       "   <g id=\"text_6\">\n",
       "    <!-- 5 -->\n",
       "    <g transform=\"translate(19.203778 19.720489)scale(0.09 -0.09)\">\n",
       "     <use xlink:href=\"#ArialMT-53\"/>\n",
       "    </g>\n",
       "   </g>\n",
       "   <g id=\"text_7\">\n",
       "    <!-- 3 -->\n",
       "    <g transform=\"translate(31.332954 36.983362)rotate(-45)scale(0.09 -0.09)\">\n",
       "     <defs>\n",
       "      <path d=\"M 4.203125 18.890625  L 12.984375 20.0625  Q 14.5 12.59375 18.140625 9.296875  Q 21.78125 6 27 6  Q 33.203125 6 37.46875 10.296875  Q 41.75 14.59375 41.75 20.953125  Q 41.75 27 37.796875 30.921875  Q 33.84375 34.859375 27.734375 34.859375  Q 25.25 34.859375 21.53125 33.890625  L 22.515625 41.609375  Q 23.390625 41.5 23.921875 41.5  Q 29.546875 41.5 34.03125 44.421875  Q 38.53125 47.359375 38.53125 53.46875  Q 38.53125 58.296875 35.25 61.46875  Q 31.984375 64.65625 26.8125 64.65625  Q 21.6875 64.65625 18.265625 61.421875  Q 14.84375 58.203125 13.875 51.765625  L 5.078125 53.328125  Q 6.6875 62.15625 12.390625 67.015625  Q 18.109375 71.875 26.609375 71.875  Q 32.46875 71.875 37.390625 69.359375  Q 42.328125 66.84375 44.9375 62.5  Q 47.5625 58.15625 47.5625 53.265625  Q 47.5625 48.640625 45.0625 44.828125  Q 42.578125 41.015625 37.703125 38.765625  Q 44.046875 37.3125 47.5625 32.6875  Q 51.078125 28.078125 51.078125 21.140625  Q 51.078125 11.765625 44.234375 5.25  Q 37.40625 -1.265625 26.953125 -1.265625  Q 17.53125 -1.265625 11.296875 4.34375  Q 5.078125 9.96875 4.203125 18.890625  z \" id=\"ArialMT-51\"/>\n",
       "     </defs>\n",
       "     <use xlink:href=\"#ArialMT-51\"/>\n",
       "    </g>\n",
       "   </g>\n",
       "  </g>\n",
       " </g>\n",
       " <defs>\n",
       "  <clipPath id=\"p6ad5d403ff\">\n",
       "   <rect height=\"41.491069\" width=\"33.0894\" x=\"0\" y=\"4.02324\"/>\n",
       "  </clipPath>\n",
       " </defs>\n",
       "</svg>"
      ],
      "text/plain": [
       "<IPython.core.display.SVG object>"
      ]
     },
     "metadata": {},
     "output_type": "display_data"
    }
   ],
   "source": [
    "scores_head1 = score_tensor[0]\n",
    "vis_tensor(scores_head1)"
   ]
  },
  {
   "cell_type": "code",
   "execution_count": 59,
   "metadata": {},
   "outputs": [
    {
     "data": {
      "text/plain": [
       "tensor([[ 0.0519, -0.3873, -0.5150, -0.1944,  0.6491],\n",
       "        [ 0.0228,  0.1244, -0.0129,  0.1628,  0.1411],\n",
       "        [-0.0237,  0.2960,  0.2174,  0.2838, -0.1070],\n",
       "        [ 0.0548,  0.3601,  0.3619,  0.0879, -0.6533],\n",
       "        [ 0.1409, -0.5592, -0.6833, -0.4429,  0.6549]],\n",
       "       grad_fn=<SelectBackward>)"
      ]
     },
     "execution_count": 59,
     "metadata": {},
     "output_type": "execute_result"
    }
   ],
   "source": [
    "first_sentence_attn_scores = scores_head1[0];first_sentence_attn_scores"
   ]
  },
  {
   "cell_type": "markdown",
   "metadata": {},
   "source": [
    "Each row in `first_sentence_attn_scores` corresponds to a word _w_ and the respective values in row _w_ depict the similarities of the other words with respect to _w_"
   ]
  },
  {
   "cell_type": "markdown",
   "metadata": {},
   "source": [
    "What is not clear to me is why we actually need both `query` and `key` and not only a `query` tensor? Below I use cosine-similarity with only a `query` tensor which would also make sense wouldn't it?"
   ]
  },
  {
   "cell_type": "code",
   "execution_count": 60,
   "metadata": {},
   "outputs": [],
   "source": [
    "def attn_cosine_similarity(x):\n",
    "    a = x/x.norm(dim=3).unsqueeze(3)\n",
    "    b = x/x.norm(dim=3).unsqueeze(3)\n",
    "    out = torch.einsum('h b l d, h b k d -> h b l k', [a, b])\n",
    "    out[out != out] = 0.\n",
    "    return out"
   ]
  },
  {
   "cell_type": "code",
   "execution_count": 61,
   "metadata": {},
   "outputs": [
    {
     "data": {
      "text/plain": [
       "tensor([[ 1.0000,  0.4236,  0.0834, -0.6318,  0.7363],\n",
       "        [ 0.4236,  1.0000,  0.9169,  0.2008,  0.0863],\n",
       "        [ 0.0834,  0.9169,  1.0000,  0.3286, -0.3157],\n",
       "        [-0.6318,  0.2008,  0.3286,  1.0000, -0.2342],\n",
       "        [ 0.7363,  0.0863, -0.3157, -0.2342,  1.0000]],\n",
       "       grad_fn=<SelectBackward>)"
      ]
     },
     "execution_count": 61,
     "metadata": {},
     "output_type": "execute_result"
    }
   ],
   "source": [
    "first_sentence_attn_scores_cos = attn_cosine_similarity(query)[0][0]; first_sentence_attn_scores_cos"
   ]
  },
  {
   "cell_type": "markdown",
   "metadata": {},
   "source": [
    "We will use the computed scores contained in `score_tensor` to weight each of the word embeddings. The word with the highest score gets the most attention, i.e. is weighted the highest. Since we do not know some words (the ones we masked at the beginning) we also should not user their scores. To accomplish this, first think about how to we can transform the scores into proper weights such that they sum up to 1. We apply the softmax activation across columns after we set the scores of the masked words to high negative numbers. Here we have to take extra care to not mess up with the masking..."
   ]
  },
  {
   "cell_type": "code",
   "execution_count": 62,
   "metadata": {},
   "outputs": [
    {
     "name": "stdout",
     "output_type": "stream",
     "text": [
      "torch.Size([3, 5])\n",
      "torch.Size([2, 3, 5, 5])\n"
     ]
    }
   ],
   "source": [
    "print(masked_words.shape)\n",
    "print(score_tensor.shape)"
   ]
  },
  {
   "cell_type": "code",
   "execution_count": 63,
   "metadata": {},
   "outputs": [
    {
     "data": {
      "text/plain": [
       "tensor([[ True, False, False,  True,  True],\n",
       "        [ True,  True,  True, False,  True],\n",
       "        [ True,  True,  True,  True, False]])"
      ]
     },
     "execution_count": 63,
     "metadata": {},
     "output_type": "execute_result"
    }
   ],
   "source": [
    "masked_words"
   ]
  },
  {
   "cell_type": "markdown",
   "metadata": {},
   "source": [
    "We have to rearrange `masked_words` to have the same number of dimensions as `score_tensor` to enable broadcasting. "
   ]
  },
  {
   "cell_type": "code",
   "execution_count": 64,
   "metadata": {},
   "outputs": [
    {
     "name": "stdout",
     "output_type": "stream",
     "text": [
      "torch.Size([1, 3, 1, 5])\n"
     ]
    },
    {
     "data": {
      "image/svg+xml": [
       "<svg height=\"37.116367pt\" version=\"1.1\" viewBox=\"0 0 36.13675 37.116367\" width=\"36.13675pt\" xmlns=\"http://www.w3.org/2000/svg\" xmlns:xlink=\"http://www.w3.org/1999/xlink\">\n",
       " <metadata>\n",
       "  <rdf:RDF xmlns:cc=\"http://creativecommons.org/ns#\" xmlns:dc=\"http://purl.org/dc/elements/1.1/\" xmlns:rdf=\"http://www.w3.org/1999/02/22-rdf-syntax-ns#\">\n",
       "   <cc:Work>\n",
       "    <dc:type rdf:resource=\"http://purl.org/dc/dcmitype/StillImage\"/>\n",
       "    <dc:date>2020-10-14T12:57:04.806750</dc:date>\n",
       "    <dc:format>image/svg+xml</dc:format>\n",
       "    <dc:creator>\n",
       "     <cc:Agent>\n",
       "      <dc:title>Matplotlib v3.3.0, https://matplotlib.org/</dc:title>\n",
       "     </cc:Agent>\n",
       "    </dc:creator>\n",
       "   </cc:Work>\n",
       "  </rdf:RDF>\n",
       " </metadata>\n",
       " <defs>\n",
       "  <style type=\"text/css\">*{stroke-linecap:butt;stroke-linejoin:round;}</style>\n",
       " </defs>\n",
       " <g id=\"figure_1\">\n",
       "  <g id=\"patch_1\">\n",
       "   <path d=\"M 0 37.116367  L 36.13675 37.116367  L 36.13675 0  L 0 0  z \" style=\"fill:none;\"/>\n",
       "  </g>\n",
       "  <g id=\"axes_1\">\n",
       "   <g id=\"patch_2\">\n",
       "    <path clip-path=\"url(#p481d18003e)\" d=\"M 10.28115 25.895785  L 33.13125 25.895785  L 33.13125 20.807689  L 10.28115 20.807689  z \" style=\"fill:#cfe2d4;stroke:#808080;stroke-linejoin:miter;stroke-width:0.7;\"/>\n",
       "   </g>\n",
       "   <g id=\"patch_3\">\n",
       "    <path clip-path=\"url(#p481d18003e)\" d=\"M 8.60715 27.526585  L 31.45725 27.526585  L 31.45725 22.438489  L 8.60715 22.438489  z \" style=\"fill:#cfe2d4;stroke:#808080;stroke-linejoin:miter;stroke-width:0.7;\"/>\n",
       "   </g>\n",
       "   <g id=\"line2d_1\">\n",
       "    <path clip-path=\"url(#p481d18003e)\" d=\"M 6.32214 12.711247  L 33.74226 12.711247  \" style=\"fill:none;stroke:#c2c2c2;stroke-linecap:square;stroke-width:0.5;\"/>\n",
       "   </g>\n",
       "   <g id=\"text_1\">\n",
       "    <!-- t -->\n",
       "    <g style=\"fill:#444443;\" transform=\"translate(6.975 8.97)scale(0.13 -0.13)\">\n",
       "     <defs>\n",
       "      <path d=\"M 47.3125 0.6875  Q 44.4375 -0.046875 41.359375 -0.359375  Q 38.28125 -0.6875 35.109375 -0.6875  Q 25.875 -0.6875 21.328125 3.484375  Q 16.796875 7.671875 16.796875 16.3125  L 16.796875 41.890625  L 3.078125 41.890625  L 3.078125 49.03125  L 16.796875 49.03125  L 16.796875 62.5  L 25.296875 64.703125  L 25.296875 49.03125  L 47.3125 49.03125  L 47.3125 41.890625  L 25.296875 41.890625  L 25.296875 17  Q 25.296875 11.71875 28.09375 9.109375  Q 30.90625 6.5 36.375 6.5  Q 38.71875 6.5 41.5 6.859375  Q 44.28125 7.234375 47.3125 8.015625  z \" id=\"Consolas-116\"/>\n",
       "     </defs>\n",
       "     <use xlink:href=\"#Consolas-116\"/>\n",
       "    </g>\n",
       "   </g>\n",
       "   <g id=\"text_2\">\n",
       "    <!-- n -->\n",
       "    <g style=\"fill:#444443;\" transform=\"translate(13.5036 8.97)scale(0.13 -0.13)\">\n",
       "     <defs>\n",
       "      <path d=\"M 7.8125 49.03125  L 15.375 49.03125  L 15.71875 41.109375  Q 17.875 43.65625 19.875 45.328125  Q 21.875 47.015625 23.796875 48.046875  Q 25.734375 49.078125 27.734375 49.484375  Q 29.734375 49.90625 31.890625 49.90625  Q 39.453125 49.90625 43.328125 45.4375  Q 47.21875 40.96875 47.21875 31.984375  L 47.21875 0  L 38.71875 0  L 38.71875 31.296875  Q 38.71875 37.0625 36.5625 39.8125  Q 34.421875 42.578125 30.171875 42.578125  Q 28.609375 42.578125 27.125 42.109375  Q 25.640625 41.65625 24.015625 40.5  Q 22.40625 39.359375 20.53125 37.40625  Q 18.65625 35.453125 16.3125 32.515625  L 16.3125 0  L 7.8125 0  z \" id=\"Consolas-110\"/>\n",
       "     </defs>\n",
       "     <use xlink:href=\"#Consolas-110\"/>\n",
       "    </g>\n",
       "   </g>\n",
       "   <g id=\"text_3\">\n",
       "    <!-- s -->\n",
       "    <g style=\"fill:#444443;\" transform=\"translate(20.0322 8.97)scale(0.13 -0.13)\">\n",
       "     <defs>\n",
       "      <path d=\"M 46.625 13.375  Q 46.625 10.796875 45.75 8.734375  Q 44.875 6.6875 43.359375 5.09375  Q 41.84375 3.515625 39.84375 2.390625  Q 37.84375 1.265625 35.5625 0.53125  Q 33.296875 -0.203125 30.90625 -0.53125  Q 28.515625 -0.875 26.21875 -0.875  Q 21.234375 -0.875 17.0625 -0.4375  Q 12.890625 0 8.890625 0.984375  L 8.890625 8.796875  Q 13.1875 7.5625 17.4375 6.921875  Q 21.6875 6.296875 25.875 6.296875  Q 31.984375 6.296875 34.90625 7.953125  Q 37.84375 9.625 37.84375 12.703125  Q 37.84375 14.015625 37.375 15.0625  Q 36.921875 16.109375 35.6875 17.0625  Q 34.46875 18.015625 31.90625 19.03125  Q 29.34375 20.0625 24.90625 21.390625  Q 21.578125 22.359375 18.765625 23.609375  Q 15.96875 24.859375 13.90625 26.5625  Q 11.859375 28.265625 10.6875 30.5625  Q 9.515625 32.859375 9.515625 35.984375  Q 9.515625 38.03125 10.46875 40.46875  Q 11.421875 42.921875 13.71875 45.015625  Q 16.015625 47.125 19.921875 48.515625  Q 23.828125 49.90625 29.6875 49.90625  Q 32.5625 49.90625 36.078125 49.578125  Q 39.59375 49.265625 43.40625 48.484375  L 43.40625 40.921875  Q 39.40625 41.890625 35.8125 42.359375  Q 32.234375 42.828125 29.59375 42.828125  Q 26.421875 42.828125 24.25 42.328125  Q 22.078125 41.84375 20.734375 40.984375  Q 19.390625 40.140625 18.796875 38.984375  Q 18.21875 37.84375 18.21875 36.53125  Q 18.21875 35.203125 18.71875 34.125  Q 19.234375 33.0625 20.625 32.0625  Q 22.015625 31.0625 24.5 30.046875  Q 27 29.046875 31 27.875  Q 35.359375 26.609375 38.328125 25.21875  Q 41.3125 23.828125 43.15625 22.109375  Q 45.015625 20.40625 45.8125 18.25  Q 46.625 16.109375 46.625 13.375  z \" id=\"Consolas-115\"/>\n",
       "     </defs>\n",
       "     <use xlink:href=\"#Consolas-115\"/>\n",
       "    </g>\n",
       "   </g>\n",
       "   <g id=\"text_4\">\n",
       "    <!-- r -->\n",
       "    <g style=\"fill:#444443;\" transform=\"translate(26.5608 8.97)scale(0.13 -0.13)\">\n",
       "     <defs>\n",
       "      <path d=\"M 9.8125 49.03125  L 17.578125 49.03125  L 17.828125 39.984375  Q 22.171875 45.21875 26.390625 47.5625  Q 30.609375 49.90625 34.90625 49.90625  Q 42.53125 49.90625 46.453125 44.96875  Q 50.390625 40.046875 50.09375 30.328125  L 41.5 30.328125  Q 41.65625 36.765625 39.625 39.671875  Q 37.59375 42.578125 33.6875 42.578125  Q 31.984375 42.578125 30.25 41.96875  Q 28.515625 41.359375 26.6875 40.015625  Q 24.859375 38.671875 22.796875 36.5625  Q 20.75 34.46875 18.40625 31.5  L 18.40625 0  L 9.8125 0  z \" id=\"Consolas-114\"/>\n",
       "     </defs>\n",
       "     <use xlink:href=\"#Consolas-114\"/>\n",
       "    </g>\n",
       "   </g>\n",
       "   <g id=\"text_5\">\n",
       "    <!-- 1 -->\n",
       "    <g transform=\"translate(6.8184 27.484959)rotate(-90)scale(0.09 -0.09)\">\n",
       "     <defs>\n",
       "      <path d=\"M 37.25 0  L 28.46875 0  L 28.46875 56  Q 25.296875 52.984375 20.140625 49.953125  Q 14.984375 46.921875 10.890625 45.40625  L 10.890625 53.90625  Q 18.265625 57.375 23.78125 62.296875  Q 29.296875 67.234375 31.59375 71.875  L 37.25 71.875  z \" id=\"ArialMT-49\"/>\n",
       "     </defs>\n",
       "     <use xlink:href=\"#ArialMT-49\"/>\n",
       "    </g>\n",
       "   </g>\n",
       "   <g id=\"text_6\">\n",
       "    <!-- 5 -->\n",
       "    <g transform=\"translate(19.203778 19.720489)scale(0.09 -0.09)\">\n",
       "     <defs>\n",
       "      <path d=\"M 4.15625 18.75  L 13.375 19.53125  Q 14.40625 12.796875 18.140625 9.390625  Q 21.875 6 27.15625 6  Q 33.5 6 37.890625 10.78125  Q 42.28125 15.578125 42.28125 23.484375  Q 42.28125 31 38.0625 35.34375  Q 33.84375 39.703125 27 39.703125  Q 22.75 39.703125 19.328125 37.765625  Q 15.921875 35.84375 13.96875 32.765625  L 5.71875 33.84375  L 12.640625 70.609375  L 48.25 70.609375  L 48.25 62.203125  L 19.671875 62.203125  L 15.828125 42.96875  Q 22.265625 47.46875 29.34375 47.46875  Q 38.71875 47.46875 45.15625 40.96875  Q 51.609375 34.46875 51.609375 24.265625  Q 51.609375 14.546875 45.953125 7.46875  Q 39.0625 -1.21875 27.15625 -1.21875  Q 17.390625 -1.21875 11.203125 4.25  Q 5.03125 9.71875 4.15625 18.75  z \" id=\"ArialMT-53\"/>\n",
       "     </defs>\n",
       "     <use xlink:href=\"#ArialMT-53\"/>\n",
       "    </g>\n",
       "   </g>\n",
       "   <g id=\"text_7\">\n",
       "    <!-- 3 -->\n",
       "    <g transform=\"translate(31.332954 28.3972)rotate(-45)scale(0.09 -0.09)\">\n",
       "     <defs>\n",
       "      <path d=\"M 4.203125 18.890625  L 12.984375 20.0625  Q 14.5 12.59375 18.140625 9.296875  Q 21.78125 6 27 6  Q 33.203125 6 37.46875 10.296875  Q 41.75 14.59375 41.75 20.953125  Q 41.75 27 37.796875 30.921875  Q 33.84375 34.859375 27.734375 34.859375  Q 25.25 34.859375 21.53125 33.890625  L 22.515625 41.609375  Q 23.390625 41.5 23.921875 41.5  Q 29.546875 41.5 34.03125 44.421875  Q 38.53125 47.359375 38.53125 53.46875  Q 38.53125 58.296875 35.25 61.46875  Q 31.984375 64.65625 26.8125 64.65625  Q 21.6875 64.65625 18.265625 61.421875  Q 14.84375 58.203125 13.875 51.765625  L 5.078125 53.328125  Q 6.6875 62.15625 12.390625 67.015625  Q 18.109375 71.875 26.609375 71.875  Q 32.46875 71.875 37.390625 69.359375  Q 42.328125 66.84375 44.9375 62.5  Q 47.5625 58.15625 47.5625 53.265625  Q 47.5625 48.640625 45.0625 44.828125  Q 42.578125 41.015625 37.703125 38.765625  Q 44.046875 37.3125 47.5625 32.6875  Q 51.078125 28.078125 51.078125 21.140625  Q 51.078125 11.765625 44.234375 5.25  Q 37.40625 -1.265625 26.953125 -1.265625  Q 17.53125 -1.265625 11.296875 4.34375  Q 5.078125 9.96875 4.203125 18.890625  z \" id=\"ArialMT-51\"/>\n",
       "     </defs>\n",
       "     <use xlink:href=\"#ArialMT-51\"/>\n",
       "    </g>\n",
       "   </g>\n",
       "   <g id=\"text_8\">\n",
       "    <!-- $\\cdots$x1 -->\n",
       "    <g transform=\"translate(10.7622 35.327617)scale(0.09 -0.09)\">\n",
       "     <defs>\n",
       "      <path d=\"M 11.5625 36.921875  L 21.875 36.921875  L 21.875 24.515625  L 11.5625 24.515625  z M 44.8125 36.921875  L 55.125 36.921875  L 55.125 24.515625  L 44.8125 24.515625  z M 78.0625 36.921875  L 88.375 36.921875  L 88.375 24.515625  L 78.0625 24.515625  z \" id=\"DejaVuSans-8943\"/>\n",
       "      <path d=\"M 0.734375 0  L 19.671875 26.953125  L 2.15625 51.859375  L 13.140625 51.859375  L 21.09375 39.703125  Q 23.34375 36.234375 24.703125 33.890625  Q 26.859375 37.109375 28.65625 39.59375  L 37.40625 51.859375  L 47.90625 51.859375  L 29.984375 27.4375  L 49.265625 0  L 38.484375 0  L 27.828125 16.109375  L 25 20.453125  L 11.375 0  z \" id=\"ArialMT-120\"/>\n",
       "     </defs>\n",
       "     <use transform=\"translate(0 0.125)\" xlink:href=\"#DejaVuSans-8943\"/>\n",
       "     <use transform=\"translate(100 0.125)\" xlink:href=\"#ArialMT-120\"/>\n",
       "     <use transform=\"translate(150 0.125)\" xlink:href=\"#ArialMT-49\"/>\n",
       "    </g>\n",
       "   </g>\n",
       "  </g>\n",
       " </g>\n",
       " <defs>\n",
       "  <clipPath id=\"p481d18003e\">\n",
       "   <rect height=\"24.318745\" width=\"33.0894\" x=\"0\" y=\"4.02324\"/>\n",
       "  </clipPath>\n",
       " </defs>\n",
       "</svg>"
      ],
      "text/plain": [
       "<IPython.core.display.SVG object>"
      ]
     },
     "metadata": {},
     "output_type": "display_data"
    }
   ],
   "source": [
    "masked_words_re = rearrange(masked_words,'b n_words -> () b () n_words')\n",
    "print(masked_words_re.shape)\n",
    "vis_tensor(masked_words_re,dim=4)"
   ]
  },
  {
   "cell_type": "markdown",
   "metadata": {},
   "source": [
    "We apply the (inverted) `masked_words_re` tensor to `score_tensor` and fill the masked words with `-np.inf` (we could also use a high negative number as in the slides): "
   ]
  },
  {
   "cell_type": "code",
   "execution_count": 65,
   "metadata": {},
   "outputs": [
    {
     "data": {
      "text/plain": [
       "tensor([[[[ 0.0519,    -inf,    -inf, -0.1944,  0.6491],\n",
       "          [ 0.0228,    -inf,    -inf,  0.1628,  0.1411],\n",
       "          [-0.0237,    -inf,    -inf,  0.2838, -0.1070],\n",
       "          [ 0.0548,    -inf,    -inf,  0.0879, -0.6533],\n",
       "          [ 0.1409,    -inf,    -inf, -0.4429,  0.6549]],\n",
       "\n",
       "         [[-0.0895, -0.1916,  0.1653,    -inf, -0.3235],\n",
       "          [ 0.3065,  0.7526, -0.1312,    -inf, -0.7490],\n",
       "          [-0.0160, -0.1785,  0.2377,    -inf, -0.2758],\n",
       "          [ 0.1676,  0.0526,  0.1889,    -inf,  0.0744],\n",
       "          [-0.0971, -0.6564,  0.2371,    -inf,  0.6967]],\n",
       "\n",
       "         [[ 1.3640, -0.8041, -0.4320,  0.2330,    -inf],\n",
       "          [-1.4062,  0.4053,  0.1687, -1.3295,    -inf],\n",
       "          [ 0.5450, -0.0487,  0.1263,  0.0475,    -inf],\n",
       "          [-0.9276,  0.0295, -0.0334, -1.2410,    -inf],\n",
       "          [-0.2831,  0.1936,  0.0576, -0.1232,    -inf]]],\n",
       "\n",
       "\n",
       "        [[[ 0.1403,    -inf,    -inf, -0.1126, -0.0733],\n",
       "          [ 0.0201,    -inf,    -inf, -0.0374, -0.0592],\n",
       "          [ 0.0807,    -inf,    -inf, -0.0636,  0.1716],\n",
       "          [-0.1383,    -inf,    -inf, -0.0174, -0.0134],\n",
       "          [-0.1277,    -inf,    -inf,  0.0553, -0.4319]],\n",
       "\n",
       "         [[-0.2244, -0.2654,  0.0036,    -inf,  0.1478],\n",
       "          [ 0.1122, -0.0176,  0.0438,    -inf,  0.5274],\n",
       "          [ 0.0447,  0.0916, -0.0166,    -inf, -0.1763],\n",
       "          [ 0.0238,  0.0428, -0.1266,    -inf, -0.1087],\n",
       "          [-0.1697, -0.3089, -0.3309,    -inf,  0.4100]],\n",
       "\n",
       "         [[-0.6316,  0.3051,  0.3428, -0.2265,    -inf],\n",
       "          [-0.0838,  0.6972, -0.2089,  1.0209,    -inf],\n",
       "          [-0.1224,  0.1817,  0.0118,  0.1426,    -inf],\n",
       "          [-0.3729,  1.0353, -0.0039,  1.0483,    -inf],\n",
       "          [ 0.3446, -0.4586, -0.1028, -0.2560,    -inf]]]],\n",
       "       grad_fn=<MaskedFillBackward0>)"
      ]
     },
     "execution_count": 65,
     "metadata": {},
     "output_type": "execute_result"
    }
   ],
   "source": [
    "masked_score_tensor = score_tensor.masked_fill(~masked_words_re, -np.inf); masked_score_tensor"
   ]
  },
  {
   "cell_type": "code",
   "execution_count": 66,
   "metadata": {},
   "outputs": [],
   "source": [
    "attn_weight_tensor = torch.nn.functional.softmax(masked_score_tensor,dim=3)"
   ]
  },
  {
   "cell_type": "code",
   "execution_count": 67,
   "metadata": {},
   "outputs": [
    {
     "data": {
      "text/plain": [
       "tensor([[0.2779, 0.0000, 0.0000, 0.2172, 0.5049],\n",
       "        [0.3053, 0.0000, 0.0000, 0.3511, 0.3436],\n",
       "        [0.3049, 0.0000, 0.0000, 0.4146, 0.2805],\n",
       "        [0.3958, 0.0000, 0.0000, 0.4092, 0.1950],\n",
       "        [0.3096, 0.0000, 0.0000, 0.1727, 0.5177]], grad_fn=<SelectBackward>)"
      ]
     },
     "execution_count": 67,
     "metadata": {},
     "output_type": "execute_result"
    }
   ],
   "source": [
    "first_sentence_attn_weights = attn_weight_tensor[0][0]; first_sentence_attn_weights # first head, first sentence"
   ]
  },
  {
   "cell_type": "markdown",
   "metadata": {},
   "source": [
    "## Step II: Generating weighted word representations\n",
    "\n",
    "What's still missing is to actually weight the words (word-embeddings) with the computed attention weights. Here, again, we do not weight the original embedding vectors but a transformation in form of a so-called `value` tensor. The `value` tensor is computed exactly like `query` and `key` (although it can have a different dimensionality). "
   ]
  },
  {
   "cell_type": "code",
   "execution_count": 68,
   "metadata": {},
   "outputs": [
    {
     "data": {
      "image/svg+xml": [
       "<svg height=\"54.288691pt\" version=\"1.1\" viewBox=\"0 0 36.13675 54.288691\" width=\"36.13675pt\" xmlns=\"http://www.w3.org/2000/svg\" xmlns:xlink=\"http://www.w3.org/1999/xlink\">\n",
       " <metadata>\n",
       "  <rdf:RDF xmlns:cc=\"http://creativecommons.org/ns#\" xmlns:dc=\"http://purl.org/dc/elements/1.1/\" xmlns:rdf=\"http://www.w3.org/1999/02/22-rdf-syntax-ns#\">\n",
       "   <cc:Work>\n",
       "    <dc:type rdf:resource=\"http://purl.org/dc/dcmitype/StillImage\"/>\n",
       "    <dc:date>2020-10-14T12:57:05.335082</dc:date>\n",
       "    <dc:format>image/svg+xml</dc:format>\n",
       "    <dc:creator>\n",
       "     <cc:Agent>\n",
       "      <dc:title>Matplotlib v3.3.0, https://matplotlib.org/</dc:title>\n",
       "     </cc:Agent>\n",
       "    </dc:creator>\n",
       "   </cc:Work>\n",
       "  </rdf:RDF>\n",
       " </metadata>\n",
       " <defs>\n",
       "  <style type=\"text/css\">*{stroke-linecap:butt;stroke-linejoin:round;}</style>\n",
       " </defs>\n",
       " <g id=\"figure_1\">\n",
       "  <g id=\"patch_1\">\n",
       "   <path d=\"M 0 54.288691  L 36.13675 54.288691  L 36.13675 0  L 0 0  z \" style=\"fill:none;\"/>\n",
       "  </g>\n",
       "  <g id=\"axes_1\">\n",
       "   <g id=\"patch_2\">\n",
       "    <path clip-path=\"url(#p46bb7d1014)\" d=\"M 10.28115 43.068109  L 33.13125 43.068109  L 33.13125 20.807689  L 10.28115 20.807689  z \" style=\"fill:#cfe2d4;stroke:#808080;stroke-linejoin:miter;stroke-width:0.7;\"/>\n",
       "   </g>\n",
       "   <g id=\"patch_3\">\n",
       "    <path clip-path=\"url(#p46bb7d1014)\" d=\"M 8.60715 44.698909  L 31.45725 44.698909  L 31.45725 22.438489  L 8.60715 22.438489  z \" style=\"fill:#cfe2d4;stroke:#808080;stroke-linejoin:miter;stroke-width:0.7;\"/>\n",
       "   </g>\n",
       "   <g id=\"line2d_1\">\n",
       "    <path clip-path=\"url(#p46bb7d1014)\" d=\"M 6.32214 12.711247  L 33.74226 12.711247  \" style=\"fill:none;stroke:#c2c2c2;stroke-linecap:square;stroke-width:0.5;\"/>\n",
       "   </g>\n",
       "   <g id=\"text_1\">\n",
       "    <!-- t -->\n",
       "    <g style=\"fill:#444443;\" transform=\"translate(6.975 8.97)scale(0.13 -0.13)\">\n",
       "     <defs>\n",
       "      <path d=\"M 47.3125 0.6875  Q 44.4375 -0.046875 41.359375 -0.359375  Q 38.28125 -0.6875 35.109375 -0.6875  Q 25.875 -0.6875 21.328125 3.484375  Q 16.796875 7.671875 16.796875 16.3125  L 16.796875 41.890625  L 3.078125 41.890625  L 3.078125 49.03125  L 16.796875 49.03125  L 16.796875 62.5  L 25.296875 64.703125  L 25.296875 49.03125  L 47.3125 49.03125  L 47.3125 41.890625  L 25.296875 41.890625  L 25.296875 17  Q 25.296875 11.71875 28.09375 9.109375  Q 30.90625 6.5 36.375 6.5  Q 38.71875 6.5 41.5 6.859375  Q 44.28125 7.234375 47.3125 8.015625  z \" id=\"Consolas-116\"/>\n",
       "     </defs>\n",
       "     <use xlink:href=\"#Consolas-116\"/>\n",
       "    </g>\n",
       "   </g>\n",
       "   <g id=\"text_2\">\n",
       "    <!-- n -->\n",
       "    <g style=\"fill:#444443;\" transform=\"translate(13.5036 8.97)scale(0.13 -0.13)\">\n",
       "     <defs>\n",
       "      <path d=\"M 7.8125 49.03125  L 15.375 49.03125  L 15.71875 41.109375  Q 17.875 43.65625 19.875 45.328125  Q 21.875 47.015625 23.796875 48.046875  Q 25.734375 49.078125 27.734375 49.484375  Q 29.734375 49.90625 31.890625 49.90625  Q 39.453125 49.90625 43.328125 45.4375  Q 47.21875 40.96875 47.21875 31.984375  L 47.21875 0  L 38.71875 0  L 38.71875 31.296875  Q 38.71875 37.0625 36.5625 39.8125  Q 34.421875 42.578125 30.171875 42.578125  Q 28.609375 42.578125 27.125 42.109375  Q 25.640625 41.65625 24.015625 40.5  Q 22.40625 39.359375 20.53125 37.40625  Q 18.65625 35.453125 16.3125 32.515625  L 16.3125 0  L 7.8125 0  z \" id=\"Consolas-110\"/>\n",
       "     </defs>\n",
       "     <use xlink:href=\"#Consolas-110\"/>\n",
       "    </g>\n",
       "   </g>\n",
       "   <g id=\"text_3\">\n",
       "    <!-- s -->\n",
       "    <g style=\"fill:#444443;\" transform=\"translate(20.0322 8.97)scale(0.13 -0.13)\">\n",
       "     <defs>\n",
       "      <path d=\"M 46.625 13.375  Q 46.625 10.796875 45.75 8.734375  Q 44.875 6.6875 43.359375 5.09375  Q 41.84375 3.515625 39.84375 2.390625  Q 37.84375 1.265625 35.5625 0.53125  Q 33.296875 -0.203125 30.90625 -0.53125  Q 28.515625 -0.875 26.21875 -0.875  Q 21.234375 -0.875 17.0625 -0.4375  Q 12.890625 0 8.890625 0.984375  L 8.890625 8.796875  Q 13.1875 7.5625 17.4375 6.921875  Q 21.6875 6.296875 25.875 6.296875  Q 31.984375 6.296875 34.90625 7.953125  Q 37.84375 9.625 37.84375 12.703125  Q 37.84375 14.015625 37.375 15.0625  Q 36.921875 16.109375 35.6875 17.0625  Q 34.46875 18.015625 31.90625 19.03125  Q 29.34375 20.0625 24.90625 21.390625  Q 21.578125 22.359375 18.765625 23.609375  Q 15.96875 24.859375 13.90625 26.5625  Q 11.859375 28.265625 10.6875 30.5625  Q 9.515625 32.859375 9.515625 35.984375  Q 9.515625 38.03125 10.46875 40.46875  Q 11.421875 42.921875 13.71875 45.015625  Q 16.015625 47.125 19.921875 48.515625  Q 23.828125 49.90625 29.6875 49.90625  Q 32.5625 49.90625 36.078125 49.578125  Q 39.59375 49.265625 43.40625 48.484375  L 43.40625 40.921875  Q 39.40625 41.890625 35.8125 42.359375  Q 32.234375 42.828125 29.59375 42.828125  Q 26.421875 42.828125 24.25 42.328125  Q 22.078125 41.84375 20.734375 40.984375  Q 19.390625 40.140625 18.796875 38.984375  Q 18.21875 37.84375 18.21875 36.53125  Q 18.21875 35.203125 18.71875 34.125  Q 19.234375 33.0625 20.625 32.0625  Q 22.015625 31.0625 24.5 30.046875  Q 27 29.046875 31 27.875  Q 35.359375 26.609375 38.328125 25.21875  Q 41.3125 23.828125 43.15625 22.109375  Q 45.015625 20.40625 45.8125 18.25  Q 46.625 16.109375 46.625 13.375  z \" id=\"Consolas-115\"/>\n",
       "     </defs>\n",
       "     <use xlink:href=\"#Consolas-115\"/>\n",
       "    </g>\n",
       "   </g>\n",
       "   <g id=\"text_4\">\n",
       "    <!-- r -->\n",
       "    <g style=\"fill:#444443;\" transform=\"translate(26.5608 8.97)scale(0.13 -0.13)\">\n",
       "     <defs>\n",
       "      <path d=\"M 9.8125 49.03125  L 17.578125 49.03125  L 17.828125 39.984375  Q 22.171875 45.21875 26.390625 47.5625  Q 30.609375 49.90625 34.90625 49.90625  Q 42.53125 49.90625 46.453125 44.96875  Q 50.390625 40.046875 50.09375 30.328125  L 41.5 30.328125  Q 41.65625 36.765625 39.625 39.671875  Q 37.59375 42.578125 33.6875 42.578125  Q 31.984375 42.578125 30.25 41.96875  Q 28.515625 41.359375 26.6875 40.015625  Q 24.859375 38.671875 22.796875 36.5625  Q 20.75 34.46875 18.40625 31.5  L 18.40625 0  L 9.8125 0  z \" id=\"Consolas-114\"/>\n",
       "     </defs>\n",
       "     <use xlink:href=\"#Consolas-114\"/>\n",
       "    </g>\n",
       "   </g>\n",
       "   <g id=\"text_5\">\n",
       "    <!-- 5 -->\n",
       "    <g transform=\"translate(6.8184 36.071121)rotate(-90)scale(0.09 -0.09)\">\n",
       "     <defs>\n",
       "      <path d=\"M 4.15625 18.75  L 13.375 19.53125  Q 14.40625 12.796875 18.140625 9.390625  Q 21.875 6 27.15625 6  Q 33.5 6 37.890625 10.78125  Q 42.28125 15.578125 42.28125 23.484375  Q 42.28125 31 38.0625 35.34375  Q 33.84375 39.703125 27 39.703125  Q 22.75 39.703125 19.328125 37.765625  Q 15.921875 35.84375 13.96875 32.765625  L 5.71875 33.84375  L 12.640625 70.609375  L 48.25 70.609375  L 48.25 62.203125  L 19.671875 62.203125  L 15.828125 42.96875  Q 22.265625 47.46875 29.34375 47.46875  Q 38.71875 47.46875 45.15625 40.96875  Q 51.609375 34.46875 51.609375 24.265625  Q 51.609375 14.546875 45.953125 7.46875  Q 39.0625 -1.21875 27.15625 -1.21875  Q 17.390625 -1.21875 11.203125 4.25  Q 5.03125 9.71875 4.15625 18.75  z \" id=\"ArialMT-53\"/>\n",
       "     </defs>\n",
       "     <use xlink:href=\"#ArialMT-53\"/>\n",
       "    </g>\n",
       "   </g>\n",
       "   <g id=\"text_6\">\n",
       "    <!-- 4 -->\n",
       "    <g transform=\"translate(19.203778 19.720489)scale(0.09 -0.09)\">\n",
       "     <defs>\n",
       "      <path d=\"M 32.328125 0  L 32.328125 17.140625  L 1.265625 17.140625  L 1.265625 25.203125  L 33.9375 71.578125  L 41.109375 71.578125  L 41.109375 25.203125  L 50.78125 25.203125  L 50.78125 17.140625  L 41.109375 17.140625  L 41.109375 0  z M 32.328125 25.203125  L 32.328125 57.46875  L 9.90625 25.203125  z \" id=\"ArialMT-52\"/>\n",
       "     </defs>\n",
       "     <use xlink:href=\"#ArialMT-52\"/>\n",
       "    </g>\n",
       "   </g>\n",
       "   <g id=\"text_7\">\n",
       "    <!-- 3 -->\n",
       "    <g transform=\"translate(31.332954 36.983362)rotate(-45)scale(0.09 -0.09)\">\n",
       "     <defs>\n",
       "      <path d=\"M 4.203125 18.890625  L 12.984375 20.0625  Q 14.5 12.59375 18.140625 9.296875  Q 21.78125 6 27 6  Q 33.203125 6 37.46875 10.296875  Q 41.75 14.59375 41.75 20.953125  Q 41.75 27 37.796875 30.921875  Q 33.84375 34.859375 27.734375 34.859375  Q 25.25 34.859375 21.53125 33.890625  L 22.515625 41.609375  Q 23.390625 41.5 23.921875 41.5  Q 29.546875 41.5 34.03125 44.421875  Q 38.53125 47.359375 38.53125 53.46875  Q 38.53125 58.296875 35.25 61.46875  Q 31.984375 64.65625 26.8125 64.65625  Q 21.6875 64.65625 18.265625 61.421875  Q 14.84375 58.203125 13.875 51.765625  L 5.078125 53.328125  Q 6.6875 62.15625 12.390625 67.015625  Q 18.109375 71.875 26.609375 71.875  Q 32.46875 71.875 37.390625 69.359375  Q 42.328125 66.84375 44.9375 62.5  Q 47.5625 58.15625 47.5625 53.265625  Q 47.5625 48.640625 45.0625 44.828125  Q 42.578125 41.015625 37.703125 38.765625  Q 44.046875 37.3125 47.5625 32.6875  Q 51.078125 28.078125 51.078125 21.140625  Q 51.078125 11.765625 44.234375 5.25  Q 37.40625 -1.265625 26.953125 -1.265625  Q 17.53125 -1.265625 11.296875 4.34375  Q 5.078125 9.96875 4.203125 18.890625  z \" id=\"ArialMT-51\"/>\n",
       "     </defs>\n",
       "     <use xlink:href=\"#ArialMT-51\"/>\n",
       "    </g>\n",
       "   </g>\n",
       "   <g id=\"text_8\">\n",
       "    <!-- $\\cdots$x2 -->\n",
       "    <g transform=\"translate(10.7622 52.499941)scale(0.09 -0.09)\">\n",
       "     <defs>\n",
       "      <path d=\"M 11.5625 36.921875  L 21.875 36.921875  L 21.875 24.515625  L 11.5625 24.515625  z M 44.8125 36.921875  L 55.125 36.921875  L 55.125 24.515625  L 44.8125 24.515625  z M 78.0625 36.921875  L 88.375 36.921875  L 88.375 24.515625  L 78.0625 24.515625  z \" id=\"DejaVuSans-8943\"/>\n",
       "      <path d=\"M 0.734375 0  L 19.671875 26.953125  L 2.15625 51.859375  L 13.140625 51.859375  L 21.09375 39.703125  Q 23.34375 36.234375 24.703125 33.890625  Q 26.859375 37.109375 28.65625 39.59375  L 37.40625 51.859375  L 47.90625 51.859375  L 29.984375 27.4375  L 49.265625 0  L 38.484375 0  L 27.828125 16.109375  L 25 20.453125  L 11.375 0  z \" id=\"ArialMT-120\"/>\n",
       "      <path d=\"M 50.34375 8.453125  L 50.34375 0  L 3.03125 0  Q 2.9375 3.171875 4.046875 6.109375  Q 5.859375 10.9375 9.828125 15.625  Q 13.8125 20.3125 21.34375 26.46875  Q 33.015625 36.03125 37.109375 41.625  Q 41.21875 47.21875 41.21875 52.203125  Q 41.21875 57.421875 37.46875 61  Q 33.734375 64.59375 27.734375 64.59375  Q 21.390625 64.59375 17.578125 60.78125  Q 13.765625 56.984375 13.71875 50.25  L 4.6875 51.171875  Q 5.609375 61.28125 11.65625 66.578125  Q 17.71875 71.875 27.9375 71.875  Q 38.234375 71.875 44.234375 66.15625  Q 50.25 60.453125 50.25 52  Q 50.25 47.703125 48.484375 43.546875  Q 46.734375 39.40625 42.65625 34.8125  Q 38.578125 30.21875 29.109375 22.21875  Q 21.1875 15.578125 18.9375 13.203125  Q 16.703125 10.84375 15.234375 8.453125  z \" id=\"ArialMT-50\"/>\n",
       "     </defs>\n",
       "     <use transform=\"translate(0 0.125)\" xlink:href=\"#DejaVuSans-8943\"/>\n",
       "     <use transform=\"translate(100 0.125)\" xlink:href=\"#ArialMT-120\"/>\n",
       "     <use transform=\"translate(150 0.125)\" xlink:href=\"#ArialMT-50\"/>\n",
       "    </g>\n",
       "   </g>\n",
       "  </g>\n",
       " </g>\n",
       " <defs>\n",
       "  <clipPath id=\"p46bb7d1014\">\n",
       "   <rect height=\"41.491069\" width=\"33.0894\" x=\"0\" y=\"4.02324\"/>\n",
       "  </clipPath>\n",
       " </defs>\n",
       "</svg>"
      ],
      "text/plain": [
       "<IPython.core.display.SVG object>"
      ]
     },
     "metadata": {},
     "output_type": "display_data"
    }
   ],
   "source": [
    "value_layer = torch.nn.Linear(embedding_dim, qkv_dim * n_heads, bias=False) # Notice the name qkv_dim\n",
    "value = value_layer(embedding_tensor)\n",
    "value = rearrange(value,'b n_words (qkv_dim n_heads) -> n_heads b n_words qkv_dim', qkv_dim = qkv_dim)\n",
    "vis_tensor(value,dim=4)"
   ]
  },
  {
   "cell_type": "markdown",
   "metadata": {},
   "source": [
    "We can now compute the weighted embeddings (and again, not the real embeddings but linearly transformed ones) using `attn_weight_tensor` and `value` tensor:"
   ]
  },
  {
   "cell_type": "code",
   "execution_count": 69,
   "metadata": {},
   "outputs": [
    {
     "data": {
      "image/svg+xml": [
       "<svg height=\"54.288691pt\" version=\"1.1\" viewBox=\"0 0 36.13675 54.288691\" width=\"36.13675pt\" xmlns=\"http://www.w3.org/2000/svg\" xmlns:xlink=\"http://www.w3.org/1999/xlink\">\n",
       " <metadata>\n",
       "  <rdf:RDF xmlns:cc=\"http://creativecommons.org/ns#\" xmlns:dc=\"http://purl.org/dc/elements/1.1/\" xmlns:rdf=\"http://www.w3.org/1999/02/22-rdf-syntax-ns#\">\n",
       "   <cc:Work>\n",
       "    <dc:type rdf:resource=\"http://purl.org/dc/dcmitype/StillImage\"/>\n",
       "    <dc:date>2020-10-14T12:57:05.557868</dc:date>\n",
       "    <dc:format>image/svg+xml</dc:format>\n",
       "    <dc:creator>\n",
       "     <cc:Agent>\n",
       "      <dc:title>Matplotlib v3.3.0, https://matplotlib.org/</dc:title>\n",
       "     </cc:Agent>\n",
       "    </dc:creator>\n",
       "   </cc:Work>\n",
       "  </rdf:RDF>\n",
       " </metadata>\n",
       " <defs>\n",
       "  <style type=\"text/css\">*{stroke-linecap:butt;stroke-linejoin:round;}</style>\n",
       " </defs>\n",
       " <g id=\"figure_1\">\n",
       "  <g id=\"patch_1\">\n",
       "   <path d=\"M 0 54.288691  L 36.13675 54.288691  L 36.13675 0  L 0 0  z \" style=\"fill:none;\"/>\n",
       "  </g>\n",
       "  <g id=\"axes_1\">\n",
       "   <g id=\"patch_2\">\n",
       "    <path clip-path=\"url(#p5cfa7d5044)\" d=\"M 10.28115 43.068109  L 33.13125 43.068109  L 33.13125 20.807689  L 10.28115 20.807689  z \" style=\"fill:#cfe2d4;stroke:#808080;stroke-linejoin:miter;stroke-width:0.7;\"/>\n",
       "   </g>\n",
       "   <g id=\"patch_3\">\n",
       "    <path clip-path=\"url(#p5cfa7d5044)\" d=\"M 8.60715 44.698909  L 31.45725 44.698909  L 31.45725 22.438489  L 8.60715 22.438489  z \" style=\"fill:#cfe2d4;stroke:#808080;stroke-linejoin:miter;stroke-width:0.7;\"/>\n",
       "   </g>\n",
       "   <g id=\"line2d_1\">\n",
       "    <path clip-path=\"url(#p5cfa7d5044)\" d=\"M 6.32214 12.711247  L 33.74226 12.711247  \" style=\"fill:none;stroke:#c2c2c2;stroke-linecap:square;stroke-width:0.5;\"/>\n",
       "   </g>\n",
       "   <g id=\"text_1\">\n",
       "    <!-- t -->\n",
       "    <g style=\"fill:#444443;\" transform=\"translate(6.975 8.97)scale(0.13 -0.13)\">\n",
       "     <defs>\n",
       "      <path d=\"M 47.3125 0.6875  Q 44.4375 -0.046875 41.359375 -0.359375  Q 38.28125 -0.6875 35.109375 -0.6875  Q 25.875 -0.6875 21.328125 3.484375  Q 16.796875 7.671875 16.796875 16.3125  L 16.796875 41.890625  L 3.078125 41.890625  L 3.078125 49.03125  L 16.796875 49.03125  L 16.796875 62.5  L 25.296875 64.703125  L 25.296875 49.03125  L 47.3125 49.03125  L 47.3125 41.890625  L 25.296875 41.890625  L 25.296875 17  Q 25.296875 11.71875 28.09375 9.109375  Q 30.90625 6.5 36.375 6.5  Q 38.71875 6.5 41.5 6.859375  Q 44.28125 7.234375 47.3125 8.015625  z \" id=\"Consolas-116\"/>\n",
       "     </defs>\n",
       "     <use xlink:href=\"#Consolas-116\"/>\n",
       "    </g>\n",
       "   </g>\n",
       "   <g id=\"text_2\">\n",
       "    <!-- n -->\n",
       "    <g style=\"fill:#444443;\" transform=\"translate(13.5036 8.97)scale(0.13 -0.13)\">\n",
       "     <defs>\n",
       "      <path d=\"M 7.8125 49.03125  L 15.375 49.03125  L 15.71875 41.109375  Q 17.875 43.65625 19.875 45.328125  Q 21.875 47.015625 23.796875 48.046875  Q 25.734375 49.078125 27.734375 49.484375  Q 29.734375 49.90625 31.890625 49.90625  Q 39.453125 49.90625 43.328125 45.4375  Q 47.21875 40.96875 47.21875 31.984375  L 47.21875 0  L 38.71875 0  L 38.71875 31.296875  Q 38.71875 37.0625 36.5625 39.8125  Q 34.421875 42.578125 30.171875 42.578125  Q 28.609375 42.578125 27.125 42.109375  Q 25.640625 41.65625 24.015625 40.5  Q 22.40625 39.359375 20.53125 37.40625  Q 18.65625 35.453125 16.3125 32.515625  L 16.3125 0  L 7.8125 0  z \" id=\"Consolas-110\"/>\n",
       "     </defs>\n",
       "     <use xlink:href=\"#Consolas-110\"/>\n",
       "    </g>\n",
       "   </g>\n",
       "   <g id=\"text_3\">\n",
       "    <!-- s -->\n",
       "    <g style=\"fill:#444443;\" transform=\"translate(20.0322 8.97)scale(0.13 -0.13)\">\n",
       "     <defs>\n",
       "      <path d=\"M 46.625 13.375  Q 46.625 10.796875 45.75 8.734375  Q 44.875 6.6875 43.359375 5.09375  Q 41.84375 3.515625 39.84375 2.390625  Q 37.84375 1.265625 35.5625 0.53125  Q 33.296875 -0.203125 30.90625 -0.53125  Q 28.515625 -0.875 26.21875 -0.875  Q 21.234375 -0.875 17.0625 -0.4375  Q 12.890625 0 8.890625 0.984375  L 8.890625 8.796875  Q 13.1875 7.5625 17.4375 6.921875  Q 21.6875 6.296875 25.875 6.296875  Q 31.984375 6.296875 34.90625 7.953125  Q 37.84375 9.625 37.84375 12.703125  Q 37.84375 14.015625 37.375 15.0625  Q 36.921875 16.109375 35.6875 17.0625  Q 34.46875 18.015625 31.90625 19.03125  Q 29.34375 20.0625 24.90625 21.390625  Q 21.578125 22.359375 18.765625 23.609375  Q 15.96875 24.859375 13.90625 26.5625  Q 11.859375 28.265625 10.6875 30.5625  Q 9.515625 32.859375 9.515625 35.984375  Q 9.515625 38.03125 10.46875 40.46875  Q 11.421875 42.921875 13.71875 45.015625  Q 16.015625 47.125 19.921875 48.515625  Q 23.828125 49.90625 29.6875 49.90625  Q 32.5625 49.90625 36.078125 49.578125  Q 39.59375 49.265625 43.40625 48.484375  L 43.40625 40.921875  Q 39.40625 41.890625 35.8125 42.359375  Q 32.234375 42.828125 29.59375 42.828125  Q 26.421875 42.828125 24.25 42.328125  Q 22.078125 41.84375 20.734375 40.984375  Q 19.390625 40.140625 18.796875 38.984375  Q 18.21875 37.84375 18.21875 36.53125  Q 18.21875 35.203125 18.71875 34.125  Q 19.234375 33.0625 20.625 32.0625  Q 22.015625 31.0625 24.5 30.046875  Q 27 29.046875 31 27.875  Q 35.359375 26.609375 38.328125 25.21875  Q 41.3125 23.828125 43.15625 22.109375  Q 45.015625 20.40625 45.8125 18.25  Q 46.625 16.109375 46.625 13.375  z \" id=\"Consolas-115\"/>\n",
       "     </defs>\n",
       "     <use xlink:href=\"#Consolas-115\"/>\n",
       "    </g>\n",
       "   </g>\n",
       "   <g id=\"text_4\">\n",
       "    <!-- r -->\n",
       "    <g style=\"fill:#444443;\" transform=\"translate(26.5608 8.97)scale(0.13 -0.13)\">\n",
       "     <defs>\n",
       "      <path d=\"M 9.8125 49.03125  L 17.578125 49.03125  L 17.828125 39.984375  Q 22.171875 45.21875 26.390625 47.5625  Q 30.609375 49.90625 34.90625 49.90625  Q 42.53125 49.90625 46.453125 44.96875  Q 50.390625 40.046875 50.09375 30.328125  L 41.5 30.328125  Q 41.65625 36.765625 39.625 39.671875  Q 37.59375 42.578125 33.6875 42.578125  Q 31.984375 42.578125 30.25 41.96875  Q 28.515625 41.359375 26.6875 40.015625  Q 24.859375 38.671875 22.796875 36.5625  Q 20.75 34.46875 18.40625 31.5  L 18.40625 0  L 9.8125 0  z \" id=\"Consolas-114\"/>\n",
       "     </defs>\n",
       "     <use xlink:href=\"#Consolas-114\"/>\n",
       "    </g>\n",
       "   </g>\n",
       "   <g id=\"text_5\">\n",
       "    <!-- 5 -->\n",
       "    <g transform=\"translate(6.8184 36.071121)rotate(-90)scale(0.09 -0.09)\">\n",
       "     <defs>\n",
       "      <path d=\"M 4.15625 18.75  L 13.375 19.53125  Q 14.40625 12.796875 18.140625 9.390625  Q 21.875 6 27.15625 6  Q 33.5 6 37.890625 10.78125  Q 42.28125 15.578125 42.28125 23.484375  Q 42.28125 31 38.0625 35.34375  Q 33.84375 39.703125 27 39.703125  Q 22.75 39.703125 19.328125 37.765625  Q 15.921875 35.84375 13.96875 32.765625  L 5.71875 33.84375  L 12.640625 70.609375  L 48.25 70.609375  L 48.25 62.203125  L 19.671875 62.203125  L 15.828125 42.96875  Q 22.265625 47.46875 29.34375 47.46875  Q 38.71875 47.46875 45.15625 40.96875  Q 51.609375 34.46875 51.609375 24.265625  Q 51.609375 14.546875 45.953125 7.46875  Q 39.0625 -1.21875 27.15625 -1.21875  Q 17.390625 -1.21875 11.203125 4.25  Q 5.03125 9.71875 4.15625 18.75  z \" id=\"ArialMT-53\"/>\n",
       "     </defs>\n",
       "     <use xlink:href=\"#ArialMT-53\"/>\n",
       "    </g>\n",
       "   </g>\n",
       "   <g id=\"text_6\">\n",
       "    <!-- 4 -->\n",
       "    <g transform=\"translate(19.203778 19.720489)scale(0.09 -0.09)\">\n",
       "     <defs>\n",
       "      <path d=\"M 32.328125 0  L 32.328125 17.140625  L 1.265625 17.140625  L 1.265625 25.203125  L 33.9375 71.578125  L 41.109375 71.578125  L 41.109375 25.203125  L 50.78125 25.203125  L 50.78125 17.140625  L 41.109375 17.140625  L 41.109375 0  z M 32.328125 25.203125  L 32.328125 57.46875  L 9.90625 25.203125  z \" id=\"ArialMT-52\"/>\n",
       "     </defs>\n",
       "     <use xlink:href=\"#ArialMT-52\"/>\n",
       "    </g>\n",
       "   </g>\n",
       "   <g id=\"text_7\">\n",
       "    <!-- 3 -->\n",
       "    <g transform=\"translate(31.332954 36.983362)rotate(-45)scale(0.09 -0.09)\">\n",
       "     <defs>\n",
       "      <path d=\"M 4.203125 18.890625  L 12.984375 20.0625  Q 14.5 12.59375 18.140625 9.296875  Q 21.78125 6 27 6  Q 33.203125 6 37.46875 10.296875  Q 41.75 14.59375 41.75 20.953125  Q 41.75 27 37.796875 30.921875  Q 33.84375 34.859375 27.734375 34.859375  Q 25.25 34.859375 21.53125 33.890625  L 22.515625 41.609375  Q 23.390625 41.5 23.921875 41.5  Q 29.546875 41.5 34.03125 44.421875  Q 38.53125 47.359375 38.53125 53.46875  Q 38.53125 58.296875 35.25 61.46875  Q 31.984375 64.65625 26.8125 64.65625  Q 21.6875 64.65625 18.265625 61.421875  Q 14.84375 58.203125 13.875 51.765625  L 5.078125 53.328125  Q 6.6875 62.15625 12.390625 67.015625  Q 18.109375 71.875 26.609375 71.875  Q 32.46875 71.875 37.390625 69.359375  Q 42.328125 66.84375 44.9375 62.5  Q 47.5625 58.15625 47.5625 53.265625  Q 47.5625 48.640625 45.0625 44.828125  Q 42.578125 41.015625 37.703125 38.765625  Q 44.046875 37.3125 47.5625 32.6875  Q 51.078125 28.078125 51.078125 21.140625  Q 51.078125 11.765625 44.234375 5.25  Q 37.40625 -1.265625 26.953125 -1.265625  Q 17.53125 -1.265625 11.296875 4.34375  Q 5.078125 9.96875 4.203125 18.890625  z \" id=\"ArialMT-51\"/>\n",
       "     </defs>\n",
       "     <use xlink:href=\"#ArialMT-51\"/>\n",
       "    </g>\n",
       "   </g>\n",
       "   <g id=\"text_8\">\n",
       "    <!-- $\\cdots$x2 -->\n",
       "    <g transform=\"translate(10.7622 52.499941)scale(0.09 -0.09)\">\n",
       "     <defs>\n",
       "      <path d=\"M 11.5625 36.921875  L 21.875 36.921875  L 21.875 24.515625  L 11.5625 24.515625  z M 44.8125 36.921875  L 55.125 36.921875  L 55.125 24.515625  L 44.8125 24.515625  z M 78.0625 36.921875  L 88.375 36.921875  L 88.375 24.515625  L 78.0625 24.515625  z \" id=\"DejaVuSans-8943\"/>\n",
       "      <path d=\"M 0.734375 0  L 19.671875 26.953125  L 2.15625 51.859375  L 13.140625 51.859375  L 21.09375 39.703125  Q 23.34375 36.234375 24.703125 33.890625  Q 26.859375 37.109375 28.65625 39.59375  L 37.40625 51.859375  L 47.90625 51.859375  L 29.984375 27.4375  L 49.265625 0  L 38.484375 0  L 27.828125 16.109375  L 25 20.453125  L 11.375 0  z \" id=\"ArialMT-120\"/>\n",
       "      <path d=\"M 50.34375 8.453125  L 50.34375 0  L 3.03125 0  Q 2.9375 3.171875 4.046875 6.109375  Q 5.859375 10.9375 9.828125 15.625  Q 13.8125 20.3125 21.34375 26.46875  Q 33.015625 36.03125 37.109375 41.625  Q 41.21875 47.21875 41.21875 52.203125  Q 41.21875 57.421875 37.46875 61  Q 33.734375 64.59375 27.734375 64.59375  Q 21.390625 64.59375 17.578125 60.78125  Q 13.765625 56.984375 13.71875 50.25  L 4.6875 51.171875  Q 5.609375 61.28125 11.65625 66.578125  Q 17.71875 71.875 27.9375 71.875  Q 38.234375 71.875 44.234375 66.15625  Q 50.25 60.453125 50.25 52  Q 50.25 47.703125 48.484375 43.546875  Q 46.734375 39.40625 42.65625 34.8125  Q 38.578125 30.21875 29.109375 22.21875  Q 21.1875 15.578125 18.9375 13.203125  Q 16.703125 10.84375 15.234375 8.453125  z \" id=\"ArialMT-50\"/>\n",
       "     </defs>\n",
       "     <use transform=\"translate(0 0.125)\" xlink:href=\"#DejaVuSans-8943\"/>\n",
       "     <use transform=\"translate(100 0.125)\" xlink:href=\"#ArialMT-120\"/>\n",
       "     <use transform=\"translate(150 0.125)\" xlink:href=\"#ArialMT-50\"/>\n",
       "    </g>\n",
       "   </g>\n",
       "  </g>\n",
       " </g>\n",
       " <defs>\n",
       "  <clipPath id=\"p5cfa7d5044\">\n",
       "   <rect height=\"41.491069\" width=\"33.0894\" x=\"0\" y=\"4.02324\"/>\n",
       "  </clipPath>\n",
       " </defs>\n",
       "</svg>"
      ],
      "text/plain": [
       "<IPython.core.display.SVG object>"
      ]
     },
     "metadata": {},
     "output_type": "display_data"
    }
   ],
   "source": [
    "weighted_value = torch.einsum('hblt,hbtv->hblv', [attn_weight_tensor, value]);vis_tensor(weighted_value,dim=4)"
   ]
  },
  {
   "cell_type": "markdown",
   "metadata": {},
   "source": [
    "We are almost done! But still, what we want to achieve in the end is to have a tensor that has the same shape as our `embedding_tensor` we started with, only that the embedding for each word should know about its sourrounding words, i.e. a weighted embedding. So we want to go from `value` shape to `embedding_tensor` shape:"
   ]
  },
  {
   "cell_type": "code",
   "execution_count": 70,
   "metadata": {},
   "outputs": [
    {
     "data": {
      "text/plain": [
       "'from torch.Size([2, 3, 5, 4]) -> torch.Size([3, 5, 6])'"
      ]
     },
     "execution_count": 70,
     "metadata": {},
     "output_type": "execute_result"
    }
   ],
   "source": [
    "f'from {value.shape} -> {embedding_tensor.shape}'"
   ]
  },
  {
   "cell_type": "markdown",
   "metadata": {},
   "source": [
    "Notice that by using a linear transformation (linear layer) again, we can alter the last dimension. So we can do the following:"
   ]
  },
  {
   "cell_type": "code",
   "execution_count": 71,
   "metadata": {},
   "outputs": [
    {
     "data": {
      "text/plain": [
       "'from torch.Size([2, 3, 5, 4]) -> 3, 5, (2*4) -> linear -> torch.Size([3, 5, 6])'"
      ]
     },
     "execution_count": 71,
     "metadata": {},
     "output_type": "execute_result"
    }
   ],
   "source": [
    "f'from {value.shape} -> 3, 5, (2*4) -> linear -> {embedding_tensor.shape}'"
   ]
  },
  {
   "cell_type": "code",
   "execution_count": 72,
   "metadata": {},
   "outputs": [
    {
     "data": {
      "image/svg+xml": [
       "<svg height=\"45.514309pt\" version=\"1.1\" viewBox=\"0 0 36.13675 45.514309\" width=\"36.13675pt\" xmlns=\"http://www.w3.org/2000/svg\" xmlns:xlink=\"http://www.w3.org/1999/xlink\">\n",
       " <metadata>\n",
       "  <rdf:RDF xmlns:cc=\"http://creativecommons.org/ns#\" xmlns:dc=\"http://purl.org/dc/elements/1.1/\" xmlns:rdf=\"http://www.w3.org/1999/02/22-rdf-syntax-ns#\">\n",
       "   <cc:Work>\n",
       "    <dc:type rdf:resource=\"http://purl.org/dc/dcmitype/StillImage\"/>\n",
       "    <dc:date>2020-10-14T12:57:05.829249</dc:date>\n",
       "    <dc:format>image/svg+xml</dc:format>\n",
       "    <dc:creator>\n",
       "     <cc:Agent>\n",
       "      <dc:title>Matplotlib v3.3.0, https://matplotlib.org/</dc:title>\n",
       "     </cc:Agent>\n",
       "    </dc:creator>\n",
       "   </cc:Work>\n",
       "  </rdf:RDF>\n",
       " </metadata>\n",
       " <defs>\n",
       "  <style type=\"text/css\">*{stroke-linecap:butt;stroke-linejoin:round;}</style>\n",
       " </defs>\n",
       " <g id=\"figure_1\">\n",
       "  <g id=\"patch_1\">\n",
       "   <path d=\"M 0 45.514309  L 36.13675 45.514309  L 36.13675 0  L 0 0  z \" style=\"fill:none;\"/>\n",
       "  </g>\n",
       "  <g id=\"axes_1\">\n",
       "   <g id=\"patch_2\">\n",
       "    <path clip-path=\"url(#p2b84219c4e)\" d=\"M 10.28115 43.068109  L 33.13125 43.068109  L 33.13125 20.807689  L 10.28115 20.807689  z \" style=\"fill:#cfe2d4;stroke:#808080;stroke-linejoin:miter;stroke-width:0.7;\"/>\n",
       "   </g>\n",
       "   <g id=\"patch_3\">\n",
       "    <path clip-path=\"url(#p2b84219c4e)\" d=\"M 8.60715 44.698909  L 31.45725 44.698909  L 31.45725 22.438489  L 8.60715 22.438489  z \" style=\"fill:#cfe2d4;stroke:#808080;stroke-linejoin:miter;stroke-width:0.7;\"/>\n",
       "   </g>\n",
       "   <g id=\"line2d_1\">\n",
       "    <path clip-path=\"url(#p2b84219c4e)\" d=\"M 6.32214 12.711247  L 33.74226 12.711247  \" style=\"fill:none;stroke:#c2c2c2;stroke-linecap:square;stroke-width:0.5;\"/>\n",
       "   </g>\n",
       "   <g id=\"text_1\">\n",
       "    <!-- t -->\n",
       "    <g style=\"fill:#444443;\" transform=\"translate(6.975 8.97)scale(0.13 -0.13)\">\n",
       "     <defs>\n",
       "      <path d=\"M 47.3125 0.6875  Q 44.4375 -0.046875 41.359375 -0.359375  Q 38.28125 -0.6875 35.109375 -0.6875  Q 25.875 -0.6875 21.328125 3.484375  Q 16.796875 7.671875 16.796875 16.3125  L 16.796875 41.890625  L 3.078125 41.890625  L 3.078125 49.03125  L 16.796875 49.03125  L 16.796875 62.5  L 25.296875 64.703125  L 25.296875 49.03125  L 47.3125 49.03125  L 47.3125 41.890625  L 25.296875 41.890625  L 25.296875 17  Q 25.296875 11.71875 28.09375 9.109375  Q 30.90625 6.5 36.375 6.5  Q 38.71875 6.5 41.5 6.859375  Q 44.28125 7.234375 47.3125 8.015625  z \" id=\"Consolas-116\"/>\n",
       "     </defs>\n",
       "     <use xlink:href=\"#Consolas-116\"/>\n",
       "    </g>\n",
       "   </g>\n",
       "   <g id=\"text_2\">\n",
       "    <!-- n -->\n",
       "    <g style=\"fill:#444443;\" transform=\"translate(13.5036 8.97)scale(0.13 -0.13)\">\n",
       "     <defs>\n",
       "      <path d=\"M 7.8125 49.03125  L 15.375 49.03125  L 15.71875 41.109375  Q 17.875 43.65625 19.875 45.328125  Q 21.875 47.015625 23.796875 48.046875  Q 25.734375 49.078125 27.734375 49.484375  Q 29.734375 49.90625 31.890625 49.90625  Q 39.453125 49.90625 43.328125 45.4375  Q 47.21875 40.96875 47.21875 31.984375  L 47.21875 0  L 38.71875 0  L 38.71875 31.296875  Q 38.71875 37.0625 36.5625 39.8125  Q 34.421875 42.578125 30.171875 42.578125  Q 28.609375 42.578125 27.125 42.109375  Q 25.640625 41.65625 24.015625 40.5  Q 22.40625 39.359375 20.53125 37.40625  Q 18.65625 35.453125 16.3125 32.515625  L 16.3125 0  L 7.8125 0  z \" id=\"Consolas-110\"/>\n",
       "     </defs>\n",
       "     <use xlink:href=\"#Consolas-110\"/>\n",
       "    </g>\n",
       "   </g>\n",
       "   <g id=\"text_3\">\n",
       "    <!-- s -->\n",
       "    <g style=\"fill:#444443;\" transform=\"translate(20.0322 8.97)scale(0.13 -0.13)\">\n",
       "     <defs>\n",
       "      <path d=\"M 46.625 13.375  Q 46.625 10.796875 45.75 8.734375  Q 44.875 6.6875 43.359375 5.09375  Q 41.84375 3.515625 39.84375 2.390625  Q 37.84375 1.265625 35.5625 0.53125  Q 33.296875 -0.203125 30.90625 -0.53125  Q 28.515625 -0.875 26.21875 -0.875  Q 21.234375 -0.875 17.0625 -0.4375  Q 12.890625 0 8.890625 0.984375  L 8.890625 8.796875  Q 13.1875 7.5625 17.4375 6.921875  Q 21.6875 6.296875 25.875 6.296875  Q 31.984375 6.296875 34.90625 7.953125  Q 37.84375 9.625 37.84375 12.703125  Q 37.84375 14.015625 37.375 15.0625  Q 36.921875 16.109375 35.6875 17.0625  Q 34.46875 18.015625 31.90625 19.03125  Q 29.34375 20.0625 24.90625 21.390625  Q 21.578125 22.359375 18.765625 23.609375  Q 15.96875 24.859375 13.90625 26.5625  Q 11.859375 28.265625 10.6875 30.5625  Q 9.515625 32.859375 9.515625 35.984375  Q 9.515625 38.03125 10.46875 40.46875  Q 11.421875 42.921875 13.71875 45.015625  Q 16.015625 47.125 19.921875 48.515625  Q 23.828125 49.90625 29.6875 49.90625  Q 32.5625 49.90625 36.078125 49.578125  Q 39.59375 49.265625 43.40625 48.484375  L 43.40625 40.921875  Q 39.40625 41.890625 35.8125 42.359375  Q 32.234375 42.828125 29.59375 42.828125  Q 26.421875 42.828125 24.25 42.328125  Q 22.078125 41.84375 20.734375 40.984375  Q 19.390625 40.140625 18.796875 38.984375  Q 18.21875 37.84375 18.21875 36.53125  Q 18.21875 35.203125 18.71875 34.125  Q 19.234375 33.0625 20.625 32.0625  Q 22.015625 31.0625 24.5 30.046875  Q 27 29.046875 31 27.875  Q 35.359375 26.609375 38.328125 25.21875  Q 41.3125 23.828125 43.15625 22.109375  Q 45.015625 20.40625 45.8125 18.25  Q 46.625 16.109375 46.625 13.375  z \" id=\"Consolas-115\"/>\n",
       "     </defs>\n",
       "     <use xlink:href=\"#Consolas-115\"/>\n",
       "    </g>\n",
       "   </g>\n",
       "   <g id=\"text_4\">\n",
       "    <!-- r -->\n",
       "    <g style=\"fill:#444443;\" transform=\"translate(26.5608 8.97)scale(0.13 -0.13)\">\n",
       "     <defs>\n",
       "      <path d=\"M 9.8125 49.03125  L 17.578125 49.03125  L 17.828125 39.984375  Q 22.171875 45.21875 26.390625 47.5625  Q 30.609375 49.90625 34.90625 49.90625  Q 42.53125 49.90625 46.453125 44.96875  Q 50.390625 40.046875 50.09375 30.328125  L 41.5 30.328125  Q 41.65625 36.765625 39.625 39.671875  Q 37.59375 42.578125 33.6875 42.578125  Q 31.984375 42.578125 30.25 41.96875  Q 28.515625 41.359375 26.6875 40.015625  Q 24.859375 38.671875 22.796875 36.5625  Q 20.75 34.46875 18.40625 31.5  L 18.40625 0  L 9.8125 0  z \" id=\"Consolas-114\"/>\n",
       "     </defs>\n",
       "     <use xlink:href=\"#Consolas-114\"/>\n",
       "    </g>\n",
       "   </g>\n",
       "   <g id=\"text_5\">\n",
       "    <!-- 5 -->\n",
       "    <g transform=\"translate(6.8184 36.071121)rotate(-90)scale(0.09 -0.09)\">\n",
       "     <defs>\n",
       "      <path d=\"M 4.15625 18.75  L 13.375 19.53125  Q 14.40625 12.796875 18.140625 9.390625  Q 21.875 6 27.15625 6  Q 33.5 6 37.890625 10.78125  Q 42.28125 15.578125 42.28125 23.484375  Q 42.28125 31 38.0625 35.34375  Q 33.84375 39.703125 27 39.703125  Q 22.75 39.703125 19.328125 37.765625  Q 15.921875 35.84375 13.96875 32.765625  L 5.71875 33.84375  L 12.640625 70.609375  L 48.25 70.609375  L 48.25 62.203125  L 19.671875 62.203125  L 15.828125 42.96875  Q 22.265625 47.46875 29.34375 47.46875  Q 38.71875 47.46875 45.15625 40.96875  Q 51.609375 34.46875 51.609375 24.265625  Q 51.609375 14.546875 45.953125 7.46875  Q 39.0625 -1.21875 27.15625 -1.21875  Q 17.390625 -1.21875 11.203125 4.25  Q 5.03125 9.71875 4.15625 18.75  z \" id=\"ArialMT-53\"/>\n",
       "     </defs>\n",
       "     <use xlink:href=\"#ArialMT-53\"/>\n",
       "    </g>\n",
       "   </g>\n",
       "   <g id=\"text_6\">\n",
       "    <!-- 8 -->\n",
       "    <g transform=\"translate(19.203778 19.720489)scale(0.09 -0.09)\">\n",
       "     <defs>\n",
       "      <path d=\"M 17.671875 38.8125  Q 12.203125 40.828125 9.5625 44.53125  Q 6.9375 48.25 6.9375 53.421875  Q 6.9375 61.234375 12.546875 66.546875  Q 18.171875 71.875 27.484375 71.875  Q 36.859375 71.875 42.578125 66.421875  Q 48.296875 60.984375 48.296875 53.171875  Q 48.296875 48.1875 45.671875 44.5  Q 43.0625 40.828125 37.75 38.8125  Q 44.34375 36.671875 47.78125 31.875  Q 51.21875 27.09375 51.21875 20.453125  Q 51.21875 11.28125 44.71875 5.03125  Q 38.234375 -1.21875 27.640625 -1.21875  Q 17.046875 -1.21875 10.546875 5.046875  Q 4.046875 11.328125 4.046875 20.703125  Q 4.046875 27.6875 7.59375 32.390625  Q 11.140625 37.109375 17.671875 38.8125  z M 15.921875 53.71875  Q 15.921875 48.640625 19.1875 45.40625  Q 22.46875 42.1875 27.6875 42.1875  Q 32.765625 42.1875 36.015625 45.375  Q 39.265625 48.578125 39.265625 53.21875  Q 39.265625 58.0625 35.90625 61.359375  Q 32.5625 64.65625 27.59375 64.65625  Q 22.5625 64.65625 19.234375 61.421875  Q 15.921875 58.203125 15.921875 53.71875  z M 13.09375 20.65625  Q 13.09375 16.890625 14.875 13.375  Q 16.65625 9.859375 20.171875 7.921875  Q 23.6875 6 27.734375 6  Q 34.03125 6 38.125 10.046875  Q 42.234375 14.109375 42.234375 20.359375  Q 42.234375 26.703125 38.015625 30.859375  Q 33.796875 35.015625 27.4375 35.015625  Q 21.234375 35.015625 17.15625 30.90625  Q 13.09375 26.8125 13.09375 20.65625  z \" id=\"ArialMT-56\"/>\n",
       "     </defs>\n",
       "     <use xlink:href=\"#ArialMT-56\"/>\n",
       "    </g>\n",
       "   </g>\n",
       "   <g id=\"text_7\">\n",
       "    <!-- 3 -->\n",
       "    <g transform=\"translate(31.332954 36.983362)rotate(-45)scale(0.09 -0.09)\">\n",
       "     <defs>\n",
       "      <path d=\"M 4.203125 18.890625  L 12.984375 20.0625  Q 14.5 12.59375 18.140625 9.296875  Q 21.78125 6 27 6  Q 33.203125 6 37.46875 10.296875  Q 41.75 14.59375 41.75 20.953125  Q 41.75 27 37.796875 30.921875  Q 33.84375 34.859375 27.734375 34.859375  Q 25.25 34.859375 21.53125 33.890625  L 22.515625 41.609375  Q 23.390625 41.5 23.921875 41.5  Q 29.546875 41.5 34.03125 44.421875  Q 38.53125 47.359375 38.53125 53.46875  Q 38.53125 58.296875 35.25 61.46875  Q 31.984375 64.65625 26.8125 64.65625  Q 21.6875 64.65625 18.265625 61.421875  Q 14.84375 58.203125 13.875 51.765625  L 5.078125 53.328125  Q 6.6875 62.15625 12.390625 67.015625  Q 18.109375 71.875 26.609375 71.875  Q 32.46875 71.875 37.390625 69.359375  Q 42.328125 66.84375 44.9375 62.5  Q 47.5625 58.15625 47.5625 53.265625  Q 47.5625 48.640625 45.0625 44.828125  Q 42.578125 41.015625 37.703125 38.765625  Q 44.046875 37.3125 47.5625 32.6875  Q 51.078125 28.078125 51.078125 21.140625  Q 51.078125 11.765625 44.234375 5.25  Q 37.40625 -1.265625 26.953125 -1.265625  Q 17.53125 -1.265625 11.296875 4.34375  Q 5.078125 9.96875 4.203125 18.890625  z \" id=\"ArialMT-51\"/>\n",
       "     </defs>\n",
       "     <use xlink:href=\"#ArialMT-51\"/>\n",
       "    </g>\n",
       "   </g>\n",
       "  </g>\n",
       " </g>\n",
       " <defs>\n",
       "  <clipPath id=\"p2b84219c4e\">\n",
       "   <rect height=\"41.491069\" width=\"33.0894\" x=\"0\" y=\"4.02324\"/>\n",
       "  </clipPath>\n",
       " </defs>\n",
       "</svg>"
      ],
      "text/plain": [
       "<IPython.core.display.SVG object>"
      ]
     },
     "metadata": {},
     "output_type": "display_data"
    }
   ],
   "source": [
    "reshaped_weighted_value = rearrange(weighted_value, 'n_heads b n_words qkv_dim -> b n_words (n_heads qkv_dim)')\n",
    "vis_tensor(reshaped_weighted_value)"
   ]
  },
  {
   "cell_type": "code",
   "execution_count": 73,
   "metadata": {},
   "outputs": [
    {
     "data": {
      "image/svg+xml": [
       "<svg height=\"45.514309pt\" version=\"1.1\" viewBox=\"0 0 36.13675 45.514309\" width=\"36.13675pt\" xmlns=\"http://www.w3.org/2000/svg\" xmlns:xlink=\"http://www.w3.org/1999/xlink\">\n",
       " <metadata>\n",
       "  <rdf:RDF xmlns:cc=\"http://creativecommons.org/ns#\" xmlns:dc=\"http://purl.org/dc/elements/1.1/\" xmlns:rdf=\"http://www.w3.org/1999/02/22-rdf-syntax-ns#\">\n",
       "   <cc:Work>\n",
       "    <dc:type rdf:resource=\"http://purl.org/dc/dcmitype/StillImage\"/>\n",
       "    <dc:date>2020-10-14T12:57:06.012373</dc:date>\n",
       "    <dc:format>image/svg+xml</dc:format>\n",
       "    <dc:creator>\n",
       "     <cc:Agent>\n",
       "      <dc:title>Matplotlib v3.3.0, https://matplotlib.org/</dc:title>\n",
       "     </cc:Agent>\n",
       "    </dc:creator>\n",
       "   </cc:Work>\n",
       "  </rdf:RDF>\n",
       " </metadata>\n",
       " <defs>\n",
       "  <style type=\"text/css\">*{stroke-linecap:butt;stroke-linejoin:round;}</style>\n",
       " </defs>\n",
       " <g id=\"figure_1\">\n",
       "  <g id=\"patch_1\">\n",
       "   <path d=\"M 0 45.514309  L 36.13675 45.514309  L 36.13675 0  L 0 0  z \" style=\"fill:none;\"/>\n",
       "  </g>\n",
       "  <g id=\"axes_1\">\n",
       "   <g id=\"patch_2\">\n",
       "    <path clip-path=\"url(#p503921fdd0)\" d=\"M 10.28115 43.068109  L 33.13125 43.068109  L 33.13125 20.807689  L 10.28115 20.807689  z \" style=\"fill:#cfe2d4;stroke:#808080;stroke-linejoin:miter;stroke-width:0.7;\"/>\n",
       "   </g>\n",
       "   <g id=\"patch_3\">\n",
       "    <path clip-path=\"url(#p503921fdd0)\" d=\"M 8.60715 44.698909  L 31.45725 44.698909  L 31.45725 22.438489  L 8.60715 22.438489  z \" style=\"fill:#cfe2d4;stroke:#808080;stroke-linejoin:miter;stroke-width:0.7;\"/>\n",
       "   </g>\n",
       "   <g id=\"line2d_1\">\n",
       "    <path clip-path=\"url(#p503921fdd0)\" d=\"M 6.32214 12.711247  L 33.74226 12.711247  \" style=\"fill:none;stroke:#c2c2c2;stroke-linecap:square;stroke-width:0.5;\"/>\n",
       "   </g>\n",
       "   <g id=\"text_1\">\n",
       "    <!-- t -->\n",
       "    <g style=\"fill:#444443;\" transform=\"translate(6.975 8.97)scale(0.13 -0.13)\">\n",
       "     <defs>\n",
       "      <path d=\"M 47.3125 0.6875  Q 44.4375 -0.046875 41.359375 -0.359375  Q 38.28125 -0.6875 35.109375 -0.6875  Q 25.875 -0.6875 21.328125 3.484375  Q 16.796875 7.671875 16.796875 16.3125  L 16.796875 41.890625  L 3.078125 41.890625  L 3.078125 49.03125  L 16.796875 49.03125  L 16.796875 62.5  L 25.296875 64.703125  L 25.296875 49.03125  L 47.3125 49.03125  L 47.3125 41.890625  L 25.296875 41.890625  L 25.296875 17  Q 25.296875 11.71875 28.09375 9.109375  Q 30.90625 6.5 36.375 6.5  Q 38.71875 6.5 41.5 6.859375  Q 44.28125 7.234375 47.3125 8.015625  z \" id=\"Consolas-116\"/>\n",
       "     </defs>\n",
       "     <use xlink:href=\"#Consolas-116\"/>\n",
       "    </g>\n",
       "   </g>\n",
       "   <g id=\"text_2\">\n",
       "    <!-- n -->\n",
       "    <g style=\"fill:#444443;\" transform=\"translate(13.5036 8.97)scale(0.13 -0.13)\">\n",
       "     <defs>\n",
       "      <path d=\"M 7.8125 49.03125  L 15.375 49.03125  L 15.71875 41.109375  Q 17.875 43.65625 19.875 45.328125  Q 21.875 47.015625 23.796875 48.046875  Q 25.734375 49.078125 27.734375 49.484375  Q 29.734375 49.90625 31.890625 49.90625  Q 39.453125 49.90625 43.328125 45.4375  Q 47.21875 40.96875 47.21875 31.984375  L 47.21875 0  L 38.71875 0  L 38.71875 31.296875  Q 38.71875 37.0625 36.5625 39.8125  Q 34.421875 42.578125 30.171875 42.578125  Q 28.609375 42.578125 27.125 42.109375  Q 25.640625 41.65625 24.015625 40.5  Q 22.40625 39.359375 20.53125 37.40625  Q 18.65625 35.453125 16.3125 32.515625  L 16.3125 0  L 7.8125 0  z \" id=\"Consolas-110\"/>\n",
       "     </defs>\n",
       "     <use xlink:href=\"#Consolas-110\"/>\n",
       "    </g>\n",
       "   </g>\n",
       "   <g id=\"text_3\">\n",
       "    <!-- s -->\n",
       "    <g style=\"fill:#444443;\" transform=\"translate(20.0322 8.97)scale(0.13 -0.13)\">\n",
       "     <defs>\n",
       "      <path d=\"M 46.625 13.375  Q 46.625 10.796875 45.75 8.734375  Q 44.875 6.6875 43.359375 5.09375  Q 41.84375 3.515625 39.84375 2.390625  Q 37.84375 1.265625 35.5625 0.53125  Q 33.296875 -0.203125 30.90625 -0.53125  Q 28.515625 -0.875 26.21875 -0.875  Q 21.234375 -0.875 17.0625 -0.4375  Q 12.890625 0 8.890625 0.984375  L 8.890625 8.796875  Q 13.1875 7.5625 17.4375 6.921875  Q 21.6875 6.296875 25.875 6.296875  Q 31.984375 6.296875 34.90625 7.953125  Q 37.84375 9.625 37.84375 12.703125  Q 37.84375 14.015625 37.375 15.0625  Q 36.921875 16.109375 35.6875 17.0625  Q 34.46875 18.015625 31.90625 19.03125  Q 29.34375 20.0625 24.90625 21.390625  Q 21.578125 22.359375 18.765625 23.609375  Q 15.96875 24.859375 13.90625 26.5625  Q 11.859375 28.265625 10.6875 30.5625  Q 9.515625 32.859375 9.515625 35.984375  Q 9.515625 38.03125 10.46875 40.46875  Q 11.421875 42.921875 13.71875 45.015625  Q 16.015625 47.125 19.921875 48.515625  Q 23.828125 49.90625 29.6875 49.90625  Q 32.5625 49.90625 36.078125 49.578125  Q 39.59375 49.265625 43.40625 48.484375  L 43.40625 40.921875  Q 39.40625 41.890625 35.8125 42.359375  Q 32.234375 42.828125 29.59375 42.828125  Q 26.421875 42.828125 24.25 42.328125  Q 22.078125 41.84375 20.734375 40.984375  Q 19.390625 40.140625 18.796875 38.984375  Q 18.21875 37.84375 18.21875 36.53125  Q 18.21875 35.203125 18.71875 34.125  Q 19.234375 33.0625 20.625 32.0625  Q 22.015625 31.0625 24.5 30.046875  Q 27 29.046875 31 27.875  Q 35.359375 26.609375 38.328125 25.21875  Q 41.3125 23.828125 43.15625 22.109375  Q 45.015625 20.40625 45.8125 18.25  Q 46.625 16.109375 46.625 13.375  z \" id=\"Consolas-115\"/>\n",
       "     </defs>\n",
       "     <use xlink:href=\"#Consolas-115\"/>\n",
       "    </g>\n",
       "   </g>\n",
       "   <g id=\"text_4\">\n",
       "    <!-- r -->\n",
       "    <g style=\"fill:#444443;\" transform=\"translate(26.5608 8.97)scale(0.13 -0.13)\">\n",
       "     <defs>\n",
       "      <path d=\"M 9.8125 49.03125  L 17.578125 49.03125  L 17.828125 39.984375  Q 22.171875 45.21875 26.390625 47.5625  Q 30.609375 49.90625 34.90625 49.90625  Q 42.53125 49.90625 46.453125 44.96875  Q 50.390625 40.046875 50.09375 30.328125  L 41.5 30.328125  Q 41.65625 36.765625 39.625 39.671875  Q 37.59375 42.578125 33.6875 42.578125  Q 31.984375 42.578125 30.25 41.96875  Q 28.515625 41.359375 26.6875 40.015625  Q 24.859375 38.671875 22.796875 36.5625  Q 20.75 34.46875 18.40625 31.5  L 18.40625 0  L 9.8125 0  z \" id=\"Consolas-114\"/>\n",
       "     </defs>\n",
       "     <use xlink:href=\"#Consolas-114\"/>\n",
       "    </g>\n",
       "   </g>\n",
       "   <g id=\"text_5\">\n",
       "    <!-- 5 -->\n",
       "    <g transform=\"translate(6.8184 36.071121)rotate(-90)scale(0.09 -0.09)\">\n",
       "     <defs>\n",
       "      <path d=\"M 4.15625 18.75  L 13.375 19.53125  Q 14.40625 12.796875 18.140625 9.390625  Q 21.875 6 27.15625 6  Q 33.5 6 37.890625 10.78125  Q 42.28125 15.578125 42.28125 23.484375  Q 42.28125 31 38.0625 35.34375  Q 33.84375 39.703125 27 39.703125  Q 22.75 39.703125 19.328125 37.765625  Q 15.921875 35.84375 13.96875 32.765625  L 5.71875 33.84375  L 12.640625 70.609375  L 48.25 70.609375  L 48.25 62.203125  L 19.671875 62.203125  L 15.828125 42.96875  Q 22.265625 47.46875 29.34375 47.46875  Q 38.71875 47.46875 45.15625 40.96875  Q 51.609375 34.46875 51.609375 24.265625  Q 51.609375 14.546875 45.953125 7.46875  Q 39.0625 -1.21875 27.15625 -1.21875  Q 17.390625 -1.21875 11.203125 4.25  Q 5.03125 9.71875 4.15625 18.75  z \" id=\"ArialMT-53\"/>\n",
       "     </defs>\n",
       "     <use xlink:href=\"#ArialMT-53\"/>\n",
       "    </g>\n",
       "   </g>\n",
       "   <g id=\"text_6\">\n",
       "    <!-- 6 -->\n",
       "    <g transform=\"translate(19.203778 19.720489)scale(0.09 -0.09)\">\n",
       "     <defs>\n",
       "      <path d=\"M 49.75 54.046875  L 41.015625 53.375  Q 39.84375 58.546875 37.703125 60.890625  Q 34.125 64.65625 28.90625 64.65625  Q 24.703125 64.65625 21.53125 62.3125  Q 17.390625 59.28125 14.984375 53.46875  Q 12.59375 47.65625 12.5 36.921875  Q 15.671875 41.75 20.265625 44.09375  Q 24.859375 46.4375 29.890625 46.4375  Q 38.671875 46.4375 44.84375 39.96875  Q 51.03125 33.5 51.03125 23.25  Q 51.03125 16.5 48.125 10.71875  Q 45.21875 4.9375 40.140625 1.859375  Q 35.0625 -1.21875 28.609375 -1.21875  Q 17.625 -1.21875 10.6875 6.859375  Q 3.765625 14.9375 3.765625 33.5  Q 3.765625 54.25 11.421875 63.671875  Q 18.109375 71.875 29.4375 71.875  Q 37.890625 71.875 43.28125 67.140625  Q 48.6875 62.40625 49.75 54.046875  z M 13.875 23.1875  Q 13.875 18.65625 15.796875 14.5  Q 17.71875 10.359375 21.1875 8.171875  Q 24.65625 6 28.46875 6  Q 34.03125 6 38.03125 10.484375  Q 42.046875 14.984375 42.046875 22.703125  Q 42.046875 30.125 38.078125 34.390625  Q 34.125 38.671875 28.125 38.671875  Q 22.171875 38.671875 18.015625 34.390625  Q 13.875 30.125 13.875 23.1875  z \" id=\"ArialMT-54\"/>\n",
       "     </defs>\n",
       "     <use xlink:href=\"#ArialMT-54\"/>\n",
       "    </g>\n",
       "   </g>\n",
       "   <g id=\"text_7\">\n",
       "    <!-- 3 -->\n",
       "    <g transform=\"translate(31.332954 36.983362)rotate(-45)scale(0.09 -0.09)\">\n",
       "     <defs>\n",
       "      <path d=\"M 4.203125 18.890625  L 12.984375 20.0625  Q 14.5 12.59375 18.140625 9.296875  Q 21.78125 6 27 6  Q 33.203125 6 37.46875 10.296875  Q 41.75 14.59375 41.75 20.953125  Q 41.75 27 37.796875 30.921875  Q 33.84375 34.859375 27.734375 34.859375  Q 25.25 34.859375 21.53125 33.890625  L 22.515625 41.609375  Q 23.390625 41.5 23.921875 41.5  Q 29.546875 41.5 34.03125 44.421875  Q 38.53125 47.359375 38.53125 53.46875  Q 38.53125 58.296875 35.25 61.46875  Q 31.984375 64.65625 26.8125 64.65625  Q 21.6875 64.65625 18.265625 61.421875  Q 14.84375 58.203125 13.875 51.765625  L 5.078125 53.328125  Q 6.6875 62.15625 12.390625 67.015625  Q 18.109375 71.875 26.609375 71.875  Q 32.46875 71.875 37.390625 69.359375  Q 42.328125 66.84375 44.9375 62.5  Q 47.5625 58.15625 47.5625 53.265625  Q 47.5625 48.640625 45.0625 44.828125  Q 42.578125 41.015625 37.703125 38.765625  Q 44.046875 37.3125 47.5625 32.6875  Q 51.078125 28.078125 51.078125 21.140625  Q 51.078125 11.765625 44.234375 5.25  Q 37.40625 -1.265625 26.953125 -1.265625  Q 17.53125 -1.265625 11.296875 4.34375  Q 5.078125 9.96875 4.203125 18.890625  z \" id=\"ArialMT-51\"/>\n",
       "     </defs>\n",
       "     <use xlink:href=\"#ArialMT-51\"/>\n",
       "    </g>\n",
       "   </g>\n",
       "  </g>\n",
       " </g>\n",
       " <defs>\n",
       "  <clipPath id=\"p503921fdd0\">\n",
       "   <rect height=\"41.491069\" width=\"33.0894\" x=\"0\" y=\"4.02324\"/>\n",
       "  </clipPath>\n",
       " </defs>\n",
       "</svg>"
      ],
      "text/plain": [
       "<IPython.core.display.SVG object>"
      ]
     },
     "metadata": {},
     "output_type": "display_data"
    }
   ],
   "source": [
    "to_original = torch.nn.Linear(n_heads * qkv_dim, embedding_dim)\n",
    "weighted_embedding_tensor = to_original(reshaped_weighted_value)\n",
    "vis_tensor(weighted_embedding_tensor)"
   ]
  },
  {
   "cell_type": "markdown",
   "metadata": {},
   "source": [
    "Pretty cool! Since we might have lost some information about the word embeddings themselves (`embedding_tensor`), we can add them back in again. "
   ]
  },
  {
   "cell_type": "code",
   "execution_count": 74,
   "metadata": {},
   "outputs": [
    {
     "data": {
      "text/plain": [
       "tensor([[-0.4647,  0.6697,  0.8663, -0.4865,  0.5267, -0.3121],\n",
       "        [ 1.5732, -0.1808, -0.4681, -0.0126,  0.4392, -0.2777],\n",
       "        [ 1.6621, -1.1677, -0.4384, -0.0086,  0.4330, -0.2651],\n",
       "        [ 0.6995, -0.3092, -0.7494,  0.6220, -0.3530,  1.2224],\n",
       "        [-1.1651,  0.3405,  1.8940,  1.9758,  1.1110,  0.8676]],\n",
       "       grad_fn=<SelectBackward>)"
      ]
     },
     "execution_count": 74,
     "metadata": {},
     "output_type": "execute_result"
    }
   ],
   "source": [
    "weighted_embedding_tensor = weighted_embedding_tensor + embedding_tensor; weighted_embedding_tensor[0]"
   ]
  },
  {
   "cell_type": "markdown",
   "metadata": {},
   "source": [
    "### Layer normalization\n",
    "\n",
    "Do some normalization with each weighted embedding such that each embedding has mean 0 and standard deviation 1."
   ]
  },
  {
   "cell_type": "code",
   "execution_count": 75,
   "metadata": {},
   "outputs": [
    {
     "name": "stdout",
     "output_type": "stream",
     "text": [
      "tensor([-0., 0., 0., 0., -0.], grad_fn=<RoundBackward>)\n",
      "tensor([1., 1., 1., 1., 1.], grad_fn=<RoundBackward>)\n"
     ]
    }
   ],
   "source": [
    "layer_norm = torch.nn.LayerNorm(normalized_shape=embedding_dim)\n",
    "weighted_embedding_tensor = layer_norm(weighted_embedding_tensor)\n",
    "print(weighted_embedding_tensor[0].mean(dim=1).round())\n",
    "print(weighted_embedding_tensor[0].std(dim=1).round())"
   ]
  },
  {
   "cell_type": "markdown",
   "metadata": {},
   "source": [
    "## Step III: Position-wise feed forward\n",
    "\n",
    "Other than in the slides, we will skip the position-wise feed-forward part here, since it is basically just yet another non-linear transformation of `weighted_embedding_tensor`. "
   ]
  },
  {
   "cell_type": "markdown",
   "metadata": {},
   "source": [
    "## Step IV: Predict masked words"
   ]
  },
  {
   "cell_type": "markdown",
   "metadata": {},
   "source": [
    "Finally, we can have one last layer which maps from embedding dimensionality to vocab_size (total number of words/tokens). "
   ]
  },
  {
   "cell_type": "code",
   "execution_count": 76,
   "metadata": {},
   "outputs": [
    {
     "data": {
      "image/svg+xml": [
       "<svg height=\"45.514309pt\" version=\"1.1\" viewBox=\"0 0 36.13675 45.514309\" width=\"36.13675pt\" xmlns=\"http://www.w3.org/2000/svg\" xmlns:xlink=\"http://www.w3.org/1999/xlink\">\n",
       " <metadata>\n",
       "  <rdf:RDF xmlns:cc=\"http://creativecommons.org/ns#\" xmlns:dc=\"http://purl.org/dc/elements/1.1/\" xmlns:rdf=\"http://www.w3.org/1999/02/22-rdf-syntax-ns#\">\n",
       "   <cc:Work>\n",
       "    <dc:type rdf:resource=\"http://purl.org/dc/dcmitype/StillImage\"/>\n",
       "    <dc:date>2020-10-14T12:57:06.205305</dc:date>\n",
       "    <dc:format>image/svg+xml</dc:format>\n",
       "    <dc:creator>\n",
       "     <cc:Agent>\n",
       "      <dc:title>Matplotlib v3.3.0, https://matplotlib.org/</dc:title>\n",
       "     </cc:Agent>\n",
       "    </dc:creator>\n",
       "   </cc:Work>\n",
       "  </rdf:RDF>\n",
       " </metadata>\n",
       " <defs>\n",
       "  <style type=\"text/css\">*{stroke-linecap:butt;stroke-linejoin:round;}</style>\n",
       " </defs>\n",
       " <g id=\"figure_1\">\n",
       "  <g id=\"patch_1\">\n",
       "   <path d=\"M 0 45.514309  L 36.13675 45.514309  L 36.13675 0  L 0 0  z \" style=\"fill:none;\"/>\n",
       "  </g>\n",
       "  <g id=\"axes_1\">\n",
       "   <g id=\"patch_2\">\n",
       "    <path clip-path=\"url(#pffe1abe2b1)\" d=\"M 10.28115 43.068109  L 33.13125 43.068109  L 33.13125 20.807689  L 10.28115 20.807689  z \" style=\"fill:#cfe2d4;stroke:#808080;stroke-linejoin:miter;stroke-width:0.7;\"/>\n",
       "   </g>\n",
       "   <g id=\"patch_3\">\n",
       "    <path clip-path=\"url(#pffe1abe2b1)\" d=\"M 8.60715 44.698909  L 31.45725 44.698909  L 31.45725 22.438489  L 8.60715 22.438489  z \" style=\"fill:#cfe2d4;stroke:#808080;stroke-linejoin:miter;stroke-width:0.7;\"/>\n",
       "   </g>\n",
       "   <g id=\"line2d_1\">\n",
       "    <path clip-path=\"url(#pffe1abe2b1)\" d=\"M 6.32214 12.711247  L 33.74226 12.711247  \" style=\"fill:none;stroke:#c2c2c2;stroke-linecap:square;stroke-width:0.5;\"/>\n",
       "   </g>\n",
       "   <g id=\"text_1\">\n",
       "    <!-- t -->\n",
       "    <g style=\"fill:#444443;\" transform=\"translate(6.975 8.97)scale(0.13 -0.13)\">\n",
       "     <defs>\n",
       "      <path d=\"M 47.3125 0.6875  Q 44.4375 -0.046875 41.359375 -0.359375  Q 38.28125 -0.6875 35.109375 -0.6875  Q 25.875 -0.6875 21.328125 3.484375  Q 16.796875 7.671875 16.796875 16.3125  L 16.796875 41.890625  L 3.078125 41.890625  L 3.078125 49.03125  L 16.796875 49.03125  L 16.796875 62.5  L 25.296875 64.703125  L 25.296875 49.03125  L 47.3125 49.03125  L 47.3125 41.890625  L 25.296875 41.890625  L 25.296875 17  Q 25.296875 11.71875 28.09375 9.109375  Q 30.90625 6.5 36.375 6.5  Q 38.71875 6.5 41.5 6.859375  Q 44.28125 7.234375 47.3125 8.015625  z \" id=\"Consolas-116\"/>\n",
       "     </defs>\n",
       "     <use xlink:href=\"#Consolas-116\"/>\n",
       "    </g>\n",
       "   </g>\n",
       "   <g id=\"text_2\">\n",
       "    <!-- n -->\n",
       "    <g style=\"fill:#444443;\" transform=\"translate(13.5036 8.97)scale(0.13 -0.13)\">\n",
       "     <defs>\n",
       "      <path d=\"M 7.8125 49.03125  L 15.375 49.03125  L 15.71875 41.109375  Q 17.875 43.65625 19.875 45.328125  Q 21.875 47.015625 23.796875 48.046875  Q 25.734375 49.078125 27.734375 49.484375  Q 29.734375 49.90625 31.890625 49.90625  Q 39.453125 49.90625 43.328125 45.4375  Q 47.21875 40.96875 47.21875 31.984375  L 47.21875 0  L 38.71875 0  L 38.71875 31.296875  Q 38.71875 37.0625 36.5625 39.8125  Q 34.421875 42.578125 30.171875 42.578125  Q 28.609375 42.578125 27.125 42.109375  Q 25.640625 41.65625 24.015625 40.5  Q 22.40625 39.359375 20.53125 37.40625  Q 18.65625 35.453125 16.3125 32.515625  L 16.3125 0  L 7.8125 0  z \" id=\"Consolas-110\"/>\n",
       "     </defs>\n",
       "     <use xlink:href=\"#Consolas-110\"/>\n",
       "    </g>\n",
       "   </g>\n",
       "   <g id=\"text_3\">\n",
       "    <!-- s -->\n",
       "    <g style=\"fill:#444443;\" transform=\"translate(20.0322 8.97)scale(0.13 -0.13)\">\n",
       "     <defs>\n",
       "      <path d=\"M 46.625 13.375  Q 46.625 10.796875 45.75 8.734375  Q 44.875 6.6875 43.359375 5.09375  Q 41.84375 3.515625 39.84375 2.390625  Q 37.84375 1.265625 35.5625 0.53125  Q 33.296875 -0.203125 30.90625 -0.53125  Q 28.515625 -0.875 26.21875 -0.875  Q 21.234375 -0.875 17.0625 -0.4375  Q 12.890625 0 8.890625 0.984375  L 8.890625 8.796875  Q 13.1875 7.5625 17.4375 6.921875  Q 21.6875 6.296875 25.875 6.296875  Q 31.984375 6.296875 34.90625 7.953125  Q 37.84375 9.625 37.84375 12.703125  Q 37.84375 14.015625 37.375 15.0625  Q 36.921875 16.109375 35.6875 17.0625  Q 34.46875 18.015625 31.90625 19.03125  Q 29.34375 20.0625 24.90625 21.390625  Q 21.578125 22.359375 18.765625 23.609375  Q 15.96875 24.859375 13.90625 26.5625  Q 11.859375 28.265625 10.6875 30.5625  Q 9.515625 32.859375 9.515625 35.984375  Q 9.515625 38.03125 10.46875 40.46875  Q 11.421875 42.921875 13.71875 45.015625  Q 16.015625 47.125 19.921875 48.515625  Q 23.828125 49.90625 29.6875 49.90625  Q 32.5625 49.90625 36.078125 49.578125  Q 39.59375 49.265625 43.40625 48.484375  L 43.40625 40.921875  Q 39.40625 41.890625 35.8125 42.359375  Q 32.234375 42.828125 29.59375 42.828125  Q 26.421875 42.828125 24.25 42.328125  Q 22.078125 41.84375 20.734375 40.984375  Q 19.390625 40.140625 18.796875 38.984375  Q 18.21875 37.84375 18.21875 36.53125  Q 18.21875 35.203125 18.71875 34.125  Q 19.234375 33.0625 20.625 32.0625  Q 22.015625 31.0625 24.5 30.046875  Q 27 29.046875 31 27.875  Q 35.359375 26.609375 38.328125 25.21875  Q 41.3125 23.828125 43.15625 22.109375  Q 45.015625 20.40625 45.8125 18.25  Q 46.625 16.109375 46.625 13.375  z \" id=\"Consolas-115\"/>\n",
       "     </defs>\n",
       "     <use xlink:href=\"#Consolas-115\"/>\n",
       "    </g>\n",
       "   </g>\n",
       "   <g id=\"text_4\">\n",
       "    <!-- r -->\n",
       "    <g style=\"fill:#444443;\" transform=\"translate(26.5608 8.97)scale(0.13 -0.13)\">\n",
       "     <defs>\n",
       "      <path d=\"M 9.8125 49.03125  L 17.578125 49.03125  L 17.828125 39.984375  Q 22.171875 45.21875 26.390625 47.5625  Q 30.609375 49.90625 34.90625 49.90625  Q 42.53125 49.90625 46.453125 44.96875  Q 50.390625 40.046875 50.09375 30.328125  L 41.5 30.328125  Q 41.65625 36.765625 39.625 39.671875  Q 37.59375 42.578125 33.6875 42.578125  Q 31.984375 42.578125 30.25 41.96875  Q 28.515625 41.359375 26.6875 40.015625  Q 24.859375 38.671875 22.796875 36.5625  Q 20.75 34.46875 18.40625 31.5  L 18.40625 0  L 9.8125 0  z \" id=\"Consolas-114\"/>\n",
       "     </defs>\n",
       "     <use xlink:href=\"#Consolas-114\"/>\n",
       "    </g>\n",
       "   </g>\n",
       "   <g id=\"text_5\">\n",
       "    <!-- 5 -->\n",
       "    <g transform=\"translate(6.8184 36.071121)rotate(-90)scale(0.09 -0.09)\">\n",
       "     <defs>\n",
       "      <path d=\"M 4.15625 18.75  L 13.375 19.53125  Q 14.40625 12.796875 18.140625 9.390625  Q 21.875 6 27.15625 6  Q 33.5 6 37.890625 10.78125  Q 42.28125 15.578125 42.28125 23.484375  Q 42.28125 31 38.0625 35.34375  Q 33.84375 39.703125 27 39.703125  Q 22.75 39.703125 19.328125 37.765625  Q 15.921875 35.84375 13.96875 32.765625  L 5.71875 33.84375  L 12.640625 70.609375  L 48.25 70.609375  L 48.25 62.203125  L 19.671875 62.203125  L 15.828125 42.96875  Q 22.265625 47.46875 29.34375 47.46875  Q 38.71875 47.46875 45.15625 40.96875  Q 51.609375 34.46875 51.609375 24.265625  Q 51.609375 14.546875 45.953125 7.46875  Q 39.0625 -1.21875 27.15625 -1.21875  Q 17.390625 -1.21875 11.203125 4.25  Q 5.03125 9.71875 4.15625 18.75  z \" id=\"ArialMT-53\"/>\n",
       "     </defs>\n",
       "     <use xlink:href=\"#ArialMT-53\"/>\n",
       "    </g>\n",
       "   </g>\n",
       "   <g id=\"text_6\">\n",
       "    <!-- 16 -->\n",
       "    <g transform=\"translate(16.701356 19.720489)scale(0.09 -0.09)\">\n",
       "     <defs>\n",
       "      <path d=\"M 37.25 0  L 28.46875 0  L 28.46875 56  Q 25.296875 52.984375 20.140625 49.953125  Q 14.984375 46.921875 10.890625 45.40625  L 10.890625 53.90625  Q 18.265625 57.375 23.78125 62.296875  Q 29.296875 67.234375 31.59375 71.875  L 37.25 71.875  z \" id=\"ArialMT-49\"/>\n",
       "      <path d=\"M 49.75 54.046875  L 41.015625 53.375  Q 39.84375 58.546875 37.703125 60.890625  Q 34.125 64.65625 28.90625 64.65625  Q 24.703125 64.65625 21.53125 62.3125  Q 17.390625 59.28125 14.984375 53.46875  Q 12.59375 47.65625 12.5 36.921875  Q 15.671875 41.75 20.265625 44.09375  Q 24.859375 46.4375 29.890625 46.4375  Q 38.671875 46.4375 44.84375 39.96875  Q 51.03125 33.5 51.03125 23.25  Q 51.03125 16.5 48.125 10.71875  Q 45.21875 4.9375 40.140625 1.859375  Q 35.0625 -1.21875 28.609375 -1.21875  Q 17.625 -1.21875 10.6875 6.859375  Q 3.765625 14.9375 3.765625 33.5  Q 3.765625 54.25 11.421875 63.671875  Q 18.109375 71.875 29.4375 71.875  Q 37.890625 71.875 43.28125 67.140625  Q 48.6875 62.40625 49.75 54.046875  z M 13.875 23.1875  Q 13.875 18.65625 15.796875 14.5  Q 17.71875 10.359375 21.1875 8.171875  Q 24.65625 6 28.46875 6  Q 34.03125 6 38.03125 10.484375  Q 42.046875 14.984375 42.046875 22.703125  Q 42.046875 30.125 38.078125 34.390625  Q 34.125 38.671875 28.125 38.671875  Q 22.171875 38.671875 18.015625 34.390625  Q 13.875 30.125 13.875 23.1875  z \" id=\"ArialMT-54\"/>\n",
       "     </defs>\n",
       "     <use xlink:href=\"#ArialMT-49\"/>\n",
       "     <use x=\"55.615234\" xlink:href=\"#ArialMT-54\"/>\n",
       "    </g>\n",
       "   </g>\n",
       "   <g id=\"text_7\">\n",
       "    <!-- 3 -->\n",
       "    <g transform=\"translate(31.332954 36.983362)rotate(-45)scale(0.09 -0.09)\">\n",
       "     <defs>\n",
       "      <path d=\"M 4.203125 18.890625  L 12.984375 20.0625  Q 14.5 12.59375 18.140625 9.296875  Q 21.78125 6 27 6  Q 33.203125 6 37.46875 10.296875  Q 41.75 14.59375 41.75 20.953125  Q 41.75 27 37.796875 30.921875  Q 33.84375 34.859375 27.734375 34.859375  Q 25.25 34.859375 21.53125 33.890625  L 22.515625 41.609375  Q 23.390625 41.5 23.921875 41.5  Q 29.546875 41.5 34.03125 44.421875  Q 38.53125 47.359375 38.53125 53.46875  Q 38.53125 58.296875 35.25 61.46875  Q 31.984375 64.65625 26.8125 64.65625  Q 21.6875 64.65625 18.265625 61.421875  Q 14.84375 58.203125 13.875 51.765625  L 5.078125 53.328125  Q 6.6875 62.15625 12.390625 67.015625  Q 18.109375 71.875 26.609375 71.875  Q 32.46875 71.875 37.390625 69.359375  Q 42.328125 66.84375 44.9375 62.5  Q 47.5625 58.15625 47.5625 53.265625  Q 47.5625 48.640625 45.0625 44.828125  Q 42.578125 41.015625 37.703125 38.765625  Q 44.046875 37.3125 47.5625 32.6875  Q 51.078125 28.078125 51.078125 21.140625  Q 51.078125 11.765625 44.234375 5.25  Q 37.40625 -1.265625 26.953125 -1.265625  Q 17.53125 -1.265625 11.296875 4.34375  Q 5.078125 9.96875 4.203125 18.890625  z \" id=\"ArialMT-51\"/>\n",
       "     </defs>\n",
       "     <use xlink:href=\"#ArialMT-51\"/>\n",
       "    </g>\n",
       "   </g>\n",
       "  </g>\n",
       " </g>\n",
       " <defs>\n",
       "  <clipPath id=\"pffe1abe2b1\">\n",
       "   <rect height=\"41.491069\" width=\"33.0894\" x=\"0\" y=\"4.02324\"/>\n",
       "  </clipPath>\n",
       " </defs>\n",
       "</svg>"
      ],
      "text/plain": [
       "<IPython.core.display.SVG object>"
      ]
     },
     "metadata": {},
     "output_type": "display_data"
    }
   ],
   "source": [
    "vocab_layer = torch.nn.Linear(embedding_dim, len(vocab))\n",
    "output = torch.nn.functional.softmax(vocab_layer(weighted_embedding_tensor),dim=2)\n",
    "vis_tensor(output)"
   ]
  },
  {
   "cell_type": "markdown",
   "metadata": {},
   "source": [
    "Let's take a closer look at the values for the second word in the first sentence, which is the masked word _likes_:"
   ]
  },
  {
   "cell_type": "code",
   "execution_count": 77,
   "metadata": {},
   "outputs": [
    {
     "data": {
      "text/plain": [
       "tensor([0.0634, 0.0247, 0.0923, 0.0259, 0.0818, 0.0395, 0.0198, 0.0966, 0.0251,\n",
       "        0.0333, 0.0433, 0.0751, 0.0960, 0.0421, 0.1207, 0.1204],\n",
       "       grad_fn=<SelectBackward>)"
      ]
     },
     "execution_count": 77,
     "metadata": {},
     "output_type": "execute_result"
    }
   ],
   "source": [
    "output[0][1]"
   ]
  },
  {
   "cell_type": "markdown",
   "metadata": {},
   "source": [
    "Each of these value can be interpreted as the probability that a weighted embedding corresponds to a word. We hope that after training such a model, the value at position 8 is the highest.."
   ]
  },
  {
   "cell_type": "code",
   "execution_count": 78,
   "metadata": {},
   "outputs": [
    {
     "data": {
      "text/plain": [
       "8"
      ]
     },
     "execution_count": 78,
     "metadata": {},
     "output_type": "execute_result"
    }
   ],
   "source": [
    "vocab[\"likes\"]"
   ]
  },
  {
   "cell_type": "markdown",
   "metadata": {},
   "source": [
    "Speaking of training such a model, let's have a look at a pretrained one..."
   ]
  },
  {
   "cell_type": "code",
   "execution_count": 79,
   "metadata": {},
   "outputs": [
    {
     "name": "stderr",
     "output_type": "stream",
     "text": [
      "Some weights of the model checkpoint at bert-base-uncased were not used when initializing BertForMaskedLM: ['cls.seq_relationship.weight', 'cls.seq_relationship.bias']\n",
      "- This IS expected if you are initializing BertForMaskedLM from the checkpoint of a model trained on another task or with another architecture (e.g. initializing a BertForSequenceClassification model from a BertForPretraining model).\n",
      "- This IS NOT expected if you are initializing BertForMaskedLM from the checkpoint of a model that you expect to be exactly identical (initializing a BertForSequenceClassification model from a BertForSequenceClassification model).\n"
     ]
    }
   ],
   "source": [
    "from transformers import BertTokenizer, BertForMaskedLM\n",
    "tokenizer = BertTokenizer.from_pretrained('bert-base-uncased')\n",
    "model = BertForMaskedLM.from_pretrained('bert-base-uncased')"
   ]
  },
  {
   "cell_type": "code",
   "execution_count": 80,
   "metadata": {},
   "outputs": [],
   "source": [
    "sentence = \"she [MASK] the summer better\"\n",
    "input_ids = tokenizer.encode(sentence, return_tensors=\"pt\",add_special_tokens=True)"
   ]
  },
  {
   "cell_type": "code",
   "execution_count": 81,
   "metadata": {},
   "outputs": [
    {
     "data": {
      "text/plain": [
       "torch.Size([1, 7, 30522])"
      ]
     },
     "execution_count": 81,
     "metadata": {},
     "output_type": "execute_result"
    }
   ],
   "source": [
    "logits = model(input_ids)[0];logits.shape"
   ]
  },
  {
   "cell_type": "code",
   "execution_count": 82,
   "metadata": {},
   "outputs": [
    {
     "data": {
      "text/plain": [
       "'liked'"
      ]
     },
     "execution_count": 82,
     "metadata": {},
     "output_type": "execute_result"
    }
   ],
   "source": [
    "token_id = torch.argmax(torch.nn.functional.softmax(logits[:,2,:], dim=1))\n",
    "tokenizer.convert_ids_to_tokens(token_id.item())"
   ]
  },
  {
   "cell_type": "markdown",
   "metadata": {},
   "source": [
    "I hope you enjoyed this tutorial. I you have any questions/suggestions/remarks, let me know ;-). "
   ]
  }
 ],
 "metadata": {
  "kernelspec": {
   "display_name": "Python 3",
   "language": "python",
   "name": "python3"
  },
  "language_info": {
   "codemirror_mode": {
    "name": "ipython",
    "version": 3
   },
   "file_extension": ".py",
   "mimetype": "text/x-python",
   "name": "python",
   "nbconvert_exporter": "python",
   "pygments_lexer": "ipython3",
   "version": "3.7.4"
  }
 },
 "nbformat": 4,
 "nbformat_minor": 4
}
