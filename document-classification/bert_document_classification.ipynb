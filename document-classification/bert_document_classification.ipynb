{
  "nbformat": 4,
  "nbformat_minor": 0,
  "metadata": {
    "colab": {
      "name": "bert-document-classification.ipynb",
      "provenance": [],
      "collapsed_sections": [],
      "toc_visible": true
    },
    "kernelspec": {
      "name": "python3",
      "display_name": "Python 3"
    },
    "accelerator": "GPU"
  },
  "cells": [
    {
      "cell_type": "markdown",
      "metadata": {
        "id": "EKOTlwcmxmej"
      },
      "source": [
        "# Classifying BBC Full Text with BERT\n"
      ]
    },
    {
      "cell_type": "markdown",
      "metadata": {
        "id": "BJR6t_gCQe_x"
      },
      "source": [
        "\n",
        "This Notebook will show you how to fine-tune BERT for *document* classification tasks using the [BBC Full Text](https://www.kaggle.com/shivamkushwaha/bbc-full-text-document-classification) dataset as an example."
      ]
    },
    {
      "cell_type": "markdown",
      "metadata": {
        "id": "jrC9__lXxTJz"
      },
      "source": [
        "# Contents"
      ]
    },
    {
      "cell_type": "markdown",
      "metadata": {
        "id": "p9MCBOq4xUpr"
      },
      "source": [
        "See \"Table of contents\" in the sidebar to the left."
      ]
    },
    {
      "cell_type": "markdown",
      "metadata": {
        "id": "Lj_eBt3G3bo6"
      },
      "source": [
        "# Part I - Setup & Dataset Prep\n",
        "-------------------------------"
      ]
    },
    {
      "cell_type": "markdown",
      "metadata": {
        "id": "RX_ZDhicpHkV"
      },
      "source": [
        "## 1. Setup\n"
      ]
    },
    {
      "cell_type": "markdown",
      "metadata": {
        "id": "nSU7yERLP_66"
      },
      "source": [
        "### 1.1. Using Colab GPU for Training\n"
      ]
    },
    {
      "cell_type": "markdown",
      "metadata": {
        "id": "GI0iOY8zvZzL"
      },
      "source": [
        "\n",
        "Google Colab offers free GPUs and TPUs! Since we'll be training a large neural network it's best to take advantage of this (in this case we'll attach a GPU), otherwise training will take a very long time.\n",
        "\n",
        "A GPU can be added by going to the menu and selecting:\n",
        "\n",
        "`Edit 🡒 Notebook Settings 🡒 Hardware accelerator 🡒 (GPU)`\n",
        "\n",
        "Then run the following cell to confirm that the GPU is detected."
      ]
    },
    {
      "cell_type": "code",
      "metadata": {
        "id": "DEfSbAA4QHas",
        "colab": {
          "base_uri": "https://localhost:8080/"
        },
        "outputId": "7aadb655-2902-4845-f95b-fc54edc7ba27"
      },
      "source": [
        "import tensorflow as tf\n",
        "\n",
        "# Get the GPU device name.\n",
        "device_name = tf.test.gpu_device_name()\n",
        "\n",
        "# The device name should look like the following:\n",
        "if device_name == '/device:GPU:0':\n",
        "    print('Found GPU at: {}'.format(device_name))\n",
        "else:\n",
        "    raise SystemError('GPU device not found')"
      ],
      "execution_count": 1,
      "outputs": [
        {
          "output_type": "stream",
          "text": [
            "Found GPU at: /device:GPU:0\n"
          ],
          "name": "stdout"
        }
      ]
    },
    {
      "cell_type": "markdown",
      "metadata": {
        "id": "cqG7FzRVFEIv"
      },
      "source": [
        "In order for torch to use the GPU, we need to identify and specify the GPU as the device. Later, in our training loop, we will load data onto the device. "
      ]
    },
    {
      "cell_type": "code",
      "metadata": {
        "id": "oYsV4H8fCpZ-",
        "colab": {
          "base_uri": "https://localhost:8080/"
        },
        "outputId": "4613ddb2-5dc6-4aa6-9da5-439c65ed620b"
      },
      "source": [
        "import torch\n",
        "\n",
        "# If there's a GPU available...\n",
        "if torch.cuda.is_available():    \n",
        "\n",
        "    # Tell PyTorch to use the GPU.    \n",
        "    device = torch.device(\"cuda\")\n",
        "\n",
        "    print('There are %d GPU(s) available.' % torch.cuda.device_count())\n",
        "\n",
        "    print('We will use the GPU:', torch.cuda.get_device_name(0))\n",
        "\n",
        "# If not...\n",
        "else:\n",
        "    print('No GPU available, using the CPU instead.')\n",
        "    device = torch.device(\"cpu\")"
      ],
      "execution_count": 2,
      "outputs": [
        {
          "output_type": "stream",
          "text": [
            "There are 1 GPU(s) available.\n",
            "We will use the GPU: Tesla K80\n"
          ],
          "name": "stdout"
        }
      ]
    },
    {
      "cell_type": "code",
      "metadata": {
        "colab": {
          "base_uri": "https://localhost:8080/"
        },
        "id": "e84uJB1lyoue",
        "outputId": "ccfc6c41-aca2-44a6-a3f4-73ada885a7e9"
      },
      "source": [
        "!nvidia-smi"
      ],
      "execution_count": 3,
      "outputs": [
        {
          "output_type": "stream",
          "text": [
            "Thu Jan 14 14:15:40 2021       \n",
            "+-----------------------------------------------------------------------------+\n",
            "| NVIDIA-SMI 460.27.04    Driver Version: 418.67       CUDA Version: 10.1     |\n",
            "|-------------------------------+----------------------+----------------------+\n",
            "| GPU  Name        Persistence-M| Bus-Id        Disp.A | Volatile Uncorr. ECC |\n",
            "| Fan  Temp  Perf  Pwr:Usage/Cap|         Memory-Usage | GPU-Util  Compute M. |\n",
            "|                               |                      |               MIG M. |\n",
            "|===============================+======================+======================|\n",
            "|   0  Tesla K80           Off  | 00000000:00:04.0 Off |                    0 |\n",
            "| N/A   72C    P0    77W / 149W |    133MiB / 11441MiB |      0%      Default |\n",
            "|                               |                      |                 ERR! |\n",
            "+-------------------------------+----------------------+----------------------+\n",
            "                                                                               \n",
            "+-----------------------------------------------------------------------------+\n",
            "| Processes:                                                                  |\n",
            "|  GPU   GI   CI        PID   Type   Process name                  GPU Memory |\n",
            "|        ID   ID                                                   Usage      |\n",
            "|=============================================================================|\n",
            "|  No running processes found                                                 |\n",
            "+-----------------------------------------------------------------------------+\n"
          ],
          "name": "stdout"
        }
      ]
    },
    {
      "cell_type": "markdown",
      "metadata": {
        "id": "2ElsnSNUridI"
      },
      "source": [
        "### 1.2. Installing the Hugging Face Library\n"
      ]
    },
    {
      "cell_type": "markdown",
      "metadata": {
        "id": "G_N2UDLevYWn"
      },
      "source": [
        "\n",
        "Next, let's install the [transformers](https://github.com/huggingface/transformers) package from Hugging Face which will give us a pytorch interface for working with BERT. "
      ]
    },
    {
      "cell_type": "code",
      "metadata": {
        "id": "0NmMdkZO8R6q"
      },
      "source": [
        "!pip install -qq transformers"
      ],
      "execution_count": 4,
      "outputs": []
    },
    {
      "cell_type": "markdown",
      "metadata": {
        "id": "Bt3HTo7LLMtj"
      },
      "source": [
        "## 2. Retrieve & Inspect Dataset\n",
        "\n"
      ]
    },
    {
      "cell_type": "markdown",
      "metadata": {
        "id": "JMx3Wd3K3B2q"
      },
      "source": [
        "\n",
        "This notebook will download and tokenize a text dataset.\n",
        "\n",
        "We'll use torch.Dataset to build our dataset."
      ]
    },
    {
      "cell_type": "markdown",
      "metadata": {
        "id": "HAjyraFG4Abp"
      },
      "source": [
        "### 2.1. Download\n",
        "--------------------------------------\n",
        "Download the text."
      ]
    },
    {
      "cell_type": "markdown",
      "metadata": {
        "id": "9seHsp8WzQkR"
      },
      "source": [
        "First of all, you have to upload your kaggle credential. Just check [this link](https://www.kaggle.com/docs/api) if you don't know what is it."
      ]
    },
    {
      "cell_type": "code",
      "metadata": {
        "id": "Q-LF9NXd4Abp"
      },
      "source": [
        "!pip install -qq kaggle\n",
        "!pip install -qq --upgrade --force-reinstall --no-deps kaggle"
      ],
      "execution_count": 5,
      "outputs": []
    },
    {
      "cell_type": "code",
      "metadata": {
        "colab": {
          "base_uri": "https://localhost:8080/"
        },
        "id": "3rXYvN9s0pCT",
        "outputId": "ee42b324-aa42-4f4a-ac86-b32a912f1857"
      },
      "source": [
        "!mkdir /root/.kaggle"
      ],
      "execution_count": 19,
      "outputs": [
        {
          "output_type": "stream",
          "text": [
            "mkdir: cannot create directory ‘/root/.kaggle’: File exists\n"
          ],
          "name": "stdout"
        }
      ]
    },
    {
      "cell_type": "code",
      "metadata": {
        "id": "Lcer_wFYz4Mi"
      },
      "source": [
        "!mv kaggle.json /root/.kaggle/"
      ],
      "execution_count": 20,
      "outputs": []
    },
    {
      "cell_type": "code",
      "metadata": {
        "id": "ywpNZrp1z4DW"
      },
      "source": [
        "!chmod 600 /root/.kaggle/kaggle.json"
      ],
      "execution_count": 21,
      "outputs": []
    },
    {
      "cell_type": "code",
      "metadata": {
        "colab": {
          "base_uri": "https://localhost:8080/"
        },
        "id": "CMqDr_xEz30C",
        "outputId": "474cc770-1a82-4c41-992c-0d320148d967"
      },
      "source": [
        "!kaggle datasets download -d shivamkushwaha/bbc-full-text-document-classification"
      ],
      "execution_count": 22,
      "outputs": [
        {
          "output_type": "stream",
          "text": [
            "Downloading bbc-full-text-document-classification.zip to /content\n",
            " 72% 4.00M/5.59M [00:00<00:00, 5.03MB/s]\n",
            "100% 5.59M/5.59M [00:00<00:00, 6.98MB/s]\n"
          ],
          "name": "stdout"
        }
      ]
    },
    {
      "cell_type": "code",
      "metadata": {
        "id": "NY-YWxyR0CkM"
      },
      "source": [
        "!unzip -qq bbc-full-text-document-classification.zip"
      ],
      "execution_count": 23,
      "outputs": []
    },
    {
      "cell_type": "markdown",
      "metadata": {
        "id": "02NmUilP4Abs"
      },
      "source": [
        "### 2.2. Parse & Inspect\n",
        "-------------------\n"
      ]
    },
    {
      "cell_type": "code",
      "metadata": {
        "id": "S_HpxXMZ48kv"
      },
      "source": [
        "from typing import List, Mapping, Tuple"
      ],
      "execution_count": 6,
      "outputs": []
    },
    {
      "cell_type": "code",
      "metadata": {
        "id": "Kcaudkx66cI6"
      },
      "source": [
        "import logging\n",
        "import os\n",
        "from pathlib import Path"
      ],
      "execution_count": 7,
      "outputs": []
    },
    {
      "cell_type": "code",
      "metadata": {
        "id": "hkYdBEK44Abs",
        "colab": {
          "base_uri": "https://localhost:8080/"
        },
        "outputId": "174cc4b4-1213-4b23-e7c0-deb0bc9100e9"
      },
      "source": [
        "import pandas as pd\n",
        "import numpy as np\n",
        "import re\n",
        "import torch\n",
        "from torch.utils.data import DataLoader, Dataset\n",
        "from transformers import AutoTokenizer\n",
        "import nltk\n",
        "nltk.download('stopwords')"
      ],
      "execution_count": 8,
      "outputs": [
        {
          "output_type": "stream",
          "text": [
            "[nltk_data] Downloading package stopwords to /root/nltk_data...\n",
            "[nltk_data]   Package stopwords is already up-to-date!\n"
          ],
          "name": "stdout"
        },
        {
          "output_type": "execute_result",
          "data": {
            "text/plain": [
              "True"
            ]
          },
          "metadata": {
            "tags": []
          },
          "execution_count": 8
        }
      ]
    },
    {
      "cell_type": "code",
      "metadata": {
        "id": "wR9EsfV_EVzl"
      },
      "source": [
        "import seaborn as sns\n",
        "from pylab import rcParams\n",
        "import matplotlib.pyplot as plt\n",
        "from matplotlib import rc"
      ],
      "execution_count": 9,
      "outputs": []
    },
    {
      "cell_type": "code",
      "metadata": {
        "id": "lCUzXG6SEeV_"
      },
      "source": [
        "from sklearn.model_selection import train_test_split"
      ],
      "execution_count": 10,
      "outputs": []
    },
    {
      "cell_type": "code",
      "metadata": {
        "id": "Lhmj16hN9uNr"
      },
      "source": [
        "from tqdm import tqdm"
      ],
      "execution_count": 11,
      "outputs": []
    },
    {
      "cell_type": "code",
      "metadata": {
        "colab": {
          "base_uri": "https://localhost:8080/"
        },
        "id": "yYkY7LtcET-a",
        "outputId": "19114552-4aff-471a-856a-2e2e20100854"
      },
      "source": [
        "%matplotlib inline\n",
        "%config InlineBackend.figure_format='retina'\n",
        "\n",
        "sns.set(style='whitegrid', palette='muted', font_scale=1.2)\n",
        "\n",
        "HAPPY_COLORS_PALETTE = [\"#01BEFE\", \"#FFDD00\", \"#FF7D00\", \"#FF006D\", \"#ADFF02\", \"#8F00FF\"]\n",
        "\n",
        "sns.set_palette(sns.color_palette(HAPPY_COLORS_PALETTE))\n",
        "\n",
        "rcParams['figure.figsize'] = 12, 8\n",
        "\n",
        "RANDOM_SEED = 42\n",
        "np.random.seed(RANDOM_SEED)\n",
        "torch.manual_seed(RANDOM_SEED)"
      ],
      "execution_count": 12,
      "outputs": [
        {
          "output_type": "execute_result",
          "data": {
            "text/plain": [
              "<torch._C.Generator at 0x7fe37f17e2e8>"
            ]
          },
          "metadata": {
            "tags": []
          },
          "execution_count": 12
        }
      ]
    },
    {
      "cell_type": "code",
      "metadata": {
        "id": "cWqU5XB3Ae1t"
      },
      "source": [
        "text_dir = Path('bbc')\n",
        "set_of_labels = [label for label in os.listdir(text_dir) if os.path.isdir(text_dir / label)]"
      ],
      "execution_count": 13,
      "outputs": []
    },
    {
      "cell_type": "code",
      "metadata": {
        "colab": {
          "base_uri": "https://localhost:8080/"
        },
        "id": "_AMsX78bAYuS",
        "outputId": "cb82bb7a-8ea8-4e1c-c4c4-245bd6218939"
      },
      "source": [
        "texts = []\n",
        "labels = []\n",
        "\n",
        "for label in tqdm(set_of_labels):\n",
        "    files_path = text_dir / label\n",
        "    for file_name in os.listdir(files_path):\n",
        "        if not file_name.endswith('.txt'):\n",
        "            continue\n",
        "        with open(files_path / file_name, 'r', encoding=\"utf8\", errors='ignore') as f:\n",
        "            text = f.read()\n",
        "            texts.append(text)\n",
        "            labels.append(label)"
      ],
      "execution_count": 14,
      "outputs": [
        {
          "output_type": "stream",
          "text": [
            "100%|██████████| 5/5 [00:00<00:00, 52.13it/s]\n"
          ],
          "name": "stderr"
        }
      ]
    },
    {
      "cell_type": "code",
      "metadata": {
        "colab": {
          "base_uri": "https://localhost:8080/"
        },
        "id": "QdT7NMiiBIgJ",
        "outputId": "f695b92c-cf56-4a8c-987a-7ce16df7cbdd"
      },
      "source": [
        "TEXT_COLUMN = 'text'\n",
        "LABEL_COLUMN = 'label'\n",
        "\n",
        "data_df = pd.DataFrame({\n",
        "    TEXT_COLUMN: texts,\n",
        "    LABEL_COLUMN: labels\n",
        "})\n",
        "data_df.shape"
      ],
      "execution_count": 15,
      "outputs": [
        {
          "output_type": "execute_result",
          "data": {
            "text/plain": [
              "(2225, 2)"
            ]
          },
          "metadata": {
            "tags": []
          },
          "execution_count": 15
        }
      ]
    },
    {
      "cell_type": "markdown",
      "metadata": {
        "id": "TgDSOxr7Gjq3"
      },
      "source": [
        "Let's take a look at the first few rows of the table just to see what's in there."
      ]
    },
    {
      "cell_type": "code",
      "metadata": {
        "colab": {
          "base_uri": "https://localhost:8080/",
          "height": 204
        },
        "id": "iYXHbDibGlfs",
        "outputId": "f21c3419-c0fa-4022-d5dc-32e5d2969c10"
      },
      "source": [
        "data_df.head()"
      ],
      "execution_count": 16,
      "outputs": [
        {
          "output_type": "execute_result",
          "data": {
            "text/html": [
              "<div>\n",
              "<style scoped>\n",
              "    .dataframe tbody tr th:only-of-type {\n",
              "        vertical-align: middle;\n",
              "    }\n",
              "\n",
              "    .dataframe tbody tr th {\n",
              "        vertical-align: top;\n",
              "    }\n",
              "\n",
              "    .dataframe thead th {\n",
              "        text-align: right;\n",
              "    }\n",
              "</style>\n",
              "<table border=\"1\" class=\"dataframe\">\n",
              "  <thead>\n",
              "    <tr style=\"text-align: right;\">\n",
              "      <th></th>\n",
              "      <th>text</th>\n",
              "      <th>label</th>\n",
              "    </tr>\n",
              "  </thead>\n",
              "  <tbody>\n",
              "    <tr>\n",
              "      <th>0</th>\n",
              "      <td>Hollywood hunts hits at Sundance\\n\\nThe Sundan...</td>\n",
              "      <td>entertainment</td>\n",
              "    </tr>\n",
              "    <tr>\n",
              "      <th>1</th>\n",
              "      <td>Day-Lewis set for Berlin honour\\n\\nActor Danie...</td>\n",
              "      <td>entertainment</td>\n",
              "    </tr>\n",
              "    <tr>\n",
              "      <th>2</th>\n",
              "      <td>Musical treatment for Capra film\\n\\nThe classi...</td>\n",
              "      <td>entertainment</td>\n",
              "    </tr>\n",
              "    <tr>\n",
              "      <th>3</th>\n",
              "      <td>Top gig award for Scissor Sisters\\n\\nNew York ...</td>\n",
              "      <td>entertainment</td>\n",
              "    </tr>\n",
              "    <tr>\n",
              "      <th>4</th>\n",
              "      <td>Prodigy join V Festival line-up\\n\\nEssex act P...</td>\n",
              "      <td>entertainment</td>\n",
              "    </tr>\n",
              "  </tbody>\n",
              "</table>\n",
              "</div>"
            ],
            "text/plain": [
              "                                                text          label\n",
              "0  Hollywood hunts hits at Sundance\\n\\nThe Sundan...  entertainment\n",
              "1  Day-Lewis set for Berlin honour\\n\\nActor Danie...  entertainment\n",
              "2  Musical treatment for Capra film\\n\\nThe classi...  entertainment\n",
              "3  Top gig award for Scissor Sisters\\n\\nNew York ...  entertainment\n",
              "4  Prodigy join V Festival line-up\\n\\nEssex act P...  entertainment"
            ]
          },
          "metadata": {
            "tags": []
          },
          "execution_count": 16
        }
      ]
    },
    {
      "cell_type": "code",
      "metadata": {
        "id": "KwrXM-vQGnJ2"
      },
      "source": [
        ""
      ],
      "execution_count": 16,
      "outputs": []
    },
    {
      "cell_type": "markdown",
      "metadata": {
        "id": "W0gVCzosGnyY"
      },
      "source": [
        "Let's take a look at the distribution of our labels"
      ]
    },
    {
      "cell_type": "code",
      "metadata": {
        "colab": {
          "base_uri": "https://localhost:8080/",
          "height": 560
        },
        "id": "fSmephYiEnyj",
        "outputId": "8ce2901f-f92a-433b-ae5b-444193fdcf86"
      },
      "source": [
        "ax = sns.countplot(data_df.label)\n",
        "plt.xlabel('type of comment');"
      ],
      "execution_count": 17,
      "outputs": [
        {
          "output_type": "stream",
          "text": [
            "/usr/local/lib/python3.6/dist-packages/seaborn/_decorators.py:43: FutureWarning: Pass the following variable as a keyword arg: x. From version 0.12, the only valid positional argument will be `data`, and passing other arguments without an explicit keyword will result in an error or misinterpretation.\n",
            "  FutureWarning\n"
          ],
          "name": "stderr"
        },
        {
          "output_type": "display_data",
          "data": {
            "image/png": "[encoded data removed]",
            "text/plain": [
              "<Figure size 864x576 with 1 Axes>"
            ]
          },
          "metadata": {
            "tags": [],
            "image/png": {
              "width": 736,
              "height": 489
            }
          }
        }
      ]
    },
    {
      "cell_type": "code",
      "metadata": {
        "id": "61A_TbQQCRZI"
      },
      "source": [
        "# some constants for text cleaning\n",
        "REPLACE_BY_SPACE_RE = re.compile('[/(){}\\[\\]\\|@,;]')\n",
        "BAD_SYMBOLS_RE = re.compile('[^0-9a-z #+_]')\n",
        "STOPWORDS = set(nltk.corpus.stopwords.words('english'))\n",
        "\n",
        "def text_cleaning(text: str) -> str:\n",
        "    \"\"\"\n",
        "    Args:\n",
        "        text (str): a string\n",
        "    Returns:\n",
        "        modified initial string\n",
        "    \"\"\"\n",
        "    text = text.lower() # lowercase text\n",
        "    text = REPLACE_BY_SPACE_RE.sub(' ', text) # replace REPLACE_BY_SPACE_RE symbols by space in text. substitute the matched string in REPLACE_BY_SPACE_RE with space.\n",
        "    text = BAD_SYMBOLS_RE.sub('', text) # remove symbols which are in BAD_SYMBOLS_RE from text. substitute the matched string in BAD_SYMBOLS_RE with nothing. \n",
        "#     text = re.sub(r'\\W+', '', text)\n",
        "    text = ' '.join(word for word in text.split() if word not in STOPWORDS) # remove stopwors from text\n",
        "    return text"
      ],
      "execution_count": 18,
      "outputs": []
    },
    {
      "cell_type": "code",
      "metadata": {
        "id": "wDHhvEUsC1MO"
      },
      "source": [
        "data_df.text = data_df.text.apply(text_cleaning)"
      ],
      "execution_count": 19,
      "outputs": []
    },
    {
      "cell_type": "markdown",
      "metadata": {
        "id": "nOYu6uZjGe6P"
      },
      "source": [
        "Let's take a look at the first few rows of the table after text cleaning"
      ]
    },
    {
      "cell_type": "code",
      "metadata": {
        "colab": {
          "base_uri": "https://localhost:8080/",
          "height": 204
        },
        "id": "GNRc3kboCBCa",
        "outputId": "9f5e2119-37ae-469e-b551-9b87cc182a3e"
      },
      "source": [
        "data_df.head()"
      ],
      "execution_count": 20,
      "outputs": [
        {
          "output_type": "execute_result",
          "data": {
            "text/html": [
              "<div>\n",
              "<style scoped>\n",
              "    .dataframe tbody tr th:only-of-type {\n",
              "        vertical-align: middle;\n",
              "    }\n",
              "\n",
              "    .dataframe tbody tr th {\n",
              "        vertical-align: top;\n",
              "    }\n",
              "\n",
              "    .dataframe thead th {\n",
              "        text-align: right;\n",
              "    }\n",
              "</style>\n",
              "<table border=\"1\" class=\"dataframe\">\n",
              "  <thead>\n",
              "    <tr style=\"text-align: right;\">\n",
              "      <th></th>\n",
              "      <th>text</th>\n",
              "      <th>label</th>\n",
              "    </tr>\n",
              "  </thead>\n",
              "  <tbody>\n",
              "    <tr>\n",
              "      <th>0</th>\n",
              "      <td>hollywood hunts hits sundancethe sundance film...</td>\n",
              "      <td>entertainment</td>\n",
              "    </tr>\n",
              "    <tr>\n",
              "      <th>1</th>\n",
              "      <td>daylewis set berlin honouractor daniel daylewi...</td>\n",
              "      <td>entertainment</td>\n",
              "    </tr>\n",
              "    <tr>\n",
              "      <th>2</th>\n",
              "      <td>musical treatment capra filmthe classic film w...</td>\n",
              "      <td>entertainment</td>\n",
              "    </tr>\n",
              "    <tr>\n",
              "      <th>3</th>\n",
              "      <td>top gig award scissor sistersnew york band sci...</td>\n",
              "      <td>entertainment</td>\n",
              "    </tr>\n",
              "    <tr>\n",
              "      <th>4</th>\n",
              "      <td>prodigy join v festival lineupessex act prodig...</td>\n",
              "      <td>entertainment</td>\n",
              "    </tr>\n",
              "  </tbody>\n",
              "</table>\n",
              "</div>"
            ],
            "text/plain": [
              "                                                text          label\n",
              "0  hollywood hunts hits sundancethe sundance film...  entertainment\n",
              "1  daylewis set berlin honouractor daniel daylewi...  entertainment\n",
              "2  musical treatment capra filmthe classic film w...  entertainment\n",
              "3  top gig award scissor sistersnew york band sci...  entertainment\n",
              "4  prodigy join v festival lineupessex act prodig...  entertainment"
            ]
          },
          "metadata": {
            "tags": []
          },
          "execution_count": 20
        }
      ]
    },
    {
      "cell_type": "markdown",
      "metadata": {
        "id": "kkf3VYdqG1y9"
      },
      "source": [
        "Next, we should divide our dataset on train, validation and test"
      ]
    },
    {
      "cell_type": "code",
      "metadata": {
        "id": "wCCW8HkJEE7t"
      },
      "source": [
        "df_train, df_test = train_test_split(data_df, test_size=0.1, random_state=RANDOM_SEED)\n",
        "df_val, df_test = train_test_split(df_test, test_size=0.5, random_state=RANDOM_SEED)"
      ],
      "execution_count": 21,
      "outputs": []
    },
    {
      "cell_type": "code",
      "metadata": {
        "colab": {
          "base_uri": "https://localhost:8080/"
        },
        "id": "mlpXGnjnEE4x",
        "outputId": "e1fc5ba9-f5cc-4bb7-e6e0-31860082cbba"
      },
      "source": [
        "df_train.shape, df_val.shape, df_test.shape"
      ],
      "execution_count": 22,
      "outputs": [
        {
          "output_type": "execute_result",
          "data": {
            "text/plain": [
              "((2002, 2), (111, 2), (112, 2))"
            ]
          },
          "metadata": {
            "tags": []
          },
          "execution_count": 22
        }
      ]
    },
    {
      "cell_type": "markdown",
      "metadata": {
        "id": "8oFcXxvNG_4p"
      },
      "source": [
        "Let's define class of our Dataset"
      ]
    },
    {
      "cell_type": "code",
      "metadata": {
        "id": "eDWpcuxo5H4w"
      },
      "source": [
        "class TextClassificationDataset(Dataset):\n",
        "    \"\"\"\n",
        "    Wrapper around Torch Dataset to perform text classification\n",
        "    \"\"\"\n",
        "\n",
        "    def __init__(\n",
        "        self,\n",
        "        texts: List[str],\n",
        "        labels: List[str] = None,\n",
        "        label_dict: Mapping[str, int] = None,\n",
        "        max_seq_length: int = 512,\n",
        "        model_name: str = \"distilbert-base-uncased\",\n",
        "    ):\n",
        "        \"\"\"\n",
        "        Args:\n",
        "            text_dir (str): a list with texts to classify or to train the\n",
        "                classifier on\n",
        "            labels (List[str]): a list with classification labels (optional)\n",
        "            label_dict (dict): a dictionary mapping class names to class ids,\n",
        "                to be passed to the validation data (optional)\n",
        "            max_seq_length (int): maximal sequence length in tokens,\n",
        "                texts will be stripped to this length\n",
        "            model_name (str): transformer model name, needed to perform\n",
        "                appropriate tokenization\n",
        "        \"\"\"\n",
        "\n",
        "        self.texts = texts\n",
        "        self.labels = labels\n",
        "        self.label_dict = label_dict\n",
        "        self.max_seq_length = max_seq_length\n",
        "\n",
        "        if self.label_dict is None and labels is not None:\n",
        "            # {'class1': 0, 'class2': 1, 'class3': 2, ...}\n",
        "            # using this instead of `sklearn.preprocessing.LabelEncoder`\n",
        "            # no easily handle unknown target values\n",
        "            self.label_dict = dict(\n",
        "                zip(sorted(set(labels)), range(len(set(labels))))\n",
        "            )\n",
        "\n",
        "        self.tokenizer = AutoTokenizer.from_pretrained(model_name)\n",
        "\n",
        "        # suppresses tokenizer warnings\n",
        "        logging.getLogger(\"transformers.tokenization_utils\").setLevel(\n",
        "            logging.FATAL\n",
        "        )\n",
        "\n",
        "    def __len__(self) -> int:\n",
        "        \"\"\"\n",
        "        Returns:\n",
        "            int: length of the dataset\n",
        "        \"\"\"\n",
        "        return len(self.texts)\n",
        "\n",
        "    def __getitem__(self, index: int) -> Mapping[str, torch.Tensor]:\n",
        "        \"\"\"Gets element of the dataset\n",
        "        Args:\n",
        "            index (int): index of the element in the dataset\n",
        "        Returns:\n",
        "            Single element by index\n",
        "        \"\"\"\n",
        "\n",
        "        # encoding the text\n",
        "        x = self.texts[index]\n",
        "\n",
        "        # a dictionary with `input_ids` and `attention_mask` as keys\n",
        "        output_dict = self.tokenizer.encode_plus(\n",
        "            x,\n",
        "            add_special_tokens=True,\n",
        "            padding=\"max_length\",\n",
        "            max_length=self.max_seq_length,\n",
        "            return_tensors=\"pt\",\n",
        "            truncation=True,\n",
        "            return_attention_mask=True,\n",
        "        )\n",
        "\n",
        "        output_dict[\"input_ids\"] = output_dict[\"input_ids\"].flatten()\n",
        "        output_dict[\"attention_mask\"] = output_dict[\"attention_mask\"].flatten()\n",
        "\n",
        "        # encoding target\n",
        "        if self.labels is not None:\n",
        "            y = self.labels[index]\n",
        "            y_encoded = (\n",
        "                torch.Tensor([self.label_dict.get(y, -1)]).long().squeeze(0)\n",
        "            )\n",
        "            output_dict[\"targets\"] = y_encoded\n",
        "\n",
        "        return output_dict\n"
      ],
      "execution_count": 23,
      "outputs": []
    },
    {
      "cell_type": "markdown",
      "metadata": {
        "id": "EFlOF9ITHHt-"
      },
      "source": [
        "We have to define some constants"
      ]
    },
    {
      "cell_type": "code",
      "metadata": {
        "id": "sCpDkd0FEDVl"
      },
      "source": [
        "MAX_SEQ_LEN = 256\n",
        "BATCH_SIZE = 16\n",
        "MODEL_NAME = 'distilbert-base-uncased'"
      ],
      "execution_count": 24,
      "outputs": []
    },
    {
      "cell_type": "code",
      "metadata": {
        "id": "15VVycqQ5H18"
      },
      "source": [
        "train_dataset = TextClassificationDataset(\n",
        "    texts=df_train[TEXT_COLUMN].values.tolist(),\n",
        "    labels=df_train[LABEL_COLUMN].values,\n",
        "    max_seq_length=MAX_SEQ_LEN,\n",
        "    model_name=MODEL_NAME,\n",
        ")\n",
        "\n",
        "valid_dataset = TextClassificationDataset(\n",
        "    texts=df_val[TEXT_COLUMN].values.tolist(),\n",
        "    labels=df_val[LABEL_COLUMN].values,\n",
        "    max_seq_length=MAX_SEQ_LEN,\n",
        "    model_name=MODEL_NAME,\n",
        ")\n",
        "\n",
        "test_dataset = TextClassificationDataset(\n",
        "    texts=df_test[TEXT_COLUMN].values.tolist(),\n",
        "    labels=df_test[LABEL_COLUMN].values,\n",
        "    max_seq_length=MAX_SEQ_LEN,\n",
        "    model_name=MODEL_NAME,\n",
        ")"
      ],
      "execution_count": 25,
      "outputs": []
    },
    {
      "cell_type": "code",
      "metadata": {
        "id": "a3xEl4_3H8Mj"
      },
      "source": [
        "train_data_loader = DataLoader(\n",
        "    dataset=train_dataset,\n",
        "    batch_size=BATCH_SIZE,\n",
        "    shuffle=True,\n",
        ")\n",
        "\n",
        "val_data_loader = DataLoader(\n",
        "    dataset=valid_dataset,\n",
        "    batch_size=BATCH_SIZE,\n",
        "    shuffle=False,\n",
        ")\n",
        "\n",
        "test_data_loader = DataLoader(\n",
        "    dataset=test_dataset,\n",
        "    batch_size=BATCH_SIZE,\n",
        "    shuffle=False,\n",
        ")"
      ],
      "execution_count": 26,
      "outputs": []
    },
    {
      "cell_type": "markdown",
      "metadata": {
        "id": "2_HzeZqLFWeh"
      },
      "source": [
        "## 3. BERT Input Length Limitation"
      ]
    },
    {
      "cell_type": "markdown",
      "metadata": {
        "id": "k_qjYE4eFciL"
      },
      "source": [
        "BERT has a maximum input length of 512 tokens. In this section, we'll look at how this limitation affects us in practice, and some possible approaches for addressing it."
      ]
    },
    {
      "cell_type": "markdown",
      "metadata": {
        "id": "LtLgezLbFu2j"
      },
      "source": [
        "### 3.1. Examples of 512 Tokens"
      ]
    },
    {
      "cell_type": "markdown",
      "metadata": {
        "id": "DHMWrcA0F2gr"
      },
      "source": [
        "Let's look at an example comment which gets split into more than 512 tokens, so that we can get a sense for how much text fits within this limit.\n",
        "\n",
        "First we'll need to load the DistilBERT tokenizer."
      ]
    },
    {
      "cell_type": "code",
      "metadata": {
        "id": "Z474sSC6oe7A",
        "colab": {
          "base_uri": "https://localhost:8080/"
        },
        "outputId": "7e6c6292-6612-4bea-85c7-587b3f635645"
      },
      "source": [
        "# Load the DistilBERT tokenizer.\n",
        "\n",
        "print('Loading DistilBERT tokenizer...')\n",
        "tokenizer = AutoTokenizer.from_pretrained(MODEL_NAME)"
      ],
      "execution_count": 27,
      "outputs": [
        {
          "output_type": "stream",
          "text": [
            "Loading DistilBERT tokenizer...\n"
          ],
          "name": "stdout"
        }
      ]
    },
    {
      "cell_type": "markdown",
      "metadata": {
        "id": "kxBVaEASIfpF"
      },
      "source": [
        "Let's have a look at an example batch from our training data loader:"
      ]
    },
    {
      "cell_type": "code",
      "metadata": {
        "colab": {
          "base_uri": "https://localhost:8080/"
        },
        "id": "gDKCIIwwIdEw",
        "outputId": "9b7dd4c1-37b7-4101-b3b8-266f69291317"
      },
      "source": [
        "mini_batch_data = next(iter(train_data_loader))\n",
        "mini_batch_data.keys()"
      ],
      "execution_count": 28,
      "outputs": [
        {
          "output_type": "execute_result",
          "data": {
            "text/plain": [
              "dict_keys(['input_ids', 'attention_mask', 'targets'])"
            ]
          },
          "metadata": {
            "tags": []
          },
          "execution_count": 28
        }
      ]
    },
    {
      "cell_type": "code",
      "metadata": {
        "colab": {
          "base_uri": "https://localhost:8080/"
        },
        "id": "ppDRQOz_IdBd",
        "outputId": "237059a1-7a30-40b0-b099-de1773765be6"
      },
      "source": [
        "print(mini_batch_data['input_ids'].shape)\n",
        "print(mini_batch_data['attention_mask'].shape)\n",
        "print(mini_batch_data['targets'].shape)"
      ],
      "execution_count": 29,
      "outputs": [
        {
          "output_type": "stream",
          "text": [
            "torch.Size([16, 256])\n",
            "torch.Size([16, 256])\n",
            "torch.Size([16])\n"
          ],
          "name": "stdout"
        }
      ]
    },
    {
      "cell_type": "markdown",
      "metadata": {
        "id": "gMtJGHOZOVIA"
      },
      "source": [
        "### 3.2. Strategies for Longer Text\n",
        "\n",
        "Key points:\n",
        "* There's no *obvious* solution, but we'll cover a number of ideas to try.\n",
        "* Looking at the statistics of your dataset should help when choosing your strategy. We'll do this in section 3.3.\n",
        "\n",
        "There was a [paper published](https://arxiv.org/pdf/1905.05583.pdf) recently that investigated this problem and experimented with a few approaches.  Check out section 5.3. specifically. \n",
        "\n",
        "![BERT Text Classification Paper](http://www.mccormickml.com/assets/BERT/text_classification_paper.png)\n",
        "\n"
      ]
    },
    {
      "cell_type": "markdown",
      "metadata": {
        "id": "eVdyb7BXkMz8"
      },
      "source": [
        "\n",
        "**Truncation**\n",
        "\n",
        "The simplest approach is just to drop some of the tokens, and hope that the remaining text is enough to perform the task well.\n",
        "\n",
        "You could drop tokens:\n",
        "* From the beginning of the text.\n",
        "* At the end of the text.\n",
        "* In the middle of the text.\n",
        "\n",
        "In the above paper, their experiments on the IMDb movie review dataset showed that keeping the first 128 tokens and the last 382 tokens performed best. (Note: This adds up to 510 tokens, leaving room for the special `[CLS]` and `[SEP]` tokens that we have to append to the beginning and the end of the text, respectively). \n",
        "\n",
        "Perhaps this is because, when writing something like a movie review, we tend to put our high-level points in the introduction and conclusion?\n"
      ]
    },
    {
      "cell_type": "markdown",
      "metadata": {
        "id": "J6jNPuLHkPRU"
      },
      "source": [
        "\n",
        "**Chunking**\n",
        "\n",
        "Another approach attempted by the authors (and also proposed in [this thread](https://github.com/google-research/bert/issues/650) in the BERT GitHub repo) would be to divide the text into 512-token chunks and generate embeddings for these chunks separately. \n",
        "\n",
        "The authors of the paper combined the embeddings for the different chunks before performing the final classification. They tried several \"pooling\" strategies, such as averaging the embeddings together. None of these approaches outperformed the simple truncation approach, however.\n",
        "\n",
        "In the GitHub discussion above, the user suggested instead classifying the chunks separately and then averaging together the predictions. \n",
        "\n",
        "Mariano Kamp, in a comment on my YouTube video, also made the insightful observation that these \"chunking\" approaches could be computationly expensive when dealing with lengthy documents. \n"
      ]
    },
    {
      "cell_type": "markdown",
      "metadata": {
        "id": "-8kEDRvShcU5"
      },
      "source": [
        "### 3.3. Comment Length Distribution"
      ]
    },
    {
      "cell_type": "markdown",
      "metadata": {
        "id": "OGkq8hQJfqZY"
      },
      "source": [
        "To decide on a truncation strategy for this dataset, let's first look at the distribution of comment lenghts.\n",
        "\n",
        "To do this, our first step is to tokenize all of the comments in the training set."
      ]
    },
    {
      "cell_type": "markdown",
      "metadata": {
        "id": "1M296yz577fV"
      },
      "source": [
        "**Tokenize All Comments**\n",
        "\n",
        "The `tokenizer.encode` function combines multiple steps for us:\n",
        "1. Split the sentence into tokens.\n",
        "2. Add the special `[CLS]` and `[SEP]` tokens.\n",
        "3. Map the tokens to their IDs.\n",
        "\n",
        "In order to explore the distribution of comment lengths, we will not perform any truncation here. Unfortunately, this results in the tokenizer spitting out a warning for every comment that's longer than 512 tokens. We'll just have to ignore those for now!"
      ]
    },
    {
      "cell_type": "code",
      "metadata": {
        "id": "2bBdb3pt8LuQ",
        "colab": {
          "base_uri": "https://localhost:8080/"
        },
        "outputId": "6527f71d-6f6d-4b89-95c5-c5823130ceb3"
      },
      "source": [
        "import numpy as np\n",
        "\n",
        "# Record the length of each sequence (after truncating to 512).\n",
        "lengths = []\n",
        "\n",
        "print('Tokenizing comments...')\n",
        "\n",
        "# For every sentence...\n",
        "for sen in df_train.text:\n",
        "    \n",
        "    # `encode` will:\n",
        "    #   (1) Tokenize the sentence.\n",
        "    #   (2) Prepend the `[CLS]` token to the start.\n",
        "    #   (3) Append the `[SEP]` token to the end.\n",
        "    #   (4) Map tokens to their IDs.\n",
        "    encoded_sent = tokenizer.encode(\n",
        "                        sen,                      # Sentence to encode.\n",
        "                        add_special_tokens = True, # Add '[CLS]' and '[SEP]'\n",
        "                        #max_length = 512,          # Truncate all sentences.                        \n",
        "                        #return_tensors = 'pt',     # Return pytorch tensors.\n",
        "                   )\n",
        "\n",
        "    # Record the truncated length.\n",
        "    lengths.append(len(encoded_sent))\n",
        "\n",
        "print('DONE.')"
      ],
      "execution_count": 30,
      "outputs": [
        {
          "output_type": "stream",
          "text": [
            "Token indices sequence length is longer than the specified maximum sequence length for this model (516 > 512). Running this sequence through the model will result in indexing errors\n"
          ],
          "name": "stderr"
        },
        {
          "output_type": "stream",
          "text": [
            "Tokenizing comments...\n",
            "DONE.\n"
          ],
          "name": "stdout"
        }
      ]
    },
    {
      "cell_type": "markdown",
      "metadata": {
        "id": "X_erWZU7hDTB"
      },
      "source": [
        "Let's grab some quick statistics--what are the min, max and median comment lenghts?"
      ]
    },
    {
      "cell_type": "code",
      "metadata": {
        "id": "qmrQVSsjg6By",
        "colab": {
          "base_uri": "https://localhost:8080/"
        },
        "outputId": "71a20d7c-7ee0-4298-8853-05f56e60e4cd"
      },
      "source": [
        "print('   Min length: {:,} tokens'.format(min(lengths)))\n",
        "print('   Max length: {:,} tokens'.format(max(lengths)))\n",
        "print('Median length: {:,} tokens'.format(np.median(lengths)))"
      ],
      "execution_count": 31,
      "outputs": [
        {
          "output_type": "stream",
          "text": [
            "   Min length: 59 tokens\n",
            "   Max length: 2,594 tokens\n",
            "Median length: 237.5 tokens\n"
          ],
          "name": "stdout"
        }
      ]
    },
    {
      "cell_type": "markdown",
      "metadata": {
        "id": "xytsw1oIfnX0"
      },
      "source": [
        "To further analyze it, let's plot the distribution. To keep the scale of the x-axis reasonable, *we'll clip the lengths to 512.*\n"
      ]
    },
    {
      "cell_type": "code",
      "metadata": {
        "id": "iLhi9A49zmsy",
        "colab": {
          "base_uri": "https://localhost:8080/",
          "height": 440
        },
        "outputId": "980c13ed-00b3-4004-96e7-cb5ee9c2d879"
      },
      "source": [
        "import matplotlib.pyplot as plt\n",
        "import seaborn as sns\n",
        "import numpy as np\n",
        "\n",
        "sns.set(style='darkgrid')\n",
        "\n",
        "# Increase the plot size and font size.\n",
        "sns.set(font_scale=1.5)\n",
        "plt.rcParams[\"figure.figsize\"] = (10,5)\n",
        "\n",
        "# Truncate any comment lengths greater than 512.\n",
        "lengths = [min(l, 512) for l in lengths]\n",
        "\n",
        "# Plot the distribution of comment lengths.\n",
        "sns.distplot(lengths, kde=False, rug=False)\n",
        "\n",
        "# Alternatively, you might try using a log scale on the x-axis, but this is \n",
        "# tricky. See here for one approach:\n",
        "# https://stackoverflow.com/questions/47850202/plotting-a-histogram-on-a-log-scale-with-matplotlib?rq=1\n",
        "#plt.xscale('log')\n",
        "\n",
        "plt.title('Text Lengths')\n",
        "plt.xlabel('Text Length')\n",
        "plt.ylabel('# of Text')\n"
      ],
      "execution_count": 32,
      "outputs": [
        {
          "output_type": "stream",
          "text": [
            "/usr/local/lib/python3.6/dist-packages/seaborn/distributions.py:2557: FutureWarning: `distplot` is a deprecated function and will be removed in a future version. Please adapt your code to use either `displot` (a figure-level function with similar flexibility) or `histplot` (an axes-level function for histograms).\n",
            "  warnings.warn(msg, FutureWarning)\n"
          ],
          "name": "stderr"
        },
        {
          "output_type": "execute_result",
          "data": {
            "text/plain": [
              "Text(0, 0.5, '# of Text')"
            ]
          },
          "metadata": {
            "tags": []
          },
          "execution_count": 32
        },
        {
          "output_type": "display_data",
          "data": {
            "image/png": "[encoded data removed]",
            "text/plain": [
              "<Figure size 720x360 with 1 Axes>"
            ]
          },
          "metadata": {
            "tags": [],
            "image/png": {
              "width": 634,
              "height": 352
            }
          }
        }
      ]
    },
    {
      "cell_type": "markdown",
      "metadata": {
        "id": "hvs9RvI2dLNE"
      },
      "source": [
        "Clearly most comments are \"short\", and there's a long tail of longer comments. \n",
        "\n",
        "Just how many of the examples run into the 512-token limit?"
      ]
    },
    {
      "cell_type": "code",
      "metadata": {
        "id": "SGd5i3ZvaWXu",
        "colab": {
          "base_uri": "https://localhost:8080/"
        },
        "outputId": "9a52849f-9908-4d7e-8668-8ad90b582616"
      },
      "source": [
        "# Count the number of sentences that had to be truncated to 512 tokens.\n",
        "num_truncated = lengths.count(512)\n",
        "\n",
        "# Compare this to the total number of training sentences.\n",
        "num_sentences = len(lengths)\n",
        "prcnt = float(num_truncated) / float(num_sentences)\n",
        "\n",
        "print('{:,} of {:,} sentences ({:.1%}) in the training set are longer than 512 tokens.'.format(num_truncated, num_sentences, prcnt))"
      ],
      "execution_count": 33,
      "outputs": [
        {
          "output_type": "stream",
          "text": [
            "91 of 2,002 sentences (4.5%) in the training set are longer than 512 tokens.\n"
          ],
          "name": "stdout"
        }
      ]
    },
    {
      "cell_type": "markdown",
      "metadata": {
        "id": "Wl12-BD637Ty"
      },
      "source": [
        "# Part II - BERT Fine-Tuning"
      ]
    },
    {
      "cell_type": "markdown",
      "metadata": {
        "id": "8bwa6Rts-02-"
      },
      "source": [
        "## 4. Train Our Classification Model"
      ]
    },
    {
      "cell_type": "markdown",
      "metadata": {
        "id": "3xYQ3iLO08SX"
      },
      "source": [
        "Now that our input data is properly formatted, it's time to fine tune the BERT model. "
      ]
    },
    {
      "cell_type": "markdown",
      "metadata": {
        "id": "D6TKgyUzPIQc"
      },
      "source": [
        "### 4.1. BertForSequenceClassification"
      ]
    },
    {
      "cell_type": "markdown",
      "metadata": {
        "id": "1sjzRT1V0zwm"
      },
      "source": [
        "For this task, we first want to modify the pre-trained BERT model to give outputs for classification, and then we want to continue training the model on our dataset until that the entire model, end-to-end, is well-suited for our task. \n",
        "\n",
        "Thankfully, the huggingface pytorch implementation includes a set of interfaces designed for a variety of NLP tasks. Though these interfaces are all built on top of a trained BERT model, each has different top layers and output types designed to accomodate their specific NLP task.  \n",
        "\n",
        "Here is the current list of classes provided for fine-tuning:\n",
        "* BertModel\n",
        "* BertForPreTraining\n",
        "* BertForMaskedLM\n",
        "* BertForNextSentencePrediction\n",
        "* **BertForSequenceClassification** - The one we'll use.\n",
        "* BertForTokenClassification\n",
        "* BertForQuestionAnswering\n",
        "\n",
        "The documentation for these can be found under [here](https://huggingface.co/transformers/v2.2.0/model_doc/bert.html)."
      ]
    },
    {
      "cell_type": "markdown",
      "metadata": {
        "id": "BXYitPoE-cjH"
      },
      "source": [
        "\n",
        "\n",
        "We'll be using [BertForSequenceClassification](https://huggingface.co/transformers/v2.2.0/model_doc/bert.html#bertforsequenceclassification). This is the normal BERT model with an added single linear layer on top for classification that we will use as a sentence classifier. As we feed input data, the entire pre-trained BERT model and the additional untrained classification layer is trained on our specific task. \n"
      ]
    },
    {
      "cell_type": "markdown",
      "metadata": {
        "id": "WnQW9E-bBCRt"
      },
      "source": [
        "OK, let's load BERT! There are a few different pre-trained BERT models available. \"bert-base-uncased\" means the version that has only lowercase letters (\"uncased\") and is the smaller version of the two (\"base\" vs \"large\").\n",
        "\n",
        "The documentation for `from_pretrained` can be found [here](https://huggingface.co/transformers/v2.2.0/main_classes/model.html#transformers.PreTrainedModel.from_pretrained), with the additional parameters defined [here](https://huggingface.co/transformers/v2.2.0/main_classes/configuration.html#transformers.PretrainedConfig)."
      ]
    },
    {
      "cell_type": "code",
      "metadata": {
        "id": "vuUtffTmKPBx"
      },
      "source": [
        "import torch.nn as nn\n",
        "from transformers import AutoConfig, AutoModel, AdamW, get_linear_schedule_with_warmup"
      ],
      "execution_count": 34,
      "outputs": []
    },
    {
      "cell_type": "code",
      "metadata": {
        "id": "r5xxc4csVyA0"
      },
      "source": [
        "import torch.nn.functional as F"
      ],
      "execution_count": 49,
      "outputs": []
    },
    {
      "cell_type": "code",
      "metadata": {
        "id": "4wBCLwbnKO-9"
      },
      "source": [
        "class BertForSequenceClassification(nn.Module):\n",
        "    \"\"\"\n",
        "    Simplified version of the same class by HuggingFace.\n",
        "    See transformers/modeling_distilbert.py in the transformers repository.\n",
        "    \"\"\"\n",
        "\n",
        "    def __init__(\n",
        "        self,\n",
        "        pretrained_model_name: str,\n",
        "        num_classes: int = None,\n",
        "        dropout: float = 0.3\n",
        "    ):\n",
        "        \"\"\"\n",
        "        Args:\n",
        "            pretrained_model_name (str): HuggingFace model name.\n",
        "                See transformers/modeling_auto.py\n",
        "            num_classes (int): the number of class labels\n",
        "                in the classification task\n",
        "        \"\"\"\n",
        "        super().__init__()\n",
        "\n",
        "        config = AutoConfig.from_pretrained(\n",
        "            pretrained_model_name, num_labels=num_classes\n",
        "        )\n",
        "\n",
        "        self.model = AutoModel.from_pretrained(pretrained_model_name, config=config)\n",
        "        self.classifier = nn.Linear(config.hidden_size, num_classes)\n",
        "        self.dropout = nn.Dropout(dropout)\n",
        "\n",
        "    def forward(self, input_ids, attention_mask=None, head_mask=None):\n",
        "        \"\"\"Compute class probabilities for the input sequence.\n",
        "\n",
        "        Args:\n",
        "            features (torch.Tensor): ids of each token,\n",
        "                size ([bs, seq_length]\n",
        "            attention_mask (torch.Tensor): binary tensor, used to select\n",
        "                tokens which are used to compute attention scores\n",
        "                in the self-attention heads, size [bs, seq_length]\n",
        "            head_mask (torch.Tensor): 1.0 in head_mask indicates that\n",
        "                we keep the head, size: [num_heads]\n",
        "                or [num_hidden_layers x num_heads]\n",
        "        Returns:\n",
        "            PyTorch Tensor with predicted class scores\n",
        "        \"\"\"\n",
        "        assert attention_mask is not None, \"attention mask is none\"\n",
        "\n",
        "        # taking BERTModel output\n",
        "        # see https://huggingface.co/transformers/model_doc/bert.html#transformers.BertModel\n",
        "        bert_output = self.model(\n",
        "            input_ids=input_ids, attention_mask=attention_mask, head_mask=head_mask\n",
        "        )\n",
        "        # we only need the hidden state here and don't need\n",
        "        # transformer output, so index 0\n",
        "        seq_output = bert_output[0]  # (bs, seq_len, dim)\n",
        "        # mean pooling, i.e. getting average representation of all tokens\n",
        "        pooled_output = seq_output.mean(axis=1)  # (bs, dim)\n",
        "        pooled_output = self.dropout(pooled_output)  # (bs, dim)\n",
        "        scores = self.classifier(pooled_output)  # (bs, num_classes)\n",
        "\n",
        "        return scores"
      ],
      "execution_count": 35,
      "outputs": []
    },
    {
      "cell_type": "code",
      "metadata": {
        "id": "wz6G3ugtL4_C"
      },
      "source": [
        "N_EPOCH = 10"
      ],
      "execution_count": 36,
      "outputs": []
    },
    {
      "cell_type": "code",
      "metadata": {
        "id": "nje_3sZ1KO8J"
      },
      "source": [
        "model = BertForSequenceClassification(\n",
        "    pretrained_model_name=MODEL_NAME,\n",
        "    num_classes=data_df.label.unique().shape[0],\n",
        "    dropout=0.3\n",
        ").to(device)"
      ],
      "execution_count": 37,
      "outputs": []
    },
    {
      "cell_type": "code",
      "metadata": {
        "id": "LIkwZLo0LT_k"
      },
      "source": [
        "optimizer = AdamW(model.parameters(), lr=2e-5)"
      ],
      "execution_count": 38,
      "outputs": []
    },
    {
      "cell_type": "code",
      "metadata": {
        "id": "7S5tjn0nLT8R"
      },
      "source": [
        "steps_per_epoch=len(df_train) // BATCH_SIZE\n",
        "warmup_step = steps_per_epoch // 3\n",
        "total_steps = steps_per_epoch * N_EPOCH - warmup_step\n",
        "\n",
        "scheduler = get_linear_schedule_with_warmup(optimizer,\n",
        "                                            warmup_step,\n",
        "                                            total_steps)\n",
        "\n",
        "loss_fn = nn.CrossEntropyLoss().to(device)"
      ],
      "execution_count": 39,
      "outputs": []
    },
    {
      "cell_type": "code",
      "metadata": {
        "id": "EnT5IemaLT5I"
      },
      "source": [
        "prediction = model(input_ids=mini_batch_data['input_ids'].to(device),\n",
        "                   attention_mask=mini_batch_data['attention_mask'].to(device)\n",
        ")"
      ],
      "execution_count": 40,
      "outputs": []
    },
    {
      "cell_type": "code",
      "metadata": {
        "colab": {
          "base_uri": "https://localhost:8080/"
        },
        "id": "qn2bXt8KNKJ7",
        "outputId": "a03dc829-0e69-4a61-ce19-4dc1be8a0402"
      },
      "source": [
        "print(prediction.size())\n",
        "prediction[:3]"
      ],
      "execution_count": 41,
      "outputs": [
        {
          "output_type": "stream",
          "text": [
            "torch.Size([16, 5])\n"
          ],
          "name": "stdout"
        },
        {
          "output_type": "execute_result",
          "data": {
            "text/plain": [
              "tensor([[-0.0231,  0.0459, -0.0011, -0.1490, -0.0440],\n",
              "        [ 0.1313,  0.1061,  0.0692, -0.0747, -0.1700],\n",
              "        [ 0.0722, -0.0199,  0.0503, -0.0660, -0.0977]], device='cuda:0',\n",
              "       grad_fn=<SliceBackward>)"
            ]
          },
          "metadata": {
            "tags": []
          },
          "execution_count": 41
        }
      ]
    },
    {
      "cell_type": "code",
      "metadata": {
        "id": "POJxyK-GORJ5"
      },
      "source": [
        "def train_epoch(model, data_loader, loss_fn, optimizer, device, scheduler, n_examples):\n",
        "    model = model.train()\n",
        "    \n",
        "    losses = []\n",
        "    correct_predictions = 0\n",
        "\n",
        "    for d in data_loader:\n",
        "        optimizer.zero_grad()\n",
        "        input_ids = d[\"input_ids\"].to(device)\n",
        "        attention_mask = d[\"attention_mask\"].to(device)\n",
        "        targets = d[\"targets\"].to(device)\n",
        "        \n",
        "        outputs = model(\n",
        "            input_ids=input_ids,\n",
        "            attention_mask=attention_mask)\n",
        "        \n",
        "        _, preds = torch.max(outputs, dim=1)\n",
        "        loss = loss_fn(outputs, targets)\n",
        "        \n",
        "        correct_predictions += torch.sum(preds == targets)\n",
        "        losses.append(loss.item())\n",
        "        \n",
        "        loss.backward()\n",
        "        nn.utils.clip_grad_norm_(model.parameters(), max_norm=1.0)\n",
        "        optimizer.step()\n",
        "        scheduler.step()\n",
        "        \n",
        "    return correct_predictions.double() / n_examples, np.mean(losses)"
      ],
      "execution_count": 42,
      "outputs": []
    },
    {
      "cell_type": "code",
      "metadata": {
        "id": "JSHTA0x4PM-M"
      },
      "source": [
        "def eval_model(model, data_loader, loss_fn, device, n_examples):\n",
        "    model = model.eval()\n",
        "    \n",
        "    losses = []\n",
        "    correct_predictions = 0\n",
        "\n",
        "    with torch.no_grad():\n",
        "        for d in data_loader:\n",
        "            input_ids = d[\"input_ids\"].to(device)\n",
        "            attention_mask = d[\"attention_mask\"].to(device)\n",
        "            targets = d[\"targets\"].to(device)\n",
        "            \n",
        "            outputs = model(\n",
        "                input_ids=input_ids,\n",
        "                attention_mask=attention_mask)\n",
        "            \n",
        "            _, preds = torch.max(outputs, dim=1)\n",
        "            loss = loss_fn(outputs, targets)\n",
        "            \n",
        "            correct_predictions += torch.sum(preds == targets)\n",
        "            losses.append(loss.item())\n",
        "\n",
        "    return correct_predictions.double() / n_examples, np.mean(losses)"
      ],
      "execution_count": 43,
      "outputs": []
    },
    {
      "cell_type": "code",
      "metadata": {
        "id": "LVxjAJi5Plr8"
      },
      "source": [
        "from collections import defaultdict"
      ],
      "execution_count": 44,
      "outputs": []
    },
    {
      "cell_type": "code",
      "metadata": {
        "colab": {
          "base_uri": "https://localhost:8080/"
        },
        "id": "IANZH8tKOQ2e",
        "outputId": "283fc64e-ba27-47a2-d722-1bdc49bee7e7"
      },
      "source": [
        "%time\n",
        "\n",
        "history = defaultdict(list)\n",
        "best_accuracy = 0\n",
        "\n",
        "for epoch in range(N_EPOCH):\n",
        "    print(f'Epoch {epoch + 1}/{N_EPOCH}')\n",
        "    print('-' * 10)\n",
        "\n",
        "    train_acc, train_loss = train_epoch(\n",
        "        model,\n",
        "        train_data_loader,    \n",
        "        loss_fn, \n",
        "        optimizer, \n",
        "        device, \n",
        "        scheduler, \n",
        "        len(df_train)\n",
        "    )\n",
        "\n",
        "    print(f'Train loss {train_loss} accuracy {train_acc}')\n",
        "\n",
        "    val_acc, val_loss = eval_model(\n",
        "        model,\n",
        "        val_data_loader,\n",
        "        loss_fn, \n",
        "        device, \n",
        "        len(df_val)\n",
        "    )\n",
        "\n",
        "    print(f'Val   loss {val_loss} accuracy {val_acc}')\n",
        "    print()\n",
        "\n",
        "    history['train_acc'].append(train_acc)\n",
        "    history['train_loss'].append(train_loss)\n",
        "    history['val_acc'].append(val_acc)\n",
        "    history['val_loss'].append(val_loss)\n",
        "\n",
        "    if val_acc > best_accuracy:\n",
        "        torch.save(model.state_dict(), 'best_model_state.bin')\n",
        "        best_accuracy = val_acc"
      ],
      "execution_count": 45,
      "outputs": [
        {
          "output_type": "stream",
          "text": [
            "CPU times: user 2 µs, sys: 1e+03 ns, total: 3 µs\n",
            "Wall time: 4.77 µs\n",
            "Epoch 1/10\n",
            "----------\n",
            "Train loss 0.6756635136266668 accuracy 0.7532467532467533\n",
            "Val   loss 0.12110348391745772 accuracy 0.9729729729729729\n",
            "\n",
            "Epoch 2/10\n",
            "----------\n",
            "Train loss 0.07422573703695975 accuracy 0.9805194805194806\n",
            "Val   loss 0.08998958876223437 accuracy 0.9729729729729729\n",
            "\n",
            "Epoch 3/10\n",
            "----------\n",
            "Train loss 0.0438096874027646 accuracy 0.9885114885114885\n",
            "Val   loss 0.09267112842228796 accuracy 0.9819819819819819\n",
            "\n",
            "Epoch 4/10\n",
            "----------\n",
            "Train loss 0.019295366729484013 accuracy 0.9945054945054945\n",
            "Val   loss 0.10551371927639204 accuracy 0.9819819819819819\n",
            "\n",
            "Epoch 5/10\n",
            "----------\n",
            "Train loss 0.006112729158577701 accuracy 0.997002997002997\n",
            "Val   loss 0.12341159062426803 accuracy 0.9819819819819819\n",
            "\n",
            "Epoch 6/10\n",
            "----------\n",
            "Train loss 0.001024857046551973 accuracy 1.0\n",
            "Val   loss 0.1384385254392068 accuracy 0.9819819819819819\n",
            "\n",
            "Epoch 7/10\n",
            "----------\n",
            "Train loss 0.0005709109030985495 accuracy 1.0\n",
            "Val   loss 0.10495913310192659 accuracy 0.9819819819819819\n",
            "\n",
            "Epoch 8/10\n",
            "----------\n",
            "Train loss 0.0004993477119742671 accuracy 1.0\n",
            "Val   loss 0.10856156720131237 accuracy 0.9819819819819819\n",
            "\n",
            "Epoch 9/10\n",
            "----------\n",
            "Train loss 0.00045255877794550054 accuracy 1.0\n",
            "Val   loss 0.10891841583153498 accuracy 0.9819819819819819\n",
            "\n",
            "Epoch 10/10\n",
            "----------\n",
            "Train loss 0.00044900338264322647 accuracy 1.0\n",
            "Val   loss 0.10897815938057777 accuracy 0.9819819819819819\n",
            "\n"
          ],
          "name": "stdout"
        }
      ]
    },
    {
      "cell_type": "code",
      "metadata": {
        "colab": {
          "base_uri": "https://localhost:8080/",
          "height": 369
        },
        "id": "7gJRjcbYOQz1",
        "outputId": "c2cfef22-262f-456f-ca8f-727961397908"
      },
      "source": [
        "plt.plot(history['train_acc'], label='train accuracy')\n",
        "plt.plot(history['val_acc'], label='validation accuracy')\n",
        "\n",
        "plt.title('Training history')\n",
        "plt.ylabel('Accuracy')\n",
        "plt.xlabel('Epoch')\n",
        "plt.legend()\n",
        "plt.ylim([0, 1]);"
      ],
      "execution_count": 46,
      "outputs": [
        {
          "output_type": "display_data",
          "data": {
            "image/png": "[encoded data removed]",
            "text/plain": [
              "<Figure size 720x360 with 1 Axes>"
            ]
          },
          "metadata": {
            "tags": [],
            "image/png": {
              "width": 629,
              "height": 352
            }
          }
        }
      ]
    },
    {
      "cell_type": "code",
      "metadata": {
        "id": "WeZLf9vxOQwj"
      },
      "source": [
        "def get_predictions(model, data_loader,):\n",
        "    model = model.eval()\n",
        "\n",
        "    predictions = []\n",
        "    prediction_probs = []\n",
        "    real_values = []\n",
        "\n",
        "    with torch.no_grad():\n",
        "        for d in data_loader:\n",
        "\n",
        "            input_ids = d[\"input_ids\"].to(device)\n",
        "            attention_mask = d[\"attention_mask\"].to(device)\n",
        "            targets = d[\"targets\"].to(device)\n",
        "\n",
        "            outputs = model(\n",
        "                input_ids=input_ids,\n",
        "                attention_mask=attention_mask\n",
        "            )\n",
        "            _, preds = torch.max(outputs, dim=1)\n",
        "\n",
        "            probs = F.softmax(outputs, dim=1)\n",
        "\n",
        "            predictions.extend(preds)\n",
        "            prediction_probs.extend(probs)\n",
        "            real_values.extend(targets)\n",
        "\n",
        "    predictions = torch.stack(predictions).cpu()\n",
        "    prediction_probs = torch.stack(prediction_probs).cpu()\n",
        "    real_values = torch.stack(real_values).cpu()\n",
        "    return predictions, prediction_probs, real_values"
      ],
      "execution_count": 52,
      "outputs": []
    },
    {
      "cell_type": "code",
      "metadata": {
        "id": "1KNz0d0zWWOb"
      },
      "source": [
        "from sklearn.metrics import confusion_matrix, classification_report"
      ],
      "execution_count": 55,
      "outputs": []
    },
    {
      "cell_type": "code",
      "metadata": {
        "id": "r3-8v1gkOQtf"
      },
      "source": [
        "y_pred, y_pred_probs, y_test = get_predictions(\n",
        "    model,\n",
        "    test_data_loader,\n",
        ")"
      ],
      "execution_count": 53,
      "outputs": []
    },
    {
      "cell_type": "code",
      "metadata": {
        "colab": {
          "base_uri": "https://localhost:8080/"
        },
        "id": "JmHqdBN1WFJ7",
        "outputId": "0d438bb3-eb55-4d27-e14e-257d51414a6c"
      },
      "source": [
        "print(classification_report(y_test, y_pred, target_names=set_of_labels))"
      ],
      "execution_count": 57,
      "outputs": [
        {
          "output_type": "stream",
          "text": [
            "               precision    recall  f1-score   support\n",
            "\n",
            "entertainment       1.00      0.85      0.92        27\n",
            "     business       1.00      1.00      1.00        27\n",
            "        sport       0.85      1.00      0.92        17\n",
            "         tech       1.00      1.00      1.00        26\n",
            "     politics       0.94      1.00      0.97        15\n",
            "\n",
            "     accuracy                           0.96       112\n",
            "    macro avg       0.96      0.97      0.96       112\n",
            " weighted avg       0.97      0.96      0.96       112\n",
            "\n"
          ],
          "name": "stdout"
        }
      ]
    },
    {
      "cell_type": "code",
      "metadata": {
        "colab": {
          "base_uri": "https://localhost:8080/",
          "height": 407
        },
        "id": "GxMulk4yWFGx",
        "outputId": "98ea1987-35c0-4992-8601-a7a52f45d975"
      },
      "source": [
        "def show_confusion_matrix(confusion_matrix):\n",
        "    hmap = sns.heatmap(confusion_matrix, annot=True, fmt=\"d\", cmap=\"Blues\")\n",
        "    hmap.yaxis.set_ticklabels(hmap.yaxis.get_ticklabels(), rotation=0, ha='right')\n",
        "    hmap.xaxis.set_ticklabels(hmap.xaxis.get_ticklabels(), rotation=30, ha='right')\n",
        "    plt.ylabel('True sentiment')\n",
        "    plt.xlabel('Predicted sentiment');\n",
        "\n",
        "cm = confusion_matrix(y_test, y_pred)\n",
        "df_cm = pd.DataFrame(cm, index=set_of_labels, columns=set_of_labels)\n",
        "show_confusion_matrix(df_cm)"
      ],
      "execution_count": 59,
      "outputs": [
        {
          "output_type": "display_data",
          "data": {
            "image/png": "[encoded data removed]",
            "text/plain": [
              "<Figure size 720x360 with 2 Axes>"
            ]
          },
          "metadata": {
            "tags": [],
            "image/png": {
              "width": 681,
              "height": 390
            }
          }
        }
      ]
    },
    {
      "cell_type": "code",
      "metadata": {
        "id": "oQJtbm7OWFEC"
      },
      "source": [
        ""
      ],
      "execution_count": null,
      "outputs": []
    },
    {
      "cell_type": "markdown",
      "metadata": {
        "id": "qRWT-D4U_Pvx"
      },
      "source": [
        "### 4.2. Optimizer & Learning Rate Scheduler"
      ]
    },
    {
      "cell_type": "markdown",
      "metadata": {
        "id": "8o-VEBobKwHk"
      },
      "source": [
        "Now that we have our model loaded we need to grab the training hyperparameters from within the stored model.\n",
        "\n",
        "For the purposes of fine-tuning, the authors recommend choosing from the following values:\n",
        "- Batch size: 16, 32  (We chose 32 when creating our DataLoaders).\n",
        "- Learning rate (Adam): 5e-5, 3e-5, 2e-5  (We'll use 2e-5).\n",
        "- Number of epochs: 2, 3, 4  (We'll use 4).\n",
        "\n",
        "The epsilon parameter `eps = 1e-8` is \"a very small number to prevent any division by zero in the implementation\" (from [here](https://machinelearningmastery.com/adam-optimization-algorithm-for-deep-learning/)).\n",
        "\n",
        "You can find the creation of the AdamW optimizer in `run_glue.py` [here](https://github.com/huggingface/transformers/blob/5bfcd0485ece086ebcbed2d008813037968a9e58/examples/run_glue.py#L109)."
      ]
    },
    {
      "cell_type": "code",
      "metadata": {
        "id": "GLs72DuMODJO"
      },
      "source": [
        "# Note: AdamW is a class from the huggingface library (as opposed to pytorch) \n",
        "# I believe the 'W' stands for 'Weight Decay fix\"\n",
        "optimizer = AdamW(model.parameters(),\n",
        "                  lr = 2e-5, # args.learning_rate - default is 5e-5, our notebook had 2e-5\n",
        "                  eps = 1e-8 # args.adam_epsilon  - default is 1e-8.\n",
        "                )"
      ],
      "execution_count": null,
      "outputs": []
    },
    {
      "cell_type": "code",
      "metadata": {
        "id": "-p0upAhhRiIx"
      },
      "source": [
        "from transformers import get_linear_schedule_with_warmup\n",
        "\n",
        "# Number of training epochs (authors recommend between 2 and 4)\n",
        "epochs = 4\n",
        "\n",
        "# Total number of training steps is number of batches * number of epochs.\n",
        "total_steps = len(train_dataloader) * epochs\n",
        "\n",
        "# Create the learning rate scheduler.\n",
        "scheduler = get_linear_schedule_with_warmup(optimizer, \n",
        "                                            num_warmup_steps = 0, # Default value in run_glue.py\n",
        "                                            num_training_steps = total_steps)"
      ],
      "execution_count": null,
      "outputs": []
    },
    {
      "cell_type": "markdown",
      "metadata": {
        "id": "RqfmWwUR_Sox"
      },
      "source": [
        "### 4.3. Training Loop"
      ]
    },
    {
      "cell_type": "markdown",
      "metadata": {
        "id": "_QXZhFb4LnV5"
      },
      "source": [
        "In each pass, we will train the model on our full training set, and then measure it's accuracy on our 10% holdout validation set."
      ]
    },
    {
      "cell_type": "markdown",
      "metadata": {
        "id": "pE5B99H5H2-W"
      },
      "source": [
        "Define a helper function for calculating accuracy."
      ]
    },
    {
      "cell_type": "code",
      "metadata": {
        "id": "9cQNvaZ9bnyy"
      },
      "source": [
        "import numpy as np\n",
        "\n",
        "# Function to calculate the accuracy of our predictions vs labels\n",
        "def flat_accuracy(preds, labels):\n",
        "    pred_flat = np.argmax(preds, axis=1).flatten()\n",
        "    labels_flat = labels.flatten()\n",
        "    return np.sum(pred_flat == labels_flat) / len(labels_flat)"
      ],
      "execution_count": null,
      "outputs": []
    },
    {
      "cell_type": "markdown",
      "metadata": {
        "id": "KNhRtWPXH9C3"
      },
      "source": [
        "Helper function for formatting elapsed times.\n"
      ]
    },
    {
      "cell_type": "code",
      "metadata": {
        "id": "gpt6tR83keZD"
      },
      "source": [
        "import time\n",
        "import datetime\n",
        "\n",
        "def format_time(elapsed):\n",
        "    '''\n",
        "    Takes a time in seconds and returns a string hh:mm:ss\n",
        "    '''\n",
        "    # Round to the nearest second.\n",
        "    elapsed_rounded = int(round((elapsed)))\n",
        "    \n",
        "    # Format as hh:mm:ss\n",
        "    return str(datetime.timedelta(seconds=elapsed_rounded))\n"
      ],
      "execution_count": null,
      "outputs": []
    },
    {
      "cell_type": "markdown",
      "metadata": {
        "id": "cfNIhN19te3N"
      },
      "source": [
        "We're ready to kick off the training!"
      ]
    },
    {
      "cell_type": "code",
      "metadata": {
        "id": "6J-FYdx6nFE_",
        "colab": {
          "base_uri": "https://localhost:8080/",
          "height": 1000
        },
        "outputId": "56117184-fdbd-44ad-8cde-e1486523fd50"
      },
      "source": [
        "import random\n",
        "\n",
        "# This training code is based on the `run_glue.py` script here:\n",
        "# https://github.com/huggingface/transformers/blob/5bfcd0485ece086ebcbed2d008813037968a9e58/examples/run_glue.py#L128\n",
        "\n",
        "\n",
        "# Set the seed value all over the place to make this reproducible.\n",
        "seed_val = 42\n",
        "\n",
        "random.seed(seed_val)\n",
        "np.random.seed(seed_val)\n",
        "torch.manual_seed(seed_val)\n",
        "torch.cuda.manual_seed_all(seed_val)\n",
        "\n",
        "# Store the average loss after each epoch so we can plot them.\n",
        "loss_values = []\n",
        "\n",
        "# For each epoch...\n",
        "for epoch_i in range(0, epochs):\n",
        "    \n",
        "    # ========================================\n",
        "    #               Training\n",
        "    # ========================================\n",
        "    \n",
        "    # Perform one full pass over the training set.\n",
        "\n",
        "    print(\"\")\n",
        "    print('======== Epoch {:} / {:} ========'.format(epoch_i + 1, epochs))\n",
        "    print('Training...')\n",
        "\n",
        "    # Measure how long the training epoch takes.\n",
        "    t0 = time.time()\n",
        "\n",
        "    # Reset the total loss for this epoch.\n",
        "    total_loss = 0\n",
        "\n",
        "    # Put the model into training mode. Don't be mislead--the call to \n",
        "    # `train` just changes the *mode*, it doesn't *perform* the training.\n",
        "    # `dropout` and `batchnorm` layers behave differently during training\n",
        "    # vs. test (source: https://stackoverflow.com/questions/51433378/what-does-model-train-do-in-pytorch)\n",
        "    model.train()\n",
        "\n",
        "    # For each batch of training data...\n",
        "    for step, batch in enumerate(train_dataloader):\n",
        "\n",
        "        # Progress update every 100 batches.\n",
        "        if step % 100 == 0 and not step == 0:\n",
        "            # Calculate elapsed time in minutes.\n",
        "            elapsed = format_time(time.time() - t0)\n",
        "            \n",
        "            # Report progress.\n",
        "            print('  Batch {:>5,}  of  {:>5,}.    Elapsed: {:}.'.format(step, len(train_dataloader), elapsed))\n",
        "\n",
        "        # Unpack this training batch from our dataloader. \n",
        "        #\n",
        "        # As we unpack the batch, we'll also copy each tensor to the GPU using the \n",
        "        # `to` method.\n",
        "        #\n",
        "        # `batch` contains three pytorch tensors:\n",
        "        #   [0]: input ids \n",
        "        #   [1]: attention masks\n",
        "        #   [2]: labels \n",
        "        b_input_ids = batch[0].to(device)\n",
        "        b_input_mask = batch[1].to(device)\n",
        "        b_labels = batch[2].to(device)\n",
        "\n",
        "        # Always clear any previously calculated gradients before performing a\n",
        "        # backward pass. PyTorch doesn't do this automatically because \n",
        "        # accumulating the gradients is \"convenient while training RNNs\". \n",
        "        # (source: https://stackoverflow.com/questions/48001598/why-do-we-need-to-call-zero-grad-in-pytorch)\n",
        "        model.zero_grad()        \n",
        "\n",
        "        # Perform a forward pass (evaluate the model on this training batch).\n",
        "        # This will return the loss (rather than the model output) because we\n",
        "        # have provided the `labels`.\n",
        "        # The documentation for this `model` function is here: \n",
        "        # https://huggingface.co/transformers/v2.2.0/model_doc/bert.html#transformers.BertForSequenceClassification\n",
        "        outputs = model(b_input_ids, \n",
        "                    token_type_ids=None, \n",
        "                    attention_mask=b_input_mask, \n",
        "                    labels=b_labels)\n",
        "        \n",
        "        # The call to `model` always returns a tuple, so we need to pull the \n",
        "        # loss value out of the tuple.\n",
        "        loss = outputs[0]\n",
        "\n",
        "        # Accumulate the training loss over all of the batches so that we can\n",
        "        # calculate the average loss at the end. `loss` is a Tensor containing a\n",
        "        # single value; the `.item()` function just returns the Python value \n",
        "        # from the tensor.\n",
        "        total_loss += loss.item()\n",
        "\n",
        "        # Perform a backward pass to calculate the gradients.\n",
        "        loss.backward()\n",
        "\n",
        "        # Clip the norm of the gradients to 1.0.\n",
        "        # This is to help prevent the \"exploding gradients\" problem.\n",
        "        torch.nn.utils.clip_grad_norm_(model.parameters(), 1.0)\n",
        "\n",
        "        # Update parameters and take a step using the computed gradient.\n",
        "        # The optimizer dictates the \"update rule\"--how the parameters are\n",
        "        # modified based on their gradients, the learning rate, etc.\n",
        "        optimizer.step()\n",
        "\n",
        "        # Update the learning rate.\n",
        "        scheduler.step()\n",
        "\n",
        "    # Calculate the average loss over the training data.\n",
        "    avg_train_loss = total_loss / len(train_dataloader)            \n",
        "    \n",
        "    # Store the loss value for plotting the learning curve.\n",
        "    loss_values.append(avg_train_loss)\n",
        "\n",
        "    print(\"\")\n",
        "    print(\"  Average training loss: {0:.2f}\".format(avg_train_loss))\n",
        "    print(\"  Training epcoh took: {:}\".format(format_time(time.time() - t0)))\n",
        "        \n",
        "    # ========================================\n",
        "    #               Validation\n",
        "    # ========================================\n",
        "    # After the completion of each training epoch, measure our performance on\n",
        "    # our validation set.\n",
        "\n",
        "    print(\"\")\n",
        "    print(\"Running Validation...\")\n",
        "\n",
        "    t0 = time.time()\n",
        "\n",
        "    # Put the model in evaluation mode--the dropout layers behave differently\n",
        "    # during evaluation.\n",
        "    model.eval()\n",
        "\n",
        "    # Tracking variables \n",
        "    eval_loss, eval_accuracy = 0, 0\n",
        "    nb_eval_steps, nb_eval_examples = 0, 0\n",
        "\n",
        "    # Evaluate data for one epoch\n",
        "    for batch in validation_dataloader:\n",
        "        \n",
        "        # Add batch to GPU\n",
        "        batch = tuple(t.to(device) for t in batch)\n",
        "        \n",
        "        # Unpack the inputs from our dataloader\n",
        "        b_input_ids, b_input_mask, b_labels = batch\n",
        "        \n",
        "        # Telling the model not to compute or store gradients, saving memory and\n",
        "        # speeding up validation\n",
        "        with torch.no_grad():        \n",
        "\n",
        "            # Forward pass, calculate logit predictions.\n",
        "            # This will return the logits rather than the loss because we have\n",
        "            # not provided labels.\n",
        "            # token_type_ids is the same as the \"segment ids\", which \n",
        "            # differentiates sentence 1 and 2 in 2-sentence tasks.\n",
        "            # The documentation for this `model` function is here: \n",
        "            # https://huggingface.co/transformers/v2.2.0/model_doc/bert.html#transformers.BertForSequenceClassification\n",
        "            outputs = model(b_input_ids, \n",
        "                            token_type_ids=None, \n",
        "                            attention_mask=b_input_mask)\n",
        "        \n",
        "        # Get the \"logits\" output by the model. The \"logits\" are the output\n",
        "        # values prior to applying an activation function like the softmax.\n",
        "        logits = outputs[0]\n",
        "\n",
        "        # Move logits and labels to CPU\n",
        "        logits = logits.detach().cpu().numpy()\n",
        "        label_ids = b_labels.to('cpu').numpy()\n",
        "        \n",
        "        # Calculate the accuracy for this batch of test sentences.\n",
        "        tmp_eval_accuracy = flat_accuracy(logits, label_ids)\n",
        "        \n",
        "        # Accumulate the total accuracy.\n",
        "        eval_accuracy += tmp_eval_accuracy\n",
        "\n",
        "        # Track the number of batches\n",
        "        nb_eval_steps += 1\n",
        "\n",
        "    # Report the final accuracy for this validation run.\n",
        "    print(\"  Accuracy: {0:.2f}\".format(eval_accuracy/nb_eval_steps))\n",
        "    print(\"  Validation took: {:}\".format(format_time(time.time() - t0)))\n",
        "\n",
        "print(\"\")\n",
        "print(\"Training complete!\")"
      ],
      "execution_count": null,
      "outputs": [
        {
          "output_type": "stream",
          "text": [
            "\n",
            "======== Epoch 1 / 4 ========\n",
            "Training...\n",
            "  Batch   100  of  1,956.    Elapsed: 0:01:12.\n",
            "  Batch   200  of  1,956.    Elapsed: 0:02:26.\n",
            "  Batch   300  of  1,956.    Elapsed: 0:03:44.\n",
            "  Batch   400  of  1,956.    Elapsed: 0:05:02.\n",
            "  Batch   500  of  1,956.    Elapsed: 0:06:20.\n",
            "  Batch   600  of  1,956.    Elapsed: 0:07:38.\n",
            "  Batch   700  of  1,956.    Elapsed: 0:08:56.\n",
            "  Batch   800  of  1,956.    Elapsed: 0:10:15.\n",
            "  Batch   900  of  1,956.    Elapsed: 0:11:33.\n",
            "  Batch 1,000  of  1,956.    Elapsed: 0:12:51.\n",
            "  Batch 1,100  of  1,956.    Elapsed: 0:14:09.\n",
            "  Batch 1,200  of  1,956.    Elapsed: 0:15:28.\n",
            "  Batch 1,300  of  1,956.    Elapsed: 0:16:46.\n",
            "  Batch 1,400  of  1,956.    Elapsed: 0:18:05.\n",
            "  Batch 1,500  of  1,956.    Elapsed: 0:19:23.\n",
            "  Batch 1,600  of  1,956.    Elapsed: 0:20:41.\n",
            "  Batch 1,700  of  1,956.    Elapsed: 0:21:59.\n",
            "  Batch 1,800  of  1,956.    Elapsed: 0:23:17.\n",
            "  Batch 1,900  of  1,956.    Elapsed: 0:24:35.\n",
            "\n",
            "  Average training loss: 0.14\n",
            "  Training epcoh took: 0:25:18\n",
            "\n",
            "Running Validation...\n",
            "  Accuracy: 0.95\n",
            "  Validation took: 0:00:59\n",
            "\n",
            "======== Epoch 2 / 4 ========\n",
            "Training...\n",
            "  Batch   100  of  1,956.    Elapsed: 0:01:18.\n",
            "  Batch   200  of  1,956.    Elapsed: 0:02:37.\n",
            "  Batch   300  of  1,956.    Elapsed: 0:03:55.\n",
            "  Batch   400  of  1,956.    Elapsed: 0:05:13.\n",
            "  Batch   500  of  1,956.    Elapsed: 0:06:31.\n",
            "  Batch   600  of  1,956.    Elapsed: 0:07:49.\n",
            "  Batch   700  of  1,956.    Elapsed: 0:09:07.\n",
            "  Batch   800  of  1,956.    Elapsed: 0:10:25.\n",
            "  Batch   900  of  1,956.    Elapsed: 0:11:44.\n",
            "  Batch 1,000  of  1,956.    Elapsed: 0:13:02.\n",
            "  Batch 1,100  of  1,956.    Elapsed: 0:14:20.\n",
            "  Batch 1,200  of  1,956.    Elapsed: 0:15:38.\n",
            "  Batch 1,300  of  1,956.    Elapsed: 0:16:56.\n",
            "  Batch 1,400  of  1,956.    Elapsed: 0:18:14.\n",
            "  Batch 1,500  of  1,956.    Elapsed: 0:19:32.\n",
            "  Batch 1,600  of  1,956.    Elapsed: 0:20:51.\n",
            "  Batch 1,700  of  1,956.    Elapsed: 0:22:09.\n",
            "  Batch 1,800  of  1,956.    Elapsed: 0:23:27.\n",
            "  Batch 1,900  of  1,956.    Elapsed: 0:24:45.\n",
            "\n",
            "  Average training loss: 0.09\n",
            "  Training epcoh took: 0:25:29\n",
            "\n",
            "Running Validation...\n",
            "  Accuracy: 0.95\n",
            "  Validation took: 0:00:59\n",
            "\n",
            "======== Epoch 3 / 4 ========\n",
            "Training...\n",
            "  Batch   100  of  1,956.    Elapsed: 0:01:18.\n",
            "  Batch   200  of  1,956.    Elapsed: 0:02:37.\n",
            "  Batch   300  of  1,956.    Elapsed: 0:03:55.\n",
            "  Batch   400  of  1,956.    Elapsed: 0:05:13.\n",
            "  Batch   500  of  1,956.    Elapsed: 0:06:31.\n",
            "  Batch   600  of  1,956.    Elapsed: 0:07:49.\n",
            "  Batch   700  of  1,956.    Elapsed: 0:09:07.\n",
            "  Batch   800  of  1,956.    Elapsed: 0:10:25.\n",
            "  Batch   900  of  1,956.    Elapsed: 0:11:43.\n",
            "  Batch 1,000  of  1,956.    Elapsed: 0:13:01.\n",
            "  Batch 1,100  of  1,956.    Elapsed: 0:14:19.\n",
            "  Batch 1,200  of  1,956.    Elapsed: 0:15:37.\n",
            "  Batch 1,300  of  1,956.    Elapsed: 0:16:56.\n",
            "  Batch 1,400  of  1,956.    Elapsed: 0:18:14.\n",
            "  Batch 1,500  of  1,956.    Elapsed: 0:19:32.\n",
            "  Batch 1,600  of  1,956.    Elapsed: 0:20:50.\n",
            "  Batch 1,700  of  1,956.    Elapsed: 0:22:08.\n",
            "  Batch 1,800  of  1,956.    Elapsed: 0:23:27.\n",
            "  Batch 1,900  of  1,956.    Elapsed: 0:24:45.\n",
            "\n",
            "  Average training loss: 0.06\n",
            "  Training epcoh took: 0:25:28\n",
            "\n",
            "Running Validation...\n",
            "  Accuracy: 0.95\n",
            "  Validation took: 0:00:59\n",
            "\n",
            "======== Epoch 4 / 4 ========\n",
            "Training...\n",
            "  Batch   100  of  1,956.    Elapsed: 0:01:18.\n",
            "  Batch   200  of  1,956.    Elapsed: 0:02:36.\n",
            "  Batch   300  of  1,956.    Elapsed: 0:03:54.\n",
            "  Batch   400  of  1,956.    Elapsed: 0:05:13.\n",
            "  Batch   500  of  1,956.    Elapsed: 0:06:31.\n",
            "  Batch   600  of  1,956.    Elapsed: 0:07:49.\n",
            "  Batch   700  of  1,956.    Elapsed: 0:09:06.\n",
            "  Batch   800  of  1,956.    Elapsed: 0:10:24.\n",
            "  Batch   900  of  1,956.    Elapsed: 0:11:42.\n",
            "  Batch 1,000  of  1,956.    Elapsed: 0:12:59.\n",
            "  Batch 1,100  of  1,956.    Elapsed: 0:14:17.\n",
            "  Batch 1,200  of  1,956.    Elapsed: 0:15:35.\n",
            "  Batch 1,300  of  1,956.    Elapsed: 0:16:53.\n",
            "  Batch 1,400  of  1,956.    Elapsed: 0:18:11.\n",
            "  Batch 1,500  of  1,956.    Elapsed: 0:19:29.\n",
            "  Batch 1,600  of  1,956.    Elapsed: 0:20:47.\n",
            "  Batch 1,700  of  1,956.    Elapsed: 0:22:05.\n",
            "  Batch 1,800  of  1,956.    Elapsed: 0:23:23.\n",
            "  Batch 1,900  of  1,956.    Elapsed: 0:24:41.\n",
            "\n",
            "  Average training loss: 0.03\n",
            "  Training epcoh took: 0:25:24\n",
            "\n",
            "Running Validation...\n",
            "  Accuracy: 0.95\n",
            "  Validation took: 0:00:59\n",
            "\n",
            "Training complete!\n"
          ],
          "name": "stdout"
        }
      ]
    },
    {
      "cell_type": "markdown",
      "metadata": {
        "id": "1-G03mmwH3aI"
      },
      "source": [
        "Let's take a look at our training loss over all batches:"
      ]
    },
    {
      "cell_type": "code",
      "metadata": {
        "id": "68xreA9JAmG5",
        "colab": {
          "base_uri": "https://localhost:8080/",
          "height": 427
        },
        "outputId": "5538e148-eabc-4460-836c-fd98432f1fb9"
      },
      "source": [
        "import matplotlib.pyplot as plt\n",
        "% matplotlib inline\n",
        "\n",
        "import seaborn as sns\n",
        "\n",
        "# Use plot styling from seaborn.\n",
        "sns.set(style='darkgrid')\n",
        "\n",
        "# Increase the plot size and font size.\n",
        "sns.set(font_scale=1.5)\n",
        "plt.rcParams[\"figure.figsize\"] = (12,6)\n",
        "\n",
        "# Plot the learning curve.\n",
        "plt.plot(loss_values, 'b-o')\n",
        "\n",
        "# Label the plot.\n",
        "plt.title(\"Training loss\")\n",
        "plt.xlabel(\"Epoch\")\n",
        "plt.ylabel(\"Loss\")\n",
        "\n",
        "plt.show()"
      ],
      "execution_count": null,
      "outputs": [
        {
          "output_type": "display_data",
          "data": {
            "image/png": "[encoded data removed]",
            "text/plain": [
              "<Figure size 864x432 with 1 Axes>"
            ]
          },
          "metadata": {
            "tags": []
          }
        }
      ]
    },
    {
      "cell_type": "markdown",
      "metadata": {
        "id": "mkyubuJSOzg3"
      },
      "source": [
        "## 5. Performance On Test Set"
      ]
    },
    {
      "cell_type": "markdown",
      "metadata": {
        "id": "DosV94BYIYxg"
      },
      "source": [
        "Now we'll load the holdout dataset and prepare inputs just as we did with the training set."
      ]
    },
    {
      "cell_type": "markdown",
      "metadata": {
        "id": "Tg42jJqqM68F"
      },
      "source": [
        "### 5.1. Data Preparation\n"
      ]
    },
    {
      "cell_type": "markdown",
      "metadata": {
        "id": "xWe0_JW21MyV"
      },
      "source": [
        "\n",
        "We'll need to apply all of the same steps that we did for the training data to prepare our test data set."
      ]
    },
    {
      "cell_type": "code",
      "metadata": {
        "id": "mAN0LZBOOPVh",
        "colab": {
          "base_uri": "https://localhost:8080/",
          "height": 101
        },
        "outputId": "40c189c5-f8ca-4f17-e432-6e098163d5ed"
      },
      "source": [
        "# Tokenize all of the sentences and map the tokens to thier word IDs.\n",
        "test_input_ids = []\n",
        "\n",
        "# For every sentence...\n",
        "for sen in test_comments.comment:\n",
        "    \n",
        "    # Report progress.\n",
        "    if ((len(input_ids) % 20000) == 0):\n",
        "        print('  Read {:,} comments.'.format(len(input_ids)))\n",
        "    \n",
        "    # `encode` will:\n",
        "    #   (1) Tokenize the sentence.\n",
        "    #   (2) Prepend the `[CLS]` token to the start.\n",
        "    #   (3) Append the `[SEP]` token to the end.\n",
        "    #   (4) Map tokens to their IDs.\n",
        "    encoded_sent = tokenizer.encode(\n",
        "                        sen,                      # Sentence to encode.\n",
        "                        add_special_tokens = True, # Add '[CLS]' and '[SEP]'\n",
        "                        max_length = MAX_LEN,          # Truncate all sentences.                        \n",
        "                   )\n",
        "    \n",
        "    # Add the encoded sentence to the list.\n",
        "    test_input_ids.append(encoded_sent)\n",
        "\n",
        "print('DONE.')\n",
        "print('')\n",
        "print('{:>10,} test comments'.format(len(test_input_ids)))\n",
        "\n",
        "# Also retrieve the labels as a list.\n",
        "\n",
        "# Get the labels from the DataFrame, and convert from booleans to ints.\n",
        "test_labels = test_comments.attack.to_numpy().astype(int)\n",
        "\n",
        "print('{:>10,} positive (contains attack)'.format(np.sum(test_labels)))\n",
        "print('{:>10,} negative (not an attack)'.format(len(test_labels) - np.sum(test_labels)))\n",
        "\n",
        "# Pad our input tokens\n",
        "test_input_ids = pad_sequences(test_input_ids, maxlen=MAX_LEN, \n",
        "                               dtype=\"long\", truncating=\"post\", padding=\"post\")\n",
        "\n",
        "# Create attention masks\n",
        "test_attention_masks = []\n",
        "\n",
        "# Create a mask of 1s for each token followed by 0s for padding\n",
        "for seq in test_input_ids:\n",
        "  seq_mask = [float(i>0) for i in seq]\n",
        "  test_attention_masks.append(seq_mask) \n",
        "\n",
        "# Convert to tensors.\n",
        "test_inputs = torch.tensor(test_input_ids)\n",
        "test_masks = torch.tensor(test_attention_masks)\n",
        "test_labels = torch.tensor(test_labels)\n",
        "\n",
        "# Set the batch size.  \n",
        "batch_size = 32  \n",
        "\n",
        "# Create the DataLoader.\n",
        "test_data = TensorDataset(test_inputs, test_masks, test_labels)\n",
        "test_sampler = SequentialSampler(test_data)\n",
        "test_dataloader = DataLoader(test_data, sampler=test_sampler, batch_size=batch_size)"
      ],
      "execution_count": null,
      "outputs": [
        {
          "output_type": "stream",
          "text": [
            "DONE.\n",
            "\n",
            "    23,178 test comments\n",
            "     2,756 positive (contains attack)\n",
            "    20,422 negative (not an attack)\n"
          ],
          "name": "stdout"
        }
      ]
    },
    {
      "cell_type": "markdown",
      "metadata": {
        "id": "16lctEOyNFik"
      },
      "source": [
        "### 5.2. Evaluate on Test Set\n"
      ]
    },
    {
      "cell_type": "markdown",
      "metadata": {
        "id": "rhR99IISNMg9"
      },
      "source": [
        "\n",
        "With the test set prepared, we can apply our fine-tuned model to generate predictions on the test set."
      ]
    },
    {
      "cell_type": "code",
      "metadata": {
        "id": "Hba10sXR7Xi6",
        "colab": {
          "base_uri": "https://localhost:8080/",
          "height": 168
        },
        "outputId": "bb3ae978-90f3-4342-c6b9-26d395f22588"
      },
      "source": [
        "# Prediction on test set\n",
        "\n",
        "print('Predicting labels for {:,} test sentences...'.format(len(test_inputs)))\n",
        "\n",
        "# Put model in evaluation mode\n",
        "model.eval()\n",
        "\n",
        "# Tracking variables \n",
        "predictions , true_labels = [], []\n",
        "\n",
        "# Measure elapsed time.\n",
        "t0 = time.time()\n",
        "\n",
        "# Predict \n",
        "for (step, batch) in enumerate(test_dataloader):\n",
        "    \n",
        "    # Add batch to GPU\n",
        "    batch = tuple(t.to(device) for t in batch)\n",
        "  \n",
        "    # Progress update every 100 batches.\n",
        "    if step % 100 == 0 and not step == 0:\n",
        "        # Calculate elapsed time in minutes.\n",
        "        elapsed = format_time(time.time() - t0)\n",
        "        \n",
        "        # Report progress.\n",
        "        print('  Batch {:>5,}  of  {:>5,}.    Elapsed: {:}.'.format(step, len(test_dataloader), elapsed))\n",
        "\n",
        "\n",
        "    # Unpack the inputs from our dataloader\n",
        "    b_input_ids, b_input_mask, b_labels = batch\n",
        "  \n",
        "    # Telling the model not to compute or store gradients, saving memory and \n",
        "    # speeding up prediction\n",
        "    with torch.no_grad():\n",
        "        # Forward pass, calculate logit predictions\n",
        "        outputs = model(b_input_ids, token_type_ids=None, \n",
        "                        attention_mask=b_input_mask)\n",
        "\n",
        "    logits = outputs[0]\n",
        "\n",
        "    # Move logits and labels to CPU\n",
        "    logits = logits.detach().cpu().numpy()\n",
        "    label_ids = b_labels.to('cpu').numpy()\n",
        "  \n",
        "    # Store predictions and true labels\n",
        "    predictions.append(logits)\n",
        "    true_labels.append(label_ids)\n",
        "\n",
        "print('    DONE.')"
      ],
      "execution_count": null,
      "outputs": [
        {
          "output_type": "stream",
          "text": [
            "Predicting labels for 23,178 test sentences...\n",
            "  Batch   100  of    725.    Elapsed: 0:00:25.\n",
            "  Batch   200  of    725.    Elapsed: 0:00:52.\n",
            "  Batch   300  of    725.    Elapsed: 0:01:20.\n",
            "  Batch   400  of    725.    Elapsed: 0:01:47.\n",
            "  Batch   500  of    725.    Elapsed: 0:02:14.\n",
            "  Batch   600  of    725.    Elapsed: 0:02:41.\n",
            "  Batch   700  of    725.    Elapsed: 0:03:08.\n",
            "    DONE.\n"
          ],
          "name": "stdout"
        }
      ]
    },
    {
      "cell_type": "code",
      "metadata": {
        "id": "WlBi2hc-IuVu"
      },
      "source": [
        "# Combine the results across the batches.\n",
        "predictions = np.concatenate(predictions, axis=0)\n",
        "true_labels = np.concatenate(true_labels, axis=0)"
      ],
      "execution_count": null,
      "outputs": []
    },
    {
      "cell_type": "markdown",
      "metadata": {
        "id": "yMVyXXHlr2pt"
      },
      "source": [
        "Let's peek at the model's outputs for the first 10 test samples, along with the correct labels for each."
      ]
    },
    {
      "cell_type": "code",
      "metadata": {
        "id": "_mjLBPw_LIE0",
        "colab": {
          "base_uri": "https://localhost:8080/",
          "height": 185
        },
        "outputId": "188df64a-47b3-4cf9-d769-e970b542a2ba"
      },
      "source": [
        "predictions[0:10]"
      ],
      "execution_count": null,
      "outputs": [
        {
          "output_type": "execute_result",
          "data": {
            "text/plain": [
              "array([[ 4.039028 , -4.3186197],\n",
              "       [ 4.8740277, -4.8348045],\n",
              "       [ 4.831533 , -4.8746214],\n",
              "       [ 4.7093406, -4.7833867],\n",
              "       [ 4.782529 , -4.811639 ],\n",
              "       [ 4.8868985, -4.826337 ],\n",
              "       [ 4.999706 , -4.867378 ],\n",
              "       [ 4.606828 , -4.708927 ],\n",
              "       [ 4.68402  , -4.754583 ],\n",
              "       [ 4.785246 , -4.5924516]], dtype=float32)"
            ]
          },
          "metadata": {
            "tags": []
          },
          "execution_count": 43
        }
      ]
    },
    {
      "cell_type": "code",
      "metadata": {
        "id": "OjALaZFeLNrV",
        "colab": {
          "base_uri": "https://localhost:8080/",
          "height": 34
        },
        "outputId": "6ee40fe9-0d95-4b70-aa02-3515c0cf38be"
      },
      "source": [
        "true_labels[0:10]"
      ],
      "execution_count": null,
      "outputs": [
        {
          "output_type": "execute_result",
          "data": {
            "text/plain": [
              "array([0, 0, 0, 0, 0, 0, 0, 0, 0, 0])"
            ]
          },
          "metadata": {
            "tags": []
          },
          "execution_count": 44
        }
      ]
    },
    {
      "cell_type": "markdown",
      "metadata": {
        "id": "Rdo4rF6ePd6d"
      },
      "source": [
        "These first ten examples all look correct (high confidence for label 0 and low confidence for label 1)! Let's see how we did on the full test set.\n",
        "\n",
        "The accuracy metric chosen by the authors for this dataset is the \"ROC AUC\" (Receiver Operating Characteristic, Area Under the Curve) rather than straight accuracy (number right / total examples).\n",
        "\n",
        "*ROC AUC*\n",
        "\n",
        "To illustrate the purpose of this metric, let's say that you were going to deploy this comment classifier on your website to automatically flag bad comments. In order to do that, you would have to make a decision about how confident you needed the classifier to be before flagging a comment as a personal attack.\n",
        "* If it was critical that no bad comments be missed, then you might choose to set a fairly low threshold, and then have a human review what the classifier flags. This would help ensure that bad comments would be caught, but at the cost of getting more false positives that the moderator would have to deal with.\n",
        "* If it wasn't critical to catch them all, and you wanted as few as possible to manually review, then you might you set a higher threshold so that you don't have as many flagged comments to review (at the risk of missing some attacks). \n",
        "\n",
        "The ROC AUC takes into account the fact that you can adjust the threshold to trade off false positives and false negatives, and yields a score which tries to capture overall accuracy independent of where you choose to put that threshold."
      ]
    },
    {
      "cell_type": "code",
      "metadata": {
        "id": "TzOXklXZOpi-",
        "colab": {
          "base_uri": "https://localhost:8080/",
          "height": 34
        },
        "outputId": "e064c132-f86e-4b78-b684-0981fb7cc520"
      },
      "source": [
        "# Our performance metric for the test set.\n",
        "from sklearn.metrics import roc_auc_score\n",
        "\n",
        "# Use the model output for label 1 as our predictions.\n",
        "p1 = predictions[:,1]\n",
        "\n",
        "# Calculate the ROC AUC.\n",
        "auc = roc_auc_score(true_labels, p1)\n",
        "\n",
        "print('Test ROC AUC: %.3f' %auc)"
      ],
      "execution_count": null,
      "outputs": [
        {
          "output_type": "stream",
          "text": [
            "Test ROC AUC: 0.969\n"
          ],
          "name": "stdout"
        }
      ]
    },
    {
      "cell_type": "markdown",
      "metadata": {
        "id": "tcA8f9eORpSW"
      },
      "source": [
        "This is a great score!\n",
        "\n",
        "The baseline performance from the [original notebook](https://github.com/ewulczyn/wiki-detox/blob/master/src/figshare/Wikipedia%20Talk%20Data%20-%20Getting%20Started.ipynb) using tf-idf + Logistic Regression is 0.957.\n",
        "\n",
        "In a previous experiment (in my [word2vec course](https://www.chrismccormick.ai/word2vec-the-course)), I trained a word2vec model on this dataset and then used it as the embeddings for an LSTM classifier. That approach achieved a score of 0.966. \n",
        "\n",
        "We've beaten both with minimal effort using BERT!"
      ]
    },
    {
      "cell_type": "markdown",
      "metadata": {
        "id": "YUmsUOIv8EUO"
      },
      "source": [
        "## 6. Save Trained Model\n"
      ]
    },
    {
      "cell_type": "markdown",
      "metadata": {
        "id": "4PcMRYop8bHl"
      },
      "source": [
        "### 6.1. Saving to Disk"
      ]
    },
    {
      "cell_type": "markdown",
      "metadata": {
        "id": "q2079Qyn8Mt8"
      },
      "source": [
        "This first cell (taken from `run_glue.py` [here](https://github.com/huggingface/transformers/blob/35ff345fc9df9e777b27903f11fa213e4052595b/examples/run_glue.py#L495)) writes the model and tokenizer out to disk."
      ]
    },
    {
      "cell_type": "code",
      "metadata": {
        "id": "6ulTWaOr8QNY",
        "colab": {
          "base_uri": "https://localhost:8080/",
          "height": 84
        },
        "outputId": "379f7543-7c2d-4ad3-96a7-7e85230ede50"
      },
      "source": [
        "import os\n",
        "\n",
        "# Saving best-practices: if you use defaults names for the model, you can reload it using from_pretrained()\n",
        "output_dir = './model_save/'\n",
        "\n",
        "# Create output directory if needed\n",
        "if not os.path.exists(output_dir):\n",
        "    os.makedirs(output_dir)\n",
        "\n",
        "print(\"Saving model to %s\" % output_dir)\n",
        "\n",
        "# Save a trained model, configuration and tokenizer using `save_pretrained()`.\n",
        "# They can then be reloaded using `from_pretrained()`\n",
        "model_to_save = model.module if hasattr(model, 'module') else model  # Take care of distributed/parallel training\n",
        "model_to_save.save_pretrained(output_dir)\n",
        "tokenizer.save_pretrained(output_dir)\n",
        "\n",
        "# Good practice: save your training arguments together with the trained model\n",
        "# torch.save(args, os.path.join(output_dir, 'training_args.bin'))"
      ],
      "execution_count": null,
      "outputs": [
        {
          "output_type": "stream",
          "text": [
            "Saving model to ./model_save/\n"
          ],
          "name": "stdout"
        },
        {
          "output_type": "execute_result",
          "data": {
            "text/plain": [
              "('./model_save/vocab.txt',\n",
              " './model_save/special_tokens_map.json',\n",
              " './model_save/added_tokens.json')"
            ]
          },
          "metadata": {
            "tags": []
          },
          "execution_count": 46
        }
      ]
    },
    {
      "cell_type": "markdown",
      "metadata": {
        "id": "MS6oWRqxs8s7"
      },
      "source": [
        "### 6.2. Backing Up to Google Drive"
      ]
    },
    {
      "cell_type": "markdown",
      "metadata": {
        "id": "dzGKvOFAll_e"
      },
      "source": [
        "To save your model across Colab Notebook sessions, download it to your local machine, or ideally copy it to your Google Drive."
      ]
    },
    {
      "cell_type": "code",
      "metadata": {
        "id": "Trr-A-POC18_",
        "colab": {
          "base_uri": "https://localhost:8080/",
          "height": 121
        },
        "outputId": "737a2579-6d1e-454f-bdb8-ea7bbc8e3ac4"
      },
      "source": [
        "# Mount Google Drive to this Notebook instance.\n",
        "from google.colab import drive\n",
        "drive.mount('/content/drive')"
      ],
      "execution_count": null,
      "outputs": [
        {
          "output_type": "stream",
          "text": [
            "Go to this URL in a browser: https://accounts.google.com/o/oauth2/auth?client_id=947318989803-6bn6qk8qdgf4n4g3pfee6491hc0brc4i.apps.googleusercontent.com&redirect_uri=urn%3aietf%3awg%3aoauth%3a2.0%3aoob&response_type=code&scope=email%20https%3a%2f%2fwww.googleapis.com%2fauth%2fdocs.test%20https%3a%2f%2fwww.googleapis.com%2fauth%2fdrive%20https%3a%2f%2fwww.googleapis.com%2fauth%2fdrive.photos.readonly%20https%3a%2f%2fwww.googleapis.com%2fauth%2fpeopleapi.readonly\n",
            "\n",
            "Enter your authorization code:\n",
            "··········\n",
            "Mounted at /content/drive\n"
          ],
          "name": "stdout"
        }
      ]
    },
    {
      "cell_type": "code",
      "metadata": {
        "id": "NxlZsafTC-V5"
      },
      "source": [
        "gdrive_path = \"./drive/My Drive/BERT Document Classification Tutorial/model_save/\"\n",
        "\n",
        "# Create output directory if needed\n",
        "if not os.path.exists(gdrive_path):\n",
        "    os.makedirs(gdrive_path)\n",
        "\n",
        "# Copy the model files to a directory in your Google Drive.\n",
        "!cp -r ./model_save/ \"./drive/My Drive/BERT Document Classification Tutorial/model_save/\""
      ],
      "execution_count": null,
      "outputs": []
    },
    {
      "cell_type": "markdown",
      "metadata": {
        "id": "TdfKzHZNRSQ2"
      },
      "source": [
        "# Part III - Semantic Similarity"
      ]
    },
    {
      "cell_type": "markdown",
      "metadata": {
        "id": "Q4Xu6y27RWS2"
      },
      "source": [
        "In Part III, we'll walk through an example of using BERT to measure the \"semantic similarity\" of two pieces of text. \"Semantic similarity\" refers to how close in meaning the pieces of text are.\n",
        "\n",
        "As a demonstration of this capability, we'll implement code to compare an arbitrary piece of input text (it could be from the dataset or one we supply ourselves) with all of the comments in the dataset and return the comments that are most similar in meaning to the input text."
      ]
    },
    {
      "cell_type": "markdown",
      "metadata": {
        "id": "eW52Ipwf9vN1"
      },
      "source": [
        "## 7. Vectorize Comments "
      ]
    },
    {
      "cell_type": "markdown",
      "metadata": {
        "id": "X6PT_j2o90E-"
      },
      "source": [
        "In this section, we will use our fine-tuned BERT model to extract sentence embeddings for all of the training comments.\n",
        "\n",
        "To create these embeddings, we'll simply run the comments through the model the same way we did for training, but we'll take the embedding corresponding to the `[CLS]` token from the final BERT Transformer layer. It's the blue rectangle at the top left of the following illustration:\n",
        "\n",
        "![Illustration of CLS token purpose](http://www.mccormickml.com/assets/BERT/CLS_token_500x606.png)\n",
        "\n",
        "\n",
        "\n"
      ]
    },
    {
      "cell_type": "markdown",
      "metadata": {
        "id": "lrIeVcCB8iu1"
      },
      "source": [
        "### 7.1. Modifying Our Model to Output Embeddings"
      ]
    },
    {
      "cell_type": "markdown",
      "metadata": {
        "id": "W0vstijw85SZ"
      },
      "source": [
        "Important: Before we can use our fine-tuned model for extracting embeddings, we first need to reload the model from disk with the `output_hidden_states` flag set to `True`.\n",
        "\n",
        "(TODO - You can try setting `model.output_hidden_states = True`, but I'm not sure if this will work, haven't tried it...)\n",
        "\n"
      ]
    },
    {
      "cell_type": "markdown",
      "metadata": {
        "id": "gFiRlyL-kokW"
      },
      "source": [
        "**Load from Google Drive**\n",
        "\n",
        "If you need to restore your model from Google Drive, the following two cells demonstrate how to do this."
      ]
    },
    {
      "cell_type": "code",
      "metadata": {
        "id": "3fodXxaLtlP-"
      },
      "source": [
        "model.output_hidden_states = True"
      ],
      "execution_count": null,
      "outputs": []
    },
    {
      "cell_type": "code",
      "metadata": {
        "id": "akUxcVFt8V6f",
        "colab": {
          "base_uri": "https://localhost:8080/",
          "height": 121
        },
        "outputId": "22b10b0a-3ed5-41b3-eb7e-910170221a7a"
      },
      "source": [
        "# Mount Google Drive to this Notebook instance.\n",
        "from google.colab import drive\n",
        "drive.mount('/content/drive')"
      ],
      "execution_count": null,
      "outputs": [
        {
          "output_type": "stream",
          "text": [
            "Go to this URL in a browser: https://accounts.google.com/o/oauth2/auth?client_id=947318989803-6bn6qk8qdgf4n4g3pfee6491hc0brc4i.apps.googleusercontent.com&redirect_uri=urn%3aietf%3awg%3aoauth%3a2.0%3aoob&response_type=code&scope=email%20https%3a%2f%2fwww.googleapis.com%2fauth%2fdocs.test%20https%3a%2f%2fwww.googleapis.com%2fauth%2fdrive%20https%3a%2f%2fwww.googleapis.com%2fauth%2fdrive.photos.readonly%20https%3a%2f%2fwww.googleapis.com%2fauth%2fpeopleapi.readonly\n",
            "\n",
            "Enter your authorization code:\n",
            "··········\n",
            "Mounted at /content/drive\n"
          ],
          "name": "stdout"
        }
      ]
    },
    {
      "cell_type": "code",
      "metadata": {
        "id": "2riZBxW38lV8"
      },
      "source": [
        "# Copy the model files back from Google Drive to the Colab instance. \n",
        "!cp -r \"./drive/My Drive/BERT Document Classification Tutorial/model_save/\" ./model_save/"
      ],
      "execution_count": null,
      "outputs": []
    },
    {
      "cell_type": "markdown",
      "metadata": {
        "id": "n2aA0Eo5lov-"
      },
      "source": [
        "Now we can load our model's weights, this time enabling the `output_hidden_states` flag. \n",
        "\n",
        "This cell also demonstrates how to load the tokenizer from disk,though we haven't made any changes to it."
      ]
    },
    {
      "cell_type": "code",
      "metadata": {
        "id": "nskPzUM084zL",
        "colab": {
          "base_uri": "https://localhost:8080/",
          "height": 1000
        },
        "outputId": "47e7d77d-0973-435c-cdf0-2a6f31421d7d"
      },
      "source": [
        "from transformers import BertForSequenceClassification, BertTokenizer\n",
        "\n",
        "# The name of the folder containing the model files.\n",
        "output_dir = './model_save/'\n",
        "\n",
        "# Load our fine-tuned model, and configure it to return the \"hidden states\", \n",
        "# from which we will be taking our text embeddings.\n",
        "model = BertForSequenceClassification.from_pretrained(\n",
        "    output_dir,\n",
        "    output_hidden_states = True, # Whether the model returns all hidden-states.\n",
        ") \n",
        "\n",
        "# Load the tokenizer.\n",
        "tokenizer = BertTokenizer.from_pretrained(output_dir)\n",
        "\n",
        "# Copy the model to the GPU.\n",
        "model.to(device)"
      ],
      "execution_count": null,
      "outputs": [
        {
          "output_type": "execute_result",
          "data": {
            "text/plain": [
              "BertForSequenceClassification(\n",
              "  (bert): BertModel(\n",
              "    (embeddings): BertEmbeddings(\n",
              "      (word_embeddings): Embedding(30522, 768, padding_idx=0)\n",
              "      (position_embeddings): Embedding(512, 768)\n",
              "      (token_type_embeddings): Embedding(2, 768)\n",
              "      (LayerNorm): LayerNorm((768,), eps=1e-12, elementwise_affine=True)\n",
              "      (dropout): Dropout(p=0.1, inplace=False)\n",
              "    )\n",
              "    (encoder): BertEncoder(\n",
              "      (layer): ModuleList(\n",
              "        (0): BertLayer(\n",
              "          (attention): BertAttention(\n",
              "            (self): BertSelfAttention(\n",
              "              (query): Linear(in_features=768, out_features=768, bias=True)\n",
              "              (key): Linear(in_features=768, out_features=768, bias=True)\n",
              "              (value): Linear(in_features=768, out_features=768, bias=True)\n",
              "              (dropout): Dropout(p=0.1, inplace=False)\n",
              "            )\n",
              "            (output): BertSelfOutput(\n",
              "              (dense): Linear(in_features=768, out_features=768, bias=True)\n",
              "              (LayerNorm): LayerNorm((768,), eps=1e-12, elementwise_affine=True)\n",
              "              (dropout): Dropout(p=0.1, inplace=False)\n",
              "            )\n",
              "          )\n",
              "          (intermediate): BertIntermediate(\n",
              "            (dense): Linear(in_features=768, out_features=3072, bias=True)\n",
              "          )\n",
              "          (output): BertOutput(\n",
              "            (dense): Linear(in_features=3072, out_features=768, bias=True)\n",
              "            (LayerNorm): LayerNorm((768,), eps=1e-12, elementwise_affine=True)\n",
              "            (dropout): Dropout(p=0.1, inplace=False)\n",
              "          )\n",
              "        )\n",
              "        (1): BertLayer(\n",
              "          (attention): BertAttention(\n",
              "            (self): BertSelfAttention(\n",
              "              (query): Linear(in_features=768, out_features=768, bias=True)\n",
              "              (key): Linear(in_features=768, out_features=768, bias=True)\n",
              "              (value): Linear(in_features=768, out_features=768, bias=True)\n",
              "              (dropout): Dropout(p=0.1, inplace=False)\n",
              "            )\n",
              "            (output): BertSelfOutput(\n",
              "              (dense): Linear(in_features=768, out_features=768, bias=True)\n",
              "              (LayerNorm): LayerNorm((768,), eps=1e-12, elementwise_affine=True)\n",
              "              (dropout): Dropout(p=0.1, inplace=False)\n",
              "            )\n",
              "          )\n",
              "          (intermediate): BertIntermediate(\n",
              "            (dense): Linear(in_features=768, out_features=3072, bias=True)\n",
              "          )\n",
              "          (output): BertOutput(\n",
              "            (dense): Linear(in_features=3072, out_features=768, bias=True)\n",
              "            (LayerNorm): LayerNorm((768,), eps=1e-12, elementwise_affine=True)\n",
              "            (dropout): Dropout(p=0.1, inplace=False)\n",
              "          )\n",
              "        )\n",
              "        (2): BertLayer(\n",
              "          (attention): BertAttention(\n",
              "            (self): BertSelfAttention(\n",
              "              (query): Linear(in_features=768, out_features=768, bias=True)\n",
              "              (key): Linear(in_features=768, out_features=768, bias=True)\n",
              "              (value): Linear(in_features=768, out_features=768, bias=True)\n",
              "              (dropout): Dropout(p=0.1, inplace=False)\n",
              "            )\n",
              "            (output): BertSelfOutput(\n",
              "              (dense): Linear(in_features=768, out_features=768, bias=True)\n",
              "              (LayerNorm): LayerNorm((768,), eps=1e-12, elementwise_affine=True)\n",
              "              (dropout): Dropout(p=0.1, inplace=False)\n",
              "            )\n",
              "          )\n",
              "          (intermediate): BertIntermediate(\n",
              "            (dense): Linear(in_features=768, out_features=3072, bias=True)\n",
              "          )\n",
              "          (output): BertOutput(\n",
              "            (dense): Linear(in_features=3072, out_features=768, bias=True)\n",
              "            (LayerNorm): LayerNorm((768,), eps=1e-12, elementwise_affine=True)\n",
              "            (dropout): Dropout(p=0.1, inplace=False)\n",
              "          )\n",
              "        )\n",
              "        (3): BertLayer(\n",
              "          (attention): BertAttention(\n",
              "            (self): BertSelfAttention(\n",
              "              (query): Linear(in_features=768, out_features=768, bias=True)\n",
              "              (key): Linear(in_features=768, out_features=768, bias=True)\n",
              "              (value): Linear(in_features=768, out_features=768, bias=True)\n",
              "              (dropout): Dropout(p=0.1, inplace=False)\n",
              "            )\n",
              "            (output): BertSelfOutput(\n",
              "              (dense): Linear(in_features=768, out_features=768, bias=True)\n",
              "              (LayerNorm): LayerNorm((768,), eps=1e-12, elementwise_affine=True)\n",
              "              (dropout): Dropout(p=0.1, inplace=False)\n",
              "            )\n",
              "          )\n",
              "          (intermediate): BertIntermediate(\n",
              "            (dense): Linear(in_features=768, out_features=3072, bias=True)\n",
              "          )\n",
              "          (output): BertOutput(\n",
              "            (dense): Linear(in_features=3072, out_features=768, bias=True)\n",
              "            (LayerNorm): LayerNorm((768,), eps=1e-12, elementwise_affine=True)\n",
              "            (dropout): Dropout(p=0.1, inplace=False)\n",
              "          )\n",
              "        )\n",
              "        (4): BertLayer(\n",
              "          (attention): BertAttention(\n",
              "            (self): BertSelfAttention(\n",
              "              (query): Linear(in_features=768, out_features=768, bias=True)\n",
              "              (key): Linear(in_features=768, out_features=768, bias=True)\n",
              "              (value): Linear(in_features=768, out_features=768, bias=True)\n",
              "              (dropout): Dropout(p=0.1, inplace=False)\n",
              "            )\n",
              "            (output): BertSelfOutput(\n",
              "              (dense): Linear(in_features=768, out_features=768, bias=True)\n",
              "              (LayerNorm): LayerNorm((768,), eps=1e-12, elementwise_affine=True)\n",
              "              (dropout): Dropout(p=0.1, inplace=False)\n",
              "            )\n",
              "          )\n",
              "          (intermediate): BertIntermediate(\n",
              "            (dense): Linear(in_features=768, out_features=3072, bias=True)\n",
              "          )\n",
              "          (output): BertOutput(\n",
              "            (dense): Linear(in_features=3072, out_features=768, bias=True)\n",
              "            (LayerNorm): LayerNorm((768,), eps=1e-12, elementwise_affine=True)\n",
              "            (dropout): Dropout(p=0.1, inplace=False)\n",
              "          )\n",
              "        )\n",
              "        (5): BertLayer(\n",
              "          (attention): BertAttention(\n",
              "            (self): BertSelfAttention(\n",
              "              (query): Linear(in_features=768, out_features=768, bias=True)\n",
              "              (key): Linear(in_features=768, out_features=768, bias=True)\n",
              "              (value): Linear(in_features=768, out_features=768, bias=True)\n",
              "              (dropout): Dropout(p=0.1, inplace=False)\n",
              "            )\n",
              "            (output): BertSelfOutput(\n",
              "              (dense): Linear(in_features=768, out_features=768, bias=True)\n",
              "              (LayerNorm): LayerNorm((768,), eps=1e-12, elementwise_affine=True)\n",
              "              (dropout): Dropout(p=0.1, inplace=False)\n",
              "            )\n",
              "          )\n",
              "          (intermediate): BertIntermediate(\n",
              "            (dense): Linear(in_features=768, out_features=3072, bias=True)\n",
              "          )\n",
              "          (output): BertOutput(\n",
              "            (dense): Linear(in_features=3072, out_features=768, bias=True)\n",
              "            (LayerNorm): LayerNorm((768,), eps=1e-12, elementwise_affine=True)\n",
              "            (dropout): Dropout(p=0.1, inplace=False)\n",
              "          )\n",
              "        )\n",
              "        (6): BertLayer(\n",
              "          (attention): BertAttention(\n",
              "            (self): BertSelfAttention(\n",
              "              (query): Linear(in_features=768, out_features=768, bias=True)\n",
              "              (key): Linear(in_features=768, out_features=768, bias=True)\n",
              "              (value): Linear(in_features=768, out_features=768, bias=True)\n",
              "              (dropout): Dropout(p=0.1, inplace=False)\n",
              "            )\n",
              "            (output): BertSelfOutput(\n",
              "              (dense): Linear(in_features=768, out_features=768, bias=True)\n",
              "              (LayerNorm): LayerNorm((768,), eps=1e-12, elementwise_affine=True)\n",
              "              (dropout): Dropout(p=0.1, inplace=False)\n",
              "            )\n",
              "          )\n",
              "          (intermediate): BertIntermediate(\n",
              "            (dense): Linear(in_features=768, out_features=3072, bias=True)\n",
              "          )\n",
              "          (output): BertOutput(\n",
              "            (dense): Linear(in_features=3072, out_features=768, bias=True)\n",
              "            (LayerNorm): LayerNorm((768,), eps=1e-12, elementwise_affine=True)\n",
              "            (dropout): Dropout(p=0.1, inplace=False)\n",
              "          )\n",
              "        )\n",
              "        (7): BertLayer(\n",
              "          (attention): BertAttention(\n",
              "            (self): BertSelfAttention(\n",
              "              (query): Linear(in_features=768, out_features=768, bias=True)\n",
              "              (key): Linear(in_features=768, out_features=768, bias=True)\n",
              "              (value): Linear(in_features=768, out_features=768, bias=True)\n",
              "              (dropout): Dropout(p=0.1, inplace=False)\n",
              "            )\n",
              "            (output): BertSelfOutput(\n",
              "              (dense): Linear(in_features=768, out_features=768, bias=True)\n",
              "              (LayerNorm): LayerNorm((768,), eps=1e-12, elementwise_affine=True)\n",
              "              (dropout): Dropout(p=0.1, inplace=False)\n",
              "            )\n",
              "          )\n",
              "          (intermediate): BertIntermediate(\n",
              "            (dense): Linear(in_features=768, out_features=3072, bias=True)\n",
              "          )\n",
              "          (output): BertOutput(\n",
              "            (dense): Linear(in_features=3072, out_features=768, bias=True)\n",
              "            (LayerNorm): LayerNorm((768,), eps=1e-12, elementwise_affine=True)\n",
              "            (dropout): Dropout(p=0.1, inplace=False)\n",
              "          )\n",
              "        )\n",
              "        (8): BertLayer(\n",
              "          (attention): BertAttention(\n",
              "            (self): BertSelfAttention(\n",
              "              (query): Linear(in_features=768, out_features=768, bias=True)\n",
              "              (key): Linear(in_features=768, out_features=768, bias=True)\n",
              "              (value): Linear(in_features=768, out_features=768, bias=True)\n",
              "              (dropout): Dropout(p=0.1, inplace=False)\n",
              "            )\n",
              "            (output): BertSelfOutput(\n",
              "              (dense): Linear(in_features=768, out_features=768, bias=True)\n",
              "              (LayerNorm): LayerNorm((768,), eps=1e-12, elementwise_affine=True)\n",
              "              (dropout): Dropout(p=0.1, inplace=False)\n",
              "            )\n",
              "          )\n",
              "          (intermediate): BertIntermediate(\n",
              "            (dense): Linear(in_features=768, out_features=3072, bias=True)\n",
              "          )\n",
              "          (output): BertOutput(\n",
              "            (dense): Linear(in_features=3072, out_features=768, bias=True)\n",
              "            (LayerNorm): LayerNorm((768,), eps=1e-12, elementwise_affine=True)\n",
              "            (dropout): Dropout(p=0.1, inplace=False)\n",
              "          )\n",
              "        )\n",
              "        (9): BertLayer(\n",
              "          (attention): BertAttention(\n",
              "            (self): BertSelfAttention(\n",
              "              (query): Linear(in_features=768, out_features=768, bias=True)\n",
              "              (key): Linear(in_features=768, out_features=768, bias=True)\n",
              "              (value): Linear(in_features=768, out_features=768, bias=True)\n",
              "              (dropout): Dropout(p=0.1, inplace=False)\n",
              "            )\n",
              "            (output): BertSelfOutput(\n",
              "              (dense): Linear(in_features=768, out_features=768, bias=True)\n",
              "              (LayerNorm): LayerNorm((768,), eps=1e-12, elementwise_affine=True)\n",
              "              (dropout): Dropout(p=0.1, inplace=False)\n",
              "            )\n",
              "          )\n",
              "          (intermediate): BertIntermediate(\n",
              "            (dense): Linear(in_features=768, out_features=3072, bias=True)\n",
              "          )\n",
              "          (output): BertOutput(\n",
              "            (dense): Linear(in_features=3072, out_features=768, bias=True)\n",
              "            (LayerNorm): LayerNorm((768,), eps=1e-12, elementwise_affine=True)\n",
              "            (dropout): Dropout(p=0.1, inplace=False)\n",
              "          )\n",
              "        )\n",
              "        (10): BertLayer(\n",
              "          (attention): BertAttention(\n",
              "            (self): BertSelfAttention(\n",
              "              (query): Linear(in_features=768, out_features=768, bias=True)\n",
              "              (key): Linear(in_features=768, out_features=768, bias=True)\n",
              "              (value): Linear(in_features=768, out_features=768, bias=True)\n",
              "              (dropout): Dropout(p=0.1, inplace=False)\n",
              "            )\n",
              "            (output): BertSelfOutput(\n",
              "              (dense): Linear(in_features=768, out_features=768, bias=True)\n",
              "              (LayerNorm): LayerNorm((768,), eps=1e-12, elementwise_affine=True)\n",
              "              (dropout): Dropout(p=0.1, inplace=False)\n",
              "            )\n",
              "          )\n",
              "          (intermediate): BertIntermediate(\n",
              "            (dense): Linear(in_features=768, out_features=3072, bias=True)\n",
              "          )\n",
              "          (output): BertOutput(\n",
              "            (dense): Linear(in_features=3072, out_features=768, bias=True)\n",
              "            (LayerNorm): LayerNorm((768,), eps=1e-12, elementwise_affine=True)\n",
              "            (dropout): Dropout(p=0.1, inplace=False)\n",
              "          )\n",
              "        )\n",
              "        (11): BertLayer(\n",
              "          (attention): BertAttention(\n",
              "            (self): BertSelfAttention(\n",
              "              (query): Linear(in_features=768, out_features=768, bias=True)\n",
              "              (key): Linear(in_features=768, out_features=768, bias=True)\n",
              "              (value): Linear(in_features=768, out_features=768, bias=True)\n",
              "              (dropout): Dropout(p=0.1, inplace=False)\n",
              "            )\n",
              "            (output): BertSelfOutput(\n",
              "              (dense): Linear(in_features=768, out_features=768, bias=True)\n",
              "              (LayerNorm): LayerNorm((768,), eps=1e-12, elementwise_affine=True)\n",
              "              (dropout): Dropout(p=0.1, inplace=False)\n",
              "            )\n",
              "          )\n",
              "          (intermediate): BertIntermediate(\n",
              "            (dense): Linear(in_features=768, out_features=3072, bias=True)\n",
              "          )\n",
              "          (output): BertOutput(\n",
              "            (dense): Linear(in_features=3072, out_features=768, bias=True)\n",
              "            (LayerNorm): LayerNorm((768,), eps=1e-12, elementwise_affine=True)\n",
              "            (dropout): Dropout(p=0.1, inplace=False)\n",
              "          )\n",
              "        )\n",
              "      )\n",
              "    )\n",
              "    (pooler): BertPooler(\n",
              "      (dense): Linear(in_features=768, out_features=768, bias=True)\n",
              "      (activation): Tanh()\n",
              "    )\n",
              "  )\n",
              "  (dropout): Dropout(p=0.1, inplace=False)\n",
              "  (classifier): Linear(in_features=768, out_features=2, bias=True)\n",
              ")"
            ]
          },
          "metadata": {
            "tags": []
          },
          "execution_count": 49
        }
      ]
    },
    {
      "cell_type": "markdown",
      "metadata": {
        "id": "gSYYkkdn_RnB"
      },
      "source": [
        "### 7.2. text_to_embedding function"
      ]
    },
    {
      "cell_type": "markdown",
      "metadata": {
        "id": "S_eSAG9V_bEN"
      },
      "source": [
        "Here we'll define a function which can take an arbitrary piece of text and use our fine-tuned BERT model to compute a feature vector (aka \"embedding\") for the text.\n",
        "\n",
        "Again, we'll be using the 768-feature vector corresponding to the special `[CLS]` token, taken from the final transformer layer.\n",
        "\n",
        "Note that, for converting large amounts of text, we could improve our performance by modifying this function to accept multiple input texts at once. GPUs (and CPUs) are most efficient when they are given a *batch* of inputs to work on."
      ]
    },
    {
      "cell_type": "code",
      "metadata": {
        "id": "bqr6kC1Z_aOj"
      },
      "source": [
        "import torch\n",
        "from keras.preprocessing.sequence import pad_sequences\n",
        "\n",
        "def text_to_embedding(tokenizer, model, in_text):\n",
        "    '''\n",
        "    Uses the provided BERT `model` and `tokenizer` to generate a vector \n",
        "    representation of the input string, `in_text`.\n",
        "\n",
        "    Returns the vector stored as a numpy ndarray.\n",
        "    '''\n",
        "\n",
        "    # ===========================\n",
        "    #    STEP 1: Tokenization\n",
        "    # ===========================\n",
        "\n",
        "    MAX_LEN = 128\n",
        "\n",
        "    # `encode` will:\n",
        "    #   (1) Tokenize the sentence.\n",
        "    #   (2) Truncate the sentence to MAX_LEN if necessary.\n",
        "    #   (2) Prepend the `[CLS]` token to the start.\n",
        "    #   (3) Append the `[SEP]` token to the end. (After truncating!)\n",
        "    #   (4) Map tokens to their IDs.\n",
        "    input_ids = tokenizer.encode(\n",
        "                        in_text,                    # Sentence to encode.\n",
        "                        add_special_tokens = True,  # Add '[CLS]' and '[SEP]'\n",
        "                        max_length = MAX_LEN,       # Truncate all sentences.                        \n",
        "                   )    \n",
        "\n",
        "    # Pad our input tokens. Truncation was handled above by the `encode`\n",
        "    # function, which also makes sure that the `[SEP]` token is placed at the\n",
        "    # end *after* truncating.\n",
        "    # Note: `pad_sequences` expects a list of lists, but we only have one\n",
        "    # piece of text, so we surround `input_ids` with an extra set of brackets.\n",
        "    results = pad_sequences([input_ids], maxlen=MAX_LEN, dtype=\"long\", \n",
        "                              truncating=\"post\", padding=\"post\")\n",
        "    \n",
        "    # Remove the outer list.\n",
        "    input_ids = results[0]\n",
        "\n",
        "    # Create attention masks    \n",
        "    attn_mask = [int(i>0) for i in input_ids]\n",
        "    \n",
        "    # Cast to tensors.\n",
        "    input_ids = torch.tensor(input_ids)\n",
        "    attn_mask = torch.tensor(attn_mask)\n",
        "\n",
        "    # Add an extra dimension for the \"batch\" (even though there is only one \n",
        "    # input in this batch.)\n",
        "    input_ids = input_ids.unsqueeze(0)\n",
        "    attn_mask = attn_mask.unsqueeze(0)\n",
        "\n",
        "    # ===========================\n",
        "    #    STEP 2: BERT Model\n",
        "    # ===========================\n",
        "\n",
        "    # Put the model in evaluation mode--the dropout layers behave differently\n",
        "    # during evaluation.\n",
        "    model.eval()\n",
        "\n",
        "    # Copy the inputs to the GPU\n",
        "    # Note -- I got stuck here for a while because I didn't assign the result \n",
        "    # back to the variable! Geez!\n",
        "    input_ids = input_ids.to(device)\n",
        "    attn_mask = attn_mask.to(device)\n",
        "    \n",
        "    # Telling the model not to build the backwards graph will make this \n",
        "    # a little quicker.\n",
        "    with torch.no_grad():        \n",
        "\n",
        "        # Forward pass, return hidden states and predictions.\n",
        "        # This will return the logits rather than the loss because we have\n",
        "        # not provided labels.\n",
        "        logits, encoded_layers = model(\n",
        "                                    input_ids = input_ids, \n",
        "                                    token_type_ids = None, \n",
        "                                    attention_mask = attn_mask)\n",
        "        \n",
        "    # Retrieve our sentence embedding--take the `[CLS]` embedding from the final\n",
        "    # layer.\n",
        "    layer_i = 12 # The last BERT layer before the classifier.\n",
        "    batch_i = 0 # Only one input in the batch.\n",
        "    token_i = 0 # The first token, corresponding to [CLS]\n",
        "        \n",
        "    # Grab the embedding.\n",
        "    vec = encoded_layers[layer_i][batch_i][token_i]\n",
        "\n",
        "    # Move to the CPU and convert to numpy ndarray.\n",
        "    vec = vec.detach().cpu().numpy()\n",
        "\n",
        "    return(vec)\n"
      ],
      "execution_count": null,
      "outputs": []
    },
    {
      "cell_type": "markdown",
      "metadata": {
        "id": "GOBMr3hq_TeQ"
      },
      "source": [
        "### 7.3. Vectorize Dataset"
      ]
    },
    {
      "cell_type": "markdown",
      "metadata": {
        "id": "eF7d524nB3XF"
      },
      "source": [
        "We'll go back to the original dataset here. It should still be in memory as a pandas dataframe named `comments`.\n",
        "\n",
        "Let's start by vectorizing a single comment."
      ]
    },
    {
      "cell_type": "code",
      "metadata": {
        "id": "Cl-cH23CCMnX",
        "colab": {
          "base_uri": "https://localhost:8080/",
          "height": 151
        },
        "outputId": "ea092be5-0a9b-4043-d1e5-3d9d39690060"
      },
      "source": [
        "# Get the text from one of the comments.\n",
        "input_text = comments.iloc[10].comment\n",
        "\n",
        "# Use `textwrap` to print the sentence nicely.\n",
        "wrapper = textwrap.TextWrapper(initial_indent=\"    \", subsequent_indent=\"    \", \n",
        "                               width = 80)\n",
        "\n",
        "print('Getting embedding for sentence:\\n\\n', wrapper.fill(input_text))\n",
        "\n",
        "# Use the BERT model and tokenizer to generate an embedding for `input_text`.\n",
        "vec = text_to_embedding(tokenizer, model, input_text)\n",
        "\n",
        "print('\\nDone. Embedding shape:', str(vec.shape))"
      ],
      "execution_count": null,
      "outputs": [
        {
          "output_type": "stream",
          "text": [
            "Getting embedding for sentence:\n",
            "\n",
            "       :Correct. Full biographical details will put down his birth details, etc.\n",
            "    It is just a marker to me at the moment to detail the WR aspect. He\n",
            "    certainly wasn't Belarus; as a geo-political entity it had no real existence\n",
            "    at the time. I have put a tbc marker on this article for now.\n",
            "\n",
            "Done. Embedding shape: (768,)\n"
          ],
          "name": "stdout"
        }
      ]
    },
    {
      "cell_type": "markdown",
      "metadata": {
        "id": "9vFLKwGLEW2q"
      },
      "source": [
        "It's working! In order to perform similarity search against this comments dataset, we now need to vectorize *all* of the comments."
      ]
    },
    {
      "cell_type": "markdown",
      "metadata": {
        "id": "V1AWLUKYFkKc"
      },
      "source": [
        "Define a small helper function for formatting elapsed times.\n"
      ]
    },
    {
      "cell_type": "code",
      "metadata": {
        "id": "Hef0tafhFkKe"
      },
      "source": [
        "import time\n",
        "import datetime\n",
        "\n",
        "def format_time(elapsed):\n",
        "    '''\n",
        "    Takes a time in seconds and returns a string hh:mm:ss\n",
        "    '''\n",
        "    # Round to the nearest second.\n",
        "    elapsed_rounded = int(round((elapsed)))\n",
        "    \n",
        "    # Format as hh:mm:ss\n",
        "    return str(datetime.timedelta(seconds=elapsed_rounded))\n"
      ],
      "execution_count": null,
      "outputs": []
    },
    {
      "cell_type": "markdown",
      "metadata": {
        "id": "DGwN9hBQpRD3"
      },
      "source": [
        "Loop over all of the comments in the dataset, converting each one. Prints progress periodically. This took just under 1 hour for me to run in Colab with a T4 GPU."
      ]
    },
    {
      "cell_type": "code",
      "metadata": {
        "id": "Xg-mOiN_Ebmj",
        "colab": {
          "base_uri": "https://localhost:8080/",
          "height": 991
        },
        "outputId": "db8991f4-afd6-4c53-fc36-d08209ee5df7"
      },
      "source": [
        "import time\n",
        "\n",
        "# Track the time.\n",
        "t0 = time.time()\n",
        "\n",
        "# Store the set of embeddings.\n",
        "embeddings = []\n",
        "\n",
        "num_comments = len(comments)\n",
        "\n",
        "print('Generating sentence embeddings for all {:,} comments...'.format(num_comments))\n",
        "\n",
        "row_num = 0\n",
        "\n",
        "# For each row of the dataframe...\n",
        "for index, row in comments.iterrows():\n",
        "\n",
        "    # Progress update every 2,000 comments.\n",
        "    if row_num % 2000 == 0 and not row_num == 0:\n",
        "\n",
        "        # Calculate elapsed time and format it.\n",
        "        elapsed = format_time(time.time() - t0)\n",
        "        \n",
        "        # Calculate the time remaining based on our progress.\n",
        "        rows_per_sec = (time.time() - t0) / row_num\n",
        "        remaining_sec = rows_per_sec * (num_comments - row_num)\n",
        "        remaining = format_time(remaining_sec)\n",
        "\n",
        "        # Report progress.\n",
        "        print('  Comment {:>7,}  of  {:>7,}.    Elapsed: {:}. Remaining: {:}'.format(row_num, num_comments, elapsed, remaining))\n",
        "\n",
        "    # Vectorize this comment.\n",
        "    vec = text_to_embedding(tokenizer, model, row.comment)\n",
        "\n",
        "    # Store the embeddings.\n",
        "    embeddings.append(vec) \n",
        "\n",
        "    row_num += 1\n"
      ],
      "execution_count": null,
      "outputs": [
        {
          "output_type": "stream",
          "text": [
            "Generating sentence embeddings for all 115,864 comments...\n",
            "  Comment   2,000  of  115,864.    Elapsed: 0:00:58. Remaining: 0:55:07\n",
            "  Comment   4,000  of  115,864.    Elapsed: 0:01:57. Remaining: 0:54:38\n",
            "  Comment   6,000  of  115,864.    Elapsed: 0:02:56. Remaining: 0:53:45\n",
            "  Comment   8,000  of  115,864.    Elapsed: 0:03:54. Remaining: 0:52:41\n",
            "  Comment  10,000  of  115,864.    Elapsed: 0:04:52. Remaining: 0:51:33\n",
            "  Comment  12,000  of  115,864.    Elapsed: 0:05:50. Remaining: 0:50:32\n",
            "  Comment  14,000  of  115,864.    Elapsed: 0:06:49. Remaining: 0:49:36\n",
            "  Comment  16,000  of  115,864.    Elapsed: 0:07:47. Remaining: 0:48:36\n",
            "  Comment  18,000  of  115,864.    Elapsed: 0:08:46. Remaining: 0:47:41\n",
            "  Comment  20,000  of  115,864.    Elapsed: 0:09:45. Remaining: 0:46:42\n",
            "  Comment  22,000  of  115,864.    Elapsed: 0:10:43. Remaining: 0:45:43\n",
            "  Comment  24,000  of  115,864.    Elapsed: 0:11:41. Remaining: 0:44:45\n",
            "  Comment  26,000  of  115,864.    Elapsed: 0:12:40. Remaining: 0:43:46\n",
            "  Comment  28,000  of  115,864.    Elapsed: 0:13:38. Remaining: 0:42:48\n",
            "  Comment  30,000  of  115,864.    Elapsed: 0:14:37. Remaining: 0:41:49\n",
            "  Comment  32,000  of  115,864.    Elapsed: 0:15:35. Remaining: 0:40:50\n",
            "  Comment  34,000  of  115,864.    Elapsed: 0:16:33. Remaining: 0:39:50\n",
            "  Comment  36,000  of  115,864.    Elapsed: 0:17:32. Remaining: 0:38:53\n",
            "  Comment  38,000  of  115,864.    Elapsed: 0:18:31. Remaining: 0:37:56\n",
            "  Comment  40,000  of  115,864.    Elapsed: 0:19:29. Remaining: 0:36:58\n",
            "  Comment  42,000  of  115,864.    Elapsed: 0:20:28. Remaining: 0:35:59\n",
            "  Comment  44,000  of  115,864.    Elapsed: 0:21:26. Remaining: 0:35:00\n",
            "  Comment  46,000  of  115,864.    Elapsed: 0:22:24. Remaining: 0:34:02\n",
            "  Comment  48,000  of  115,864.    Elapsed: 0:23:23. Remaining: 0:33:03\n",
            "  Comment  50,000  of  115,864.    Elapsed: 0:24:22. Remaining: 0:32:05\n",
            "  Comment  52,000  of  115,864.    Elapsed: 0:25:20. Remaining: 0:31:07\n",
            "  Comment  54,000  of  115,864.    Elapsed: 0:26:19. Remaining: 0:30:09\n",
            "  Comment  56,000  of  115,864.    Elapsed: 0:27:17. Remaining: 0:29:10\n",
            "  Comment  58,000  of  115,864.    Elapsed: 0:28:16. Remaining: 0:28:12\n",
            "  Comment  60,000  of  115,864.    Elapsed: 0:29:14. Remaining: 0:27:13\n",
            "  Comment  62,000  of  115,864.    Elapsed: 0:30:12. Remaining: 0:26:14\n",
            "  Comment  64,000  of  115,864.    Elapsed: 0:31:10. Remaining: 0:25:15\n",
            "  Comment  66,000  of  115,864.    Elapsed: 0:32:08. Remaining: 0:24:17\n",
            "  Comment  68,000  of  115,864.    Elapsed: 0:33:07. Remaining: 0:23:18\n",
            "  Comment  70,000  of  115,864.    Elapsed: 0:34:05. Remaining: 0:22:20\n",
            "  Comment  72,000  of  115,864.    Elapsed: 0:35:03. Remaining: 0:21:21\n",
            "  Comment  74,000  of  115,864.    Elapsed: 0:36:02. Remaining: 0:20:23\n",
            "  Comment  76,000  of  115,864.    Elapsed: 0:37:00. Remaining: 0:19:24\n",
            "  Comment  78,000  of  115,864.    Elapsed: 0:37:58. Remaining: 0:18:26\n",
            "  Comment  80,000  of  115,864.    Elapsed: 0:38:56. Remaining: 0:17:27\n",
            "  Comment  82,000  of  115,864.    Elapsed: 0:39:54. Remaining: 0:16:29\n",
            "  Comment  84,000  of  115,864.    Elapsed: 0:40:53. Remaining: 0:15:30\n",
            "  Comment  86,000  of  115,864.    Elapsed: 0:41:51. Remaining: 0:14:32\n",
            "  Comment  88,000  of  115,864.    Elapsed: 0:42:49. Remaining: 0:13:33\n",
            "  Comment  90,000  of  115,864.    Elapsed: 0:43:47. Remaining: 0:12:35\n",
            "  Comment  92,000  of  115,864.    Elapsed: 0:44:46. Remaining: 0:11:37\n",
            "  Comment  94,000  of  115,864.    Elapsed: 0:45:44. Remaining: 0:10:38\n",
            "  Comment  96,000  of  115,864.    Elapsed: 0:46:42. Remaining: 0:09:40\n",
            "  Comment  98,000  of  115,864.    Elapsed: 0:47:41. Remaining: 0:08:41\n",
            "  Comment 100,000  of  115,864.    Elapsed: 0:48:39. Remaining: 0:07:43\n",
            "  Comment 102,000  of  115,864.    Elapsed: 0:49:37. Remaining: 0:06:45\n",
            "  Comment 104,000  of  115,864.    Elapsed: 0:50:36. Remaining: 0:05:46\n",
            "  Comment 106,000  of  115,864.    Elapsed: 0:51:34. Remaining: 0:04:48\n",
            "  Comment 108,000  of  115,864.    Elapsed: 0:52:33. Remaining: 0:03:50\n",
            "  Comment 110,000  of  115,864.    Elapsed: 0:53:31. Remaining: 0:02:51\n",
            "  Comment 112,000  of  115,864.    Elapsed: 0:54:28. Remaining: 0:01:53\n",
            "  Comment 114,000  of  115,864.    Elapsed: 0:55:26. Remaining: 0:00:54\n"
          ],
          "name": "stdout"
        }
      ]
    },
    {
      "cell_type": "code",
      "metadata": {
        "id": "WZTbbMgvHBok",
        "colab": {
          "base_uri": "https://localhost:8080/",
          "height": 34
        },
        "outputId": "98a6f782-bd04-46b0-ab79-09b9dd397e26"
      },
      "source": [
        "import numpy as np\n",
        "\n",
        "# Convert the list of vectors into a 2D array.\n",
        "vecs = np.stack(embeddings)\n",
        "\n",
        "vecs.shape"
      ],
      "execution_count": null,
      "outputs": [
        {
          "output_type": "execute_result",
          "data": {
            "text/plain": [
              "(115864, 768)"
            ]
          },
          "metadata": {
            "tags": []
          },
          "execution_count": 61
        }
      ]
    },
    {
      "cell_type": "markdown",
      "metadata": {
        "id": "ktEWnGazakNx"
      },
      "source": [
        "Since creating those embeddings was such a lengthy process, let's be sure to save the embeddings to disk in case we want to reload them another time."
      ]
    },
    {
      "cell_type": "code",
      "metadata": {
        "id": "9pIraz41Kluu",
        "colab": {
          "base_uri": "https://localhost:8080/",
          "height": 34
        },
        "outputId": "5c982492-20fe-4e97-ad30-31dd3766c883"
      },
      "source": [
        "import os\n",
        "\n",
        "output_dir = './model_save/'\n",
        "\n",
        "# Create output directory if needed\n",
        "if not os.path.exists(output_dir):\n",
        "    os.makedirs(output_dir)\n",
        "\n",
        "# Use numpy to write out the matrix of embeddings.\n",
        "print(\"Saving embeddings to: ./model_save/embeddings.npy\")\n",
        "np.save('./model_save/embeddings.npy', vecs)\n",
        "\n",
        "# Copy the embeddings to a directory in your Google Drive.\n",
        "!cp -r ./model_save/embeddings.npy \"./drive/My Drive/BERT Document Classification Tutorial/model_save/\""
      ],
      "execution_count": null,
      "outputs": [
        {
          "output_type": "stream",
          "text": [
            "Saving embeddings to ./model_save/\n"
          ],
          "name": "stdout"
        }
      ]
    },
    {
      "cell_type": "markdown",
      "metadata": {
        "id": "W_Vb5B6gIrmm"
      },
      "source": [
        "## 8. Semantic Similarity Search"
      ]
    },
    {
      "cell_type": "markdown",
      "metadata": {
        "id": "-MDi2C_LK21z"
      },
      "source": [
        "Now that we have our comments all vectorized, we are ready to make them \"searchable\".\n",
        "\n",
        "We do this using a technique called \"k-Nearest Neighbor Search\" or \"k-NN\". Simply put, we use a distance metric such as Euclidean distance, calculate that distance between our \"query\" vector and all of the vectors to be searched, then sort the distances to find the closest matches.\n",
        "\n",
        "All of those distance calculations can make k-NN search computationally expensive and slow. There are a number of libraries out there for accelerating k-NN using carefully optimized code and / or approximation techniques.\n",
        "\n",
        "I personally like the FAISS (Facebook AI Similarity Search) library, in part because it has a really excellent GPU implementation.\n",
        "\n",
        "Using the GPU, we can perform \"brute-force\" k-NN search (meaning no approximation techniques which compromise on accuracy) on this dataset quickly."
      ]
    },
    {
      "cell_type": "markdown",
      "metadata": {
        "id": "4_HvvrKhKuf1"
      },
      "source": [
        "### 8.1. k-NN with FAISS and GPU\n",
        "\n",
        "First we'll need to install FAISS."
      ]
    },
    {
      "cell_type": "code",
      "metadata": {
        "id": "US3rrCQdKiUU",
        "colab": {
          "base_uri": "https://localhost:8080/",
          "height": 138
        },
        "outputId": "6f487e62-4c7c-4f1e-e415-fa16563ac1c4"
      },
      "source": [
        "!pip install faiss"
      ],
      "execution_count": null,
      "outputs": [
        {
          "output_type": "stream",
          "text": [
            "Collecting faiss\n",
            "\u001b[?25l  Downloading https://files.pythonhosted.org/packages/bd/1c/4ae6cb87cf0c09c25561ea48db11e25713b25c580909902a92c090b377c0/faiss-1.5.3-cp36-cp36m-manylinux1_x86_64.whl (4.7MB)\n",
            "\u001b[K     |████████████████████████████████| 4.7MB 6.4MB/s \n",
            "\u001b[?25hRequirement already satisfied: numpy in /usr/local/lib/python3.6/dist-packages (from faiss) (1.17.5)\n",
            "Installing collected packages: faiss\n",
            "Successfully installed faiss-1.5.3\n"
          ],
          "name": "stdout"
        }
      ]
    },
    {
      "cell_type": "code",
      "metadata": {
        "id": "TZ97wBOMLRDc",
        "colab": {
          "base_uri": "https://localhost:8080/",
          "height": 138
        },
        "outputId": "99aa9802-cbb1-40cf-eb0b-8fba02df4b45"
      },
      "source": [
        "!pip install faiss-gpu"
      ],
      "execution_count": null,
      "outputs": [
        {
          "output_type": "stream",
          "text": [
            "Collecting faiss-gpu\n",
            "\u001b[?25l  Downloading https://files.pythonhosted.org/packages/0a/8d/d630c7ec7ad93feed005994c9849843d33bed08cf621ffb74fe9f81a45e2/faiss_gpu-1.6.1-cp36-cp36m-manylinux2010_x86_64.whl (41.0MB)\n",
            "\u001b[K     |████████████████████████████████| 41.0MB 73kB/s \n",
            "\u001b[?25hRequirement already satisfied: numpy in /usr/local/lib/python3.6/dist-packages (from faiss-gpu) (1.17.5)\n",
            "Installing collected packages: faiss-gpu\n",
            "Successfully installed faiss-gpu-1.6.1\n"
          ],
          "name": "stdout"
        }
      ]
    },
    {
      "cell_type": "markdown",
      "metadata": {
        "id": "DsML_e7bq7FD"
      },
      "source": [
        "To create a GPU index with FAISS, you first create it on the CPU, then copy it over.\n",
        "\n",
        "A \"Flat\" index means that it's brute-force, with no approximation tricks."
      ]
    },
    {
      "cell_type": "code",
      "metadata": {
        "id": "1RHCpXjaJDHT",
        "colab": {
          "base_uri": "https://localhost:8080/",
          "height": 67
        },
        "outputId": "b0e6b68d-94c9-4b67-dd27-f92ff28adefe"
      },
      "source": [
        "import faiss\n",
        "\n",
        "# =====================================\n",
        "#            FAISS Setup\n",
        "# =====================================\n",
        "\n",
        "# Build a flat (CPU) index\n",
        "cpu_index = faiss.IndexFlatL2(vecs.shape[1])\n",
        "\n",
        "# Use 1 GPU.\n",
        "n_gpu = 1\n",
        "\n",
        "# Print the number of available GPUs. \n",
        "print('Number of available GPUs: %d    Using: %d' % (faiss.get_num_gpus(), n_gpu))\n",
        "\n",
        "# If using multiple GPUs, enable sharding so that the dataset is divided across \n",
        "# the GPUs rather than replicated.\n",
        "co = faiss.GpuMultipleClonerOptions()\n",
        "co.shard = True\n",
        "\n",
        "# Make it into a gpu index\n",
        "gpu_index = faiss.index_cpu_to_all_gpus(cpu_index, co=co, ngpu=n_gpu)\n",
        "\n",
        "# Add vecs to our GPU index\n",
        "print('Adding dataset to index...')\n",
        "t0 = time.time()    \n",
        "\n",
        "gpu_index.add(vecs)\n",
        "\n",
        "elapsed = time.time() - t0\n",
        "print('Building index took %.2f seconds' % (elapsed))\n"
      ],
      "execution_count": null,
      "outputs": [
        {
          "output_type": "stream",
          "text": [
            "Number of available GPUs: 1    Using: 1\n",
            "Adding dataset to index...\n",
            "Building index took 0.05 seconds\n"
          ],
          "name": "stdout"
        }
      ]
    },
    {
      "cell_type": "markdown",
      "metadata": {
        "id": "CzDN81GyNqrl"
      },
      "source": [
        "Now let's try taking one of the comments from the dataset, and searching for the most semantically similar comments."
      ]
    },
    {
      "cell_type": "code",
      "metadata": {
        "id": "dea74vcZKgAe",
        "colab": {
          "base_uri": "https://localhost:8080/",
          "height": 454
        },
        "outputId": "6d292541-5293-4c30-99a3-d5d7877067d0"
      },
      "source": [
        "# Comment number 4 is short and sweet.\n",
        "print('==== Input Comment =====')\n",
        "print('Comment #4:')\n",
        "print(wrapper.fill(comments.iloc[4].comment))\n",
        "\n",
        "# Let's find the 5 most similar comments.\n",
        "D, I = gpu_index.search(vecs[4].reshape(1, 768), k=5) \n",
        "\n",
        "print('')\n",
        "print('==== Top 5 Results ====')\n",
        "\n",
        "# For each result...\n",
        "for i in range(I.shape[1]):\n",
        "\n",
        "    # Look up the comment row number for this result.\n",
        "    result_i = I[0, i]\n",
        "\n",
        "    # Look up the text for this comment.\n",
        "    text = comments.iloc[result_i].comment\n",
        "\n",
        "    print('Comment #{:,}:'.format(result_i))\n",
        "    print('L2 Distance: %.2f' % D[0, i])\n",
        "    print(wrapper.fill('\"' + text + '\"'))\n",
        "    print('')\n",
        "\n"
      ],
      "execution_count": null,
      "outputs": [
        {
          "output_type": "stream",
          "text": [
            "==== Input Comment =====\n",
            "Comment #4:\n",
            "    This page will need disambiguation.\n",
            "\n",
            "==== Top 5 Results ====\n",
            "Comment #4:\n",
            "L2 Distance: 0.00\n",
            "    \"This page will need disambiguation. \"\n",
            "\n",
            "Comment #39,578:\n",
            "L2 Distance: 13.38\n",
            "    \"  This page needs to be expand.   \"\n",
            "\n",
            "Comment #48,854:\n",
            "L2 Distance: 14.63\n",
            "    \"This page's history is completely not neutral It needs to be revamped.\"\n",
            "\n",
            "Comment #100,779:\n",
            "L2 Distance: 16.01\n",
            "    \" Description on image page is confusing about this.   \"\n",
            "\n",
            "Comment #31,644:\n",
            "L2 Distance: 16.07\n",
            "    \"   :::: This image is not Orphaned, it WILL be placed back in the article\n",
            "    soon.    \"\n",
            "\n"
          ],
          "name": "stdout"
        }
      ]
    },
    {
      "cell_type": "markdown",
      "metadata": {
        "id": "z_xIiJpePMx-"
      },
      "source": [
        "Using our `text_to_embedding` function, we can also define new text to use as our query. Let's try writing a new sentence that's similar in meaning to comment #4, but uses different language. The word \"disambiguate\" means \"remove uncertainty of meaning from\", so I've written \"The meaning of this page needs to be clarified.\"\n",
        "\n"
      ]
    },
    {
      "cell_type": "code",
      "metadata": {
        "id": "5g4L36oHOF7w",
        "colab": {
          "base_uri": "https://localhost:8080/",
          "height": 386
        },
        "outputId": "4c84c959-31b2-4460-fa10-ce3b044ec7cd"
      },
      "source": [
        "query_text = \"The meaning of this page needs to be clarified.\"\n",
        "\n",
        "# Vectorize a new piece of text.\n",
        "query_vec = text_to_embedding(tokenizer, model, query_text)\n",
        "\n",
        "# Let's find the 5 most similar comments.\n",
        "D, I = gpu_index.search(query_vec.reshape(1, 768), k=5) \n",
        "\n",
        "print('')\n",
        "print('==== Top 5 Results ====')\n",
        "\n",
        "# For each result...\n",
        "for i in range(I.shape[1]):\n",
        "\n",
        "    # Look up the comment row number for this result.\n",
        "    result_i = I[0, i]\n",
        "\n",
        "    # Look up the text for this comment.\n",
        "    text = comments.iloc[result_i].comment\n",
        "\n",
        "    print('Comment #{:,}:'.format(result_i))\n",
        "    print('L2 Distance: %.2f' % D[0, i])\n",
        "    print(wrapper.fill('\"' + text + '\"'))\n",
        "    print('')\n",
        "\n"
      ],
      "execution_count": null,
      "outputs": [
        {
          "output_type": "stream",
          "text": [
            "\n",
            "==== Top 5 Results ====\n",
            "Comment #4:\n",
            "L2 Distance: 12.24\n",
            "    \"This page will need disambiguation. \"\n",
            "\n",
            "Comment #48,854:\n",
            "L2 Distance: 14.91\n",
            "    \"This page's history is completely not neutral It needs to be revamped.\"\n",
            "\n",
            "Comment #39,578:\n",
            "L2 Distance: 15.11\n",
            "    \"  This page needs to be expand.   \"\n",
            "\n",
            "Comment #8,612:\n",
            "L2 Distance: 15.97\n",
            "    \"why can't i edit this page?\"\n",
            "\n",
            "Comment #100,224:\n",
            "L2 Distance: 16.45\n",
            "    \"please add more information on this topic.\"\n",
            "\n"
          ],
          "name": "stdout"
        }
      ]
    },
    {
      "cell_type": "markdown",
      "metadata": {
        "id": "wy_7yycXaRAD"
      },
      "source": [
        "The results look pretty good! \n",
        "\n",
        "Let's try another query, this time with a different intent."
      ]
    },
    {
      "cell_type": "code",
      "metadata": {
        "id": "X6Edlz0iMrVe",
        "colab": {
          "base_uri": "https://localhost:8080/",
          "height": 403
        },
        "outputId": "95deccf3-c251-4294-dceb-2a1327108f09"
      },
      "source": [
        "query_text = \"This article really needs more citations.\"\n",
        "\n",
        "# Vectorize a new piece of text.\n",
        "query_vec = text_to_embedding(tokenizer, model, query_text)\n",
        "\n",
        "# Let's find the 5 most similar comments.\n",
        "D, I = gpu_index.search(query_vec.reshape(1, 768), k=5) \n",
        "\n",
        "print('')\n",
        "print('==== Top 5 Results ====')\n",
        "\n",
        "# For each result...\n",
        "for i in range(I.shape[1]):\n",
        "\n",
        "    # Look up the comment row number for this result.\n",
        "    result_i = I[0, i]\n",
        "\n",
        "    # Look up the text for this comment.\n",
        "    text = comments.iloc[result_i].comment\n",
        "\n",
        "    print('Comment #{:,}:'.format(result_i))\n",
        "    print('L2 Distance: %.2f' % D[0, i])\n",
        "    print(wrapper.fill('\"' + text + '\"'))\n",
        "    print('')\n",
        "\n"
      ],
      "execution_count": null,
      "outputs": [
        {
          "output_type": "stream",
          "text": [
            "\n",
            "==== Top 5 Results ====\n",
            "Comment #88,451:\n",
            "L2 Distance: 16.71\n",
            "    \"  I intend to expand the article so it will be more complete. [  ]\"\n",
            "\n",
            "Comment #18,864:\n",
            "L2 Distance: 17.63\n",
            "    \"  I, of all people, ahouldn't be saying this, but the article needs\n",
            "    citations. \"\n",
            "\n",
            "Comment #18,370:\n",
            "L2 Distance: 17.95\n",
            "    \"This Article created September 16, 2006.  Please EXPAND if possible!   \"\n",
            "\n",
            "Comment #15,196:\n",
            "L2 Distance: 18.28\n",
            "    \"  This article are necessary? \"\n",
            "\n",
            "Comment #102,270:\n",
            "L2 Distance: 18.57\n",
            "    \" ::::No.  The comments are completely relevant to this article.\"\n",
            "\n"
          ],
          "name": "stdout"
        }
      ]
    },
    {
      "cell_type": "markdown",
      "metadata": {
        "id": "YHV9MsPtacUm"
      },
      "source": [
        "Try another query for yourself!\n"
      ]
    }
  ]
}