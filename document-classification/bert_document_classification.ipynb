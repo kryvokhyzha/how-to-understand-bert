{
  "nbformat": 4,
  "nbformat_minor": 0,
  "metadata": {
    "colab": {
      "name": "bert-document-classification.ipynb",
      "provenance": [],
      "collapsed_sections": [],
      "toc_visible": true
    },
    "kernelspec": {
      "name": "python3",
      "display_name": "Python 3"
    },
    "accelerator": "GPU"
  },
  "cells": [
    {
      "cell_type": "markdown",
      "metadata": {
        "id": "EKOTlwcmxmej"
      },
      "source": [
        "# Classifying BBC Full Text with DistilBERT\n"
      ]
    },
    {
      "cell_type": "markdown",
      "metadata": {
        "id": "BJR6t_gCQe_x"
      },
      "source": [
        "\n",
        "This Notebook will show you how to fine-tune DistilBERT for *document* classification tasks using the [BBC Full Text](https://www.kaggle.com/shivamkushwaha/bbc-full-text-document-classification) dataset as an example."
      ]
    },
    {
      "cell_type": "markdown",
      "metadata": {
        "id": "jrC9__lXxTJz"
      },
      "source": [
        "# Contents"
      ]
    },
    {
      "cell_type": "markdown",
      "metadata": {
        "id": "p9MCBOq4xUpr"
      },
      "source": [
        "See \"Table of contents\" in the sidebar to the left."
      ]
    },
    {
      "cell_type": "markdown",
      "metadata": {
        "id": "Lj_eBt3G3bo6"
      },
      "source": [
        "# Part I - Setup & Dataset Prep\n",
        "-------------------------------"
      ]
    },
    {
      "cell_type": "markdown",
      "metadata": {
        "id": "RX_ZDhicpHkV"
      },
      "source": [
        "## 1. Setup\n"
      ]
    },
    {
      "cell_type": "markdown",
      "metadata": {
        "id": "nSU7yERLP_66"
      },
      "source": [
        "### 1.1. Using Colab GPU for Training\n"
      ]
    },
    {
      "cell_type": "markdown",
      "metadata": {
        "id": "GI0iOY8zvZzL"
      },
      "source": [
        "\n",
        "Google Colab offers free GPUs and TPUs! Since we'll be training a large neural network it's best to take advantage of this (in this case we'll attach a GPU), otherwise training will take a very long time.\n",
        "\n",
        "A GPU can be added by going to the menu and selecting:\n",
        "\n",
        "`Edit 🡒 Notebook Settings 🡒 Hardware accelerator 🡒 (GPU)`\n",
        "\n",
        "Then run the following cell to confirm that the GPU is detected."
      ]
    },
    {
      "cell_type": "code",
      "metadata": {
        "id": "DEfSbAA4QHas",
        "colab": {
          "base_uri": "https://localhost:8080/"
        },
        "outputId": "f4c7cdd0-0ade-41b9-efcf-9c838e4fe46a"
      },
      "source": [
        "import tensorflow as tf\n",
        "\n",
        "# Get the GPU device name.\n",
        "device_name = tf.test.gpu_device_name()\n",
        "\n",
        "# The device name should look like the following:\n",
        "if device_name == '/device:GPU:0':\n",
        "    print('Found GPU at: {}'.format(device_name))\n",
        "else:\n",
        "    raise SystemError('GPU device not found')"
      ],
      "execution_count": 1,
      "outputs": [
        {
          "output_type": "stream",
          "text": [
            "Found GPU at: /device:GPU:0\n"
          ],
          "name": "stdout"
        }
      ]
    },
    {
      "cell_type": "markdown",
      "metadata": {
        "id": "cqG7FzRVFEIv"
      },
      "source": [
        "In order for torch to use the GPU, we need to identify and specify the GPU as the device. Later, in our training loop, we will load data onto the device. "
      ]
    },
    {
      "cell_type": "code",
      "metadata": {
        "id": "oYsV4H8fCpZ-",
        "colab": {
          "base_uri": "https://localhost:8080/"
        },
        "outputId": "d00193e5-4851-4a97-b67a-5fed9e137e76"
      },
      "source": [
        "import torch\n",
        "\n",
        "# If there's a GPU available...\n",
        "if torch.cuda.is_available():    \n",
        "\n",
        "    # Tell PyTorch to use the GPU.    \n",
        "    device = torch.device(\"cuda\")\n",
        "\n",
        "    print('There are %d GPU(s) available.' % torch.cuda.device_count())\n",
        "\n",
        "    print('We will use the GPU:', torch.cuda.get_device_name(0))\n",
        "\n",
        "# If not...\n",
        "else:\n",
        "    print('No GPU available, using the CPU instead.')\n",
        "    device = torch.device(\"cpu\")"
      ],
      "execution_count": 2,
      "outputs": [
        {
          "output_type": "stream",
          "text": [
            "There are 1 GPU(s) available.\n",
            "We will use the GPU: Tesla T4\n"
          ],
          "name": "stdout"
        }
      ]
    },
    {
      "cell_type": "code",
      "metadata": {
        "colab": {
          "base_uri": "https://localhost:8080/"
        },
        "id": "e84uJB1lyoue",
        "outputId": "12016163-0d4c-4b82-eefa-84a8dd605ed5"
      },
      "source": [
        "!nvidia-smi"
      ],
      "execution_count": 3,
      "outputs": [
        {
          "output_type": "stream",
          "text": [
            "Fri Jan 15 18:07:26 2021       \n",
            "+-----------------------------------------------------------------------------+\n",
            "| NVIDIA-SMI 460.27.04    Driver Version: 418.67       CUDA Version: 10.1     |\n",
            "|-------------------------------+----------------------+----------------------+\n",
            "| GPU  Name        Persistence-M| Bus-Id        Disp.A | Volatile Uncorr. ECC |\n",
            "| Fan  Temp  Perf  Pwr:Usage/Cap|         Memory-Usage | GPU-Util  Compute M. |\n",
            "|                               |                      |               MIG M. |\n",
            "|===============================+======================+======================|\n",
            "|   0  Tesla T4            Off  | 00000000:00:04.0 Off |                    0 |\n",
            "| N/A   76C    P0    34W /  70W |    227MiB / 15079MiB |      0%      Default |\n",
            "|                               |                      |                 ERR! |\n",
            "+-------------------------------+----------------------+----------------------+\n",
            "                                                                               \n",
            "+-----------------------------------------------------------------------------+\n",
            "| Processes:                                                                  |\n",
            "|  GPU   GI   CI        PID   Type   Process name                  GPU Memory |\n",
            "|        ID   ID                                                   Usage      |\n",
            "|=============================================================================|\n",
            "|  No running processes found                                                 |\n",
            "+-----------------------------------------------------------------------------+\n"
          ],
          "name": "stdout"
        }
      ]
    },
    {
      "cell_type": "markdown",
      "metadata": {
        "id": "2ElsnSNUridI"
      },
      "source": [
        "### 1.2. Installing the Hugging Face Library\n"
      ]
    },
    {
      "cell_type": "markdown",
      "metadata": {
        "id": "G_N2UDLevYWn"
      },
      "source": [
        "\n",
        "Next, let's install the [transformers](https://github.com/huggingface/transformers) package from Hugging Face which will give us a pytorch interface for working with DistilBERT. "
      ]
    },
    {
      "cell_type": "code",
      "metadata": {
        "id": "0NmMdkZO8R6q",
        "colab": {
          "base_uri": "https://localhost:8080/"
        },
        "outputId": "f9bc78ed-525a-4f85-8b91-12a0417e2a71"
      },
      "source": [
        "!pip install -qq transformers"
      ],
      "execution_count": 4,
      "outputs": [
        {
          "output_type": "stream",
          "text": [
            "\u001b[K     |████████████████████████████████| 1.8MB 7.4MB/s \n",
            "\u001b[K     |████████████████████████████████| 890kB 33.4MB/s \n",
            "\u001b[K     |████████████████████████████████| 2.9MB 49.8MB/s \n",
            "\u001b[?25h  Building wheel for sacremoses (setup.py) ... \u001b[?25l\u001b[?25hdone\n"
          ],
          "name": "stdout"
        }
      ]
    },
    {
      "cell_type": "markdown",
      "metadata": {
        "id": "Bt3HTo7LLMtj"
      },
      "source": [
        "## 2. Retrieve & Inspect Dataset\n",
        "\n"
      ]
    },
    {
      "cell_type": "markdown",
      "metadata": {
        "id": "JMx3Wd3K3B2q"
      },
      "source": [
        "\n",
        "This notebook will download and tokenize a text dataset.\n",
        "\n",
        "We'll use torch.Dataset to build our dataset."
      ]
    },
    {
      "cell_type": "markdown",
      "metadata": {
        "id": "HAjyraFG4Abp"
      },
      "source": [
        "### 2.1. Download\n",
        "--------------------------------------\n",
        "Download the text."
      ]
    },
    {
      "cell_type": "markdown",
      "metadata": {
        "id": "9seHsp8WzQkR"
      },
      "source": [
        "First of all, you have to upload your kaggle credential. Just check [this link](https://www.kaggle.com/docs/api) if you don't know what is it."
      ]
    },
    {
      "cell_type": "code",
      "metadata": {
        "id": "Q-LF9NXd4Abp",
        "colab": {
          "base_uri": "https://localhost:8080/"
        },
        "outputId": "2e799528-54e2-45a3-f7da-9aaf21441bd0"
      },
      "source": [
        "!pip install -qq kaggle\n",
        "!pip install -qq --upgrade --force-reinstall --no-deps kaggle"
      ],
      "execution_count": 5,
      "outputs": [
        {
          "output_type": "stream",
          "text": [
            "\u001b[?25l\r\u001b[K     |█████▌                          | 10kB 26.7MB/s eta 0:00:01\r\u001b[K     |███████████                     | 20kB 19.3MB/s eta 0:00:01\r\u001b[K     |████████████████▋               | 30kB 10.5MB/s eta 0:00:01\r\u001b[K     |██████████████████████▏         | 40kB 9.3MB/s eta 0:00:01\r\u001b[K     |███████████████████████████▊    | 51kB 7.9MB/s eta 0:00:01\r\u001b[K     |████████████████████████████████| 61kB 5.1MB/s \n",
            "\u001b[?25h  Building wheel for kaggle (setup.py) ... \u001b[?25l\u001b[?25hdone\n"
          ],
          "name": "stdout"
        }
      ]
    },
    {
      "cell_type": "code",
      "metadata": {
        "id": "3rXYvN9s0pCT"
      },
      "source": [
        "!mkdir /root/.kaggle"
      ],
      "execution_count": 6,
      "outputs": []
    },
    {
      "cell_type": "code",
      "metadata": {
        "id": "Lcer_wFYz4Mi"
      },
      "source": [
        "!mv kaggle.json /root/.kaggle/"
      ],
      "execution_count": 7,
      "outputs": []
    },
    {
      "cell_type": "code",
      "metadata": {
        "id": "ywpNZrp1z4DW"
      },
      "source": [
        "!chmod 600 /root/.kaggle/kaggle.json"
      ],
      "execution_count": 8,
      "outputs": []
    },
    {
      "cell_type": "code",
      "metadata": {
        "colab": {
          "base_uri": "https://localhost:8080/"
        },
        "id": "CMqDr_xEz30C",
        "outputId": "e7293587-83ba-4464-8016-55baca852d37"
      },
      "source": [
        "!kaggle datasets download -d shivamkushwaha/bbc-full-text-document-classification"
      ],
      "execution_count": 9,
      "outputs": [
        {
          "output_type": "stream",
          "text": [
            "Downloading bbc-full-text-document-classification.zip to /content\n",
            "\r  0% 0.00/5.59M [00:00<?, ?B/s]\r 89% 5.00M/5.59M [00:00<00:00, 51.6MB/s]\n",
            "\r100% 5.59M/5.59M [00:00<00:00, 56.7MB/s]\n"
          ],
          "name": "stdout"
        }
      ]
    },
    {
      "cell_type": "code",
      "metadata": {
        "id": "NY-YWxyR0CkM"
      },
      "source": [
        "!unzip -qq bbc-full-text-document-classification.zip"
      ],
      "execution_count": 10,
      "outputs": []
    },
    {
      "cell_type": "markdown",
      "metadata": {
        "id": "02NmUilP4Abs"
      },
      "source": [
        "### 2.2. Parse & Inspect\n",
        "-------------------\n"
      ]
    },
    {
      "cell_type": "markdown",
      "metadata": {
        "id": "IQQuCYmhH6Ya"
      },
      "source": [
        "Let's import some modules for visualization, building our dataset and building model for classification"
      ]
    },
    {
      "cell_type": "code",
      "metadata": {
        "id": "S_HpxXMZ48kv"
      },
      "source": [
        "from typing import List, Mapping, Tuple"
      ],
      "execution_count": 4,
      "outputs": []
    },
    {
      "cell_type": "code",
      "metadata": {
        "id": "Kcaudkx66cI6"
      },
      "source": [
        "import logging\n",
        "import os\n",
        "from pathlib import Path"
      ],
      "execution_count": 5,
      "outputs": []
    },
    {
      "cell_type": "code",
      "metadata": {
        "id": "hkYdBEK44Abs",
        "colab": {
          "base_uri": "https://localhost:8080/"
        },
        "outputId": "7f050dea-dc0b-4fa2-f684-294d43cf8168"
      },
      "source": [
        "import pandas as pd\n",
        "import numpy as np\n",
        "import re\n",
        "import torch\n",
        "from torch.utils.data import DataLoader, Dataset\n",
        "from transformers import AutoTokenizer\n",
        "import nltk\n",
        "nltk.download('stopwords')"
      ],
      "execution_count": 6,
      "outputs": [
        {
          "output_type": "stream",
          "text": [
            "[nltk_data] Downloading package stopwords to /root/nltk_data...\n",
            "[nltk_data]   Package stopwords is already up-to-date!\n"
          ],
          "name": "stdout"
        },
        {
          "output_type": "execute_result",
          "data": {
            "text/plain": [
              "True"
            ]
          },
          "metadata": {
            "tags": []
          },
          "execution_count": 6
        }
      ]
    },
    {
      "cell_type": "code",
      "metadata": {
        "id": "wR9EsfV_EVzl"
      },
      "source": [
        "import seaborn as sns\n",
        "from pylab import rcParams\n",
        "import matplotlib.pyplot as plt\n",
        "from matplotlib import rc"
      ],
      "execution_count": 7,
      "outputs": []
    },
    {
      "cell_type": "code",
      "metadata": {
        "id": "lCUzXG6SEeV_"
      },
      "source": [
        "from sklearn.model_selection import train_test_split"
      ],
      "execution_count": 8,
      "outputs": []
    },
    {
      "cell_type": "code",
      "metadata": {
        "id": "Lhmj16hN9uNr"
      },
      "source": [
        "from tqdm import tqdm"
      ],
      "execution_count": 9,
      "outputs": []
    },
    {
      "cell_type": "code",
      "metadata": {
        "colab": {
          "base_uri": "https://localhost:8080/"
        },
        "id": "yYkY7LtcET-a",
        "outputId": "5ad67cc3-01a8-47b6-bd01-573b3f0ace83"
      },
      "source": [
        "%matplotlib inline\n",
        "%config InlineBackend.figure_format='retina'\n",
        "\n",
        "sns.set(style='whitegrid', palette='muted', font_scale=1.2)\n",
        "\n",
        "HAPPY_COLORS_PALETTE = [\"#01BEFE\", \"#FFDD00\", \"#FF7D00\", \"#FF006D\", \"#ADFF02\", \"#8F00FF\"]\n",
        "\n",
        "sns.set_palette(sns.color_palette(HAPPY_COLORS_PALETTE))\n",
        "\n",
        "rcParams['figure.figsize'] = 12, 8\n",
        "\n",
        "RANDOM_SEED = 42\n",
        "np.random.seed(RANDOM_SEED)\n",
        "torch.manual_seed(RANDOM_SEED)"
      ],
      "execution_count": 10,
      "outputs": [
        {
          "output_type": "execute_result",
          "data": {
            "text/plain": [
              "<torch._C.Generator at 0x7f0d072282d0>"
            ]
          },
          "metadata": {
            "tags": []
          },
          "execution_count": 10
        }
      ]
    },
    {
      "cell_type": "markdown",
      "metadata": {
        "id": "EBjL3BF2ImY-"
      },
      "source": [
        "We have to predict label for each document in dataset. Let's store all possible labels in variable ```set_of_labels```"
      ]
    },
    {
      "cell_type": "code",
      "metadata": {
        "id": "cWqU5XB3Ae1t"
      },
      "source": [
        "text_dir = Path('bbc')\n",
        "set_of_labels = [label for label in os.listdir(text_dir) if os.path.isdir(text_dir / label)]"
      ],
      "execution_count": 11,
      "outputs": []
    },
    {
      "cell_type": "markdown",
      "metadata": {
        "id": "kZG_cA3lJLnR"
      },
      "source": [
        "Next, we are going to store each text and corresponding label in DataFrame"
      ]
    },
    {
      "cell_type": "code",
      "metadata": {
        "colab": {
          "base_uri": "https://localhost:8080/"
        },
        "id": "_AMsX78bAYuS",
        "outputId": "2f47605e-5a18-41af-aca9-93a102e64a32"
      },
      "source": [
        "texts = []\n",
        "labels = []\n",
        "\n",
        "for label in tqdm(set_of_labels):\n",
        "    files_path = text_dir / label\n",
        "    for file_name in os.listdir(files_path):\n",
        "        if not file_name.endswith('.txt'):\n",
        "            continue\n",
        "        with open(files_path / file_name, 'r', encoding=\"utf8\", errors='ignore') as f:\n",
        "            text = f.read()\n",
        "            texts.append(text)\n",
        "            labels.append(label)"
      ],
      "execution_count": 12,
      "outputs": [
        {
          "output_type": "stream",
          "text": [
            "100%|██████████| 5/5 [00:00<00:00, 67.47it/s]\n"
          ],
          "name": "stderr"
        }
      ]
    },
    {
      "cell_type": "code",
      "metadata": {
        "colab": {
          "base_uri": "https://localhost:8080/"
        },
        "id": "QdT7NMiiBIgJ",
        "outputId": "c80b00a2-76e5-469f-c144-610d2c833734"
      },
      "source": [
        "TEXT_COLUMN = 'text'\n",
        "LABEL_COLUMN = 'label'\n",
        "\n",
        "data_df = pd.DataFrame({\n",
        "    TEXT_COLUMN: texts,\n",
        "    LABEL_COLUMN: labels\n",
        "})\n",
        "data_df.shape"
      ],
      "execution_count": 13,
      "outputs": [
        {
          "output_type": "execute_result",
          "data": {
            "text/plain": [
              "(2225, 2)"
            ]
          },
          "metadata": {
            "tags": []
          },
          "execution_count": 13
        }
      ]
    },
    {
      "cell_type": "markdown",
      "metadata": {
        "id": "TgDSOxr7Gjq3"
      },
      "source": [
        "Let's take a look at the first few rows of the table just to see what's in there."
      ]
    },
    {
      "cell_type": "code",
      "metadata": {
        "colab": {
          "base_uri": "https://localhost:8080/",
          "height": 204
        },
        "id": "iYXHbDibGlfs",
        "outputId": "0c19902b-5012-4b98-da3e-fbd2396fb508"
      },
      "source": [
        "data_df.head()"
      ],
      "execution_count": 14,
      "outputs": [
        {
          "output_type": "execute_result",
          "data": {
            "text/html": [
              "<div>\n",
              "<style scoped>\n",
              "    .dataframe tbody tr th:only-of-type {\n",
              "        vertical-align: middle;\n",
              "    }\n",
              "\n",
              "    .dataframe tbody tr th {\n",
              "        vertical-align: top;\n",
              "    }\n",
              "\n",
              "    .dataframe thead th {\n",
              "        text-align: right;\n",
              "    }\n",
              "</style>\n",
              "<table border=\"1\" class=\"dataframe\">\n",
              "  <thead>\n",
              "    <tr style=\"text-align: right;\">\n",
              "      <th></th>\n",
              "      <th>text</th>\n",
              "      <th>label</th>\n",
              "    </tr>\n",
              "  </thead>\n",
              "  <tbody>\n",
              "    <tr>\n",
              "      <th>0</th>\n",
              "      <td>Labour MP praises Tory campaign\\n\\nThe Conserv...</td>\n",
              "      <td>politics</td>\n",
              "    </tr>\n",
              "    <tr>\n",
              "      <th>1</th>\n",
              "      <td>Clarke faces ID cards rebellion\\n\\nCharles Cla...</td>\n",
              "      <td>politics</td>\n",
              "    </tr>\n",
              "    <tr>\n",
              "      <th>2</th>\n",
              "      <td>Straw to attend Auschwitz service\\n\\nForeign S...</td>\n",
              "      <td>politics</td>\n",
              "    </tr>\n",
              "    <tr>\n",
              "      <th>3</th>\n",
              "      <td>Boothroyd calls for Lords speaker\\n\\nBetty Boo...</td>\n",
              "      <td>politics</td>\n",
              "    </tr>\n",
              "    <tr>\n",
              "      <th>4</th>\n",
              "      <td>TV debate urged for party chiefs\\n\\nBroadcaste...</td>\n",
              "      <td>politics</td>\n",
              "    </tr>\n",
              "  </tbody>\n",
              "</table>\n",
              "</div>"
            ],
            "text/plain": [
              "                                                text     label\n",
              "0  Labour MP praises Tory campaign\\n\\nThe Conserv...  politics\n",
              "1  Clarke faces ID cards rebellion\\n\\nCharles Cla...  politics\n",
              "2  Straw to attend Auschwitz service\\n\\nForeign S...  politics\n",
              "3  Boothroyd calls for Lords speaker\\n\\nBetty Boo...  politics\n",
              "4  TV debate urged for party chiefs\\n\\nBroadcaste...  politics"
            ]
          },
          "metadata": {
            "tags": []
          },
          "execution_count": 14
        }
      ]
    },
    {
      "cell_type": "markdown",
      "metadata": {
        "id": "W0gVCzosGnyY"
      },
      "source": [
        "Let's take a look at the distribution of our labels"
      ]
    },
    {
      "cell_type": "code",
      "metadata": {
        "colab": {
          "base_uri": "https://localhost:8080/",
          "height": 560
        },
        "id": "fSmephYiEnyj",
        "outputId": "12cf78f4-2106-478c-cf96-4c5f1d88e6f4"
      },
      "source": [
        "ax = sns.countplot(data_df.label)\n",
        "plt.xlabel('type of comment');"
      ],
      "execution_count": 15,
      "outputs": [
        {
          "output_type": "stream",
          "text": [
            "/usr/local/lib/python3.6/dist-packages/seaborn/_decorators.py:43: FutureWarning: Pass the following variable as a keyword arg: x. From version 0.12, the only valid positional argument will be `data`, and passing other arguments without an explicit keyword will result in an error or misinterpretation.\n",
            "  FutureWarning\n"
          ],
          "name": "stderr"
        },
        {
          "output_type": "display_data",
          "data": {
            "image/png": "[encoded data removed]",
            "text/plain": [
              "<Figure size 864x576 with 1 Axes>"
            ]
          },
          "metadata": {
            "tags": [],
            "image/png": {
              "width": 736,
              "height": 489
            }
          }
        }
      ]
    },
    {
      "cell_type": "markdown",
      "metadata": {
        "id": "dzmDPvY-JewK"
      },
      "source": [
        "Now, we are going to clean our texts (remove bad symbols, spaces and stopwords)"
      ]
    },
    {
      "cell_type": "code",
      "metadata": {
        "id": "61A_TbQQCRZI"
      },
      "source": [
        "# some constants for text cleaning\n",
        "REPLACE_BY_SPACE_RE = re.compile('[/(){}\\[\\]\\|@,;]')\n",
        "BAD_SYMBOLS_RE = re.compile('[^0-9a-z #+_]')\n",
        "STOPWORDS = set(nltk.corpus.stopwords.words('english'))\n",
        "\n",
        "def text_cleaning(text: str) -> str:\n",
        "    \"\"\"\n",
        "    Args:\n",
        "        text (str): a string\n",
        "    Returns:\n",
        "        modified initial string\n",
        "    \"\"\"\n",
        "    text = text.lower() # lowercase text\n",
        "    text = REPLACE_BY_SPACE_RE.sub(' ', text) # replace REPLACE_BY_SPACE_RE symbols by space in text. substitute the matched string in REPLACE_BY_SPACE_RE with space.\n",
        "    text = BAD_SYMBOLS_RE.sub('', text) # remove symbols which are in BAD_SYMBOLS_RE from text. substitute the matched string in BAD_SYMBOLS_RE with nothing. \n",
        "#     text = re.sub(r'\\W+', '', text)\n",
        "    text = ' '.join(word for word in text.split() if word not in STOPWORDS) # remove stopwors from text\n",
        "    return text"
      ],
      "execution_count": 16,
      "outputs": []
    },
    {
      "cell_type": "code",
      "metadata": {
        "id": "wDHhvEUsC1MO"
      },
      "source": [
        "data_df.text = data_df.text.apply(text_cleaning)"
      ],
      "execution_count": 17,
      "outputs": []
    },
    {
      "cell_type": "markdown",
      "metadata": {
        "id": "nOYu6uZjGe6P"
      },
      "source": [
        "Let's take a look at the first few rows of the table after text cleaning"
      ]
    },
    {
      "cell_type": "code",
      "metadata": {
        "colab": {
          "base_uri": "https://localhost:8080/",
          "height": 204
        },
        "id": "GNRc3kboCBCa",
        "outputId": "6746da5f-aa52-4ac0-95ae-e67548f84559"
      },
      "source": [
        "data_df.head()"
      ],
      "execution_count": 18,
      "outputs": [
        {
          "output_type": "execute_result",
          "data": {
            "text/html": [
              "<div>\n",
              "<style scoped>\n",
              "    .dataframe tbody tr th:only-of-type {\n",
              "        vertical-align: middle;\n",
              "    }\n",
              "\n",
              "    .dataframe tbody tr th {\n",
              "        vertical-align: top;\n",
              "    }\n",
              "\n",
              "    .dataframe thead th {\n",
              "        text-align: right;\n",
              "    }\n",
              "</style>\n",
              "<table border=\"1\" class=\"dataframe\">\n",
              "  <thead>\n",
              "    <tr style=\"text-align: right;\">\n",
              "      <th></th>\n",
              "      <th>text</th>\n",
              "      <th>label</th>\n",
              "    </tr>\n",
              "  </thead>\n",
              "  <tbody>\n",
              "    <tr>\n",
              "      <th>0</th>\n",
              "      <td>labour mp praises tory campaignthe conservativ...</td>\n",
              "      <td>politics</td>\n",
              "    </tr>\n",
              "    <tr>\n",
              "      <th>1</th>\n",
              "      <td>clarke faces id cards rebellioncharles clarke ...</td>\n",
              "      <td>politics</td>\n",
              "    </tr>\n",
              "    <tr>\n",
              "      <th>2</th>\n",
              "      <td>straw attend auschwitz serviceforeign secretar...</td>\n",
              "      <td>politics</td>\n",
              "    </tr>\n",
              "    <tr>\n",
              "      <th>3</th>\n",
              "      <td>boothroyd calls lords speakerbetty boothroyd s...</td>\n",
              "      <td>politics</td>\n",
              "    </tr>\n",
              "    <tr>\n",
              "      <th>4</th>\n",
              "      <td>tv debate urged party chiefsbroadcasters fix d...</td>\n",
              "      <td>politics</td>\n",
              "    </tr>\n",
              "  </tbody>\n",
              "</table>\n",
              "</div>"
            ],
            "text/plain": [
              "                                                text     label\n",
              "0  labour mp praises tory campaignthe conservativ...  politics\n",
              "1  clarke faces id cards rebellioncharles clarke ...  politics\n",
              "2  straw attend auschwitz serviceforeign secretar...  politics\n",
              "3  boothroyd calls lords speakerbetty boothroyd s...  politics\n",
              "4  tv debate urged party chiefsbroadcasters fix d...  politics"
            ]
          },
          "metadata": {
            "tags": []
          },
          "execution_count": 18
        }
      ]
    },
    {
      "cell_type": "markdown",
      "metadata": {
        "id": "kkf3VYdqG1y9"
      },
      "source": [
        "Next, we should divide our dataset on train, validation and test"
      ]
    },
    {
      "cell_type": "code",
      "metadata": {
        "id": "wCCW8HkJEE7t"
      },
      "source": [
        "df_train, df_test = train_test_split(data_df, test_size=0.1, random_state=RANDOM_SEED)\n",
        "df_val, df_test = train_test_split(df_test, test_size=0.5, random_state=RANDOM_SEED)"
      ],
      "execution_count": 19,
      "outputs": []
    },
    {
      "cell_type": "code",
      "metadata": {
        "colab": {
          "base_uri": "https://localhost:8080/"
        },
        "id": "mlpXGnjnEE4x",
        "outputId": "3fabefd4-3e10-44d8-b13e-90b3db71878f"
      },
      "source": [
        "df_train.shape, df_val.shape, df_test.shape"
      ],
      "execution_count": 20,
      "outputs": [
        {
          "output_type": "execute_result",
          "data": {
            "text/plain": [
              "((2002, 2), (111, 2), (112, 2))"
            ]
          },
          "metadata": {
            "tags": []
          },
          "execution_count": 20
        }
      ]
    },
    {
      "cell_type": "markdown",
      "metadata": {
        "id": "8oFcXxvNG_4p"
      },
      "source": [
        "Let's define class of our Dataset"
      ]
    },
    {
      "cell_type": "code",
      "metadata": {
        "id": "eDWpcuxo5H4w"
      },
      "source": [
        "class TextClassificationDataset(Dataset):\n",
        "    \"\"\"\n",
        "    Wrapper around Torch Dataset to perform text classification\n",
        "    \"\"\"\n",
        "\n",
        "    def __init__(\n",
        "        self,\n",
        "        texts: List[str],\n",
        "        labels: List[str] = None,\n",
        "        label_dict: Mapping[str, int] = None,\n",
        "        max_seq_length: int = 512,\n",
        "        model_name: str = \"distilbert-base-uncased\",\n",
        "    ):\n",
        "        \"\"\"\n",
        "        Args:\n",
        "            text_dir (str): a list with texts to classify or to train the\n",
        "                classifier on\n",
        "            labels (List[str]): a list with classification labels (optional)\n",
        "            label_dict (dict): a dictionary mapping class names to class ids,\n",
        "                to be passed to the validation data (optional)\n",
        "            max_seq_length (int): maximal sequence length in tokens,\n",
        "                texts will be stripped to this length\n",
        "            model_name (str): transformer model name, needed to perform\n",
        "                appropriate tokenization\n",
        "        \"\"\"\n",
        "\n",
        "        self.texts = texts\n",
        "        self.labels = labels\n",
        "        self.label_dict = label_dict\n",
        "        self.max_seq_length = max_seq_length\n",
        "\n",
        "        if self.label_dict is None and labels is not None:\n",
        "            # {'class1': 0, 'class2': 1, 'class3': 2, ...}\n",
        "            # using this instead of `sklearn.preprocessing.LabelEncoder`\n",
        "            # no easily handle unknown target values\n",
        "            self.label_dict = dict(\n",
        "                zip(sorted(set(labels)), range(len(set(labels))))\n",
        "            )\n",
        "\n",
        "        self.tokenizer = AutoTokenizer.from_pretrained(model_name)\n",
        "\n",
        "        # suppresses tokenizer warnings\n",
        "        logging.getLogger(\"transformers.tokenization_utils\").setLevel(\n",
        "            logging.FATAL\n",
        "        )\n",
        "\n",
        "    def __len__(self) -> int:\n",
        "        \"\"\"\n",
        "        Returns:\n",
        "            int: length of the dataset\n",
        "        \"\"\"\n",
        "        return len(self.texts)\n",
        "\n",
        "    def __getitem__(self, index: int) -> Mapping[str, torch.Tensor]:\n",
        "        \"\"\"Gets element of the dataset\n",
        "        Args:\n",
        "            index (int): index of the element in the dataset\n",
        "        Returns:\n",
        "            Single element by index\n",
        "        \"\"\"\n",
        "\n",
        "        # encoding the text\n",
        "        x = self.texts[index]\n",
        "\n",
        "        # a dictionary with `input_ids` and `attention_mask` as keys\n",
        "        output_dict = self.tokenizer.encode_plus(\n",
        "            x,\n",
        "            add_special_tokens=True,\n",
        "            padding=\"max_length\",\n",
        "            max_length=self.max_seq_length,\n",
        "            return_tensors=\"pt\",\n",
        "            truncation=True,\n",
        "            return_attention_mask=True,\n",
        "        )\n",
        "\n",
        "        output_dict[\"input_ids\"] = output_dict[\"input_ids\"].flatten()\n",
        "        output_dict[\"attention_mask\"] = output_dict[\"attention_mask\"].flatten()\n",
        "\n",
        "        # encoding target\n",
        "        if self.labels is not None:\n",
        "            y = self.labels[index]\n",
        "            y_encoded = (\n",
        "                torch.Tensor([self.label_dict.get(y, -1)]).long().squeeze(0)\n",
        "            )\n",
        "            output_dict[\"targets\"] = y_encoded\n",
        "\n",
        "        return output_dict\n"
      ],
      "execution_count": 21,
      "outputs": []
    },
    {
      "cell_type": "markdown",
      "metadata": {
        "id": "2_HzeZqLFWeh"
      },
      "source": [
        "## 3. BERT Input Length Limitation"
      ]
    },
    {
      "cell_type": "markdown",
      "metadata": {
        "id": "k_qjYE4eFciL"
      },
      "source": [
        "BERT has a maximum input length of 512 tokens. In this section, we'll look at how this limitation affects us in practice, and some possible approaches for addressing it."
      ]
    },
    {
      "cell_type": "markdown",
      "metadata": {
        "id": "LtLgezLbFu2j"
      },
      "source": [
        "### 3.1. Examples of 512 Tokens"
      ]
    },
    {
      "cell_type": "markdown",
      "metadata": {
        "id": "DHMWrcA0F2gr"
      },
      "source": [
        "Let's look at an example comment which gets split into more than 512 tokens, so that we can get a sense for how much text fits within this limit.\n",
        "\n",
        "First we'll need to load the DistilBERT tokenizer."
      ]
    },
    {
      "cell_type": "code",
      "metadata": {
        "id": "G-IqolzGKDtQ"
      },
      "source": [
        "MODEL_NAME = 'distilbert-base-uncased'"
      ],
      "execution_count": 22,
      "outputs": []
    },
    {
      "cell_type": "code",
      "metadata": {
        "id": "Z474sSC6oe7A",
        "colab": {
          "base_uri": "https://localhost:8080/"
        },
        "outputId": "d6c731a0-4f8d-4d38-e9da-78698b300038"
      },
      "source": [
        "# Load the DistilBERT tokenizer.\n",
        "\n",
        "print('Loading DistilBERT tokenizer...')\n",
        "tokenizer = AutoTokenizer.from_pretrained(MODEL_NAME)"
      ],
      "execution_count": 23,
      "outputs": [
        {
          "output_type": "stream",
          "text": [
            "Loading DistilBERT tokenizer...\n"
          ],
          "name": "stdout"
        }
      ]
    },
    {
      "cell_type": "markdown",
      "metadata": {
        "id": "gMtJGHOZOVIA"
      },
      "source": [
        "### 3.2. Strategies for Longer Text\n",
        "\n",
        "Key points:\n",
        "* There's no *obvious* solution, but we'll cover a number of ideas to try.\n",
        "* Looking at the statistics of your dataset should help when choosing your strategy. We'll do this in section 3.3.\n",
        "\n",
        "There was a [paper published](https://arxiv.org/pdf/1905.05583.pdf) recently that investigated this problem and experimented with a few approaches.  Check out section 5.3. specifically. \n",
        "\n",
        "![BERT Text Classification Paper](http://www.mccormickml.com/assets/BERT/text_classification_paper.png)\n",
        "\n"
      ]
    },
    {
      "cell_type": "markdown",
      "metadata": {
        "id": "eVdyb7BXkMz8"
      },
      "source": [
        "\n",
        "**Truncation**\n",
        "\n",
        "The simplest approach is just to drop some of the tokens, and hope that the remaining text is enough to perform the task well.\n",
        "\n",
        "You could drop tokens:\n",
        "* From the beginning of the text.\n",
        "* At the end of the text.\n",
        "* In the middle of the text.\n",
        "\n",
        "In the above paper, their experiments on the IMDb movie review dataset showed that keeping the first 128 tokens and the last 382 tokens performed best. (Note: This adds up to 510 tokens, leaving room for the special `[CLS]` and `[SEP]` tokens that we have to append to the beginning and the end of the text, respectively). \n",
        "\n",
        "Perhaps this is because, when writing something like a movie review, we tend to put our high-level points in the introduction and conclusion?\n"
      ]
    },
    {
      "cell_type": "markdown",
      "metadata": {
        "id": "J6jNPuLHkPRU"
      },
      "source": [
        "\n",
        "**Chunking**\n",
        "\n",
        "Another approach attempted by the authors (and also proposed in [this thread](https://github.com/google-research/bert/issues/650) in the BERT GitHub repo) would be to divide the text into 512-token chunks and generate embeddings for these chunks separately. \n",
        "\n",
        "The authors of the paper combined the embeddings for the different chunks before performing the final classification. They tried several \"pooling\" strategies, such as averaging the embeddings together. None of these approaches outperformed the simple truncation approach, however.\n",
        "\n",
        "In the GitHub discussion above, the user suggested instead classifying the chunks separately and then averaging together the predictions (\"chunking\" approaches could be computationly expensive when dealing with lengthy documents).\n"
      ]
    },
    {
      "cell_type": "markdown",
      "metadata": {
        "id": "-8kEDRvShcU5"
      },
      "source": [
        "### 3.3. Comment Length Distribution"
      ]
    },
    {
      "cell_type": "markdown",
      "metadata": {
        "id": "OGkq8hQJfqZY"
      },
      "source": [
        "To decide on a truncation strategy for this dataset, let's first look at the distribution of comment lenghts.\n",
        "\n",
        "To do this, our first step is to tokenize all of the comments in the training set."
      ]
    },
    {
      "cell_type": "markdown",
      "metadata": {
        "id": "1M296yz577fV"
      },
      "source": [
        "**Tokenize All Comments**\n",
        "\n",
        "The `tokenizer.encode` function combines multiple steps for us:\n",
        "1. Split the sentence into tokens.\n",
        "2. Add the special `[CLS]` and `[SEP]` tokens.\n",
        "3. Map the tokens to their IDs.\n",
        "\n",
        "In order to explore the distribution of comment lengths, we will not perform any truncation here. Unfortunately, this results in the tokenizer spitting out a warning for every comment that's longer than 512 tokens. We'll just have to ignore those for now!"
      ]
    },
    {
      "cell_type": "code",
      "metadata": {
        "id": "2bBdb3pt8LuQ",
        "colab": {
          "base_uri": "https://localhost:8080/"
        },
        "outputId": "188d96db-e973-45ca-d30b-2b8412dec3ab"
      },
      "source": [
        "import numpy as np\n",
        "\n",
        "# Record the length of each sequence (after truncating to 512).\n",
        "lengths = []\n",
        "\n",
        "print('Tokenizing comments...')\n",
        "\n",
        "# For every sentence...\n",
        "for sen in df_train.text:\n",
        "    \n",
        "    # `encode` will:\n",
        "    #   (1) Tokenize the sentence.\n",
        "    #   (2) Prepend the `[CLS]` token to the start.\n",
        "    #   (3) Append the `[SEP]` token to the end.\n",
        "    #   (4) Map tokens to their IDs.\n",
        "    encoded_sent = tokenizer.encode(\n",
        "                        sen,                      # Sentence to encode.\n",
        "                        add_special_tokens = True, # Add '[CLS]' and '[SEP]'\n",
        "                        #max_length = 512,          # Truncate all sentences.                        \n",
        "                        #return_tensors = 'pt',     # Return pytorch tensors.\n",
        "                   )\n",
        "\n",
        "    # Record the truncated length.\n",
        "    lengths.append(len(encoded_sent))\n",
        "\n",
        "print('DONE.')"
      ],
      "execution_count": 24,
      "outputs": [
        {
          "output_type": "stream",
          "text": [
            "Token indices sequence length is longer than the specified maximum sequence length for this model (605 > 512). Running this sequence through the model will result in indexing errors\n"
          ],
          "name": "stderr"
        },
        {
          "output_type": "stream",
          "text": [
            "Tokenizing comments...\n",
            "DONE.\n"
          ],
          "name": "stdout"
        }
      ]
    },
    {
      "cell_type": "markdown",
      "metadata": {
        "id": "X_erWZU7hDTB"
      },
      "source": [
        "Let's grab some quick statistics--what are the min, max and median comment lenghts?"
      ]
    },
    {
      "cell_type": "code",
      "metadata": {
        "id": "qmrQVSsjg6By",
        "colab": {
          "base_uri": "https://localhost:8080/"
        },
        "outputId": "fa0d6ede-b49b-4cdf-904f-23ed42b44aca"
      },
      "source": [
        "print('   Min length: {:,} tokens'.format(min(lengths)))\n",
        "print('   Max length: {:,} tokens'.format(max(lengths)))\n",
        "print('Median length: {:,} tokens'.format(np.median(lengths)))"
      ],
      "execution_count": 25,
      "outputs": [
        {
          "output_type": "stream",
          "text": [
            "   Min length: 59 tokens\n",
            "   Max length: 2,594 tokens\n",
            "Median length: 236.0 tokens\n"
          ],
          "name": "stdout"
        }
      ]
    },
    {
      "cell_type": "markdown",
      "metadata": {
        "id": "xytsw1oIfnX0"
      },
      "source": [
        "To further analyze it, let's plot the distribution. To keep the scale of the x-axis reasonable, *we'll clip the lengths to 512.*\n"
      ]
    },
    {
      "cell_type": "code",
      "metadata": {
        "id": "iLhi9A49zmsy",
        "colab": {
          "base_uri": "https://localhost:8080/",
          "height": 440
        },
        "outputId": "87e8410b-2f0f-4a4b-fd21-b649be9f2d22"
      },
      "source": [
        "import matplotlib.pyplot as plt\n",
        "import seaborn as sns\n",
        "import numpy as np\n",
        "\n",
        "sns.set(style='darkgrid')\n",
        "\n",
        "# Increase the plot size and font size.\n",
        "sns.set(font_scale=1.5)\n",
        "plt.rcParams[\"figure.figsize\"] = (10,5)\n",
        "\n",
        "# Truncate any comment lengths greater than 512.\n",
        "lengths = [min(l, 512) for l in lengths]\n",
        "\n",
        "# Plot the distribution of comment lengths.\n",
        "sns.distplot(lengths, kde=False, rug=False)\n",
        "\n",
        "# Alternatively, you might try using a log scale on the x-axis, but this is \n",
        "# tricky. See here for one approach:\n",
        "# https://stackoverflow.com/questions/47850202/plotting-a-histogram-on-a-log-scale-with-matplotlib?rq=1\n",
        "#plt.xscale('log')\n",
        "\n",
        "plt.title('Text Lengths')\n",
        "plt.xlabel('Text Length')\n",
        "plt.ylabel('# of Text')\n"
      ],
      "execution_count": 26,
      "outputs": [
        {
          "output_type": "stream",
          "text": [
            "/usr/local/lib/python3.6/dist-packages/seaborn/distributions.py:2557: FutureWarning: `distplot` is a deprecated function and will be removed in a future version. Please adapt your code to use either `displot` (a figure-level function with similar flexibility) or `histplot` (an axes-level function for histograms).\n",
            "  warnings.warn(msg, FutureWarning)\n"
          ],
          "name": "stderr"
        },
        {
          "output_type": "execute_result",
          "data": {
            "text/plain": [
              "Text(0, 0.5, '# of Text')"
            ]
          },
          "metadata": {
            "tags": []
          },
          "execution_count": 26
        },
        {
          "output_type": "display_data",
          "data": {
            "image/png": "[encoded data removed]",
            "text/plain": [
              "<Figure size 720x360 with 1 Axes>"
            ]
          },
          "metadata": {
            "tags": [],
            "image/png": {
              "width": 634,
              "height": 352
            }
          }
        }
      ]
    },
    {
      "cell_type": "markdown",
      "metadata": {
        "id": "hvs9RvI2dLNE"
      },
      "source": [
        "Clearly most comments are \"short\", and there's a long tail of longer comments. \n",
        "\n",
        "Just how many of the examples run into the 512-token limit?"
      ]
    },
    {
      "cell_type": "code",
      "metadata": {
        "id": "SGd5i3ZvaWXu",
        "colab": {
          "base_uri": "https://localhost:8080/"
        },
        "outputId": "13aba1e7-2845-42ab-e495-7f2e757028e9"
      },
      "source": [
        "# Count the number of sentences that had to be truncated to 512 tokens.\n",
        "num_truncated = lengths.count(512)\n",
        "\n",
        "# Compare this to the total number of training sentences.\n",
        "num_sentences = len(lengths)\n",
        "prcnt = float(num_truncated) / float(num_sentences)\n",
        "\n",
        "print('{:,} of {:,} sentences ({:.1%}) in the training set are longer than 512 tokens.'.format(num_truncated, num_sentences, prcnt))"
      ],
      "execution_count": 27,
      "outputs": [
        {
          "output_type": "stream",
          "text": [
            "89 of 2,002 sentences (4.4%) in the training set are longer than 512 tokens.\n"
          ],
          "name": "stdout"
        }
      ]
    },
    {
      "cell_type": "markdown",
      "metadata": {
        "id": "EFlOF9ITHHt-"
      },
      "source": [
        "Now, let's create our DataLoaders:"
      ]
    },
    {
      "cell_type": "markdown",
      "metadata": {
        "id": "APutz4oMM22y"
      },
      "source": [
        "Note that increasing the batch size reduces the training time significantly, but gives you lower accuracy.\n",
        "\n"
      ]
    },
    {
      "cell_type": "code",
      "metadata": {
        "id": "sCpDkd0FEDVl"
      },
      "source": [
        "MAX_SEQ_LEN = 400\n",
        "BATCH_SIZE = 8"
      ],
      "execution_count": 28,
      "outputs": []
    },
    {
      "cell_type": "code",
      "metadata": {
        "id": "15VVycqQ5H18"
      },
      "source": [
        "train_dataset = TextClassificationDataset(\n",
        "    texts=df_train[TEXT_COLUMN].values.tolist(),\n",
        "    labels=df_train[LABEL_COLUMN].values,\n",
        "    max_seq_length=MAX_SEQ_LEN,\n",
        "    model_name=MODEL_NAME,\n",
        ")\n",
        "\n",
        "valid_dataset = TextClassificationDataset(\n",
        "    texts=df_val[TEXT_COLUMN].values.tolist(),\n",
        "    labels=df_val[LABEL_COLUMN].values,\n",
        "    max_seq_length=MAX_SEQ_LEN,\n",
        "    model_name=MODEL_NAME,\n",
        ")\n",
        "\n",
        "test_dataset = TextClassificationDataset(\n",
        "    texts=df_test[TEXT_COLUMN].values.tolist(),\n",
        "    labels=df_test[LABEL_COLUMN].values,\n",
        "    max_seq_length=MAX_SEQ_LEN,\n",
        "    model_name=MODEL_NAME,\n",
        ")"
      ],
      "execution_count": 29,
      "outputs": []
    },
    {
      "cell_type": "code",
      "metadata": {
        "id": "a3xEl4_3H8Mj"
      },
      "source": [
        "train_data_loader = DataLoader(\n",
        "    dataset=train_dataset,\n",
        "    batch_size=BATCH_SIZE,\n",
        "    shuffle=True,\n",
        ")\n",
        "\n",
        "val_data_loader = DataLoader(\n",
        "    dataset=valid_dataset,\n",
        "    batch_size=BATCH_SIZE,\n",
        "    shuffle=False,\n",
        ")\n",
        "\n",
        "test_data_loader = DataLoader(\n",
        "    dataset=test_dataset,\n",
        "    batch_size=BATCH_SIZE,\n",
        "    shuffle=False,\n",
        ")"
      ],
      "execution_count": 30,
      "outputs": []
    },
    {
      "cell_type": "markdown",
      "metadata": {
        "id": "kxBVaEASIfpF"
      },
      "source": [
        "Let's have a look at an example batch from our training data loader:"
      ]
    },
    {
      "cell_type": "code",
      "metadata": {
        "colab": {
          "base_uri": "https://localhost:8080/"
        },
        "id": "gDKCIIwwIdEw",
        "outputId": "da751570-e147-4803-fe5f-c371d1378803"
      },
      "source": [
        "mini_batch_data = next(iter(train_data_loader))\n",
        "mini_batch_data.keys()"
      ],
      "execution_count": 31,
      "outputs": [
        {
          "output_type": "execute_result",
          "data": {
            "text/plain": [
              "dict_keys(['input_ids', 'attention_mask', 'targets'])"
            ]
          },
          "metadata": {
            "tags": []
          },
          "execution_count": 31
        }
      ]
    },
    {
      "cell_type": "code",
      "metadata": {
        "colab": {
          "base_uri": "https://localhost:8080/"
        },
        "id": "ppDRQOz_IdBd",
        "outputId": "40054517-b579-40d8-a024-3ad356b05542"
      },
      "source": [
        "print(mini_batch_data['input_ids'].shape)\n",
        "print(mini_batch_data['attention_mask'].shape)\n",
        "print(mini_batch_data['targets'].shape)"
      ],
      "execution_count": 32,
      "outputs": [
        {
          "output_type": "stream",
          "text": [
            "torch.Size([8, 400])\n",
            "torch.Size([8, 400])\n",
            "torch.Size([8])\n"
          ],
          "name": "stdout"
        }
      ]
    },
    {
      "cell_type": "markdown",
      "metadata": {
        "id": "Wl12-BD637Ty"
      },
      "source": [
        "# Part II - BERT Fine-Tuning"
      ]
    },
    {
      "cell_type": "markdown",
      "metadata": {
        "id": "8bwa6Rts-02-"
      },
      "source": [
        "## 4. Train Our Classification Model"
      ]
    },
    {
      "cell_type": "markdown",
      "metadata": {
        "id": "3xYQ3iLO08SX"
      },
      "source": [
        "Now that our input data is properly formatted, it's time to fine tune the BERT model. "
      ]
    },
    {
      "cell_type": "markdown",
      "metadata": {
        "id": "D6TKgyUzPIQc"
      },
      "source": [
        "### 4.1. BertForSequenceClassification"
      ]
    },
    {
      "cell_type": "markdown",
      "metadata": {
        "id": "1sjzRT1V0zwm"
      },
      "source": [
        "For this task, we first want to modify the pre-trained BERT model to give outputs for classification, and then we want to continue training the model on our dataset until that the entire model, end-to-end, is well-suited for our task. \n",
        "\n",
        "Thankfully, the huggingface pytorch implementation includes a set of interfaces designed for a variety of NLP tasks. Though these interfaces are all built on top of a trained BERT model, each has different top layers and output types designed to accomodate their specific NLP task.  \n",
        "\n",
        "Here is the current list of classes provided for fine-tuning:\n",
        "* BertModel\n",
        "* BertForPreTraining\n",
        "* BertForMaskedLM\n",
        "* BertForNextSentencePrediction\n",
        "* **BertForSequenceClassification** - The one we'll use.\n",
        "* BertForTokenClassification\n",
        "* BertForQuestionAnswering\n",
        "\n",
        "The documentation for these can be found under [here](https://huggingface.co/transformers/v2.2.0/model_doc/bert.html)."
      ]
    },
    {
      "cell_type": "markdown",
      "metadata": {
        "id": "BXYitPoE-cjH"
      },
      "source": [
        "\n",
        "\n",
        "We'll be using [BertForSequenceClassification](https://huggingface.co/transformers/v2.2.0/model_doc/bert.html#bertforsequenceclassification). This is the normal BERT model with an added single linear layer on top for classification that we will use as a sentence classifier. As we feed input data, the entire pre-trained BERT model and the additional untrained classification layer is trained on our specific task. \n"
      ]
    },
    {
      "cell_type": "markdown",
      "metadata": {
        "id": "WnQW9E-bBCRt"
      },
      "source": [
        "OK, let's load BERT! There are a few different pre-trained BERT models available. \"bert-base-uncased\" means the version that has only lowercase letters (\"uncased\") and is the smaller version of the two (\"base\" vs \"large\").\n",
        "\n",
        "The documentation for `from_pretrained` can be found [here](https://huggingface.co/transformers/v2.2.0/main_classes/model.html#transformers.PreTrainedModel.from_pretrained), with the additional parameters defined [here](https://huggingface.co/transformers/v2.2.0/main_classes/configuration.html#transformers.PretrainedConfig)."
      ]
    },
    {
      "cell_type": "code",
      "metadata": {
        "id": "vuUtffTmKPBx"
      },
      "source": [
        "import torch.nn as nn\n",
        "from transformers import AutoConfig, AutoModel, AdamW, get_linear_schedule_with_warmup"
      ],
      "execution_count": 33,
      "outputs": []
    },
    {
      "cell_type": "code",
      "metadata": {
        "id": "r5xxc4csVyA0"
      },
      "source": [
        "import torch.nn.functional as F"
      ],
      "execution_count": 34,
      "outputs": []
    },
    {
      "cell_type": "code",
      "metadata": {
        "id": "4wBCLwbnKO-9"
      },
      "source": [
        "class BertForSequenceClassification(nn.Module):\n",
        "    \"\"\"\n",
        "    Simplified version of the same class by HuggingFace.\n",
        "    See transformers/modeling_distilbert.py in the transformers repository.\n",
        "    \"\"\"\n",
        "\n",
        "    def __init__(\n",
        "        self,\n",
        "        pretrained_model_name: str,\n",
        "        num_classes: int = None,\n",
        "        dropout: float = 0.3\n",
        "    ):\n",
        "        \"\"\"\n",
        "        Args:\n",
        "            pretrained_model_name (str): HuggingFace model name.\n",
        "                See transformers/modeling_auto.py\n",
        "            num_classes (int): the number of class labels\n",
        "                in the classification task\n",
        "        \"\"\"\n",
        "        super().__init__()\n",
        "\n",
        "        config = AutoConfig.from_pretrained(\n",
        "            pretrained_model_name, num_labels=num_classes\n",
        "        )\n",
        "\n",
        "        self.model = AutoModel.from_pretrained(pretrained_model_name, config=config)\n",
        "        self.classifier = nn.Linear(config.hidden_size, num_classes)\n",
        "        self.dropout = nn.Dropout(dropout)\n",
        "\n",
        "    def forward(self, input_ids, attention_mask=None, head_mask=None):\n",
        "        \"\"\"Compute class probabilities for the input sequence.\n",
        "\n",
        "        Args:\n",
        "            features (torch.Tensor): ids of each token,\n",
        "                size ([bs, seq_length]\n",
        "            attention_mask (torch.Tensor): binary tensor, used to select\n",
        "                tokens which are used to compute attention scores\n",
        "                in the self-attention heads, size [bs, seq_length]\n",
        "            head_mask (torch.Tensor): 1.0 in head_mask indicates that\n",
        "                we keep the head, size: [num_heads]\n",
        "                or [num_hidden_layers x num_heads]\n",
        "        Returns:\n",
        "            PyTorch Tensor with predicted class scores\n",
        "        \"\"\"\n",
        "        assert attention_mask is not None, \"attention mask is none\"\n",
        "\n",
        "        # taking BERTModel output\n",
        "        # see https://huggingface.co/transformers/model_doc/bert.html#transformers.BertModel\n",
        "        bert_output = self.model(\n",
        "            input_ids=input_ids, attention_mask=attention_mask, head_mask=head_mask\n",
        "        )\n",
        "        # we only need the hidden state here and don't need\n",
        "        # transformer output, so index 0\n",
        "        seq_output = bert_output[0]  # (bs, seq_len, dim)\n",
        "        # mean pooling, i.e. getting average representation of all tokens\n",
        "        pooled_output = seq_output.mean(axis=1)  # (bs, dim)\n",
        "        pooled_output = self.dropout(pooled_output)  # (bs, dim)\n",
        "        scores = self.classifier(pooled_output)  # (bs, num_classes)\n",
        "\n",
        "        return scores"
      ],
      "execution_count": 35,
      "outputs": []
    },
    {
      "cell_type": "code",
      "metadata": {
        "id": "wz6G3ugtL4_C"
      },
      "source": [
        "# Number of training epochs (authors recommend between 2 and 4)\n",
        "N_EPOCH = 4"
      ],
      "execution_count": 36,
      "outputs": []
    },
    {
      "cell_type": "code",
      "metadata": {
        "id": "nje_3sZ1KO8J"
      },
      "source": [
        "model = BertForSequenceClassification(\n",
        "    pretrained_model_name=MODEL_NAME,\n",
        "    num_classes=data_df.label.unique().shape[0],\n",
        "    dropout=0.3\n",
        ").to(device)"
      ],
      "execution_count": 37,
      "outputs": []
    },
    {
      "cell_type": "markdown",
      "metadata": {
        "id": "qRWT-D4U_Pvx"
      },
      "source": [
        "### 4.2. Optimizer & Learning Rate Scheduler"
      ]
    },
    {
      "cell_type": "markdown",
      "metadata": {
        "id": "8o-VEBobKwHk"
      },
      "source": [
        "Now that we have our model loaded we need to grab the training hyperparameters from within the stored model.\n",
        "\n",
        "For the purposes of fine-tuning, the authors recommend choosing from the following values:\n",
        "- Batch size: 16, 32  (We chose 32 when creating our DataLoaders).\n",
        "- Learning rate (Adam): 5e-5, 3e-5, 2e-5  (We'll use 2e-5).\n",
        "- Number of epochs: 2, 3, 4  (We'll use 4).\n",
        "\n",
        "The epsilon parameter `eps = 1e-8` is \"a very small number to prevent any division by zero in the implementation\" (from [here](https://machinelearningmastery.com/adam-optimization-algorithm-for-deep-learning/)).\n",
        "\n",
        "You can find the creation of the AdamW optimizer in `run_glue.py` [here](https://github.com/huggingface/transformers/blob/5bfcd0485ece086ebcbed2d008813037968a9e58/examples/run_glue.py#L109)."
      ]
    },
    {
      "cell_type": "code",
      "metadata": {
        "id": "LIkwZLo0LT_k"
      },
      "source": [
        "# Note: AdamW is a class from the huggingface library (as opposed to pytorch) \n",
        "# I believe the 'W' stands for 'Weight Decay fix\"\n",
        "\n",
        "# args.learning_rate - default is 5e-5, our notebook had 2e-5\n",
        "# args.adam_epsilon  - default is 1e-8.\n",
        "optimizer = AdamW(model.parameters(), lr=2e-5)"
      ],
      "execution_count": 38,
      "outputs": []
    },
    {
      "cell_type": "code",
      "metadata": {
        "id": "7S5tjn0nLT8R"
      },
      "source": [
        "steps_per_epoch=len(df_train) // BATCH_SIZE\n",
        "warmup_step = steps_per_epoch // 3\n",
        "total_steps = steps_per_epoch * N_EPOCH - warmup_step\n",
        "\n",
        "scheduler = get_linear_schedule_with_warmup(optimizer,\n",
        "                                            warmup_step,\n",
        "                                            total_steps)\n",
        "\n",
        "loss_fn = nn.CrossEntropyLoss().to(device)"
      ],
      "execution_count": 39,
      "outputs": []
    },
    {
      "cell_type": "code",
      "metadata": {
        "id": "EnT5IemaLT5I"
      },
      "source": [
        "prediction = model(input_ids=mini_batch_data['input_ids'].to(device),\n",
        "                   attention_mask=mini_batch_data['attention_mask'].to(device)\n",
        ")"
      ],
      "execution_count": 40,
      "outputs": []
    },
    {
      "cell_type": "code",
      "metadata": {
        "colab": {
          "base_uri": "https://localhost:8080/"
        },
        "id": "qn2bXt8KNKJ7",
        "outputId": "3b20ba1d-9cbc-45e3-89e7-785d75dd45eb"
      },
      "source": [
        "print(prediction.size())\n",
        "prediction[:3]"
      ],
      "execution_count": 41,
      "outputs": [
        {
          "output_type": "stream",
          "text": [
            "torch.Size([8, 5])\n"
          ],
          "name": "stdout"
        },
        {
          "output_type": "execute_result",
          "data": {
            "text/plain": [
              "tensor([[ 0.1288,  0.0381,  0.0826, -0.0860, -0.0771],\n",
              "        [ 0.1192,  0.0973,  0.0717, -0.1026, -0.2015],\n",
              "        [ 0.1321, -0.0647,  0.0087,  0.0014, -0.0986]], device='cuda:0',\n",
              "       grad_fn=<SliceBackward>)"
            ]
          },
          "metadata": {
            "tags": []
          },
          "execution_count": 41
        }
      ]
    },
    {
      "cell_type": "markdown",
      "metadata": {
        "id": "THjOVNCSLxX8"
      },
      "source": [
        "### 4.3. Training Loop"
      ]
    },
    {
      "cell_type": "markdown",
      "metadata": {
        "id": "6IYTlg_NMwUB"
      },
      "source": [
        "Let's continue with writing a helper function for training our model for one epoch:"
      ]
    },
    {
      "cell_type": "code",
      "metadata": {
        "id": "POJxyK-GORJ5"
      },
      "source": [
        "def train_epoch(model, data_loader, loss_fn, optimizer, device, scheduler, n_examples):\n",
        "    model = model.train()\n",
        "    \n",
        "    losses = []\n",
        "    correct_predictions = 0\n",
        "\n",
        "    for d in data_loader:\n",
        "        optimizer.zero_grad()\n",
        "        input_ids = d[\"input_ids\"].to(device)\n",
        "        attention_mask = d[\"attention_mask\"].to(device)\n",
        "        targets = d[\"targets\"].to(device)\n",
        "        \n",
        "        outputs = model(\n",
        "            input_ids=input_ids,\n",
        "            attention_mask=attention_mask)\n",
        "        \n",
        "        _, preds = torch.max(outputs, dim=1)\n",
        "        loss = loss_fn(outputs, targets)\n",
        "        \n",
        "        correct_predictions += torch.sum(preds == targets)\n",
        "        losses.append(loss.item())\n",
        "        \n",
        "        loss.backward()\n",
        "        nn.utils.clip_grad_norm_(model.parameters(), max_norm=1.0)\n",
        "        optimizer.step()\n",
        "        scheduler.step()\n",
        "        \n",
        "    return correct_predictions.double() / n_examples, np.mean(losses)"
      ],
      "execution_count": 42,
      "outputs": []
    },
    {
      "cell_type": "markdown",
      "metadata": {
        "id": "qyxeHhxbNEWh"
      },
      "source": [
        "Training the model should look familiar, except for two things. The scheduler gets called every time a batch is fed to the model. We're avoiding exploding gradients by clipping the gradients of the model using [clip_gradnorm](https://pytorch.org/docs/stable/nn.html#clip-grad-norm)."
      ]
    },
    {
      "cell_type": "markdown",
      "metadata": {
        "id": "Py1rg3GYNOcH"
      },
      "source": [
        "Let's write another one that helps us evaluate the model on a given data loader:"
      ]
    },
    {
      "cell_type": "code",
      "metadata": {
        "id": "JSHTA0x4PM-M"
      },
      "source": [
        "def eval_model(model, data_loader, loss_fn, device, n_examples):\n",
        "    model = model.eval()\n",
        "    \n",
        "    losses = []\n",
        "    correct_predictions = 0\n",
        "\n",
        "    with torch.no_grad():\n",
        "        for d in data_loader:\n",
        "            input_ids = d[\"input_ids\"].to(device)\n",
        "            attention_mask = d[\"attention_mask\"].to(device)\n",
        "            targets = d[\"targets\"].to(device)\n",
        "            \n",
        "            outputs = model(\n",
        "                input_ids=input_ids,\n",
        "                attention_mask=attention_mask)\n",
        "            \n",
        "            _, preds = torch.max(outputs, dim=1)\n",
        "            loss = loss_fn(outputs, targets)\n",
        "            \n",
        "            correct_predictions += torch.sum(preds == targets)\n",
        "            losses.append(loss.item())\n",
        "\n",
        "    return correct_predictions.double() / n_examples, np.mean(losses)"
      ],
      "execution_count": 43,
      "outputs": []
    },
    {
      "cell_type": "markdown",
      "metadata": {
        "id": "L3GZRiqNNR1N"
      },
      "source": [
        "Using those two, we can write our training loop. We'll also store the training history:"
      ]
    },
    {
      "cell_type": "code",
      "metadata": {
        "id": "LVxjAJi5Plr8"
      },
      "source": [
        "from collections import defaultdict"
      ],
      "execution_count": 44,
      "outputs": []
    },
    {
      "cell_type": "code",
      "metadata": {
        "colab": {
          "base_uri": "https://localhost:8080/"
        },
        "id": "IANZH8tKOQ2e",
        "outputId": "ba0efcf7-e20c-4680-cecd-648e1b772b69"
      },
      "source": [
        "%time\n",
        "\n",
        "history = defaultdict(list)\n",
        "best_accuracy = 0\n",
        "\n",
        "for epoch in range(N_EPOCH):\n",
        "    print(f'Epoch {epoch + 1}/{N_EPOCH}')\n",
        "    print('-' * 10)\n",
        "\n",
        "    train_acc, train_loss = train_epoch(\n",
        "        model,\n",
        "        train_data_loader,    \n",
        "        loss_fn, \n",
        "        optimizer, \n",
        "        device, \n",
        "        scheduler, \n",
        "        len(df_train)\n",
        "    )\n",
        "\n",
        "    print(f'Train loss {train_loss} accuracy {train_acc}')\n",
        "\n",
        "    val_acc, val_loss = eval_model(\n",
        "        model,\n",
        "        val_data_loader,\n",
        "        loss_fn, \n",
        "        device, \n",
        "        len(df_val)\n",
        "    )\n",
        "\n",
        "    print(f'Val   loss {val_loss} accuracy {val_acc}')\n",
        "    print()\n",
        "\n",
        "    history['train_acc'].append(train_acc)\n",
        "    history['train_loss'].append(train_loss)\n",
        "    history['val_acc'].append(val_acc)\n",
        "    history['val_loss'].append(val_loss)\n",
        "\n",
        "    if val_acc > best_accuracy:\n",
        "        torch.save(model.state_dict(), 'best_model_state.bin')\n",
        "        best_accuracy = val_acc"
      ],
      "execution_count": 45,
      "outputs": [
        {
          "output_type": "stream",
          "text": [
            "CPU times: user 2 µs, sys: 0 ns, total: 2 µs\n",
            "Wall time: 5.01 µs\n",
            "Epoch 1/4\n",
            "----------\n",
            "Train loss 0.5526254760357459 accuracy 0.7927072927072927\n",
            "Val   loss 0.0838229742616282 accuracy 0.9729729729729729\n",
            "\n",
            "Epoch 2/4\n",
            "----------\n",
            "Train loss 0.07277143928797478 accuracy 0.9845154845154845\n",
            "Val   loss 0.05475886759398106 accuracy 0.9819819819819819\n",
            "\n",
            "Epoch 3/4\n",
            "----------\n",
            "Train loss 0.028613226439532975 accuracy 0.9925074925074925\n",
            "Val   loss 0.07019650170695968 accuracy 0.9819819819819819\n",
            "\n",
            "Epoch 4/4\n",
            "----------\n",
            "Train loss 0.013363426280591964 accuracy 0.997002997002997\n",
            "Val   loss 0.05487784280558117 accuracy 0.9819819819819819\n",
            "\n"
          ],
          "name": "stdout"
        }
      ]
    },
    {
      "cell_type": "code",
      "metadata": {
        "colab": {
          "base_uri": "https://localhost:8080/",
          "height": 369
        },
        "id": "7gJRjcbYOQz1",
        "outputId": "53fda041-a86c-4e2f-a627-3ebeb00d000c"
      },
      "source": [
        "plt.plot(history['train_acc'], label='train accuracy')\n",
        "plt.plot(history['val_acc'], label='validation accuracy')\n",
        "\n",
        "plt.title('Training history')\n",
        "plt.ylabel('Accuracy')\n",
        "plt.xlabel('Epoch')\n",
        "plt.legend()\n",
        "plt.ylim([0, 1]);"
      ],
      "execution_count": 46,
      "outputs": [
        {
          "output_type": "display_data",
          "data": {
            "image/png": "[encoded data removed]",
            "text/plain": [
              "<Figure size 720x360 with 1 Axes>"
            ]
          },
          "metadata": {
            "tags": [],
            "image/png": {
              "width": 629,
              "height": 352
            }
          }
        }
      ]
    },
    {
      "cell_type": "markdown",
      "metadata": {
        "id": "CtJ8_Ey_NXNS"
      },
      "source": [
        "## Evaluation"
      ]
    },
    {
      "cell_type": "markdown",
      "metadata": {
        "id": "1OLNDZrgNlJs"
      },
      "source": [
        "We'll define a helper function to get the predictions from our model:"
      ]
    },
    {
      "cell_type": "code",
      "metadata": {
        "id": "WeZLf9vxOQwj"
      },
      "source": [
        "def get_predictions(model, data_loader,):\n",
        "    model = model.eval()\n",
        "\n",
        "    predictions = []\n",
        "    prediction_probs = []\n",
        "    real_values = []\n",
        "\n",
        "    with torch.no_grad():\n",
        "        for d in data_loader:\n",
        "\n",
        "            input_ids = d[\"input_ids\"].to(device)\n",
        "            attention_mask = d[\"attention_mask\"].to(device)\n",
        "            targets = d[\"targets\"].to(device)\n",
        "\n",
        "            outputs = model(\n",
        "                input_ids=input_ids,\n",
        "                attention_mask=attention_mask\n",
        "            )\n",
        "            _, preds = torch.max(outputs, dim=1)\n",
        "\n",
        "            probs = F.softmax(outputs, dim=1)\n",
        "\n",
        "            predictions.extend(preds)\n",
        "            prediction_probs.extend(probs)\n",
        "            real_values.extend(targets)\n",
        "\n",
        "    predictions = torch.stack(predictions).cpu()\n",
        "    prediction_probs = torch.stack(prediction_probs).cpu()\n",
        "    real_values = torch.stack(real_values).cpu()\n",
        "    return predictions, prediction_probs, real_values"
      ],
      "execution_count": 47,
      "outputs": []
    },
    {
      "cell_type": "code",
      "metadata": {
        "id": "1KNz0d0zWWOb"
      },
      "source": [
        "from sklearn.metrics import confusion_matrix, classification_report"
      ],
      "execution_count": 48,
      "outputs": []
    },
    {
      "cell_type": "code",
      "metadata": {
        "id": "r3-8v1gkOQtf"
      },
      "source": [
        "y_pred, y_pred_probs, y_test = get_predictions(\n",
        "    model,\n",
        "    test_data_loader,\n",
        ")"
      ],
      "execution_count": 49,
      "outputs": []
    },
    {
      "cell_type": "markdown",
      "metadata": {
        "id": "g930UiOhNqbO"
      },
      "source": [
        "Let's have a look at the classification report"
      ]
    },
    {
      "cell_type": "code",
      "metadata": {
        "colab": {
          "base_uri": "https://localhost:8080/"
        },
        "id": "JmHqdBN1WFJ7",
        "outputId": "8efc5c64-0a52-42c2-e7a6-b228815abb34"
      },
      "source": [
        "print(classification_report(y_test, y_pred, target_names=set_of_labels))"
      ],
      "execution_count": 50,
      "outputs": [
        {
          "output_type": "stream",
          "text": [
            "               precision    recall  f1-score   support\n",
            "\n",
            "     politics       0.95      1.00      0.98        20\n",
            "         tech       1.00      1.00      1.00        20\n",
            "entertainment       1.00      1.00      1.00        31\n",
            "        sport       1.00      1.00      1.00        23\n",
            "     business       1.00      0.94      0.97        18\n",
            "\n",
            "     accuracy                           0.99       112\n",
            "    macro avg       0.99      0.99      0.99       112\n",
            " weighted avg       0.99      0.99      0.99       112\n",
            "\n"
          ],
          "name": "stdout"
        }
      ]
    },
    {
      "cell_type": "markdown",
      "metadata": {
        "id": "ZIWy5X8PNu1E"
      },
      "source": [
        "We'll continue with the confusion matrix:"
      ]
    },
    {
      "cell_type": "code",
      "metadata": {
        "colab": {
          "base_uri": "https://localhost:8080/",
          "height": 407
        },
        "id": "GxMulk4yWFGx",
        "outputId": "cbd398f3-412f-4b6b-b13a-65fcf6b09192"
      },
      "source": [
        "def show_confusion_matrix(confusion_matrix):\n",
        "    hmap = sns.heatmap(confusion_matrix, annot=True, fmt=\"d\", cmap=\"Blues\")\n",
        "    hmap.yaxis.set_ticklabels(hmap.yaxis.get_ticklabels(), rotation=0, ha='right')\n",
        "    hmap.xaxis.set_ticklabels(hmap.xaxis.get_ticklabels(), rotation=30, ha='right')\n",
        "    plt.ylabel('True sentiment')\n",
        "    plt.xlabel('Predicted sentiment');\n",
        "\n",
        "cm = confusion_matrix(y_test, y_pred)\n",
        "df_cm = pd.DataFrame(cm, index=set_of_labels, columns=set_of_labels)\n",
        "show_confusion_matrix(df_cm)"
      ],
      "execution_count": 51,
      "outputs": [
        {
          "output_type": "display_data",
          "data": {
            "image/png": "[encoded data removed]",
            "text/plain": [
              "<Figure size 720x360 with 2 Axes>"
            ]
          },
          "metadata": {
            "tags": [],
            "image/png": {
              "width": 682,
              "height": 390
            }
          }
        }
      ]
    },
    {
      "cell_type": "code",
      "metadata": {
        "id": "lmhw2dN0QwIN"
      },
      "source": [
        ""
      ],
      "execution_count": null,
      "outputs": []
    }
  ]
}